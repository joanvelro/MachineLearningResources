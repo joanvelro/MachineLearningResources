{
 "cells": [
  {
   "cell_type": "markdown",
   "metadata": {},
   "source": [
    "# Load in Data"
   ]
  },
  {
   "cell_type": "code",
   "execution_count": 1,
   "metadata": {
    "collapsed": true
   },
   "outputs": [],
   "source": [
    "# Pandas is used for data manipulation\n",
    "import pandas as pd\n",
    "\n",
    "# Read in data as a dataframe\n",
    "features = pd.read_csv('data/temps_extended.csv')"
   ]
  },
  {
   "cell_type": "markdown",
   "metadata": {},
   "source": [
    "# Data Preparation"
   ]
  },
  {
   "cell_type": "code",
   "execution_count": 2,
   "metadata": {
    "collapsed": true
   },
   "outputs": [],
   "source": [
    "# One Hot Encoding\n",
    "features = pd.get_dummies(features)\n",
    "\n",
    "# Extract features and labels\n",
    "labels = features['actual']\n",
    "features = features.drop('actual', axis = 1)"
   ]
  },
  {
   "cell_type": "markdown",
   "metadata": {},
   "source": [
    "### Restrict to the Most Important Features\n",
    "\n",
    "These were the six features required to reach a total feature importance of 95% in the first improving random forest notebook.\n",
    "We will use only these features in order to speed up the model."
   ]
  },
  {
   "cell_type": "code",
   "execution_count": 3,
   "metadata": {
    "collapsed": false
   },
   "outputs": [
    {
     "data": {
      "text/html": [
       "<div>\n",
       "<style scoped>\n",
       "    .dataframe tbody tr th:only-of-type {\n",
       "        vertical-align: middle;\n",
       "    }\n",
       "\n",
       "    .dataframe tbody tr th {\n",
       "        vertical-align: top;\n",
       "    }\n",
       "\n",
       "    .dataframe thead th {\n",
       "        text-align: right;\n",
       "    }\n",
       "</style>\n",
       "<table border=\"1\" class=\"dataframe\">\n",
       "  <thead>\n",
       "    <tr style=\"text-align: right;\">\n",
       "      <th></th>\n",
       "      <th>temp_1</th>\n",
       "      <th>average</th>\n",
       "      <th>ws_1</th>\n",
       "      <th>temp_2</th>\n",
       "      <th>friend</th>\n",
       "      <th>year</th>\n",
       "    </tr>\n",
       "  </thead>\n",
       "  <tbody>\n",
       "    <tr>\n",
       "      <th>0</th>\n",
       "      <td>37</td>\n",
       "      <td>45.6</td>\n",
       "      <td>4.92</td>\n",
       "      <td>36</td>\n",
       "      <td>40</td>\n",
       "      <td>2011</td>\n",
       "    </tr>\n",
       "    <tr>\n",
       "      <th>1</th>\n",
       "      <td>40</td>\n",
       "      <td>45.7</td>\n",
       "      <td>5.37</td>\n",
       "      <td>37</td>\n",
       "      <td>50</td>\n",
       "      <td>2011</td>\n",
       "    </tr>\n",
       "    <tr>\n",
       "      <th>2</th>\n",
       "      <td>39</td>\n",
       "      <td>45.8</td>\n",
       "      <td>6.26</td>\n",
       "      <td>40</td>\n",
       "      <td>42</td>\n",
       "      <td>2011</td>\n",
       "    </tr>\n",
       "    <tr>\n",
       "      <th>3</th>\n",
       "      <td>42</td>\n",
       "      <td>45.9</td>\n",
       "      <td>5.59</td>\n",
       "      <td>39</td>\n",
       "      <td>59</td>\n",
       "      <td>2011</td>\n",
       "    </tr>\n",
       "    <tr>\n",
       "      <th>4</th>\n",
       "      <td>38</td>\n",
       "      <td>46.0</td>\n",
       "      <td>3.80</td>\n",
       "      <td>42</td>\n",
       "      <td>39</td>\n",
       "      <td>2011</td>\n",
       "    </tr>\n",
       "  </tbody>\n",
       "</table>\n",
       "</div>"
      ],
      "text/plain": [
       "   temp_1  average  ws_1  temp_2  friend  year\n",
       "0      37     45.6  4.92      36      40  2011\n",
       "1      40     45.7  5.37      37      50  2011\n",
       "2      39     45.8  6.26      40      42  2011\n",
       "3      42     45.9  5.59      39      59  2011\n",
       "4      38     46.0  3.80      42      39  2011"
      ]
     },
     "execution_count": 3,
     "metadata": {},
     "output_type": "execute_result"
    }
   ],
   "source": [
    "# Names of six features accounting for 95% of total importance\n",
    "important_feature_names = ['temp_1', 'average', 'ws_1', 'temp_2', 'friend', 'year']\n",
    "\n",
    "# Update feature list for visualizations\n",
    "feature_list = important_feature_names[:]\n",
    "\n",
    "features = features[important_feature_names]\n",
    "features.head(5)"
   ]
  },
  {
   "cell_type": "code",
   "execution_count": 4,
   "metadata": {
    "collapsed": false
   },
   "outputs": [
    {
     "data": {
      "text/plain": [
       "1    39\n",
       "2    42\n",
       "3    38\n",
       "4    45\n",
       "5    49\n",
       "Name: actual, dtype: int64"
      ]
     },
     "execution_count": 4,
     "metadata": {},
     "output_type": "execute_result"
    }
   ],
   "source": [
    "labels[1:6]"
   ]
  },
  {
   "cell_type": "code",
   "execution_count": 5,
   "metadata": {
    "collapsed": true
   },
   "outputs": [],
   "source": [
    "# Convert to numpy arrays\n",
    "import numpy as np\n",
    "\n",
    "features = np.array(features)\n",
    "labels = np.array(labels)\n",
    "\n",
    "# Training and Testing Sets\n",
    "from sklearn.model_selection import train_test_split\n",
    "\n",
    "train_features, test_features, train_labels, test_labels = train_test_split(features, labels, \n",
    "                                                                            test_size = 0.25, random_state = 42)"
   ]
  },
  {
   "cell_type": "code",
   "execution_count": 6,
   "metadata": {
    "collapsed": false
   },
   "outputs": [
    {
     "name": "stdout",
     "output_type": "stream",
     "text": [
      "Training Features Shape: (1643, 6)\n",
      "Training Labels Shape: (1643,)\n",
      "Testing Features Shape: (548, 6)\n",
      "Testing Labels Shape: (548,)\n"
     ]
    }
   ],
   "source": [
    "print('Training Features Shape:', train_features.shape)\n",
    "print('Training Labels Shape:', train_labels.shape)\n",
    "print('Testing Features Shape:', test_features.shape)\n",
    "print('Testing Labels Shape:', test_labels.shape)"
   ]
  },
  {
   "cell_type": "code",
   "execution_count": 7,
   "metadata": {
    "collapsed": false
   },
   "outputs": [
    {
     "name": "stdout",
     "output_type": "stream",
     "text": [
      "4.5 years of data in the training set\n",
      "1.5 years of data in the test set\n"
     ]
    }
   ],
   "source": [
    "print('{:0.1f} years of data in the training set'.format(train_features.shape[0] / 365.))\n",
    "print('{:0.1f} years of data in the test set'.format(test_features.shape[0] / 365.))"
   ]
  },
  {
   "cell_type": "markdown",
   "metadata": {},
   "source": [
    "### Examine the Default Random Forest to Determine Parameters\n",
    "\n",
    "We will use these parameters as a starting point. I relied on the [sklearn random forest documentation](http://scikit-learn.org/stable/modules/generated/sklearn.ensemble.RandomForestClassifier.html) to determine which features to change and the available options."
   ]
  },
  {
   "cell_type": "code",
   "execution_count": 8,
   "metadata": {
    "collapsed": false
   },
   "outputs": [
    {
     "name": "stdout",
     "output_type": "stream",
     "text": [
      "Parameters currently in use:\n",
      "\n",
      "{'bootstrap': True,\n",
      " 'criterion': 'mse',\n",
      " 'max_depth': None,\n",
      " 'max_features': 'auto',\n",
      " 'max_leaf_nodes': None,\n",
      " 'min_impurity_decrease': 0.0,\n",
      " 'min_impurity_split': None,\n",
      " 'min_samples_leaf': 1,\n",
      " 'min_samples_split': 2,\n",
      " 'min_weight_fraction_leaf': 0.0,\n",
      " 'n_estimators': 10,\n",
      " 'n_jobs': 1,\n",
      " 'oob_score': False,\n",
      " 'random_state': 42,\n",
      " 'verbose': 0,\n",
      " 'warm_start': False}\n"
     ]
    }
   ],
   "source": [
    "from sklearn.ensemble import RandomForestRegressor\n",
    "\n",
    "rf = RandomForestRegressor(random_state = 42)\n",
    "\n",
    "from pprint import pprint\n",
    "\n",
    "# Look at parameters used by our current forest\n",
    "print('Parameters currently in use:\\n')\n",
    "pprint(rf.get_params())"
   ]
  },
  {
   "cell_type": "markdown",
   "metadata": {},
   "source": [
    "# Random Search with Cross Validation"
   ]
  },
  {
   "cell_type": "code",
   "execution_count": 9,
   "metadata": {
    "collapsed": false
   },
   "outputs": [
    {
     "name": "stdout",
     "output_type": "stream",
     "text": [
      "{'bootstrap': [True, False],\n",
      " 'max_depth': [10, 20, 30, 40, 50, 60, 70, 80, 90, 100, 110, None],\n",
      " 'max_features': ['auto', 'sqrt'],\n",
      " 'min_samples_leaf': [1, 2, 4],\n",
      " 'min_samples_split': [2, 5, 10],\n",
      " 'n_estimators': [200, 400, 600, 800, 1000, 1200, 1400, 1600, 1800, 2000]}\n"
     ]
    }
   ],
   "source": [
    "from sklearn.model_selection import RandomizedSearchCV\n",
    "\n",
    "# Number of trees in random forest\n",
    "n_estimators = [int(x) for x in np.linspace(start = 200, stop = 2000, num = 10)]\n",
    "# Number of features to consider at every split\n",
    "max_features = ['auto', 'sqrt']\n",
    "# Maximum number of levels in tree\n",
    "max_depth = [int(x) for x in np.linspace(10, 110, num = 11)]\n",
    "max_depth.append(None)\n",
    "# Minimum number of samples required to split a node\n",
    "min_samples_split = [2, 5, 10]\n",
    "# Minimum number of samples required at each leaf node\n",
    "min_samples_leaf = [1, 2, 4]\n",
    "# Method of selecting samples for training each tree\n",
    "bootstrap = [True, False]\n",
    "\n",
    "# Create the random grid\n",
    "random_grid = {'n_estimators': n_estimators,\n",
    "               'max_features': max_features,\n",
    "               'max_depth': max_depth,\n",
    "               'min_samples_split': min_samples_split,\n",
    "               'min_samples_leaf': min_samples_leaf,\n",
    "               'bootstrap': bootstrap}\n",
    "\n",
    "pprint(random_grid)"
   ]
  },
  {
   "cell_type": "code",
   "execution_count": 10,
   "metadata": {
    "collapsed": false
   },
   "outputs": [
    {
     "name": "stdout",
     "output_type": "stream",
     "text": [
      "Fitting 3 folds for each of 100 candidates, totalling 300 fits\n"
     ]
    },
    {
     "name": "stderr",
     "output_type": "stream",
     "text": [
      "[Parallel(n_jobs=-1)]: Done  33 tasks      | elapsed:  1.3min\n",
      "[Parallel(n_jobs=-1)]: Done 154 tasks      | elapsed:  5.4min\n",
      "[Parallel(n_jobs=-1)]: Done 300 out of 300 | elapsed:  9.3min finished\n"
     ]
    }
   ],
   "source": [
    "# Use the random grid to search for best hyperparameters\n",
    "# First create the base model to tune\n",
    "rf = RandomForestRegressor(random_state = 42)\n",
    "# Random search of parameters, using 3 fold cross validation, \n",
    "# search across 100 different combinations, and use all available cores\n",
    "rf_random = RandomizedSearchCV(estimator=rf, param_distributions=random_grid,\n",
    "                              n_iter = 100, scoring='neg_mean_absolute_error', \n",
    "                              cv = 3, verbose=2, random_state=42, n_jobs=-1,\n",
    "                              return_train_score=True)\n",
    "\n",
    "# Fit the random search model\n",
    "rf_random.fit(train_features, train_labels);"
   ]
  },
  {
   "cell_type": "code",
   "execution_count": 11,
   "metadata": {
    "collapsed": false
   },
   "outputs": [
    {
     "data": {
      "text/plain": [
       "{'bootstrap': True,\n",
       " 'max_depth': 70,\n",
       " 'max_features': 'auto',\n",
       " 'min_samples_leaf': 4,\n",
       " 'min_samples_split': 10,\n",
       " 'n_estimators': 400}"
      ]
     },
     "execution_count": 11,
     "metadata": {},
     "output_type": "execute_result"
    }
   ],
   "source": [
    "rf_random.best_params_"
   ]
  },
  {
   "cell_type": "code",
   "execution_count": 12,
   "metadata": {
    "collapsed": false
   },
   "outputs": [
    {
     "data": {
      "text/plain": [
       "{'mean_fit_time': array([ 1.74096115, 10.35252174,  7.47453594, 18.84576376,  6.58751082,\n",
       "         3.40505115,  5.87027192,  4.22790527, 13.63491225, 14.97714647,\n",
       "         2.31348268,  4.84020003, 11.10084192,  7.88729962,  3.55211075,\n",
       "        15.30902902,  5.72053758,  5.21553135, 15.67481693,  4.26795061,\n",
       "         8.79337494,  9.52364969,  6.57815305, 15.40628735,  8.700797  ,\n",
       "         2.55145025, 18.11181315,  4.90570744, 15.14258679,  5.28070505,\n",
       "         6.21318205,  5.25229462,  6.15235424,  3.59956892,  7.7803491 ,\n",
       "         4.28271778,  6.62861689,  7.44813283,  5.66472594,  4.38198177,\n",
       "         1.25199405,  2.63667512,  3.72155937,  1.81850076,  1.84457   ,\n",
       "         6.18410611, 17.46743369,  2.3830022 ,  6.50262268,  3.6710914 ,\n",
       "        20.29127288, 15.61651285,  6.91070342,  7.386971  ,  6.8398482 ,\n",
       "         2.46555408,  9.69042587, 11.24990543, 10.16000811,  4.89868768,\n",
       "         0.87699628,  1.35961358,  6.88663967,  8.80941788,  5.59721208,\n",
       "         8.63495406, 12.47917318,  8.66503414,  4.2693491 , 14.57474367,\n",
       "         5.68711766,  3.34388876,  6.77968844,  3.45652119, 10.00927583,\n",
       "         1.6406943 ,  5.68410913,  7.98489332,  3.64067729,  1.05179501,\n",
       "        14.10115123,  3.251978  ,  5.20316442,  5.87962929,  3.2242376 ,\n",
       "         2.6005799 ,  1.63868936,  5.50830913,  2.69416126,  3.4077251 ,\n",
       "         2.16776188,  8.21650823,  3.09823545,  3.14268716,  2.49229161,\n",
       "         2.8920207 ,  7.89465292,  1.39470752,  7.72520272, 10.26595688]),\n",
       " 'mean_score_time': array([0.11530701, 0.52439205, 0.2984608 , 0.34391459, 0.30013148,\n",
       "        0.1457208 , 0.26670877, 0.20086773, 0.23629483, 0.41510336,\n",
       "        0.0624996 , 0.24364773, 0.43916782, 0.31851308, 0.161093  ,\n",
       "        0.3211875 , 0.12032016, 0.25601347, 0.3429118 , 0.13502598,\n",
       "        0.38234981, 0.57754087, 0.26804598, 0.44652049, 0.4789389 ,\n",
       "        0.11029148, 0.312162  , 0.2486612 , 0.45688121, 0.29077268,\n",
       "        0.29511833, 0.22526606, 0.21055977, 0.18114773, 0.40039754,\n",
       "        0.19618829, 0.321522  , 0.19384829, 0.19050606, 0.26236423,\n",
       "        0.03542789, 0.1216565 , 0.15073411, 0.07118885, 0.05648343,\n",
       "        0.37232232, 0.50233531, 0.10026693, 0.30380464, 0.12466494,\n",
       "        0.40574487, 0.33856702, 0.1587553 , 0.18616064, 0.2743961 ,\n",
       "        0.10561347, 0.27138813, 0.33488973, 0.27974375, 0.22860742,\n",
       "        0.04278016, 0.06617626, 0.15106837, 0.20821977, 0.26637491,\n",
       "        0.24866144, 0.29110694, 0.27372893, 0.19184295, 0.3282059 ,\n",
       "        0.24598749, 0.14070749, 0.31650845, 0.09324861, 0.30581292,\n",
       "        0.0665098 , 0.27673578, 0.36797762, 0.16310056, 0.03108311,\n",
       "        0.33522423, 0.09324821, 0.16310024, 0.15474463, 0.12967817,\n",
       "        0.11096311, 0.07386319, 0.26637443, 0.12834128, 0.17747156,\n",
       "        0.10561419, 0.34424845, 0.1440502 , 0.11363546, 0.09993283,\n",
       "        0.06985251, 0.18683004, 0.03275347, 0.35795101, 0.32519722]),\n",
       " 'mean_test_score': array([-3.88281609, -3.87356245, -3.90181133, -4.56602949, -3.86745569,\n",
       "        -3.88748326, -3.91510367, -3.93856157, -5.00819355, -4.50546164,\n",
       "        -3.84201927, -3.94060091, -3.90616181, -3.89979051, -3.90117468,\n",
       "        -4.56608042, -4.96205865, -3.88247725, -4.6176794 , -3.88947073,\n",
       "        -3.9127733 , -3.9384374 , -3.86775433, -3.88115634, -3.93903153,\n",
       "        -3.95812462, -5.0077215 , -3.86478359, -4.50636276, -3.86805655,\n",
       "        -3.88622983, -3.92090387, -3.94060091, -3.86879862, -3.86779582,\n",
       "        -3.90116102, -3.86628503, -3.90473752, -3.87788805, -3.86741272,\n",
       "        -3.85049346, -3.86649348, -3.87093953, -3.86280351, -4.96104382,\n",
       "        -3.88281457, -3.88156852, -3.88775021, -3.8856383 , -3.91974448,\n",
       "        -5.00825015, -4.61772761, -4.50636905, -4.56579656, -3.91456987,\n",
       "        -3.88877058, -3.8821976 , -3.88115634, -3.9026063 , -3.87052809,\n",
       "        -3.89729458, -3.86561341, -4.50636905, -4.61786769, -3.86690707,\n",
       "        -3.86291022, -4.50546164, -3.88201049, -3.9091292 , -4.61772761,\n",
       "        -3.88614038, -3.88748326, -3.8670007 , -4.93713456, -3.89227045,\n",
       "        -3.90508453, -3.86693085, -3.87604132, -3.86626261, -3.85204545,\n",
       "        -4.56602949, -3.85998487, -3.84542991, -4.61783786, -3.88748326,\n",
       "        -3.9115551 , -3.88281609, -3.86706366, -3.86879862, -3.86718336,\n",
       "        -3.86119828, -3.88516736, -3.87783234, -3.84439436, -3.88877058,\n",
       "        -4.61802445, -4.78749221, -4.56616433, -3.86831119, -3.86334324]),\n",
       " 'mean_train_score': array([-1.95255988e+00, -2.28500867e+00, -1.72625521e+00, -2.35781428e+00,\n",
       "        -2.82996477e+00, -2.15431671e+00, -1.19527871e+00, -8.23037825e-01,\n",
       "         0.00000000e+00, -2.45219425e+00, -2.57254221e+00, -8.22423937e-01,\n",
       "        -2.09022661e+00, -1.72701310e+00, -1.92674412e+00, -2.35782006e+00,\n",
       "        -1.43281072e+00, -1.43308862e+00, -2.21587423e+00, -1.74092144e+00,\n",
       "        -1.75049516e+00, -8.21533961e-01, -2.79181888e+00, -1.77876970e+00,\n",
       "        -8.21638912e-01, -8.85619771e-04,  0.00000000e+00, -2.19267486e+00,\n",
       "        -2.50103640e+00, -2.08854802e+00, -2.27055235e+00, -1.03441431e+00,\n",
       "        -8.22423937e-01, -2.86716209e+00, -2.79219863e+00, -1.92674362e+00,\n",
       "        -2.19158535e+00, -1.43161290e+00, -1.88542816e+00, -2.08764304e+00,\n",
       "        -2.51116867e+00, -2.65618052e+00, -2.79516251e+00, -2.86810527e+00,\n",
       "        -1.43229508e+00, -1.43297966e+00, -1.77765513e+00, -2.27193477e+00,\n",
       "        -2.15421328e+00, -1.03408881e+00, -3.69017419e-04, -2.21589629e+00,\n",
       "        -2.50105966e+00, -2.35784595e+00, -1.19479465e+00, -2.15459931e+00,\n",
       "        -2.03155328e+00, -1.77876970e+00, -1.42887594e+00, -2.65190065e+00,\n",
       "        -1.44526472e+00, -2.83460330e+00, -2.50105966e+00, -2.21584594e+00,\n",
       "        -2.54672178e+00, -2.37027409e+00, -2.45219425e+00, -1.77887239e+00,\n",
       "        -1.75165456e+00, -2.21589629e+00, -2.15382507e+00, -2.15431671e+00,\n",
       "        -2.19044304e+00, -1.04524137e+00, -1.73447634e+00, -1.92764522e+00,\n",
       "        -2.54682473e+00, -1.94869808e+00, -2.39377201e+00, -2.47038285e+00,\n",
       "        -2.35781428e+00, -2.37602835e+00, -2.46424169e+00, -2.21577693e+00,\n",
       "        -2.15431671e+00, -1.75148932e+00, -1.95255988e+00, -2.79179155e+00,\n",
       "        -2.86716209e+00, -2.73191188e+00, -2.54835879e+00, -2.15363626e+00,\n",
       "        -1.94980791e+00, -2.46667658e+00, -2.15459931e+00, -2.21588739e+00,\n",
       "        -1.35156133e+00, -2.35774722e+00, -2.08717773e+00, -2.36867937e+00]),\n",
       " 'param_bootstrap': masked_array(data=[True, True, False, False, True, False, False, False,\n",
       "                    False, False, True, False, False, False, False, False,\n",
       "                    False, True, False, True, False, False, True, True,\n",
       "                    False, False, False, True, False, True, False, False,\n",
       "                    False, True, True, False, True, True, True, True, True,\n",
       "                    True, True, True, False, True, True, False, False,\n",
       "                    False, False, False, False, False, False, False, True,\n",
       "                    True, True, True, True, True, False, False, True, True,\n",
       "                    False, True, False, False, False, False, True, False,\n",
       "                    True, False, True, True, True, True, False, True, True,\n",
       "                    False, False, False, True, True, True, True, True,\n",
       "                    False, True, True, False, False, False, False, True,\n",
       "                    True],\n",
       "              mask=[False, False, False, False, False, False, False, False,\n",
       "                    False, False, False, False, False, False, False, False,\n",
       "                    False, False, False, False, False, False, False, False,\n",
       "                    False, False, False, False, False, False, False, False,\n",
       "                    False, False, False, False, False, False, False, False,\n",
       "                    False, False, False, False, False, False, False, False,\n",
       "                    False, False, False, False, False, False, False, False,\n",
       "                    False, False, False, False, False, False, False, False,\n",
       "                    False, False, False, False, False, False, False, False,\n",
       "                    False, False, False, False, False, False, False, False,\n",
       "                    False, False, False, False, False, False, False, False,\n",
       "                    False, False, False, False, False, False, False, False,\n",
       "                    False, False, False, False],\n",
       "        fill_value='?',\n",
       "             dtype=object),\n",
       " 'param_max_depth': masked_array(data=[30, 10, 10, 30, 10, 30, 100, 60, 50, 10, 70, 90, 10,\n",
       "                    10, 30, 50, 70, 20, 110, 80, 30, 70, 80, None, 80,\n",
       "                    None, 40, 20, 100, 20, 20, 50, 100, 50, 90, 20, 20,\n",
       "                    100, None, 60, 10, 60, 90, 90, 90, 110, 90, 80, 70,\n",
       "                    110, 20, 50, 50, 30, None, 60, 10, 80, 100, 80, 50, 10,\n",
       "                    80, None, 20, None, 10, 70, 80, 60, 80, 20, 60, 90, 90,\n",
       "                    90, None, 100, 10, 80, 60, 100, 100, None, 70, 40, 100,\n",
       "                    80, 100, 10, 110, None, 40, 40, 30, 40, 10, 100, 20,\n",
       "                    40],\n",
       "              mask=[False, False, False, False, False, False, False, False,\n",
       "                    False, False, False, False, False, False, False, False,\n",
       "                    False, False, False, False, False, False, False, False,\n",
       "                    False, False, False, False, False, False, False, False,\n",
       "                    False, False, False, False, False, False, False, False,\n",
       "                    False, False, False, False, False, False, False, False,\n",
       "                    False, False, False, False, False, False, False, False,\n",
       "                    False, False, False, False, False, False, False, False,\n",
       "                    False, False, False, False, False, False, False, False,\n",
       "                    False, False, False, False, False, False, False, False,\n",
       "                    False, False, False, False, False, False, False, False,\n",
       "                    False, False, False, False, False, False, False, False,\n",
       "                    False, False, False, False],\n",
       "        fill_value='?',\n",
       "             dtype=object),\n",
       " 'param_max_features': masked_array(data=['sqrt', 'sqrt', 'sqrt', 'auto', 'sqrt', 'sqrt', 'sqrt',\n",
       "                    'sqrt', 'auto', 'auto', 'auto', 'sqrt', 'sqrt', 'sqrt',\n",
       "                    'sqrt', 'auto', 'auto', 'sqrt', 'auto', 'auto', 'sqrt',\n",
       "                    'sqrt', 'sqrt', 'auto', 'sqrt', 'sqrt', 'auto', 'sqrt',\n",
       "                    'auto', 'sqrt', 'sqrt', 'sqrt', 'sqrt', 'sqrt', 'sqrt',\n",
       "                    'sqrt', 'sqrt', 'auto', 'auto', 'sqrt', 'auto', 'sqrt',\n",
       "                    'sqrt', 'sqrt', 'auto', 'sqrt', 'auto', 'sqrt', 'sqrt',\n",
       "                    'sqrt', 'auto', 'auto', 'auto', 'auto', 'sqrt', 'sqrt',\n",
       "                    'auto', 'auto', 'auto', 'sqrt', 'sqrt', 'sqrt', 'auto',\n",
       "                    'auto', 'sqrt', 'auto', 'auto', 'auto', 'sqrt', 'auto',\n",
       "                    'sqrt', 'sqrt', 'sqrt', 'auto', 'auto', 'sqrt', 'sqrt',\n",
       "                    'sqrt', 'sqrt', 'auto', 'auto', 'auto', 'auto', 'auto',\n",
       "                    'sqrt', 'sqrt', 'sqrt', 'sqrt', 'sqrt', 'sqrt', 'sqrt',\n",
       "                    'sqrt', 'sqrt', 'auto', 'sqrt', 'auto', 'auto', 'auto',\n",
       "                    'sqrt', 'auto'],\n",
       "              mask=[False, False, False, False, False, False, False, False,\n",
       "                    False, False, False, False, False, False, False, False,\n",
       "                    False, False, False, False, False, False, False, False,\n",
       "                    False, False, False, False, False, False, False, False,\n",
       "                    False, False, False, False, False, False, False, False,\n",
       "                    False, False, False, False, False, False, False, False,\n",
       "                    False, False, False, False, False, False, False, False,\n",
       "                    False, False, False, False, False, False, False, False,\n",
       "                    False, False, False, False, False, False, False, False,\n",
       "                    False, False, False, False, False, False, False, False,\n",
       "                    False, False, False, False, False, False, False, False,\n",
       "                    False, False, False, False, False, False, False, False,\n",
       "                    False, False, False, False],\n",
       "        fill_value='?',\n",
       "             dtype=object),\n",
       " 'param_min_samples_leaf': masked_array(data=[1, 1, 2, 4, 4, 4, 2, 1, 1, 4, 4, 1, 1, 2, 2, 4, 2, 1,\n",
       "                    2, 1, 1, 1, 4, 2, 1, 1, 1, 2, 4, 2, 4, 2, 1, 4, 4, 2,\n",
       "                    2, 1, 2, 2, 4, 2, 4, 4, 2, 1, 2, 4, 4, 2, 1, 2, 4, 4,\n",
       "                    2, 4, 1, 2, 1, 2, 1, 4, 4, 2, 1, 2, 4, 2, 1, 2, 4, 4,\n",
       "                    2, 1, 1, 2, 1, 1, 2, 4, 4, 2, 4, 2, 4, 1, 1, 4, 4, 2,\n",
       "                    1, 4, 1, 4, 4, 2, 1, 4, 2, 2],\n",
       "              mask=[False, False, False, False, False, False, False, False,\n",
       "                    False, False, False, False, False, False, False, False,\n",
       "                    False, False, False, False, False, False, False, False,\n",
       "                    False, False, False, False, False, False, False, False,\n",
       "                    False, False, False, False, False, False, False, False,\n",
       "                    False, False, False, False, False, False, False, False,\n",
       "                    False, False, False, False, False, False, False, False,\n",
       "                    False, False, False, False, False, False, False, False,\n",
       "                    False, False, False, False, False, False, False, False,\n",
       "                    False, False, False, False, False, False, False, False,\n",
       "                    False, False, False, False, False, False, False, False,\n",
       "                    False, False, False, False, False, False, False, False,\n",
       "                    False, False, False, False],\n",
       "        fill_value='?',\n",
       "             dtype=object),\n",
       " 'param_min_samples_split': masked_array(data=[5, 5, 5, 2, 2, 5, 5, 5, 2, 5, 10, 5, 10, 5, 10, 2, 5,\n",
       "                    2, 10, 5, 10, 5, 5, 2, 5, 2, 2, 5, 10, 2, 10, 2, 5, 10,\n",
       "                    2, 10, 5, 2, 5, 2, 5, 10, 2, 10, 5, 2, 2, 10, 2, 2, 2,\n",
       "                    10, 10, 5, 5, 2, 5, 2, 2, 10, 2, 2, 10, 10, 10, 10, 2,\n",
       "                    2, 10, 10, 2, 2, 5, 5, 5, 10, 10, 5, 5, 5, 2, 10, 5,\n",
       "                    10, 5, 10, 5, 2, 10, 10, 10, 5, 5, 2, 2, 10, 2, 5, 2,\n",
       "                    10],\n",
       "              mask=[False, False, False, False, False, False, False, False,\n",
       "                    False, False, False, False, False, False, False, False,\n",
       "                    False, False, False, False, False, False, False, False,\n",
       "                    False, False, False, False, False, False, False, False,\n",
       "                    False, False, False, False, False, False, False, False,\n",
       "                    False, False, False, False, False, False, False, False,\n",
       "                    False, False, False, False, False, False, False, False,\n",
       "                    False, False, False, False, False, False, False, False,\n",
       "                    False, False, False, False, False, False, False, False,\n",
       "                    False, False, False, False, False, False, False, False,\n",
       "                    False, False, False, False, False, False, False, False,\n",
       "                    False, False, False, False, False, False, False, False,\n",
       "                    False, False, False, False],\n",
       "        fill_value='?',\n",
       "             dtype=object),\n",
       " 'param_n_estimators': masked_array(data=[400, 2000, 1200, 2000, 1600, 800, 1000, 600, 1000,\n",
       "                    1800, 400, 800, 2000, 1600, 800, 1800, 600, 1000, 1800,\n",
       "                    600, 1800, 1600, 1400, 1800, 1400, 400, 1400, 1000,\n",
       "                    2000, 1200, 1200, 800, 800, 800, 1800, 800, 1200, 800,\n",
       "                    800, 1000, 200, 600, 800, 400, 200, 1000, 2000, 400,\n",
       "                    1200, 600, 1800, 2000, 1000, 1000, 1400, 600, 1600,\n",
       "                    1800, 1400, 1400, 200, 400, 1000, 1200, 1600, 1600,\n",
       "                    1800, 1400, 1000, 2000, 1400, 800, 1800, 400, 1600,\n",
       "                    400, 1600, 2000, 1000, 200, 2000, 600, 1000, 800, 800,\n",
       "                    600, 400, 1600, 800, 1000, 600, 2000, 800, 600, 600,\n",
       "                    400, 1000, 200, 2000, 2000],\n",
       "              mask=[False, False, False, False, False, False, False, False,\n",
       "                    False, False, False, False, False, False, False, False,\n",
       "                    False, False, False, False, False, False, False, False,\n",
       "                    False, False, False, False, False, False, False, False,\n",
       "                    False, False, False, False, False, False, False, False,\n",
       "                    False, False, False, False, False, False, False, False,\n",
       "                    False, False, False, False, False, False, False, False,\n",
       "                    False, False, False, False, False, False, False, False,\n",
       "                    False, False, False, False, False, False, False, False,\n",
       "                    False, False, False, False, False, False, False, False,\n",
       "                    False, False, False, False, False, False, False, False,\n",
       "                    False, False, False, False, False, False, False, False,\n",
       "                    False, False, False, False],\n",
       "        fill_value='?',\n",
       "             dtype=object),\n",
       " 'params': [{'bootstrap': True,\n",
       "   'max_depth': 30,\n",
       "   'max_features': 'sqrt',\n",
       "   'min_samples_leaf': 1,\n",
       "   'min_samples_split': 5,\n",
       "   'n_estimators': 400},\n",
       "  {'bootstrap': True,\n",
       "   'max_depth': 10,\n",
       "   'max_features': 'sqrt',\n",
       "   'min_samples_leaf': 1,\n",
       "   'min_samples_split': 5,\n",
       "   'n_estimators': 2000},\n",
       "  {'bootstrap': False,\n",
       "   'max_depth': 10,\n",
       "   'max_features': 'sqrt',\n",
       "   'min_samples_leaf': 2,\n",
       "   'min_samples_split': 5,\n",
       "   'n_estimators': 1200},\n",
       "  {'bootstrap': False,\n",
       "   'max_depth': 30,\n",
       "   'max_features': 'auto',\n",
       "   'min_samples_leaf': 4,\n",
       "   'min_samples_split': 2,\n",
       "   'n_estimators': 2000},\n",
       "  {'bootstrap': True,\n",
       "   'max_depth': 10,\n",
       "   'max_features': 'sqrt',\n",
       "   'min_samples_leaf': 4,\n",
       "   'min_samples_split': 2,\n",
       "   'n_estimators': 1600},\n",
       "  {'bootstrap': False,\n",
       "   'max_depth': 30,\n",
       "   'max_features': 'sqrt',\n",
       "   'min_samples_leaf': 4,\n",
       "   'min_samples_split': 5,\n",
       "   'n_estimators': 800},\n",
       "  {'bootstrap': False,\n",
       "   'max_depth': 100,\n",
       "   'max_features': 'sqrt',\n",
       "   'min_samples_leaf': 2,\n",
       "   'min_samples_split': 5,\n",
       "   'n_estimators': 1000},\n",
       "  {'bootstrap': False,\n",
       "   'max_depth': 60,\n",
       "   'max_features': 'sqrt',\n",
       "   'min_samples_leaf': 1,\n",
       "   'min_samples_split': 5,\n",
       "   'n_estimators': 600},\n",
       "  {'bootstrap': False,\n",
       "   'max_depth': 50,\n",
       "   'max_features': 'auto',\n",
       "   'min_samples_leaf': 1,\n",
       "   'min_samples_split': 2,\n",
       "   'n_estimators': 1000},\n",
       "  {'bootstrap': False,\n",
       "   'max_depth': 10,\n",
       "   'max_features': 'auto',\n",
       "   'min_samples_leaf': 4,\n",
       "   'min_samples_split': 5,\n",
       "   'n_estimators': 1800},\n",
       "  {'bootstrap': True,\n",
       "   'max_depth': 70,\n",
       "   'max_features': 'auto',\n",
       "   'min_samples_leaf': 4,\n",
       "   'min_samples_split': 10,\n",
       "   'n_estimators': 400},\n",
       "  {'bootstrap': False,\n",
       "   'max_depth': 90,\n",
       "   'max_features': 'sqrt',\n",
       "   'min_samples_leaf': 1,\n",
       "   'min_samples_split': 5,\n",
       "   'n_estimators': 800},\n",
       "  {'bootstrap': False,\n",
       "   'max_depth': 10,\n",
       "   'max_features': 'sqrt',\n",
       "   'min_samples_leaf': 1,\n",
       "   'min_samples_split': 10,\n",
       "   'n_estimators': 2000},\n",
       "  {'bootstrap': False,\n",
       "   'max_depth': 10,\n",
       "   'max_features': 'sqrt',\n",
       "   'min_samples_leaf': 2,\n",
       "   'min_samples_split': 5,\n",
       "   'n_estimators': 1600},\n",
       "  {'bootstrap': False,\n",
       "   'max_depth': 30,\n",
       "   'max_features': 'sqrt',\n",
       "   'min_samples_leaf': 2,\n",
       "   'min_samples_split': 10,\n",
       "   'n_estimators': 800},\n",
       "  {'bootstrap': False,\n",
       "   'max_depth': 50,\n",
       "   'max_features': 'auto',\n",
       "   'min_samples_leaf': 4,\n",
       "   'min_samples_split': 2,\n",
       "   'n_estimators': 1800},\n",
       "  {'bootstrap': False,\n",
       "   'max_depth': 70,\n",
       "   'max_features': 'auto',\n",
       "   'min_samples_leaf': 2,\n",
       "   'min_samples_split': 5,\n",
       "   'n_estimators': 600},\n",
       "  {'bootstrap': True,\n",
       "   'max_depth': 20,\n",
       "   'max_features': 'sqrt',\n",
       "   'min_samples_leaf': 1,\n",
       "   'min_samples_split': 2,\n",
       "   'n_estimators': 1000},\n",
       "  {'bootstrap': False,\n",
       "   'max_depth': 110,\n",
       "   'max_features': 'auto',\n",
       "   'min_samples_leaf': 2,\n",
       "   'min_samples_split': 10,\n",
       "   'n_estimators': 1800},\n",
       "  {'bootstrap': True,\n",
       "   'max_depth': 80,\n",
       "   'max_features': 'auto',\n",
       "   'min_samples_leaf': 1,\n",
       "   'min_samples_split': 5,\n",
       "   'n_estimators': 600},\n",
       "  {'bootstrap': False,\n",
       "   'max_depth': 30,\n",
       "   'max_features': 'sqrt',\n",
       "   'min_samples_leaf': 1,\n",
       "   'min_samples_split': 10,\n",
       "   'n_estimators': 1800},\n",
       "  {'bootstrap': False,\n",
       "   'max_depth': 70,\n",
       "   'max_features': 'sqrt',\n",
       "   'min_samples_leaf': 1,\n",
       "   'min_samples_split': 5,\n",
       "   'n_estimators': 1600},\n",
       "  {'bootstrap': True,\n",
       "   'max_depth': 80,\n",
       "   'max_features': 'sqrt',\n",
       "   'min_samples_leaf': 4,\n",
       "   'min_samples_split': 5,\n",
       "   'n_estimators': 1400},\n",
       "  {'bootstrap': True,\n",
       "   'max_depth': None,\n",
       "   'max_features': 'auto',\n",
       "   'min_samples_leaf': 2,\n",
       "   'min_samples_split': 2,\n",
       "   'n_estimators': 1800},\n",
       "  {'bootstrap': False,\n",
       "   'max_depth': 80,\n",
       "   'max_features': 'sqrt',\n",
       "   'min_samples_leaf': 1,\n",
       "   'min_samples_split': 5,\n",
       "   'n_estimators': 1400},\n",
       "  {'bootstrap': False,\n",
       "   'max_depth': None,\n",
       "   'max_features': 'sqrt',\n",
       "   'min_samples_leaf': 1,\n",
       "   'min_samples_split': 2,\n",
       "   'n_estimators': 400},\n",
       "  {'bootstrap': False,\n",
       "   'max_depth': 40,\n",
       "   'max_features': 'auto',\n",
       "   'min_samples_leaf': 1,\n",
       "   'min_samples_split': 2,\n",
       "   'n_estimators': 1400},\n",
       "  {'bootstrap': True,\n",
       "   'max_depth': 20,\n",
       "   'max_features': 'sqrt',\n",
       "   'min_samples_leaf': 2,\n",
       "   'min_samples_split': 5,\n",
       "   'n_estimators': 1000},\n",
       "  {'bootstrap': False,\n",
       "   'max_depth': 100,\n",
       "   'max_features': 'auto',\n",
       "   'min_samples_leaf': 4,\n",
       "   'min_samples_split': 10,\n",
       "   'n_estimators': 2000},\n",
       "  {'bootstrap': True,\n",
       "   'max_depth': 20,\n",
       "   'max_features': 'sqrt',\n",
       "   'min_samples_leaf': 2,\n",
       "   'min_samples_split': 2,\n",
       "   'n_estimators': 1200},\n",
       "  {'bootstrap': False,\n",
       "   'max_depth': 20,\n",
       "   'max_features': 'sqrt',\n",
       "   'min_samples_leaf': 4,\n",
       "   'min_samples_split': 10,\n",
       "   'n_estimators': 1200},\n",
       "  {'bootstrap': False,\n",
       "   'max_depth': 50,\n",
       "   'max_features': 'sqrt',\n",
       "   'min_samples_leaf': 2,\n",
       "   'min_samples_split': 2,\n",
       "   'n_estimators': 800},\n",
       "  {'bootstrap': False,\n",
       "   'max_depth': 100,\n",
       "   'max_features': 'sqrt',\n",
       "   'min_samples_leaf': 1,\n",
       "   'min_samples_split': 5,\n",
       "   'n_estimators': 800},\n",
       "  {'bootstrap': True,\n",
       "   'max_depth': 50,\n",
       "   'max_features': 'sqrt',\n",
       "   'min_samples_leaf': 4,\n",
       "   'min_samples_split': 10,\n",
       "   'n_estimators': 800},\n",
       "  {'bootstrap': True,\n",
       "   'max_depth': 90,\n",
       "   'max_features': 'sqrt',\n",
       "   'min_samples_leaf': 4,\n",
       "   'min_samples_split': 2,\n",
       "   'n_estimators': 1800},\n",
       "  {'bootstrap': False,\n",
       "   'max_depth': 20,\n",
       "   'max_features': 'sqrt',\n",
       "   'min_samples_leaf': 2,\n",
       "   'min_samples_split': 10,\n",
       "   'n_estimators': 800},\n",
       "  {'bootstrap': True,\n",
       "   'max_depth': 20,\n",
       "   'max_features': 'sqrt',\n",
       "   'min_samples_leaf': 2,\n",
       "   'min_samples_split': 5,\n",
       "   'n_estimators': 1200},\n",
       "  {'bootstrap': True,\n",
       "   'max_depth': 100,\n",
       "   'max_features': 'auto',\n",
       "   'min_samples_leaf': 1,\n",
       "   'min_samples_split': 2,\n",
       "   'n_estimators': 800},\n",
       "  {'bootstrap': True,\n",
       "   'max_depth': None,\n",
       "   'max_features': 'auto',\n",
       "   'min_samples_leaf': 2,\n",
       "   'min_samples_split': 5,\n",
       "   'n_estimators': 800},\n",
       "  {'bootstrap': True,\n",
       "   'max_depth': 60,\n",
       "   'max_features': 'sqrt',\n",
       "   'min_samples_leaf': 2,\n",
       "   'min_samples_split': 2,\n",
       "   'n_estimators': 1000},\n",
       "  {'bootstrap': True,\n",
       "   'max_depth': 10,\n",
       "   'max_features': 'auto',\n",
       "   'min_samples_leaf': 4,\n",
       "   'min_samples_split': 5,\n",
       "   'n_estimators': 200},\n",
       "  {'bootstrap': True,\n",
       "   'max_depth': 60,\n",
       "   'max_features': 'sqrt',\n",
       "   'min_samples_leaf': 2,\n",
       "   'min_samples_split': 10,\n",
       "   'n_estimators': 600},\n",
       "  {'bootstrap': True,\n",
       "   'max_depth': 90,\n",
       "   'max_features': 'sqrt',\n",
       "   'min_samples_leaf': 4,\n",
       "   'min_samples_split': 2,\n",
       "   'n_estimators': 800},\n",
       "  {'bootstrap': True,\n",
       "   'max_depth': 90,\n",
       "   'max_features': 'sqrt',\n",
       "   'min_samples_leaf': 4,\n",
       "   'min_samples_split': 10,\n",
       "   'n_estimators': 400},\n",
       "  {'bootstrap': False,\n",
       "   'max_depth': 90,\n",
       "   'max_features': 'auto',\n",
       "   'min_samples_leaf': 2,\n",
       "   'min_samples_split': 5,\n",
       "   'n_estimators': 200},\n",
       "  {'bootstrap': True,\n",
       "   'max_depth': 110,\n",
       "   'max_features': 'sqrt',\n",
       "   'min_samples_leaf': 1,\n",
       "   'min_samples_split': 2,\n",
       "   'n_estimators': 1000},\n",
       "  {'bootstrap': True,\n",
       "   'max_depth': 90,\n",
       "   'max_features': 'auto',\n",
       "   'min_samples_leaf': 2,\n",
       "   'min_samples_split': 2,\n",
       "   'n_estimators': 2000},\n",
       "  {'bootstrap': False,\n",
       "   'max_depth': 80,\n",
       "   'max_features': 'sqrt',\n",
       "   'min_samples_leaf': 4,\n",
       "   'min_samples_split': 10,\n",
       "   'n_estimators': 400},\n",
       "  {'bootstrap': False,\n",
       "   'max_depth': 70,\n",
       "   'max_features': 'sqrt',\n",
       "   'min_samples_leaf': 4,\n",
       "   'min_samples_split': 2,\n",
       "   'n_estimators': 1200},\n",
       "  {'bootstrap': False,\n",
       "   'max_depth': 110,\n",
       "   'max_features': 'sqrt',\n",
       "   'min_samples_leaf': 2,\n",
       "   'min_samples_split': 2,\n",
       "   'n_estimators': 600},\n",
       "  {'bootstrap': False,\n",
       "   'max_depth': 20,\n",
       "   'max_features': 'auto',\n",
       "   'min_samples_leaf': 1,\n",
       "   'min_samples_split': 2,\n",
       "   'n_estimators': 1800},\n",
       "  {'bootstrap': False,\n",
       "   'max_depth': 50,\n",
       "   'max_features': 'auto',\n",
       "   'min_samples_leaf': 2,\n",
       "   'min_samples_split': 10,\n",
       "   'n_estimators': 2000},\n",
       "  {'bootstrap': False,\n",
       "   'max_depth': 50,\n",
       "   'max_features': 'auto',\n",
       "   'min_samples_leaf': 4,\n",
       "   'min_samples_split': 10,\n",
       "   'n_estimators': 1000},\n",
       "  {'bootstrap': False,\n",
       "   'max_depth': 30,\n",
       "   'max_features': 'auto',\n",
       "   'min_samples_leaf': 4,\n",
       "   'min_samples_split': 5,\n",
       "   'n_estimators': 1000},\n",
       "  {'bootstrap': False,\n",
       "   'max_depth': None,\n",
       "   'max_features': 'sqrt',\n",
       "   'min_samples_leaf': 2,\n",
       "   'min_samples_split': 5,\n",
       "   'n_estimators': 1400},\n",
       "  {'bootstrap': False,\n",
       "   'max_depth': 60,\n",
       "   'max_features': 'sqrt',\n",
       "   'min_samples_leaf': 4,\n",
       "   'min_samples_split': 2,\n",
       "   'n_estimators': 600},\n",
       "  {'bootstrap': True,\n",
       "   'max_depth': 10,\n",
       "   'max_features': 'auto',\n",
       "   'min_samples_leaf': 1,\n",
       "   'min_samples_split': 5,\n",
       "   'n_estimators': 1600},\n",
       "  {'bootstrap': True,\n",
       "   'max_depth': 80,\n",
       "   'max_features': 'auto',\n",
       "   'min_samples_leaf': 2,\n",
       "   'min_samples_split': 2,\n",
       "   'n_estimators': 1800},\n",
       "  {'bootstrap': True,\n",
       "   'max_depth': 100,\n",
       "   'max_features': 'auto',\n",
       "   'min_samples_leaf': 1,\n",
       "   'min_samples_split': 2,\n",
       "   'n_estimators': 1400},\n",
       "  {'bootstrap': True,\n",
       "   'max_depth': 80,\n",
       "   'max_features': 'sqrt',\n",
       "   'min_samples_leaf': 2,\n",
       "   'min_samples_split': 10,\n",
       "   'n_estimators': 1400},\n",
       "  {'bootstrap': True,\n",
       "   'max_depth': 50,\n",
       "   'max_features': 'sqrt',\n",
       "   'min_samples_leaf': 1,\n",
       "   'min_samples_split': 2,\n",
       "   'n_estimators': 200},\n",
       "  {'bootstrap': True,\n",
       "   'max_depth': 10,\n",
       "   'max_features': 'sqrt',\n",
       "   'min_samples_leaf': 4,\n",
       "   'min_samples_split': 2,\n",
       "   'n_estimators': 400},\n",
       "  {'bootstrap': False,\n",
       "   'max_depth': 80,\n",
       "   'max_features': 'auto',\n",
       "   'min_samples_leaf': 4,\n",
       "   'min_samples_split': 10,\n",
       "   'n_estimators': 1000},\n",
       "  {'bootstrap': False,\n",
       "   'max_depth': None,\n",
       "   'max_features': 'auto',\n",
       "   'min_samples_leaf': 2,\n",
       "   'min_samples_split': 10,\n",
       "   'n_estimators': 1200},\n",
       "  {'bootstrap': True,\n",
       "   'max_depth': 20,\n",
       "   'max_features': 'sqrt',\n",
       "   'min_samples_leaf': 1,\n",
       "   'min_samples_split': 10,\n",
       "   'n_estimators': 1600},\n",
       "  {'bootstrap': True,\n",
       "   'max_depth': None,\n",
       "   'max_features': 'auto',\n",
       "   'min_samples_leaf': 2,\n",
       "   'min_samples_split': 10,\n",
       "   'n_estimators': 1600},\n",
       "  {'bootstrap': False,\n",
       "   'max_depth': 10,\n",
       "   'max_features': 'auto',\n",
       "   'min_samples_leaf': 4,\n",
       "   'min_samples_split': 2,\n",
       "   'n_estimators': 1800},\n",
       "  {'bootstrap': True,\n",
       "   'max_depth': 70,\n",
       "   'max_features': 'auto',\n",
       "   'min_samples_leaf': 2,\n",
       "   'min_samples_split': 2,\n",
       "   'n_estimators': 1400},\n",
       "  {'bootstrap': False,\n",
       "   'max_depth': 80,\n",
       "   'max_features': 'sqrt',\n",
       "   'min_samples_leaf': 1,\n",
       "   'min_samples_split': 10,\n",
       "   'n_estimators': 1000},\n",
       "  {'bootstrap': False,\n",
       "   'max_depth': 60,\n",
       "   'max_features': 'auto',\n",
       "   'min_samples_leaf': 2,\n",
       "   'min_samples_split': 10,\n",
       "   'n_estimators': 2000},\n",
       "  {'bootstrap': False,\n",
       "   'max_depth': 80,\n",
       "   'max_features': 'sqrt',\n",
       "   'min_samples_leaf': 4,\n",
       "   'min_samples_split': 2,\n",
       "   'n_estimators': 1400},\n",
       "  {'bootstrap': False,\n",
       "   'max_depth': 20,\n",
       "   'max_features': 'sqrt',\n",
       "   'min_samples_leaf': 4,\n",
       "   'min_samples_split': 2,\n",
       "   'n_estimators': 800},\n",
       "  {'bootstrap': True,\n",
       "   'max_depth': 60,\n",
       "   'max_features': 'sqrt',\n",
       "   'min_samples_leaf': 2,\n",
       "   'min_samples_split': 5,\n",
       "   'n_estimators': 1800},\n",
       "  {'bootstrap': False,\n",
       "   'max_depth': 90,\n",
       "   'max_features': 'auto',\n",
       "   'min_samples_leaf': 1,\n",
       "   'min_samples_split': 5,\n",
       "   'n_estimators': 400},\n",
       "  {'bootstrap': True,\n",
       "   'max_depth': 90,\n",
       "   'max_features': 'auto',\n",
       "   'min_samples_leaf': 1,\n",
       "   'min_samples_split': 5,\n",
       "   'n_estimators': 1600},\n",
       "  {'bootstrap': False,\n",
       "   'max_depth': 90,\n",
       "   'max_features': 'sqrt',\n",
       "   'min_samples_leaf': 2,\n",
       "   'min_samples_split': 10,\n",
       "   'n_estimators': 400},\n",
       "  {'bootstrap': True,\n",
       "   'max_depth': None,\n",
       "   'max_features': 'sqrt',\n",
       "   'min_samples_leaf': 1,\n",
       "   'min_samples_split': 10,\n",
       "   'n_estimators': 1600},\n",
       "  {'bootstrap': True,\n",
       "   'max_depth': 100,\n",
       "   'max_features': 'sqrt',\n",
       "   'min_samples_leaf': 1,\n",
       "   'min_samples_split': 5,\n",
       "   'n_estimators': 2000},\n",
       "  {'bootstrap': True,\n",
       "   'max_depth': 10,\n",
       "   'max_features': 'sqrt',\n",
       "   'min_samples_leaf': 2,\n",
       "   'min_samples_split': 5,\n",
       "   'n_estimators': 1000},\n",
       "  {'bootstrap': True,\n",
       "   'max_depth': 80,\n",
       "   'max_features': 'auto',\n",
       "   'min_samples_leaf': 4,\n",
       "   'min_samples_split': 5,\n",
       "   'n_estimators': 200},\n",
       "  {'bootstrap': False,\n",
       "   'max_depth': 60,\n",
       "   'max_features': 'auto',\n",
       "   'min_samples_leaf': 4,\n",
       "   'min_samples_split': 2,\n",
       "   'n_estimators': 2000},\n",
       "  {'bootstrap': True,\n",
       "   'max_depth': 100,\n",
       "   'max_features': 'auto',\n",
       "   'min_samples_leaf': 2,\n",
       "   'min_samples_split': 10,\n",
       "   'n_estimators': 600},\n",
       "  {'bootstrap': True,\n",
       "   'max_depth': 100,\n",
       "   'max_features': 'auto',\n",
       "   'min_samples_leaf': 4,\n",
       "   'min_samples_split': 5,\n",
       "   'n_estimators': 1000},\n",
       "  {'bootstrap': False,\n",
       "   'max_depth': None,\n",
       "   'max_features': 'auto',\n",
       "   'min_samples_leaf': 2,\n",
       "   'min_samples_split': 10,\n",
       "   'n_estimators': 800},\n",
       "  {'bootstrap': False,\n",
       "   'max_depth': 70,\n",
       "   'max_features': 'sqrt',\n",
       "   'min_samples_leaf': 4,\n",
       "   'min_samples_split': 5,\n",
       "   'n_estimators': 800},\n",
       "  {'bootstrap': False,\n",
       "   'max_depth': 40,\n",
       "   'max_features': 'sqrt',\n",
       "   'min_samples_leaf': 1,\n",
       "   'min_samples_split': 10,\n",
       "   'n_estimators': 600},\n",
       "  {'bootstrap': True,\n",
       "   'max_depth': 100,\n",
       "   'max_features': 'sqrt',\n",
       "   'min_samples_leaf': 1,\n",
       "   'min_samples_split': 5,\n",
       "   'n_estimators': 400},\n",
       "  {'bootstrap': True,\n",
       "   'max_depth': 80,\n",
       "   'max_features': 'sqrt',\n",
       "   'min_samples_leaf': 4,\n",
       "   'min_samples_split': 2,\n",
       "   'n_estimators': 1600},\n",
       "  {'bootstrap': True,\n",
       "   'max_depth': 100,\n",
       "   'max_features': 'sqrt',\n",
       "   'min_samples_leaf': 4,\n",
       "   'min_samples_split': 10,\n",
       "   'n_estimators': 800},\n",
       "  {'bootstrap': True,\n",
       "   'max_depth': 10,\n",
       "   'max_features': 'sqrt',\n",
       "   'min_samples_leaf': 2,\n",
       "   'min_samples_split': 10,\n",
       "   'n_estimators': 1000},\n",
       "  {'bootstrap': True,\n",
       "   'max_depth': 110,\n",
       "   'max_features': 'sqrt',\n",
       "   'min_samples_leaf': 1,\n",
       "   'min_samples_split': 10,\n",
       "   'n_estimators': 600},\n",
       "  {'bootstrap': False,\n",
       "   'max_depth': None,\n",
       "   'max_features': 'sqrt',\n",
       "   'min_samples_leaf': 4,\n",
       "   'min_samples_split': 5,\n",
       "   'n_estimators': 2000},\n",
       "  {'bootstrap': True,\n",
       "   'max_depth': 40,\n",
       "   'max_features': 'sqrt',\n",
       "   'min_samples_leaf': 1,\n",
       "   'min_samples_split': 5,\n",
       "   'n_estimators': 800},\n",
       "  {'bootstrap': True,\n",
       "   'max_depth': 40,\n",
       "   'max_features': 'auto',\n",
       "   'min_samples_leaf': 4,\n",
       "   'min_samples_split': 2,\n",
       "   'n_estimators': 600},\n",
       "  {'bootstrap': False,\n",
       "   'max_depth': 30,\n",
       "   'max_features': 'sqrt',\n",
       "   'min_samples_leaf': 4,\n",
       "   'min_samples_split': 2,\n",
       "   'n_estimators': 600},\n",
       "  {'bootstrap': False,\n",
       "   'max_depth': 40,\n",
       "   'max_features': 'auto',\n",
       "   'min_samples_leaf': 2,\n",
       "   'min_samples_split': 10,\n",
       "   'n_estimators': 400},\n",
       "  {'bootstrap': False,\n",
       "   'max_depth': 10,\n",
       "   'max_features': 'auto',\n",
       "   'min_samples_leaf': 1,\n",
       "   'min_samples_split': 2,\n",
       "   'n_estimators': 1000},\n",
       "  {'bootstrap': False,\n",
       "   'max_depth': 100,\n",
       "   'max_features': 'auto',\n",
       "   'min_samples_leaf': 4,\n",
       "   'min_samples_split': 5,\n",
       "   'n_estimators': 200},\n",
       "  {'bootstrap': True,\n",
       "   'max_depth': 20,\n",
       "   'max_features': 'sqrt',\n",
       "   'min_samples_leaf': 2,\n",
       "   'min_samples_split': 2,\n",
       "   'n_estimators': 2000},\n",
       "  {'bootstrap': True,\n",
       "   'max_depth': 40,\n",
       "   'max_features': 'auto',\n",
       "   'min_samples_leaf': 2,\n",
       "   'min_samples_split': 10,\n",
       "   'n_estimators': 2000}],\n",
       " 'rank_test_score': array([ 42,  31,  60,  84,  22,  48,  69,  73,  99,  78,   1,  75,  64,\n",
       "         57,  59,  86,  97,  40,  88,  54,  67,  72,  23,  35,  74,  77,\n",
       "         98,  11,  80,  25,  47,  71,  75,  27,  24,  58,  14,  62,  34,\n",
       "         21,   4,  15,  30,   8,  96,  41,  37,  51,  45,  70, 100,  89,\n",
       "         81,  83,  68,  52,  39,  35,  61,  29,  56,  12,  81,  92,  16,\n",
       "          9,  78,  38,  65,  89,  46,  48,  18,  95,  55,  63,  17,  32,\n",
       "         13,   5,  84,   6,   3,  91,  48,  66,  42,  19,  27,  20,   7,\n",
       "         44,  33,   2,  52,  93,  94,  87,  26,  10]),\n",
       " 'split0_test_score': array([-3.89281798, -3.88985476, -3.91873209, -4.37284862, -3.86812736,\n",
       "        -3.89602676, -3.9221471 , -3.95545316, -4.86388504, -4.32637388,\n",
       "        -3.86132541, -3.95438507, -3.90987893, -3.91933076, -3.9124493 ,\n",
       "        -4.37291654, -4.84937297, -3.90369884, -4.51735184, -3.89391117,\n",
       "        -3.91346025, -3.94952003, -3.86965397, -3.88808213, -3.95017216,\n",
       "        -3.98083257, -4.86467414, -3.87992735, -4.38267816, -3.88216315,\n",
       "        -3.88341833, -3.93885695, -3.95438507, -3.86485841, -3.86841308,\n",
       "        -3.9124493 , -3.88154314, -3.91106752, -3.88626177, -3.88086042,\n",
       "        -3.8697487 , -3.86833369, -3.86991027, -3.86600657, -4.84878269,\n",
       "        -3.89991515, -3.88970105, -3.89007046, -3.89032325, -3.93834369,\n",
       "        -4.86368917, -4.51741117, -4.38278717, -4.37286424, -3.92391358,\n",
       "        -3.89311418, -3.88735228, -3.88808213, -3.91023201, -3.87425167,\n",
       "        -3.9168385 , -3.86486523, -4.38278717, -4.51759236, -3.87487563,\n",
       "        -3.86839651, -4.32637388, -3.8883557 , -3.91011381, -4.51741117,\n",
       "        -3.89382989, -3.89602676, -3.87728232, -4.77703885, -3.89774956,\n",
       "        -3.91119142, -3.87471252, -3.88701073, -3.87813309, -3.87249764,\n",
       "        -4.37284862, -3.86170204, -3.86195509, -4.51733727, -3.89602676,\n",
       "        -3.91336338, -3.89281798, -3.86781331, -3.86485841, -3.8684663 ,\n",
       "        -3.87413041, -3.89124248, -3.88661965, -3.86270867, -3.89311418,\n",
       "        -4.51756119, -4.62851529, -4.37293077, -3.88115321, -3.86969819]),\n",
       " 'split0_train_score': array([-1.96753881e+00, -2.29462239e+00, -1.73775813e+00, -2.35410821e+00,\n",
       "        -2.84029390e+00, -2.17419414e+00, -1.21507209e+00, -8.27688990e-01,\n",
       "        -0.00000000e+00, -2.47214306e+00, -2.58851523e+00, -8.29063356e-01,\n",
       "        -2.10466346e+00, -1.73753003e+00, -1.95484357e+00, -2.35413143e+00,\n",
       "        -1.42829046e+00, -1.44368277e+00, -2.15817352e+00, -1.75680049e+00,\n",
       "        -1.77172709e+00, -8.29198250e-01, -2.80428468e+00, -1.79031971e+00,\n",
       "        -8.28908023e-01, -1.09132420e-03, -0.00000000e+00, -2.19967394e+00,\n",
       "        -2.53023483e+00, -2.10067170e+00, -2.29122676e+00, -1.04830812e+00,\n",
       "        -8.29063356e-01, -2.87347352e+00, -2.80565877e+00, -1.95484357e+00,\n",
       "        -2.19908339e+00, -1.44086416e+00, -1.89889429e+00, -2.09868277e+00,\n",
       "        -2.52235869e+00, -2.66702840e+00, -2.80591779e+00, -2.87667991e+00,\n",
       "        -1.42788965e+00, -1.44323242e+00, -1.78976122e+00, -2.29445779e+00,\n",
       "        -2.17400557e+00, -1.04766873e+00, -0.00000000e+00, -2.15817352e+00,\n",
       "        -2.53023483e+00, -2.35408406e+00, -1.21275366e+00, -2.17227819e+00,\n",
       "        -2.04874420e+00, -1.79031971e+00, -1.43932877e+00, -2.66631412e+00,\n",
       "        -1.45481507e+00, -2.84297978e+00, -2.53023483e+00, -2.15817352e+00,\n",
       "        -2.56232026e+00, -2.39324222e+00, -2.47214306e+00, -1.78894985e+00,\n",
       "        -1.77129382e+00, -2.15817352e+00, -2.17420400e+00, -2.17419414e+00,\n",
       "        -2.19973870e+00, -1.07290411e+00, -1.74975113e+00, -1.95488160e+00,\n",
       "        -2.56234190e+00, -1.96176152e+00, -2.40448143e+00, -2.47996859e+00,\n",
       "        -2.35410821e+00, -2.39828185e+00, -2.47325252e+00, -2.15817352e+00,\n",
       "        -2.17419414e+00, -1.77515953e+00, -1.96753881e+00, -2.80406397e+00,\n",
       "        -2.87347352e+00, -2.74184921e+00, -2.56510810e+00, -2.17505121e+00,\n",
       "        -1.96373926e+00, -2.47844831e+00, -2.17227819e+00, -2.15817352e+00,\n",
       "        -1.39326253e+00, -2.35414625e+00, -2.10026995e+00, -2.39232012e+00]),\n",
       " 'split1_test_score': array([-3.8284023 , -3.81723682, -3.83835001, -4.55581489, -3.82605058,\n",
       "        -3.82771924, -3.85804922, -3.88531275, -5.03586314, -4.5120196 ,\n",
       "        -3.75848472, -3.89189173, -3.85066874, -3.83513796, -3.85247092,\n",
       "        -4.55577622, -5.10480611, -3.8243486 , -4.69658271, -3.80390044,\n",
       "        -3.86420615, -3.88714777, -3.82396038, -3.80823093, -3.8890549 ,\n",
       "        -3.89731752, -5.03452294, -3.81521316, -4.45105283, -3.81993393,\n",
       "        -3.83525753, -3.86177453, -3.89189173, -3.82396287, -3.82524473,\n",
       "        -3.85244335, -3.81521986, -3.82469662, -3.80278129, -3.81696664,\n",
       "        -3.77051379, -3.81584178, -3.82960512, -3.81012722, -5.10266499,\n",
       "        -3.82407269, -3.8080114 , -3.8349917 , -3.82715993, -3.85758368,\n",
       "        -5.03550791, -4.69673346, -4.45099247, -4.55563519, -3.85815785,\n",
       "        -3.83477135, -3.80287521, -3.80823093, -3.82317518, -3.8262181 ,\n",
       "        -3.83790602, -3.83864013, -4.45099247, -4.6967201 , -3.8154746 ,\n",
       "        -3.79496005, -4.5120196 , -3.8127412 , -3.86290119, -4.69673346,\n",
       "        -3.8270157 , -3.82771924, -3.81971147, -4.97244031, -3.81611546,\n",
       "        -3.86056776, -3.81555199, -3.82341163, -3.81804298, -3.77233974,\n",
       "        -4.55581489, -3.78963126, -3.75625975, -4.69675028, -3.82771924,\n",
       "        -3.86755927, -3.8284023 , -3.82340991, -3.82396287, -3.82136223,\n",
       "        -3.80398181, -3.82575075, -3.82771326, -3.75187714, -3.83477135,\n",
       "        -4.69649131, -4.77201649, -4.55684791, -3.82246853, -3.79385793]),\n",
       " 'split1_train_score': array([-1.97898271e+00, -2.32315894e+00, -1.75243643e+00, -2.43699062e+00,\n",
       "        -2.86673860e+00, -2.17541031e+00, -1.20507320e+00, -8.32345510e-01,\n",
       "        -0.00000000e+00, -2.48770484e+00, -2.60561370e+00, -8.30215183e-01,\n",
       "        -2.11999353e+00, -1.75393604e+00, -1.94309480e+00, -2.43699130e+00,\n",
       "        -1.42612126e+00, -1.45501868e+00, -2.27298457e+00, -1.76260056e+00,\n",
       "        -1.76669298e+00, -8.29776826e-01, -2.81953628e+00, -1.80180822e+00,\n",
       "        -8.29597521e-01, -8.26484018e-04, -0.00000000e+00, -2.22106943e+00,\n",
       "        -2.58576365e+00, -2.11345890e+00, -2.29591812e+00, -1.04332125e+00,\n",
       "        -8.30215183e-01, -2.90352820e+00, -2.81916936e+00, -1.94309820e+00,\n",
       "        -2.22081937e+00, -1.44860388e+00, -1.90876374e+00, -2.11192875e+00,\n",
       "        -2.55298917e+00, -2.68711187e+00, -2.82568320e+00, -2.90341437e+00,\n",
       "        -1.42501370e+00, -1.45540320e+00, -1.80017612e+00, -2.29172445e+00,\n",
       "        -2.17531034e+00, -1.04414224e+00, -1.10705226e-03, -2.27306121e+00,\n",
       "        -2.58577186e+00, -2.43717914e+00, -1.20524055e+00, -2.17534694e+00,\n",
       "        -2.05354458e+00, -1.80180822e+00, -1.44547684e+00, -2.68316570e+00,\n",
       "        -1.47059132e+00, -2.87762802e+00, -2.58577186e+00, -2.27290337e+00,\n",
       "        -2.57327387e+00, -2.39386953e+00, -2.48770484e+00, -1.80253558e+00,\n",
       "        -1.77061381e+00, -2.27306121e+00, -2.17427551e+00, -2.17541031e+00,\n",
       "        -2.21929478e+00, -1.08446347e+00, -1.75266488e+00, -1.94500800e+00,\n",
       "        -2.57346040e+00, -1.97253976e+00, -2.42871930e+00, -2.51214404e+00,\n",
       "        -2.43699062e+00, -2.40112609e+00, -2.50382165e+00, -2.27266400e+00,\n",
       "        -2.17541031e+00, -1.76647585e+00, -1.97898271e+00, -2.82012074e+00,\n",
       "        -2.90352820e+00, -2.76596511e+00, -2.57286184e+00, -2.17515996e+00,\n",
       "        -1.97387230e+00, -2.50458906e+00, -2.17534694e+00, -2.27292947e+00,\n",
       "        -1.41810252e+00, -2.43737643e+00, -2.11202717e+00, -2.39219834e+00]),\n",
       " 'split2_test_score': array([-3.92730918, -3.91366897, -3.94843698, -4.76979681, -3.9082636 ,\n",
       "        -3.93879743, -3.96520612, -3.97498527, -5.1250457 , -4.67830686,\n",
       "        -3.9063651 , -3.97558977, -3.95803243, -3.94498528, -3.93867226,\n",
       "        -4.76992046, -4.93194191, -3.9194518 , -4.6391428 , -3.97074891,\n",
       "        -3.96074102, -3.97871791, -3.90972524, -3.94727661, -3.97793854,\n",
       "        -3.99629342, -5.12417994, -3.89927319, -4.6856845 , -3.90213475,\n",
       "        -3.94011194, -3.9621554 , -3.97558977, -3.91766374, -3.90980631,\n",
       "        -3.93865882, -3.90215754, -3.97858318, -3.9447431 , -3.90447873,\n",
       "        -3.9113289 , -3.9153942 , -3.91338065, -3.9123672 , -4.9316301 ,\n",
       "        -3.92453199, -3.9471127 , -3.93828069, -3.93953007, -3.96338569,\n",
       "        -5.12576782, -4.63907716, -4.68565468, -4.76926153, -3.96172422,\n",
       "        -3.93851701, -3.95650089, -3.94727661, -3.97454296, -3.91118871,\n",
       "        -3.93721207, -3.89338556, -4.68565468, -4.63932977, -3.91045045,\n",
       "        -3.92548829, -4.67830686, -3.94504959, -3.95445531, -4.63907716,\n",
       "        -3.93766959, -3.93879743, -3.90407597, -5.06215265, -3.96307555,\n",
       "        -3.94356465, -3.91060773, -3.91777775, -3.90267821, -3.91140729,\n",
       "        -4.76979681, -3.92874679, -3.91820771, -4.63946551, -3.93879743,\n",
       "        -3.95381977, -3.92730918, -3.91004619, -3.91766374, -3.91180298,\n",
       "        -3.90556359, -3.93860636, -3.91923967, -3.91873291, -3.93851701,\n",
       "        -4.64006105, -4.96226379, -4.7690846 , -3.90137218, -3.92658902]),\n",
       " 'split2_train_score': array([-1.91115810e+00, -2.23724469e+00, -1.68857108e+00, -2.28234402e+00,\n",
       "        -2.78286183e+00, -2.11334570e+00, -1.16569085e+00, -8.09078974e-01,\n",
       "        -0.00000000e+00, -2.39673486e+00, -2.52349770e+00, -8.07993271e-01,\n",
       "        -2.04602283e+00, -1.68957322e+00, -1.88229398e+00, -2.28233744e+00,\n",
       "        -1.44402043e+00, -1.40056441e+00, -2.21646459e+00, -1.70336328e+00,\n",
       "        -1.71306540e+00, -8.05626806e-01, -2.75163568e+00, -1.74418116e+00,\n",
       "        -8.06411192e-01, -7.39051095e-04, -0.00000000e+00, -2.15728122e+00,\n",
       "        -2.38711071e+00, -2.05151346e+00, -2.22451217e+00, -1.01161357e+00,\n",
       "        -8.07993271e-01, -2.82448456e+00, -2.75176777e+00, -1.88228908e+00,\n",
       "        -2.15485329e+00, -1.40537067e+00, -1.84862644e+00, -2.05231760e+00,\n",
       "        -2.45815816e+00, -2.61440130e+00, -2.75388655e+00, -2.82422154e+00,\n",
       "        -1.44398190e+00, -1.40030338e+00, -1.74302805e+00, -2.22962207e+00,\n",
       "        -2.11332394e+00, -1.01045546e+00, -0.00000000e+00, -2.21645415e+00,\n",
       "        -2.38717229e+00, -2.28227464e+00, -1.16638973e+00, -2.11617281e+00,\n",
       "        -1.99237107e+00, -1.74418116e+00, -1.40182221e+00, -2.60622214e+00,\n",
       "        -1.41038777e+00, -2.78320210e+00, -2.38717229e+00, -2.21646094e+00,\n",
       "        -2.50457120e+00, -2.32371051e+00, -2.39673486e+00, -1.74513175e+00,\n",
       "        -1.71305605e+00, -2.21645415e+00, -2.11299570e+00, -2.11334570e+00,\n",
       "        -2.15229565e+00, -9.78356524e-01, -1.70101302e+00, -1.88304607e+00,\n",
       "        -2.50467188e+00, -1.91179295e+00, -2.34811530e+00, -2.41903592e+00,\n",
       "        -2.28234402e+00, -2.32867712e+00, -2.41565089e+00, -2.21649328e+00,\n",
       "        -2.11334570e+00, -1.71283258e+00, -1.91115810e+00, -2.75118995e+00,\n",
       "        -2.82448456e+00, -2.68792131e+00, -2.50710642e+00, -2.11069761e+00,\n",
       "        -1.91181219e+00, -2.41699236e+00, -2.11617281e+00, -2.21655919e+00,\n",
       "        -1.24331894e+00, -2.28171898e+00, -2.04923607e+00, -2.32151964e+00]),\n",
       " 'std_fit_time': array([0.3528338 , 0.04046474, 0.35203531, 0.77837329, 0.88945552,\n",
       "        0.03032394, 0.39091195, 0.06192951, 0.42241809, 0.57562826,\n",
       "        0.05582771, 0.11515159, 0.11045826, 0.80235718, 0.05230565,\n",
       "        0.22371821, 0.5195918 , 0.30724709, 0.40430339, 0.14372209,\n",
       "        0.0617597 , 0.45508383, 0.71394787, 0.12559127, 0.5379877 ,\n",
       "        0.31362923, 0.33481083, 0.57547216, 0.52624332, 0.58894557,\n",
       "        0.19920931, 0.58735033, 0.29690605, 0.14792295, 0.23055809,\n",
       "        0.32083761, 0.13568198, 0.31426968, 0.13549481, 0.10388531,\n",
       "        0.03240077, 0.04223382, 0.06642063, 0.06127684, 0.04830391,\n",
       "        0.28268066, 0.59489445, 0.4455157 , 0.15350952, 0.52135506,\n",
       "        0.18920772, 1.20839458, 0.09783502, 0.23784704, 0.10342703,\n",
       "        0.02754424, 0.07223522, 0.01964813, 0.12172644, 0.0311357 ,\n",
       "        0.0191861 , 0.00649804, 0.07893844, 0.08133734, 0.02452328,\n",
       "        0.04716447, 0.1259075 , 0.05941983, 0.00713627, 0.16137822,\n",
       "        0.08297722, 0.06083054, 0.08058537, 0.02924752, 0.02752222,\n",
       "        0.02430474, 0.06097304, 0.05931508, 0.02988936, 0.01956286,\n",
       "        0.14872497, 0.08223566, 0.07295953, 0.12123841, 0.02831568,\n",
       "        0.02940831, 0.04082154, 0.05869546, 0.01949383, 0.01501449,\n",
       "        0.04126786, 0.02852855, 0.05188698, 0.02390117, 0.03540512,\n",
       "        0.04912964, 0.0679565 , 0.0174243 , 0.05300752, 0.17892552]),\n",
       " 'std_score_time': array([0.03616066, 0.05427973, 0.06717251, 0.0056715 , 0.08058992,\n",
       "        0.00803527, 0.02694206, 0.04632825, 0.01474371, 0.07499185,\n",
       "        0.00309935, 0.05888163, 0.02126927, 0.05136381, 0.0078671 ,\n",
       "        0.00820026, 0.01125491, 0.04977212, 0.0270166 , 0.01476588,\n",
       "        0.08031523, 0.15093877, 0.02235049, 0.07721728, 0.10449737,\n",
       "        0.01984974, 0.00603479, 0.04588169, 0.08902268, 0.03537369,\n",
       "        0.1134159 , 0.01356037, 0.02123814, 0.05014936, 0.09175807,\n",
       "        0.00875346, 0.05555082, 0.01640037, 0.04291679, 0.04789309,\n",
       "        0.00386945, 0.01640019, 0.0133357 , 0.0069945 , 0.01161611,\n",
       "        0.09165472, 0.04466927, 0.02045113, 0.12762297, 0.00369185,\n",
       "        0.01536686, 0.01927473, 0.00403872, 0.00795284, 0.01934481,\n",
       "        0.00574996, 0.00263136, 0.02599209, 0.01439092, 0.0092977 ,\n",
       "        0.00575029, 0.00536842, 0.00875327, 0.00760651, 0.00500236,\n",
       "        0.00245525, 0.00557247, 0.03262314, 0.00619905, 0.00661728,\n",
       "        0.01198515, 0.00206065, 0.01519169, 0.01427328, 0.01555494,\n",
       "        0.00614486, 0.01180763, 0.01211532, 0.0050023 , 0.0032749 ,\n",
       "        0.00619892, 0.00789568, 0.00901774, 0.00635866, 0.00094504,\n",
       "        0.00786642, 0.0069627 , 0.0127445 , 0.00295178, 0.0028357 ,\n",
       "        0.00450896, 0.00614516, 0.00047278, 0.02531749, 0.00625217,\n",
       "        0.00250091, 0.00666821, 0.00287497, 0.00670076, 0.04912287]),\n",
       " 'std_test_score': array([0.04098775, 0.04101497, 0.04650298, 0.16218974, 0.03356157,\n",
       "        0.04574162, 0.04402284, 0.03850426, 0.10838434, 0.14372901,\n",
       "        0.06188852, 0.03552876, 0.04390317, 0.04692061, 0.03607886,\n",
       "        0.16221531, 0.10645961, 0.04162163, 0.07474709, 0.06817762,\n",
       "        0.03940718, 0.03819106, 0.0350338 , 0.05696758, 0.0371272 ,\n",
       "        0.04347721, 0.10761012, 0.0359457 , 0.12972456, 0.03500583,\n",
       "        0.04284629, 0.04289729, 0.03552876, 0.03834882, 0.03451961,\n",
       "        0.03608662, 0.03709205, 0.06297375, 0.05824883, 0.03696631,\n",
       "        0.0590708 , 0.04065675, 0.03420375, 0.0417944 , 0.10574042,\n",
       "        0.04275333, 0.05706993, 0.04219306, 0.0459875 , 0.04514678,\n",
       "        0.10870085, 0.07476738, 0.12968477, 0.16196342, 0.04278799,\n",
       "        0.04245886, 0.06281379, 0.05696758, 0.06202127, 0.0347837 ,\n",
       "        0.04282838, 0.02235259, 0.12968477, 0.07470566, 0.03917552,\n",
       "        0.05342098, 0.14372901, 0.05419266, 0.0373776 , 0.07476738,\n",
       "        0.04549377, 0.04574162, 0.03519617, 0.11902939, 0.06011215,\n",
       "        0.03415252, 0.039189  , 0.03929284, 0.03555289, 0.05858029,\n",
       "        0.16218974, 0.056798  , 0.06713063, 0.07484353, 0.04574162,\n",
       "        0.03523356, 0.04098775, 0.03536769, 0.03834882, 0.0369278 ,\n",
       "        0.04246153, 0.04626612, 0.03787345, 0.06932954, 0.04245886,\n",
       "        0.07471017, 0.13667066, 0.1618387 , 0.03346414, 0.05436517]),\n",
       " 'std_train_score': array([0.02964592, 0.03572704, 0.02731219, 0.06318857, 0.03501282,\n",
       "        0.02897514, 0.02131628, 0.0100518 , 0.        , 0.03972699,\n",
       "        0.03537525, 0.01021485, 0.03187719, 0.02730809, 0.03179486,\n",
       "        0.06319102, 0.00797578, 0.0234591 , 0.04687328, 0.02666298,\n",
       "        0.02654651, 0.01125054, 0.02908803, 0.02490344, 0.0107713 ,\n",
       "        0.00014977, 0.        , 0.02650754, 0.08368656, 0.02670265,\n",
       "        0.03261161, 0.01625059, 0.01021485, 0.03257657, 0.02911615,\n",
       "        0.03179772, 0.02744748, 0.01882316, 0.02633282, 0.0255575 ,\n",
       "        0.03951491, 0.03065903, 0.03028142, 0.03289396, 0.00834682,\n",
       "        0.02363383, 0.02485147, 0.0299404 , 0.02891804, 0.0167732 ,\n",
       "        0.00052187, 0.04690437, 0.08366138, 0.06329542, 0.02031816,\n",
       "        0.02720051, 0.02777523, 0.02490344, 0.01929383, 0.03302412,\n",
       "        0.02548887, 0.03900161, 0.08366138, 0.04684028, 0.03013856,\n",
       "        0.03292642, 0.03972699, 0.02449444, 0.02729468, 0.04690437,\n",
       "        0.02887074, 0.02897514, 0.02813097, 0.04752958, 0.02369202,\n",
       "        0.03179293, 0.0301502 , 0.02646424, 0.03376655, 0.03861084,\n",
       "        0.06318857, 0.03350251, 0.03655514, 0.04674329, 0.02897514,\n",
       "        0.02756337, 0.02964592, 0.02944851, 0.03257657, 0.03262689,\n",
       "        0.02934108, 0.03036224, 0.02718365, 0.03671717, 0.02720051,\n",
       "        0.04685133, 0.0772078 , 0.06359788, 0.02725479, 0.033347  ])}"
      ]
     },
     "execution_count": 12,
     "metadata": {},
     "output_type": "execute_result"
    }
   ],
   "source": [
    "rf_random.cv_results_"
   ]
  },
  {
   "cell_type": "markdown",
   "metadata": {},
   "source": [
    "## Evaluation Function"
   ]
  },
  {
   "cell_type": "code",
   "execution_count": 13,
   "metadata": {
    "collapsed": true
   },
   "outputs": [],
   "source": [
    "def evaluate(model, test_features, test_labels):\n",
    "    predictions = model.predict(test_features)\n",
    "    errors = abs(predictions - test_labels)\n",
    "    mape = 100 * np.mean(errors / test_labels)\n",
    "    accuracy = 100 - mape\n",
    "    print('Model Performance')\n",
    "    print('Average Error: {:0.4f} degrees.'.format(np.mean(errors)))\n",
    "    print('Accuracy = {:0.2f}%.'.format(accuracy))\n",
    "    \n",
    "    return accuracy"
   ]
  },
  {
   "cell_type": "markdown",
   "metadata": {},
   "source": [
    "#### Evaluate the Default Model"
   ]
  },
  {
   "cell_type": "code",
   "execution_count": 14,
   "metadata": {
    "collapsed": false
   },
   "outputs": [
    {
     "name": "stdout",
     "output_type": "stream",
     "text": [
      "Model Performance\n",
      "Average Error: 3.9199 degrees.\n",
      "Accuracy = 93.36%.\n"
     ]
    }
   ],
   "source": [
    "base_model = RandomForestRegressor(n_estimators = 10, random_state = 42)\n",
    "base_model.fit(train_features, train_labels)\n",
    "base_accuracy = evaluate(base_model, test_features, test_labels)"
   ]
  },
  {
   "cell_type": "markdown",
   "metadata": {},
   "source": [
    "#### Evaluate the Best Random Search Model"
   ]
  },
  {
   "cell_type": "code",
   "execution_count": 15,
   "metadata": {
    "collapsed": false
   },
   "outputs": [
    {
     "name": "stdout",
     "output_type": "stream",
     "text": [
      "Model Performance\n",
      "Average Error: 3.7152 degrees.\n",
      "Accuracy = 93.73%.\n"
     ]
    }
   ],
   "source": [
    "best_random = rf_random.best_estimator_\n",
    "random_accuracy = evaluate(best_random, test_features, test_labels)"
   ]
  },
  {
   "cell_type": "code",
   "execution_count": 16,
   "metadata": {
    "collapsed": false
   },
   "outputs": [
    {
     "name": "stdout",
     "output_type": "stream",
     "text": [
      "Improvement of 0.40%.\n"
     ]
    }
   ],
   "source": [
    "print('Improvement of {:0.2f}%.'.format( 100 * (random_accuracy - base_accuracy) / base_accuracy))"
   ]
  },
  {
   "cell_type": "markdown",
   "metadata": {},
   "source": [
    "# Grid Search \n",
    "\n",
    "We can now perform grid search building on the result from the random search. \n",
    "We will test a range of hyperparameters around the best values returned by random search. "
   ]
  },
  {
   "cell_type": "code",
   "execution_count": 17,
   "metadata": {
    "collapsed": false
   },
   "outputs": [],
   "source": [
    "from sklearn.model_selection import GridSearchCV\n",
    "\n",
    "# Create the parameter grid based on the results of random search \n",
    "param_grid = {\n",
    "    'bootstrap': [True],\n",
    "    'max_depth': [80, 90, 100, 110],\n",
    "    'max_features': [2, 3],\n",
    "    'min_samples_leaf': [3, 4, 5],\n",
    "    'min_samples_split': [8, 10, 12],\n",
    "    'n_estimators': [100, 200, 300, 1000]\n",
    "}\n",
    "\n",
    "# Create a base model\n",
    "rf = RandomForestRegressor(random_state = 42)\n",
    "\n",
    "# Instantiate the grid search model\n",
    "grid_search = GridSearchCV(estimator = rf, param_grid = param_grid, \n",
    "                          cv = 3, n_jobs = -1, verbose = 2, return_train_score=True)"
   ]
  },
  {
   "cell_type": "code",
   "execution_count": 18,
   "metadata": {
    "collapsed": false
   },
   "outputs": [
    {
     "name": "stdout",
     "output_type": "stream",
     "text": [
      "Fitting 3 folds for each of 288 candidates, totalling 864 fits\n"
     ]
    },
    {
     "name": "stderr",
     "output_type": "stream",
     "text": [
      "[Parallel(n_jobs=-1)]: Done  33 tasks      | elapsed:   13.3s\n",
      "[Parallel(n_jobs=-1)]: Done 154 tasks      | elapsed:  1.0min\n",
      "[Parallel(n_jobs=-1)]: Done 357 tasks      | elapsed:  2.4min\n",
      "[Parallel(n_jobs=-1)]: Done 640 tasks      | elapsed:  4.3min\n",
      "[Parallel(n_jobs=-1)]: Done 864 out of 864 | elapsed:  5.9min finished\n"
     ]
    }
   ],
   "source": [
    "# Fit the grid search to the data\n",
    "grid_search.fit(train_features, train_labels);"
   ]
  },
  {
   "cell_type": "code",
   "execution_count": 19,
   "metadata": {
    "collapsed": false
   },
   "outputs": [
    {
     "data": {
      "text/plain": [
       "{'bootstrap': True,\n",
       " 'max_depth': 80,\n",
       " 'max_features': 3,\n",
       " 'min_samples_leaf': 5,\n",
       " 'min_samples_split': 12,\n",
       " 'n_estimators': 100}"
      ]
     },
     "execution_count": 19,
     "metadata": {},
     "output_type": "execute_result"
    }
   ],
   "source": [
    "grid_search.best_params_"
   ]
  },
  {
   "cell_type": "markdown",
   "metadata": {},
   "source": [
    "#### Evaluate the Best Model from Grid Search"
   ]
  },
  {
   "cell_type": "code",
   "execution_count": 20,
   "metadata": {
    "collapsed": false
   },
   "outputs": [
    {
     "name": "stdout",
     "output_type": "stream",
     "text": [
      "Model Performance\n",
      "Average Error: 3.6561 degrees.\n",
      "Accuracy = 93.83%.\n"
     ]
    }
   ],
   "source": [
    "best_grid = grid_search.best_estimator_\n",
    "grid_accuracy = evaluate(best_grid, test_features, test_labels)"
   ]
  },
  {
   "cell_type": "code",
   "execution_count": 21,
   "metadata": {
    "collapsed": false
   },
   "outputs": [
    {
     "name": "stdout",
     "output_type": "stream",
     "text": [
      "Improvement of 0.50%.\n"
     ]
    }
   ],
   "source": [
    "print('Improvement of {:0.2f}%.'.format( 100 * (grid_accuracy - base_accuracy) / base_accuracy))"
   ]
  },
  {
   "cell_type": "markdown",
   "metadata": {},
   "source": [
    "## Another Round of Grid Search"
   ]
  },
  {
   "cell_type": "code",
   "execution_count": 22,
   "metadata": {
    "collapsed": false
   },
   "outputs": [
    {
     "name": "stdout",
     "output_type": "stream",
     "text": [
      "Fitting 3 folds for each of 54 candidates, totalling 162 fits\n"
     ]
    },
    {
     "name": "stderr",
     "output_type": "stream",
     "text": [
      "[Parallel(n_jobs=-1)]: Done  33 tasks      | elapsed:    5.9s\n",
      "[Parallel(n_jobs=-1)]: Done 154 tasks      | elapsed:   19.0s\n",
      "[Parallel(n_jobs=-1)]: Done 162 out of 162 | elapsed:   20.0s finished\n"
     ]
    }
   ],
   "source": [
    "param_grid = {\n",
    "    'bootstrap': [True],\n",
    "    'max_depth': [110, 120, None],\n",
    "    'max_features': [3, 4],\n",
    "    'min_samples_leaf': [5, 6, 7],\n",
    "    'min_samples_split': [10],\n",
    "    'n_estimators': [75, 100, 125]\n",
    "}\n",
    "\n",
    "# Create a base model\n",
    "rf = RandomForestRegressor(random_state = 42)\n",
    "\n",
    "# Instantiate the grid search model\n",
    "grid_search_final = GridSearchCV(estimator = rf, param_grid = param_grid, \n",
    "                                 cv = 3, n_jobs = -1, verbose = 2, return_train_score=True)\n",
    "\n",
    "grid_search_final.fit(train_features, train_labels);"
   ]
  },
  {
   "cell_type": "code",
   "execution_count": 23,
   "metadata": {
    "collapsed": false
   },
   "outputs": [
    {
     "data": {
      "text/plain": [
       "{'bootstrap': True,\n",
       " 'max_depth': 110,\n",
       " 'max_features': 3,\n",
       " 'min_samples_leaf': 6,\n",
       " 'min_samples_split': 10,\n",
       " 'n_estimators': 100}"
      ]
     },
     "execution_count": 23,
     "metadata": {},
     "output_type": "execute_result"
    }
   ],
   "source": [
    "grid_search_final.best_params_"
   ]
  },
  {
   "cell_type": "code",
   "execution_count": 24,
   "metadata": {
    "collapsed": false
   },
   "outputs": [
    {
     "name": "stdout",
     "output_type": "stream",
     "text": [
      "Model Performance\n",
      "Average Error: 3.6602 degrees.\n",
      "Accuracy = 93.82%.\n"
     ]
    }
   ],
   "source": [
    "best_grid_final = grid_search_final.best_estimator_\n",
    "grid_final_accuracy = evaluate(best_grid_final, test_features, test_labels)"
   ]
  },
  {
   "cell_type": "code",
   "execution_count": 25,
   "metadata": {
    "collapsed": false
   },
   "outputs": [
    {
     "name": "stdout",
     "output_type": "stream",
     "text": [
      "Improvement of 0.49%.\n"
     ]
    }
   ],
   "source": [
    "print('Improvement of {:0.2f}%.'.format( 100 * (grid_final_accuracy - base_accuracy) / base_accuracy))"
   ]
  },
  {
   "cell_type": "markdown",
   "metadata": {},
   "source": [
    "A very slight improvement in accuracy means we have reached the point of diminishing returns from tuning. We will stop here and use this as our final model."
   ]
  },
  {
   "cell_type": "markdown",
   "metadata": {},
   "source": [
    "## Final Model\n",
    "\n",
    "The final model from hyperparameter tuning is as follows."
   ]
  },
  {
   "cell_type": "code",
   "execution_count": 26,
   "metadata": {
    "collapsed": false
   },
   "outputs": [
    {
     "name": "stdout",
     "output_type": "stream",
     "text": [
      "Final Model Parameters:\n",
      "\n",
      "{'bootstrap': True,\n",
      " 'criterion': 'mse',\n",
      " 'max_depth': 80,\n",
      " 'max_features': 3,\n",
      " 'max_leaf_nodes': None,\n",
      " 'min_impurity_decrease': 0.0,\n",
      " 'min_impurity_split': None,\n",
      " 'min_samples_leaf': 5,\n",
      " 'min_samples_split': 12,\n",
      " 'min_weight_fraction_leaf': 0.0,\n",
      " 'n_estimators': 100,\n",
      " 'n_jobs': 1,\n",
      " 'oob_score': False,\n",
      " 'random_state': 42,\n",
      " 'verbose': 0,\n",
      " 'warm_start': False}\n",
      "\n",
      "\n",
      "Model Performance\n",
      "Average Error: 3.6561 degrees.\n",
      "Accuracy = 93.83%.\n"
     ]
    }
   ],
   "source": [
    "final_model = grid_search.best_estimator_\n",
    "\n",
    "print('Final Model Parameters:\\n')\n",
    "pprint(final_model.get_params())\n",
    "print('\\n')\n",
    "grid_final_accuracy = evaluate(final_model, test_features, test_labels)"
   ]
  },
  {
   "cell_type": "markdown",
   "metadata": {
    "collapsed": true
   },
   "source": [
    "## Comparison of All Improvement Techniques\n",
    "\n",
    "Finally, we can make comparisons between the improvement techniques to determine which ones were most effective."
   ]
  },
  {
   "cell_type": "code",
   "execution_count": 27,
   "metadata": {
    "collapsed": true
   },
   "outputs": [],
   "source": [
    "# Time used for evaluating model run times\n",
    "import time"
   ]
  },
  {
   "cell_type": "code",
   "execution_count": 28,
   "metadata": {
    "collapsed": true
   },
   "outputs": [],
   "source": [
    "# Evaluate run time and prediction accuracy\n",
    "def evaluate_model(model, x_train, y_train, x_test, y_test):\n",
    "    n_trees = model.get_params()['n_estimators']\n",
    "    n_features = x_train.shape[1]\n",
    "    \n",
    "    # Train and predict 10 times to evaluate time and accuracy\n",
    "    predictions = []\n",
    "    run_times = []\n",
    "    for _ in range(10):\n",
    "        start_time = time.time()\n",
    "        model.fit(x_train, y_train)\n",
    "        predictions.append(model.predict(x_test))\n",
    "    \n",
    "        end_time = time.time()\n",
    "        run_times.append(end_time - start_time)\n",
    "    \n",
    "    # Run time and predictions need to be averaged\n",
    "    run_time = np.mean(run_times)\n",
    "    predictions = np.mean(np.array(predictions), axis = 0)\n",
    "    \n",
    "    # Calculate performance metrics\n",
    "    errors = abs(predictions - y_test)\n",
    "    mean_error = np.mean(errors)\n",
    "    mape = 100 * np.mean(errors / y_test)\n",
    "    accuracy = 100 - mape\n",
    "    \n",
    "    # Return results in a dictionary\n",
    "    results = {'time': run_time, 'error': mean_error, 'accuracy': accuracy, 'n_trees': n_trees, 'n_features': n_features}\n",
    "    \n",
    "    return results\n",
    "        "
   ]
  },
  {
   "cell_type": "markdown",
   "metadata": {},
   "source": [
    "### Baseline (Historical Average)"
   ]
  },
  {
   "cell_type": "code",
   "execution_count": 29,
   "metadata": {
    "collapsed": false
   },
   "outputs": [],
   "source": [
    "full_features = pd.read_csv('data/temps_extended.csv')\n",
    "full_features = full_features.rename(columns = {'weekday': 'week'})\n",
    "full_features = pd.get_dummies(full_features)\n",
    "\n",
    "full_labels = full_features['actual']\n",
    "full_features = full_features.drop('actual', axis = 1)\n",
    "\n",
    "full_feature_list = list(full_features.columns)\n",
    "important_feature_names = ['temp_1', 'average', 'ws_1', 'temp_2', 'friend', 'year']\n",
    "\n",
    "full_features_train, full_features_test, full_labels_train, full_labels_test = train_test_split(full_features, full_labels, \n",
    "                                                                                                test_size = 0.25, random_state = 42)\n",
    "\n",
    "baseline_preds = full_features_test['average']\n",
    "baseline_errors = abs(baseline_preds - full_labels_test)\n",
    "baseline_mean_error = np.mean(baseline_errors)\n",
    "baseline_accuracy = 100 - (100 * np.mean(baseline_errors / full_labels_test))"
   ]
  },
  {
   "cell_type": "code",
   "execution_count": 30,
   "metadata": {
    "collapsed": false
   },
   "outputs": [],
   "source": [
    "baseline_results = {'model': 'average', 'time': np.nan, 'n_trees': np.nan, 'error': baseline_mean_error, 'accuracy': baseline_accuracy, 'n_features': 1}"
   ]
  },
  {
   "cell_type": "markdown",
   "metadata": {},
   "source": [
    "### Model with One Year of Data"
   ]
  },
  {
   "cell_type": "code",
   "execution_count": 31,
   "metadata": {
    "collapsed": false
   },
   "outputs": [],
   "source": [
    "original_features = pd.read_csv('data/temps.csv')\n",
    "original_features = pd.get_dummies(original_features)\n",
    "\n",
    "original_labels = np.array(original_features['actual'])\n",
    "original_features= original_features.drop('actual', axis = 1)\n",
    "\n",
    "original_feature_list = list(original_features.columns)\n",
    "original_features = np.array(original_features)\n",
    "\n",
    "original_train_features, original_test_features, original_train_labels, original_test_labels = train_test_split(original_features, original_labels, test_size = 0.25, random_state = 42)\n",
    "\n",
    "# Need to keep only those features the one year model was trained on\n",
    "one_test_features = full_features_test[original_feature_list]\n",
    "one_test_features = np.array(one_test_features)\n",
    "\n",
    "full_labels_test = np.array(full_labels_test)\n",
    "\n",
    "# Default model\n",
    "rf = RandomForestRegressor(n_estimators= 10, random_state=42)\n",
    "\n",
    "# Results for model trained on one year of data\n",
    "one_year_results = evaluate_model(rf, original_train_features, original_train_labels, one_test_features, full_labels_test)\n",
    "one_year_results['model'] = 'one_year'                               "
   ]
  },
  {
   "cell_type": "code",
   "execution_count": 32,
   "metadata": {
    "collapsed": false
   },
   "outputs": [
    {
     "data": {
      "text/plain": [
       "{'accuracy': 92.46787090636289,\n",
       " 'error': 4.338503649635037,\n",
       " 'model': 'one_year',\n",
       " 'n_features': 14,\n",
       " 'n_trees': 10,\n",
       " 'time': 0.043916749954223636}"
      ]
     },
     "execution_count": 32,
     "metadata": {},
     "output_type": "execute_result"
    }
   ],
   "source": [
    "one_year_results"
   ]
  },
  {
   "cell_type": "markdown",
   "metadata": {},
   "source": [
    "### Model with 4.5 Years of Training Data and All Features"
   ]
  },
  {
   "cell_type": "code",
   "execution_count": 33,
   "metadata": {
    "collapsed": false
   },
   "outputs": [],
   "source": [
    "full_features_train = np.array(full_features_train)\n",
    "full_features_test = np.array(full_features_test)\n",
    "full_labels_train = np.array(full_labels_train)\n",
    "full_labels_test = np.array(full_labels_test)"
   ]
  },
  {
   "cell_type": "code",
   "execution_count": 34,
   "metadata": {
    "collapsed": true
   },
   "outputs": [],
   "source": [
    "four_year_results = evaluate_model(rf, full_features_train, full_labels_train, full_features_test, full_labels_test)\n",
    "four_year_results['model'] = 'four_years_all'"
   ]
  },
  {
   "cell_type": "code",
   "execution_count": 35,
   "metadata": {
    "collapsed": false
   },
   "outputs": [
    {
     "data": {
      "text/plain": [
       "{'accuracy': 93.50888206115062,\n",
       " 'error': 3.8368613138686136,\n",
       " 'model': 'four_years_all',\n",
       " 'n_features': 17,\n",
       " 'n_trees': 10,\n",
       " 'time': 0.1270376205444336}"
      ]
     },
     "execution_count": 35,
     "metadata": {},
     "output_type": "execute_result"
    }
   ],
   "source": [
    "four_year_results"
   ]
  },
  {
   "cell_type": "markdown",
   "metadata": {},
   "source": [
    "### Model with 4.5 Years of Training Data and Most Important Features"
   ]
  },
  {
   "cell_type": "code",
   "execution_count": 36,
   "metadata": {
    "collapsed": false
   },
   "outputs": [],
   "source": [
    "important_feature_indices = [full_feature_list.index(feature) for feature in important_feature_names]"
   ]
  },
  {
   "cell_type": "code",
   "execution_count": 37,
   "metadata": {
    "collapsed": true
   },
   "outputs": [],
   "source": [
    "train_features = full_features_train[:, important_feature_indices]\n",
    "test_features = full_features_test[:, important_feature_indices]\n",
    "\n",
    "train_labels = full_labels_train[:]\n",
    "test_labels = full_labels_test[:]"
   ]
  },
  {
   "cell_type": "code",
   "execution_count": 38,
   "metadata": {
    "collapsed": true
   },
   "outputs": [],
   "source": [
    "four_years_important_results = evaluate_model(rf, train_features, train_labels, test_features, test_labels)\n",
    "four_years_important_results['model'] = 'four_years_red'"
   ]
  },
  {
   "cell_type": "code",
   "execution_count": 39,
   "metadata": {
    "collapsed": false
   },
   "outputs": [
    {
     "data": {
      "text/plain": [
       "{'accuracy': 93.35903127200265,\n",
       " 'error': 3.919890510948905,\n",
       " 'model': 'four_years_red',\n",
       " 'n_features': 6,\n",
       " 'n_trees': 10,\n",
       " 'time': 0.08151624202728272}"
      ]
     },
     "execution_count": 39,
     "metadata": {},
     "output_type": "execute_result"
    }
   ],
   "source": [
    "four_years_important_results"
   ]
  },
  {
   "cell_type": "markdown",
   "metadata": {},
   "source": [
    "### Random Search Best Model"
   ]
  },
  {
   "cell_type": "code",
   "execution_count": 40,
   "metadata": {
    "collapsed": false
   },
   "outputs": [],
   "source": [
    "random_results = evaluate_model(best_random, train_features, train_labels, test_features, test_labels)"
   ]
  },
  {
   "cell_type": "code",
   "execution_count": 41,
   "metadata": {
    "collapsed": false
   },
   "outputs": [],
   "source": [
    "random_results['model'] = 'best_random'"
   ]
  },
  {
   "cell_type": "code",
   "execution_count": 42,
   "metadata": {
    "collapsed": false
   },
   "outputs": [
    {
     "data": {
      "text/plain": [
       "{'accuracy': 93.73315412789195,\n",
       " 'error': 3.7151692136109222,\n",
       " 'model': 'best_random',\n",
       " 'n_features': 6,\n",
       " 'n_trees': 400,\n",
       " 'time': 2.1392868041992186}"
      ]
     },
     "execution_count": 42,
     "metadata": {},
     "output_type": "execute_result"
    }
   ],
   "source": [
    "random_results"
   ]
  },
  {
   "cell_type": "markdown",
   "metadata": {},
   "source": [
    "### First Grid Search Best Model"
   ]
  },
  {
   "cell_type": "code",
   "execution_count": 43,
   "metadata": {
    "collapsed": true
   },
   "outputs": [],
   "source": [
    "first_grid_results = evaluate_model(best_grid, train_features, train_labels, test_features, test_labels)\n",
    "first_grid_results['model'] = 'first_grid'"
   ]
  },
  {
   "cell_type": "code",
   "execution_count": 44,
   "metadata": {
    "collapsed": false
   },
   "outputs": [
    {
     "data": {
      "text/plain": [
       "{'accuracy': 93.82975001997328,\n",
       " 'error': 3.6561191924833,\n",
       " 'model': 'first_grid',\n",
       " 'n_features': 6,\n",
       " 'n_trees': 100,\n",
       " 'time': 0.3525370121002197}"
      ]
     },
     "execution_count": 44,
     "metadata": {},
     "output_type": "execute_result"
    }
   ],
   "source": [
    "first_grid_results"
   ]
  },
  {
   "cell_type": "markdown",
   "metadata": {},
   "source": [
    "### Second Grid Search Best Model"
   ]
  },
  {
   "cell_type": "code",
   "execution_count": 45,
   "metadata": {
    "collapsed": true
   },
   "outputs": [],
   "source": [
    "final_model_results = evaluate_model(best_grid_final, train_features, train_labels, test_features, test_labels)\n",
    "final_model_results['model'] = 'second_grid'"
   ]
  },
  {
   "cell_type": "code",
   "execution_count": 46,
   "metadata": {
    "collapsed": false
   },
   "outputs": [
    {
     "data": {
      "text/plain": [
       "{'accuracy': 93.81566748965625,\n",
       " 'error': 3.660153687961988,\n",
       " 'model': 'second_grid',\n",
       " 'n_features': 6,\n",
       " 'n_trees': 100,\n",
       " 'time': 0.34441685676574707}"
      ]
     },
     "execution_count": 46,
     "metadata": {},
     "output_type": "execute_result"
    }
   ],
   "source": [
    "final_model_results"
   ]
  },
  {
   "cell_type": "markdown",
   "metadata": {},
   "source": [
    "# Comparison"
   ]
  },
  {
   "cell_type": "code",
   "execution_count": 47,
   "metadata": {
    "collapsed": false
   },
   "outputs": [],
   "source": [
    "comparison = {'model': [baseline_results['model'], one_year_results['model']],\n",
    "              'accuracy': [round(baseline_results['accuracy'], 3), round(one_year_results['accuracy'], 3)],\n",
    "              'error': [round(baseline_results['error'], 3), round(one_year_results['error'], 3)],\n",
    "              'n_features': [baseline_results['n_features'], one_year_results['n_features']],\n",
    "              'n_trees': [baseline_results['n_trees'], int(one_year_results['n_trees'])],\n",
    "              'time': [round(baseline_results['time'], 4), round(one_year_results['time'], 4)]}\n",
    "                        \n",
    "for model in [four_year_results, four_years_important_results, random_results, first_grid_results, final_model_results]:\n",
    "    comparison['accuracy'].append(round(model['accuracy'], 3))\n",
    "    comparison['error'].append(round(model['error'], 3))\n",
    "    comparison['model'].append(model['model'])\n",
    "    comparison['n_features'].append(model['n_features'])\n",
    "    comparison['n_trees'].append(int(model['n_trees']))\n",
    "    comparison['time'].append(round(model['time'], 4))"
   ]
  },
  {
   "cell_type": "code",
   "execution_count": 48,
   "metadata": {
    "collapsed": true
   },
   "outputs": [],
   "source": [
    "comparison = pd.DataFrame.from_dict(comparison, orient = 'columns')"
   ]
  },
  {
   "cell_type": "code",
   "execution_count": 49,
   "metadata": {
    "collapsed": false
   },
   "outputs": [
    {
     "data": {
      "text/html": [
       "<div>\n",
       "<style scoped>\n",
       "    .dataframe tbody tr th:only-of-type {\n",
       "        vertical-align: middle;\n",
       "    }\n",
       "\n",
       "    .dataframe tbody tr th {\n",
       "        vertical-align: top;\n",
       "    }\n",
       "\n",
       "    .dataframe thead th {\n",
       "        text-align: right;\n",
       "    }\n",
       "</style>\n",
       "<table border=\"1\" class=\"dataframe\">\n",
       "  <thead>\n",
       "    <tr style=\"text-align: right;\">\n",
       "      <th></th>\n",
       "      <th>model</th>\n",
       "      <th>accuracy</th>\n",
       "      <th>error</th>\n",
       "      <th>n_features</th>\n",
       "      <th>n_trees</th>\n",
       "      <th>time</th>\n",
       "    </tr>\n",
       "  </thead>\n",
       "  <tbody>\n",
       "    <tr>\n",
       "      <th>0</th>\n",
       "      <td>average</td>\n",
       "      <td>91.961</td>\n",
       "      <td>4.763</td>\n",
       "      <td>1</td>\n",
       "      <td>NaN</td>\n",
       "      <td>NaN</td>\n",
       "    </tr>\n",
       "    <tr>\n",
       "      <th>1</th>\n",
       "      <td>one_year</td>\n",
       "      <td>92.468</td>\n",
       "      <td>4.339</td>\n",
       "      <td>14</td>\n",
       "      <td>10.0</td>\n",
       "      <td>0.0439</td>\n",
       "    </tr>\n",
       "    <tr>\n",
       "      <th>2</th>\n",
       "      <td>four_years_all</td>\n",
       "      <td>93.509</td>\n",
       "      <td>3.837</td>\n",
       "      <td>17</td>\n",
       "      <td>10.0</td>\n",
       "      <td>0.1270</td>\n",
       "    </tr>\n",
       "    <tr>\n",
       "      <th>3</th>\n",
       "      <td>four_years_red</td>\n",
       "      <td>93.359</td>\n",
       "      <td>3.920</td>\n",
       "      <td>6</td>\n",
       "      <td>10.0</td>\n",
       "      <td>0.0815</td>\n",
       "    </tr>\n",
       "    <tr>\n",
       "      <th>4</th>\n",
       "      <td>best_random</td>\n",
       "      <td>93.733</td>\n",
       "      <td>3.715</td>\n",
       "      <td>6</td>\n",
       "      <td>400.0</td>\n",
       "      <td>2.1393</td>\n",
       "    </tr>\n",
       "    <tr>\n",
       "      <th>5</th>\n",
       "      <td>first_grid</td>\n",
       "      <td>93.830</td>\n",
       "      <td>3.656</td>\n",
       "      <td>6</td>\n",
       "      <td>100.0</td>\n",
       "      <td>0.3525</td>\n",
       "    </tr>\n",
       "    <tr>\n",
       "      <th>6</th>\n",
       "      <td>second_grid</td>\n",
       "      <td>93.816</td>\n",
       "      <td>3.660</td>\n",
       "      <td>6</td>\n",
       "      <td>100.0</td>\n",
       "      <td>0.3444</td>\n",
       "    </tr>\n",
       "  </tbody>\n",
       "</table>\n",
       "</div>"
      ],
      "text/plain": [
       "            model  accuracy  error  n_features  n_trees    time\n",
       "0         average    91.961  4.763           1      NaN     NaN\n",
       "1        one_year    92.468  4.339          14     10.0  0.0439\n",
       "2  four_years_all    93.509  3.837          17     10.0  0.1270\n",
       "3  four_years_red    93.359  3.920           6     10.0  0.0815\n",
       "4     best_random    93.733  3.715           6    400.0  2.1393\n",
       "5      first_grid    93.830  3.656           6    100.0  0.3525\n",
       "6     second_grid    93.816  3.660           6    100.0  0.3444"
      ]
     },
     "execution_count": 49,
     "metadata": {},
     "output_type": "execute_result"
    }
   ],
   "source": [
    "comparison[['model', 'accuracy', 'error', 'n_features', 'n_trees', 'time']]"
   ]
  },
  {
   "cell_type": "code",
   "execution_count": 50,
   "metadata": {
    "collapsed": false
   },
   "outputs": [
    {
     "name": "stdout",
     "output_type": "stream",
     "text": [
      "Adding Data and Feature Selection error reduction: 17.69%\n",
      "Hyperparameter Tuning Error Reduction: 6.73%\n"
     ]
    }
   ],
   "source": [
    "print('Adding Data and Feature Selection error reduction: {:0.2f}%'.format(100 * (baseline_results['error'] - four_years_important_results['error']) / baseline_results['error'])) \n",
    "print('Hyperparameter Tuning Error Reduction: {:0.2f}%'.format(100 * (four_years_important_results['error'] - first_grid_results['error']) / four_years_important_results['error']))"
   ]
  },
  {
   "cell_type": "markdown",
   "metadata": {},
   "source": [
    "## Plotting"
   ]
  },
  {
   "cell_type": "code",
   "execution_count": 51,
   "metadata": {
    "collapsed": true
   },
   "outputs": [],
   "source": [
    "import matplotlib.pyplot as plt\n",
    "import seaborn as sns\n",
    "%matplotlib inline\n",
    "\n",
    "plt.style.use('fivethirtyeight')"
   ]
  },
  {
   "cell_type": "markdown",
   "metadata": {},
   "source": [
    "### Model Comparison Plot"
   ]
  },
  {
   "cell_type": "code",
   "execution_count": 52,
   "metadata": {
    "collapsed": false
   },
   "outputs": [
    {
     "data": {
      "image/png": "[encoded data removed]",
      "text/plain": [
       "<matplotlib.figure.Figure at 0x19d2aad9390>"
      ]
     },
     "metadata": {},
     "output_type": "display_data"
    }
   ],
   "source": [
    "xvalues = list(range(len(comparison)))\n",
    "plt.subplots(1, 2, figsize=(10, 6))\n",
    "plt.subplot(121)\n",
    "plt.bar(xvalues, comparison['accuracy'], color = 'g', edgecolor = 'k', linewidth = 1.8)\n",
    "plt.xticks(xvalues, comparison['model'], rotation = 45, fontsize = 12)\n",
    "plt.ylim(ymin = 91, ymax = 94)\n",
    "plt.xlabel('model'); plt.ylabel('Accuracy (%)'); plt.title('Accuracy Comparison');\n",
    "\n",
    "plt.subplot(122)\n",
    "plt.bar(xvalues, comparison['error'], color = 'r', edgecolor = 'k', linewidth = 1.8)\n",
    "plt.xticks(xvalues, comparison['model'], rotation = 45)\n",
    "plt.ylim(ymin = 3.5, ymax = 4.8)\n",
    "plt.xlabel('model'); plt.ylabel('Error (deg)'); plt.title('Error Comparison');\n",
    "plt.show();"
   ]
  },
  {
   "cell_type": "markdown",
   "metadata": {},
   "source": [
    "# Training Curves\n",
    "\n",
    "We can perform grid search over only one parameter to observe the effects of changing that parameter on performance. We will look at training time, training set accuracy, and testing set accuracy."
   ]
  },
  {
   "cell_type": "markdown",
   "metadata": {},
   "source": [
    "#### Number of Trees"
   ]
  },
  {
   "cell_type": "code",
   "execution_count": 53,
   "metadata": {
    "collapsed": false
   },
   "outputs": [
    {
     "name": "stdout",
     "output_type": "stream",
     "text": [
      "Fitting 3 folds for each of 30 candidates, totalling 90 fits\n"
     ]
    },
    {
     "name": "stderr",
     "output_type": "stream",
     "text": [
      "[Parallel(n_jobs=-1)]: Done  33 tasks      | elapsed:    4.2s\n",
      "[Parallel(n_jobs=-1)]: Done  90 out of  90 | elapsed:   16.4s finished\n"
     ]
    }
   ],
   "source": [
    "# Grid with only the number of trees changed\n",
    "tree_grid = {'n_estimators': [int(x) for x in np.linspace(1, 301, 30)]}\n",
    "\n",
    "# Create the grid search model and fit to the training data\n",
    "tree_grid_search = GridSearchCV(final_model, param_grid=tree_grid, verbose = 2, n_jobs=-1, cv = 3,\n",
    "                                scoring = 'neg_mean_absolute_error')\n",
    "tree_grid_search.fit(train_features, train_labels);"
   ]
  },
  {
   "cell_type": "code",
   "execution_count": 54,
   "metadata": {
    "collapsed": false
   },
   "outputs": [
    {
     "data": {
      "text/plain": [
       "{'mean_fit_time': array([0.00300241, 0.03943714, 0.08422359, 0.12065299, 0.15474383,\n",
       "        0.19217682, 0.23395562, 0.26871339, 0.31383459, 0.34759005,\n",
       "        0.38134662, 0.4351565 , 0.50968575, 0.49498121, 0.53107866,\n",
       "        0.56115786, 0.6163044 , 0.65774838, 0.70788105, 0.73294918,\n",
       "        0.76302767, 0.80313659, 0.85393564, 0.89638201, 0.9211146 ,\n",
       "        0.95687556, 0.98795946, 1.00066034, 1.06650146, 1.00533899]),\n",
       " 'mean_score_time': array([0.00100334, 0.00200558, 0.00300892, 0.00701904, 0.00802247,\n",
       "        0.00935872, 0.01002622, 0.01236606, 0.01269968, 0.01537506,\n",
       "        0.01671171, 0.01871689, 0.02105665, 0.01938566, 0.02473259,\n",
       "        0.02506653, 0.02707235, 0.03141681, 0.03008008, 0.03007921,\n",
       "        0.03509378, 0.03275251, 0.03308829, 0.03977243, 0.03609578,\n",
       "        0.04044112, 0.04645618, 0.04278088, 0.04645681, 0.04278   ]),\n",
       " 'mean_test_score': array([-4.67129387, -3.86287399, -3.83621744, -3.83784038, -3.81592845,\n",
       "        -3.81158733, -3.81039706, -3.81395329, -3.81316966, -3.81573268,\n",
       "        -3.81537472, -3.81366292, -3.8152856 , -3.81320834, -3.81427735,\n",
       "        -3.81740867, -3.8194608 , -3.81987898, -3.8211804 , -3.82142599,\n",
       "        -3.82039862, -3.8214901 , -3.82186413, -3.82111266, -3.8210121 ,\n",
       "        -3.82360839, -3.82349691, -3.82325111, -3.82191414, -3.82269245]),\n",
       " 'mean_train_score': array([-3.63678701, -2.97247136, -2.93358289, -2.92386852, -2.91474273,\n",
       "        -2.90825108, -2.91044802, -2.91043265, -2.90786401, -2.90570006,\n",
       "        -2.90428697, -2.9070783 , -2.90598002, -2.90470574, -2.90332581,\n",
       "        -2.9013098 , -2.90049823, -2.89965622, -2.8993354 , -2.89904468,\n",
       "        -2.89981885, -2.90012415, -2.89997328, -2.89901402, -2.89824528,\n",
       "        -2.89918139, -2.89984598, -2.89997575, -2.89929236, -2.89967053]),\n",
       " 'param_n_estimators': masked_array(data=[1, 11, 21, 32, 42, 52, 63, 73, 83, 94, 104, 114, 125,\n",
       "                    135, 145, 156, 166, 176, 187, 197, 207, 218, 228, 238,\n",
       "                    249, 259, 269, 280, 290, 301],\n",
       "              mask=[False, False, False, False, False, False, False, False,\n",
       "                    False, False, False, False, False, False, False, False,\n",
       "                    False, False, False, False, False, False, False, False,\n",
       "                    False, False, False, False, False, False],\n",
       "        fill_value='?',\n",
       "             dtype=object),\n",
       " 'params': [{'n_estimators': 1},\n",
       "  {'n_estimators': 11},\n",
       "  {'n_estimators': 21},\n",
       "  {'n_estimators': 32},\n",
       "  {'n_estimators': 42},\n",
       "  {'n_estimators': 52},\n",
       "  {'n_estimators': 63},\n",
       "  {'n_estimators': 73},\n",
       "  {'n_estimators': 83},\n",
       "  {'n_estimators': 94},\n",
       "  {'n_estimators': 104},\n",
       "  {'n_estimators': 114},\n",
       "  {'n_estimators': 125},\n",
       "  {'n_estimators': 135},\n",
       "  {'n_estimators': 145},\n",
       "  {'n_estimators': 156},\n",
       "  {'n_estimators': 166},\n",
       "  {'n_estimators': 176},\n",
       "  {'n_estimators': 187},\n",
       "  {'n_estimators': 197},\n",
       "  {'n_estimators': 207},\n",
       "  {'n_estimators': 218},\n",
       "  {'n_estimators': 228},\n",
       "  {'n_estimators': 238},\n",
       "  {'n_estimators': 249},\n",
       "  {'n_estimators': 259},\n",
       "  {'n_estimators': 269},\n",
       "  {'n_estimators': 280},\n",
       "  {'n_estimators': 290},\n",
       "  {'n_estimators': 301}],\n",
       " 'rank_test_score': array([30, 29, 27, 28, 11,  2,  1,  6,  3, 10,  9,  5,  8,  4,  7, 12, 13,\n",
       "        14, 18, 19, 15, 20, 21, 17, 16, 26, 25, 24, 22, 23]),\n",
       " 'split0_test_score': array([-4.7689547 , -3.84748737, -3.83727464, -3.8375304 , -3.80259056,\n",
       "        -3.79984495, -3.81356688, -3.8190575 , -3.81858582, -3.82312397,\n",
       "        -3.82224446, -3.81436349, -3.81889735, -3.8156823 , -3.81996879,\n",
       "        -3.81969539, -3.81900196, -3.81933088, -3.82373613, -3.82601114,\n",
       "        -3.82666218, -3.82647276, -3.826445  , -3.82224927, -3.82260432,\n",
       "        -3.82603294, -3.82553782, -3.82453639, -3.82360118, -3.8251962 ]),\n",
       " 'split0_train_score': array([-3.63391351, -2.98893768, -2.95192599, -2.94245926, -2.93814413,\n",
       "        -2.92043164, -2.91624119, -2.91734143, -2.91574069, -2.91562638,\n",
       "        -2.91364165, -2.91664683, -2.91897264, -2.91536588, -2.9131948 ,\n",
       "        -2.91064479, -2.90917928, -2.90702375, -2.90582369, -2.90607709,\n",
       "        -2.90582691, -2.90470711, -2.90179434, -2.90062226, -2.90117531,\n",
       "        -2.90271421, -2.90312089, -2.90360645, -2.9031514 , -2.9038933 ]),\n",
       " 'split1_test_score': array([-4.58831821, -3.7809908 , -3.76011897, -3.77322549, -3.75230001,\n",
       "        -3.74672881, -3.73981015, -3.74205872, -3.73962744, -3.74534835,\n",
       "        -3.74434199, -3.74765867, -3.74723906, -3.74710183, -3.74538412,\n",
       "        -3.75247747, -3.75394681, -3.7549501 , -3.75528881, -3.75456518,\n",
       "        -3.75288607, -3.75360693, -3.75255671, -3.75287841, -3.75020973,\n",
       "        -3.75448784, -3.75494786, -3.75431828, -3.75203302, -3.75315278]),\n",
       " 'split1_train_score': array([-3.68667947, -3.02180692, -2.97944694, -2.96437998, -2.95173139,\n",
       "        -2.95275885, -2.95563571, -2.96034652, -2.95586164, -2.95389009,\n",
       "        -2.95132706, -2.95381927, -2.9551573 , -2.95502881, -2.95316177,\n",
       "        -2.94915812, -2.94711446, -2.94607063, -2.94833759, -2.94582348,\n",
       "        -2.94727089, -2.94859403, -2.95077318, -2.94938744, -2.94833615,\n",
       "        -2.94930217, -2.94869409, -2.9482708 , -2.94673783, -2.94823348]),\n",
       " 'split2_test_score': array([-4.65658184, -3.96032162, -3.9113959 , -3.90288394, -3.89303549,\n",
       "        -3.88832827, -3.8779374 , -3.88086576, -3.88142027, -3.87884088,\n",
       "        -3.879655  , -3.879086  , -3.87983818, -3.87695723, -3.87759469,\n",
       "        -3.88016767, -3.88555422, -3.88547567, -3.88463206, -3.8838155 ,\n",
       "        -3.88175957, -3.88450561, -3.886709  , -3.88833297, -3.89034879,\n",
       "        -3.89042633, -3.89012663, -3.89102232, -3.89023288, -3.88985091]),\n",
       " 'split2_train_score': array([-3.58976806, -2.90666949, -2.86937575, -2.86476633, -2.85435266,\n",
       "        -2.85156275, -2.85946717, -2.85361   , -2.85198969, -2.84758372,\n",
       "        -2.84789221, -2.85076881, -2.84381013, -2.84372252, -2.84362085,\n",
       "        -2.84412649, -2.84520095, -2.84587429, -2.84384492, -2.84523346,\n",
       "        -2.84635873, -2.84707132, -2.84735233, -2.84703236, -2.84522438,\n",
       "        -2.8455278 , -2.84772297, -2.84805001, -2.84798785, -2.8468848 ]),\n",
       " 'std_fit_time': array([4.91319705e-06, 3.78197729e-03, 9.11579667e-03, 6.56636947e-03,\n",
       "        2.50099061e-03, 6.25303923e-03, 5.44999558e-03, 7.80892730e-03,\n",
       "        7.80853958e-03, 3.86857586e-03, 9.59389742e-03, 3.03133647e-02,\n",
       "        2.37346266e-02, 1.96538942e-02, 9.20090368e-03, 3.40940238e-03,\n",
       "        1.97558913e-02, 8.66375901e-03, 1.35262776e-02, 1.71947006e-02,\n",
       "        3.56854869e-03, 2.54576364e-02, 9.48819555e-03, 1.80663374e-02,\n",
       "        1.61540289e-02, 2.13522456e-02, 1.80178400e-02, 1.43448193e-02,\n",
       "        1.70410110e-03, 6.60251745e-02]),\n",
       " 'std_score_time': array([1.12391596e-06, 3.37174788e-07, 1.70079347e-06, 1.63696283e-03,\n",
       "        2.16693309e-03, 9.44651385e-04, 8.18678184e-04, 9.45438126e-04,\n",
       "        9.46225568e-04, 2.63160480e-03, 1.70403873e-03, 1.70480246e-03,\n",
       "        3.27470433e-03, 1.89014573e-03, 2.62923289e-03, 2.83558377e-03,\n",
       "        2.45632025e-03, 4.12140437e-03, 4.97955618e-03, 8.16439382e-04,\n",
       "        3.27489900e-03, 1.24993477e-03, 1.63696285e-03, 3.69135591e-03,\n",
       "        8.17897460e-04, 2.63188738e-03, 5.00181130e-03, 3.09941483e-03,\n",
       "        3.09967187e-03, 5.45175467e-03]),\n",
       " 'std_test_score': array([0.07449557, 0.0740052 , 0.06175365, 0.05292522, 0.058216  ,\n",
       "        0.0583928 , 0.05642618, 0.05677404, 0.05800453, 0.05474008,\n",
       "        0.05544627, 0.05364909, 0.05418538, 0.05303404, 0.05411649,\n",
       "        0.05214645, 0.05372128, 0.05328012, 0.05282705, 0.05285779,\n",
       "        0.05279065, 0.05354715, 0.05485489, 0.0552965 , 0.05721389,\n",
       "        0.05551469, 0.05519697, 0.05580808, 0.05642387, 0.05582637]),\n",
       " 'std_train_score': array([0.03961606, 0.04842528, 0.04677085, 0.04273899, 0.04306099,\n",
       "        0.0422014 , 0.03947377, 0.04384799, 0.04276975, 0.04396332,\n",
       "        0.04274205, 0.04261077, 0.04637639, 0.04606156, 0.0452611 ,\n",
       "        0.04338408, 0.0420564 , 0.0412354 , 0.04290496, 0.04136568,\n",
       "        0.04141569, 0.04157297, 0.04224102, 0.04180176, 0.04214616,\n",
       "        0.0424393 , 0.04128628, 0.04099543, 0.04040675, 0.04148303])}"
      ]
     },
     "execution_count": 54,
     "metadata": {},
     "output_type": "execute_result"
    }
   ],
   "source": [
    "tree_grid_search.cv_results_"
   ]
  },
  {
   "cell_type": "code",
   "execution_count": 55,
   "metadata": {
    "collapsed": true
   },
   "outputs": [],
   "source": [
    "def plot_results(model, param = 'n_estimators', name = 'Num Trees'):\n",
    "    param_name = 'param_%s' % param\n",
    "\n",
    "    # Extract information from the cross validation model\n",
    "    train_scores = model.cv_results_['mean_train_score']\n",
    "    test_scores = model.cv_results_['mean_test_score']\n",
    "    train_time = model.cv_results_['mean_fit_time']\n",
    "    param_values = list(model.cv_results_[param_name])\n",
    "    \n",
    "    # Plot the scores over the parameter\n",
    "    plt.subplots(1, 2, figsize=(10, 6))\n",
    "    plt.subplot(121)\n",
    "    plt.plot(param_values, train_scores, 'bo-', label = 'train')\n",
    "    plt.plot(param_values, test_scores, 'go-', label = 'test')\n",
    "    plt.ylim(ymin = -10, ymax = 0)\n",
    "    plt.legend()\n",
    "    plt.xlabel(name)\n",
    "    plt.ylabel('Neg Mean Absolute Error')\n",
    "    plt.title('Score vs %s' % name)\n",
    "    \n",
    "    plt.subplot(122)\n",
    "    plt.plot(param_values, train_time, 'ro-')\n",
    "    plt.ylim(ymin = 0.0, ymax = 2.0)\n",
    "    plt.xlabel(name)\n",
    "    plt.ylabel('Train Time (sec)')\n",
    "    plt.title('Training Time vs %s' % name)\n",
    "    \n",
    "    \n",
    "    plt.tight_layout(pad = 4)"
   ]
  },
  {
   "cell_type": "code",
   "execution_count": 56,
   "metadata": {
    "collapsed": false
   },
   "outputs": [
    {
     "data": {
      "image/png": "[encoded data removed]",
      "text/plain": [
       "<matplotlib.figure.Figure at 0x19d2cbf1b00>"
      ]
     },
     "metadata": {},
     "output_type": "display_data"
    }
   ],
   "source": [
    "plot_results(tree_grid_search)"
   ]
  },
  {
   "cell_type": "markdown",
   "metadata": {},
   "source": [
    "### Number of Features at Each Split"
   ]
  },
  {
   "cell_type": "code",
   "execution_count": 57,
   "metadata": {
    "collapsed": false
   },
   "outputs": [],
   "source": [
    "# Define a grid over only the maximum number of features\n",
    "feature_grid = {'max_features': list(range(1, train_features.shape[1] + 1))}"
   ]
  },
  {
   "cell_type": "code",
   "execution_count": 58,
   "metadata": {
    "collapsed": false
   },
   "outputs": [
    {
     "name": "stdout",
     "output_type": "stream",
     "text": [
      "Fitting 3 folds for each of 6 candidates, totalling 18 fits\n"
     ]
    },
    {
     "name": "stderr",
     "output_type": "stream",
     "text": [
      "[Parallel(n_jobs=-1)]: Done  18 out of  18 | elapsed:    4.0s finished\n"
     ]
    }
   ],
   "source": [
    "# Create the grid search and fit on the training data\n",
    "feature_grid_search = GridSearchCV(final_model, param_grid=feature_grid, cv = 3, n_jobs=-1, verbose= 2,\n",
    "                                  scoring = 'neg_mean_absolute_error')\n",
    "feature_grid_search.fit(train_features, train_labels);"
   ]
  },
  {
   "cell_type": "code",
   "execution_count": 59,
   "metadata": {
    "collapsed": false
   },
   "outputs": [
    {
     "data": {
      "image/png": "[encoded data removed]",
      "text/plain": [
       "<matplotlib.figure.Figure at 0x19d2cbc2940>"
      ]
     },
     "metadata": {},
     "output_type": "display_data"
    }
   ],
   "source": [
    "plot_results(feature_grid_search, param='max_features', name = 'Max Features')"
   ]
  },
  {
   "cell_type": "markdown",
   "metadata": {},
   "source": [
    "## Visualizing One Tree in the Forest\n",
    "\n",
    "My favorite part about the random forest in scikit-learn may be that you can actually look at any tree in the forest.\n",
    "I'll pick one tree and visualize it as an image."
   ]
  },
  {
   "cell_type": "code",
   "execution_count": 60,
   "metadata": {
    "collapsed": true
   },
   "outputs": [],
   "source": [
    "# Use sklearn to export the tree \n",
    "from sklearn.tree import export_graphviz\n",
    "\n",
    "# Write the decision tree as a dot file\n",
    "visual_tree = final_model.estimators_[12]\n",
    "export_graphviz(visual_tree, out_file = 'images/best_tree.dot', feature_names = important_feature_names, \n",
    "                precision = 2, filled = True, rounded = True, max_depth = None)"
   ]
  },
  {
   "cell_type": "code",
   "execution_count": 61,
   "metadata": {
    "collapsed": false
   },
   "outputs": [
    {
     "data": {
      "text/plain": [
       "True"
      ]
     },
     "execution_count": 61,
     "metadata": {},
     "output_type": "execute_result"
    }
   ],
   "source": [
    "# Use pydot for converting to an image file\n",
    "import pydot\n",
    "\n",
    "# Import the dot file to a graph and then convert to a png\n",
    "(graph, ) = pydot.graph_from_dot_file('images/best_tree.dot')\n",
    "graph.write_png('images/best_tree.png')"
   ]
  },
  {
   "cell_type": "markdown",
   "metadata": {},
   "source": [
    "![Best Tree](images/best_tree.png)"
   ]
  },
  {
   "cell_type": "code",
   "execution_count": null,
   "metadata": {
    "collapsed": true
   },
   "outputs": [],
   "source": []
  }
 ],
 "metadata": {
  "kernelspec": {
   "display_name": "Python 3",
   "language": "python",
   "name": "python3"
  },
  "language_info": {
   "codemirror_mode": {
    "name": "ipython",
    "version": 3
   },
   "file_extension": ".py",
   "mimetype": "text/x-python",
   "name": "python",
   "nbconvert_exporter": "python",
   "pygments_lexer": "ipython3",
   "version": "3.6.0"
  }
 },
 "nbformat": 4,
 "nbformat_minor": 2
}
