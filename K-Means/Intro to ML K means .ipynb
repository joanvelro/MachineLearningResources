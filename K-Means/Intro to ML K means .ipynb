{
 "cells": [
  {
   "cell_type": "code",
   "execution_count": 226,
   "metadata": {},
   "outputs": [],
   "source": [
    "import pandas as pd \n",
    "\n",
    "df = pd.read_csv('/Users/rohith/Documents/Datasets/Iris_dataset/iris.csv')"
   ]
  },
  {
   "cell_type": "code",
   "execution_count": 227,
   "metadata": {},
   "outputs": [
    {
     "name": "stdout",
     "output_type": "stream",
     "text": [
      "      Id  SepalLengthCm  SepalWidthCm  PetalLengthCm  PetalWidthCm  \\\n",
      "0      1            5.1           3.5            1.4           0.2   \n",
      "1      2            4.9           3.0            1.4           0.2   \n",
      "2      3            4.7           3.2            1.3           0.2   \n",
      "3      4            4.6           3.1            1.5           0.2   \n",
      "4      5            5.0           3.6            1.4           0.2   \n",
      "5      6            5.4           3.9            1.7           0.4   \n",
      "6      7            4.6           3.4            1.4           0.3   \n",
      "7      8            5.0           3.4            1.5           0.2   \n",
      "8      9            4.4           2.9            1.4           0.2   \n",
      "9     10            4.9           3.1            1.5           0.1   \n",
      "10    11            5.4           3.7            1.5           0.2   \n",
      "11    12            4.8           3.4            1.6           0.2   \n",
      "12    13            4.8           3.0            1.4           0.1   \n",
      "13    14            4.3           3.0            1.1           0.1   \n",
      "14    15            5.8           4.0            1.2           0.2   \n",
      "15    16            5.7           4.4            1.5           0.4   \n",
      "16    17            5.4           3.9            1.3           0.4   \n",
      "17    18            5.1           3.5            1.4           0.3   \n",
      "18    19            5.7           3.8            1.7           0.3   \n",
      "19    20            5.1           3.8            1.5           0.3   \n",
      "20    21            5.4           3.4            1.7           0.2   \n",
      "21    22            5.1           3.7            1.5           0.4   \n",
      "22    23            4.6           3.6            1.0           0.2   \n",
      "23    24            5.1           3.3            1.7           0.5   \n",
      "24    25            4.8           3.4            1.9           0.2   \n",
      "25    26            5.0           3.0            1.6           0.2   \n",
      "26    27            5.0           3.4            1.6           0.4   \n",
      "27    28            5.2           3.5            1.5           0.2   \n",
      "28    29            5.2           3.4            1.4           0.2   \n",
      "29    30            4.7           3.2            1.6           0.2   \n",
      "..   ...            ...           ...            ...           ...   \n",
      "120  121            6.9           3.2            5.7           2.3   \n",
      "121  122            5.6           2.8            4.9           2.0   \n",
      "122  123            7.7           2.8            6.7           2.0   \n",
      "123  124            6.3           2.7            4.9           1.8   \n",
      "124  125            6.7           3.3            5.7           2.1   \n",
      "125  126            7.2           3.2            6.0           1.8   \n",
      "126  127            6.2           2.8            4.8           1.8   \n",
      "127  128            6.1           3.0            4.9           1.8   \n",
      "128  129            6.4           2.8            5.6           2.1   \n",
      "129  130            7.2           3.0            5.8           1.6   \n",
      "130  131            7.4           2.8            6.1           1.9   \n",
      "131  132            7.9           3.8            6.4           2.0   \n",
      "132  133            6.4           2.8            5.6           2.2   \n",
      "133  134            6.3           2.8            5.1           1.5   \n",
      "134  135            6.1           2.6            5.6           1.4   \n",
      "135  136            7.7           3.0            6.1           2.3   \n",
      "136  137            6.3           3.4            5.6           2.4   \n",
      "137  138            6.4           3.1            5.5           1.8   \n",
      "138  139            6.0           3.0            4.8           1.8   \n",
      "139  140            6.9           3.1            5.4           2.1   \n",
      "140  141            6.7           3.1            5.6           2.4   \n",
      "141  142            6.9           3.1            5.1           2.3   \n",
      "142  143            5.8           2.7            5.1           1.9   \n",
      "143  144            6.8           3.2            5.9           2.3   \n",
      "144  145            6.7           3.3            5.7           2.5   \n",
      "145  146            6.7           3.0            5.2           2.3   \n",
      "146  147            6.3           2.5            5.0           1.9   \n",
      "147  148            6.5           3.0            5.2           2.0   \n",
      "148  149            6.2           3.4            5.4           2.3   \n",
      "149  150            5.9           3.0            5.1           1.8   \n",
      "\n",
      "            Species  \n",
      "0       Iris-setosa  \n",
      "1       Iris-setosa  \n",
      "2       Iris-setosa  \n",
      "3       Iris-setosa  \n",
      "4       Iris-setosa  \n",
      "5       Iris-setosa  \n",
      "6       Iris-setosa  \n",
      "7       Iris-setosa  \n",
      "8       Iris-setosa  \n",
      "9       Iris-setosa  \n",
      "10      Iris-setosa  \n",
      "11      Iris-setosa  \n",
      "12      Iris-setosa  \n",
      "13      Iris-setosa  \n",
      "14      Iris-setosa  \n",
      "15      Iris-setosa  \n",
      "16      Iris-setosa  \n",
      "17      Iris-setosa  \n",
      "18      Iris-setosa  \n",
      "19      Iris-setosa  \n",
      "20      Iris-setosa  \n",
      "21      Iris-setosa  \n",
      "22      Iris-setosa  \n",
      "23      Iris-setosa  \n",
      "24      Iris-setosa  \n",
      "25      Iris-setosa  \n",
      "26      Iris-setosa  \n",
      "27      Iris-setosa  \n",
      "28      Iris-setosa  \n",
      "29      Iris-setosa  \n",
      "..              ...  \n",
      "120  Iris-virginica  \n",
      "121  Iris-virginica  \n",
      "122  Iris-virginica  \n",
      "123  Iris-virginica  \n",
      "124  Iris-virginica  \n",
      "125  Iris-virginica  \n",
      "126  Iris-virginica  \n",
      "127  Iris-virginica  \n",
      "128  Iris-virginica  \n",
      "129  Iris-virginica  \n",
      "130  Iris-virginica  \n",
      "131  Iris-virginica  \n",
      "132  Iris-virginica  \n",
      "133  Iris-virginica  \n",
      "134  Iris-virginica  \n",
      "135  Iris-virginica  \n",
      "136  Iris-virginica  \n",
      "137  Iris-virginica  \n",
      "138  Iris-virginica  \n",
      "139  Iris-virginica  \n",
      "140  Iris-virginica  \n",
      "141  Iris-virginica  \n",
      "142  Iris-virginica  \n",
      "143  Iris-virginica  \n",
      "144  Iris-virginica  \n",
      "145  Iris-virginica  \n",
      "146  Iris-virginica  \n",
      "147  Iris-virginica  \n",
      "148  Iris-virginica  \n",
      "149  Iris-virginica  \n",
      "\n",
      "[150 rows x 6 columns]\n"
     ]
    }
   ],
   "source": [
    "print(df)"
   ]
  },
  {
   "cell_type": "code",
   "execution_count": 228,
   "metadata": {},
   "outputs": [],
   "source": [
    "classes = df['Species']\n",
    "df = df.drop(['Id','Species'],axis=1)"
   ]
  },
  {
   "cell_type": "code",
   "execution_count": 229,
   "metadata": {},
   "outputs": [],
   "source": [
    "data = df.values.tolist()"
   ]
  },
  {
   "cell_type": "code",
   "execution_count": 230,
   "metadata": {},
   "outputs": [
    {
     "name": "stdout",
     "output_type": "stream",
     "text": [
      "(150, 4)\n"
     ]
    }
   ],
   "source": [
    "import numpy as np\n",
    "\n",
    "data = np.array(data)\n",
    "print(data.shape)"
   ]
  },
  {
   "cell_type": "code",
   "execution_count": 231,
   "metadata": {},
   "outputs": [],
   "source": [
    "from sklearn.decomposition import PCA\n",
    "\n",
    "pca = PCA(n_components=3)\n",
    "trans_data = pca.fit_transform(data)"
   ]
  },
  {
   "cell_type": "code",
   "execution_count": 232,
   "metadata": {},
   "outputs": [
    {
     "name": "stdout",
     "output_type": "stream",
     "text": [
      "(150, 3)\n"
     ]
    }
   ],
   "source": [
    "print(trans_data.shape)"
   ]
  },
  {
   "cell_type": "code",
   "execution_count": 233,
   "metadata": {},
   "outputs": [],
   "source": [
    "a = trans_data[:,0]\n",
    "b = trans_data[:,1]\n",
    "c = trans_data[:,2]\n",
    "\n",
    "a = a.reshape(150,1)\n",
    "b = b.reshape(150,1)\n",
    "c = c.reshape(150,1)"
   ]
  },
  {
   "cell_type": "code",
   "execution_count": 234,
   "metadata": {},
   "outputs": [
    {
     "data": {
      "text/plain": [
       "<mpl_toolkits.mplot3d.art3d.Path3DCollection at 0x11ebfdb10>"
      ]
     },
     "execution_count": 234,
     "metadata": {},
     "output_type": "execute_result"
    },
    {
     "data": {
      "image/png": "[encoded data removed]",
      "text/plain": [
       "<Figure size 432x288 with 1 Axes>"
      ]
     },
     "metadata": {},
     "output_type": "display_data"
    }
   ],
   "source": [
    "import matplotlib.pyplot as plt\n",
    "from mpl_toolkits.mplot3d import Axes3D\n",
    "\n",
    "ax = Axes3D(plt.gcf())\n",
    "ax.scatter(a,b,c)\n",
    "\n",
    "\n",
    "#plt.scatter(a,b)"
   ]
  },
  {
   "cell_type": "code",
   "execution_count": 235,
   "metadata": {},
   "outputs": [],
   "source": [
    "from sklearn.utils import shuffle\n",
    "\n",
    "data,classes = shuffle(data,classes)\n",
    "train_data = data[:135]\n",
    "test_data = data[135:]"
   ]
  },
  {
   "cell_type": "code",
   "execution_count": 236,
   "metadata": {},
   "outputs": [
    {
     "data": {
      "text/plain": [
       "KMeans(algorithm='auto', copy_x=True, init='k-means++', max_iter=300,\n",
       "    n_clusters=3, n_init=10, n_jobs=1, precompute_distances='auto',\n",
       "    random_state=None, tol=0.0001, verbose=0)"
      ]
     },
     "execution_count": 236,
     "metadata": {},
     "output_type": "execute_result"
    }
   ],
   "source": [
    "from sklearn.cluster import KMeans \n",
    "\n",
    "clf = KMeans(n_clusters = 3)\n",
    "clf.fit(train_data)"
   ]
  },
  {
   "cell_type": "code",
   "execution_count": 237,
   "metadata": {},
   "outputs": [
    {
     "name": "stdout",
     "output_type": "stream",
     "text": [
      "[0 1 0 0 2 0 2 1 2 0 1 2 0 0 0]\n"
     ]
    }
   ],
   "source": [
    "print(clf.predict(test_data))\n",
    "pred = clf.predict(test_data)"
   ]
  },
  {
   "cell_type": "code",
   "execution_count": 239,
   "metadata": {},
   "outputs": [],
   "source": [
    "test_classes = []\n",
    "for val in classes[135:]:\n",
    "    if(val == 'Iris-versicolor'):\n",
    "        test_classes.append(2)\n",
    "    elif(val == 'Iris-virginica'):\n",
    "        test_classes.append(0)\n",
    "    else:\n",
    "        test_classes.append(1)"
   ]
  },
  {
   "cell_type": "code",
   "execution_count": 240,
   "metadata": {},
   "outputs": [
    {
     "name": "stdout",
     "output_type": "stream",
     "text": [
      "('pred:', 0, 'GT:', 2)\n",
      "('pred:', 1, 'GT:', 1)\n",
      "('pred:', 0, 'GT:', 2)\n",
      "('pred:', 0, 'GT:', 2)\n",
      "('pred:', 2, 'GT:', 0)\n",
      "('pred:', 0, 'GT:', 2)\n",
      "('pred:', 2, 'GT:', 0)\n",
      "('pred:', 1, 'GT:', 1)\n",
      "('pred:', 2, 'GT:', 0)\n",
      "('pred:', 0, 'GT:', 0)\n",
      "('pred:', 1, 'GT:', 1)\n",
      "('pred:', 2, 'GT:', 2)\n",
      "('pred:', 0, 'GT:', 2)\n",
      "('pred:', 0, 'GT:', 0)\n",
      "('pred:', 0, 'GT:', 0)\n"
     ]
    }
   ],
   "source": [
    "for i in range(len(pred)):\n",
    "    print('pred:',pred[i],'GT:',test_classes[i])"
   ]
  },
  {
   "cell_type": "code",
   "execution_count": 253,
   "metadata": {},
   "outputs": [],
   "source": [
    "new_pred = []\n",
    "for i in range(len(pred)):\n",
    "    if(pred[i] == 0):\n",
    "        new_pred.append(2)\n",
    "    elif(pred[i] == 1):\n",
    "        new_pred.append(1)\n",
    "    else:\n",
    "        new_pred.append(0)"
   ]
  },
  {
   "cell_type": "code",
   "execution_count": 254,
   "metadata": {},
   "outputs": [
    {
     "name": "stdout",
     "output_type": "stream",
     "text": [
      "0.733333333333\n"
     ]
    }
   ],
   "source": [
    "from sklearn.metrics import accuracy_score\n",
    "\n",
    "print(accuracy_score(test_classes,new_pred))"
   ]
  },
  {
   "cell_type": "code",
   "execution_count": 241,
   "metadata": {},
   "outputs": [
    {
     "name": "stdout",
     "output_type": "stream",
     "text": [
      "1\n",
      "2\n",
      "3\n",
      "4\n",
      "5\n",
      "6\n",
      "Converged\n"
     ]
    }
   ],
   "source": [
    "## K-Means Algorithm\n",
    "import random\n",
    "import numpy as np\n",
    "\n",
    "c1 = [float(np.random.randint(4,8)),float(np.random.randint(1,5)),float(np.random.randint(1,7)),float(np.random.randint(0,3))]\n",
    "c2 = [float(np.random.randint(4,8)),float(np.random.randint(1,5)),float(np.random.randint(1,7)),float(np.random.randint(0,3))]\n",
    "c3 = [float(np.random.randint(4,8)),float(np.random.randint(1,5)),float(np.random.randint(1,7)),float(np.random.randint(0,3))]\n",
    "#print(c1,c2,c3)\n",
    "epochs = 1\n",
    "while(epochs <= 100):\n",
    "    cluster_1 = []\n",
    "    cluster_2 = []\n",
    "    cluster_3 = []\n",
    "    for point in train_data:\n",
    "        dis_point_c1 = ((c1[0]-point[0])**2 + (c1[1]-point[1])**2 + (c1[2]-point[2])**2 + (c1[3]-point[3])**2)**0.5\n",
    "        dis_point_c2 = ((c2[0]-point[0])**2 + (c2[1]-point[1])**2 + (c2[2]-point[2])**2 + (c2[3]-point[3])**2)**0.5\n",
    "        dis_point_c3 = ((c3[0]-point[0])**2 + (c3[1]-point[1])**2 + (c3[2]-point[2])**2 + (c3[3]-point[3])**2)**0.5\n",
    "        distances = [dis_point_c1,dis_point_c2,dis_point_c3]\n",
    "        pos = distances.index(min(distances))\n",
    "        if(pos == 0):\n",
    "            cluster_1.append(point)\n",
    "        elif(pos == 1):\n",
    "            cluster_2.append(point)\n",
    "        else:\n",
    "            cluster_3.append(point)\n",
    "    prev_c1 = c1\n",
    "    prev_c2 = c2\n",
    "    prev_c3 = c3\n",
    "    cluster_1 = np.array(cluster_1)\n",
    "    cluster_2 = np.array(cluster_2)\n",
    "    cluster_3 = np.array(cluster_3)\n",
    "#     print(cluster_1.shape)\n",
    "#     print(cluster_2.shape)\n",
    "#     print(cluster_3.shape)\n",
    "    if(len(cluster_1) != 0):\n",
    "        c1 = [sum(cluster_1[:,0])/float(len(cluster_1)),sum(cluster_1[:,1])/float(len(cluster_1)),\n",
    "             sum(cluster_1[:,2])/float(len(cluster_1)),sum(cluster_1[:,3])/float(len(cluster_1))]\n",
    "    if(len(cluster_2) != 0):\n",
    "        c2 = [sum(cluster_2[:,0])/float(len(cluster_2)),sum(cluster_2[:,1])/float(len(cluster_2)),\n",
    "             sum(cluster_2[:,2])/float(len(cluster_2)),sum(cluster_2[:,3])/float(len(cluster_2))]\n",
    "    if(len(cluster_3) != 0):\n",
    "        c3 = [sum(cluster_3[:,0])/float(len(cluster_3)),sum(cluster_3[:,1])/float(len(cluster_3)),\n",
    "             sum(cluster_3[:,2])/float(len(cluster_3)),sum(cluster_3[:,3])/float(len(cluster_3))]\n",
    "    if(prev_c1 == c1 and prev_c2 == c2 and prev_c3 == c3):\n",
    "        print(\"Converged\")\n",
    "        break\n",
    "    print(epochs)\n",
    "    epochs += 1\n",
    "    "
   ]
  },
  {
   "cell_type": "code",
   "execution_count": 242,
   "metadata": {},
   "outputs": [
    {
     "name": "stdout",
     "output_type": "stream",
     "text": [
      "[6.8799999999999999, 3.0628571428571427, 5.7628571428571416, 2.0714285714285712]\n"
     ]
    }
   ],
   "source": [
    "print(c1)"
   ]
  },
  {
   "cell_type": "code",
   "execution_count": 243,
   "metadata": {},
   "outputs": [
    {
     "name": "stdout",
     "output_type": "stream",
     "text": [
      "[5.8660377358490559, 2.7283018867924516, 4.3471698113207546, 1.4150943396226412]\n"
     ]
    }
   ],
   "source": [
    "print(c2)"
   ]
  },
  {
   "cell_type": "code",
   "execution_count": 244,
   "metadata": {},
   "outputs": [
    {
     "name": "stdout",
     "output_type": "stream",
     "text": [
      "[5.0148936170212766, 3.4425531914893619, 1.4659574468085104, 0.25106382978723396]\n"
     ]
    }
   ],
   "source": [
    "print(c3)"
   ]
  },
  {
   "cell_type": "code",
   "execution_count": 245,
   "metadata": {},
   "outputs": [],
   "source": [
    "test_cl = []\n",
    "for point in test_data:\n",
    "    dis_point_c1 = ((c1[0]-point[0])**2 + (c1[1]-point[1])**2 + (c1[2]-point[2])**2 + (c1[3]-point[3])**2)**0.5\n",
    "    dis_point_c2 = ((c2[0]-point[0])**2 + (c2[1]-point[1])**2 + (c2[2]-point[2])**2 + (c2[3]-point[3])**2)**0.5\n",
    "    dis_point_c3 = ((c3[0]-point[0])**2 + (c3[1]-point[1])**2 + (c3[2]-point[2])**2 + (c3[3]-point[3])**2)**0.5\n",
    "    distances = [dis_point_c1,dis_point_c2,dis_point_c3]\n",
    "    pos = distances.index(min(distances))\n",
    "    test_cl.append(pos)"
   ]
  },
  {
   "cell_type": "code",
   "execution_count": 248,
   "metadata": {},
   "outputs": [
    {
     "name": "stdout",
     "output_type": "stream",
     "text": [
      "('pred:', 1, 'GT:', 2)\n",
      "('pred:', 2, 'GT:', 1)\n",
      "('pred:', 1, 'GT:', 2)\n",
      "('pred:', 1, 'GT:', 2)\n",
      "('pred:', 0, 'GT:', 0)\n",
      "('pred:', 1, 'GT:', 2)\n",
      "('pred:', 0, 'GT:', 0)\n",
      "('pred:', 2, 'GT:', 1)\n",
      "('pred:', 0, 'GT:', 0)\n",
      "('pred:', 1, 'GT:', 0)\n",
      "('pred:', 2, 'GT:', 1)\n",
      "('pred:', 0, 'GT:', 2)\n",
      "('pred:', 1, 'GT:', 2)\n",
      "('pred:', 1, 'GT:', 0)\n",
      "('pred:', 1, 'GT:', 0)\n"
     ]
    }
   ],
   "source": [
    "for i in range(len(test_classes)):\n",
    "    print('pred:',test_cl[i],'GT:',test_classes[i])"
   ]
  },
  {
   "cell_type": "code",
   "execution_count": 251,
   "metadata": {},
   "outputs": [],
   "source": [
    "new_test_cl = []\n",
    "for i in range(len(test_cl)):\n",
    "    if(test_cl[i] == 1):\n",
    "        new_test_cl.append(2)\n",
    "    elif(test_cl[i] == 2):\n",
    "        new_test_cl.append(1)\n",
    "    else:\n",
    "        new_test_cl.append(0)"
   ]
  },
  {
   "cell_type": "code",
   "execution_count": 252,
   "metadata": {},
   "outputs": [
    {
     "name": "stdout",
     "output_type": "stream",
     "text": [
      "0.733333333333\n"
     ]
    }
   ],
   "source": [
    "from sklearn.metrics import accuracy_score\n",
    "\n",
    "print(accuracy_score(test_classes,new_test_cl))"
   ]
  },
  {
   "cell_type": "code",
   "execution_count": null,
   "metadata": {},
   "outputs": [],
   "source": []
  }
 ],
 "metadata": {
  "kernelspec": {
   "display_name": "Python 2",
   "language": "python",
   "name": "python2"
  },
  "language_info": {
   "codemirror_mode": {
    "name": "ipython",
    "version": 2
   },
   "file_extension": ".py",
   "mimetype": "text/x-python",
   "name": "python",
   "nbconvert_exporter": "python",
   "pygments_lexer": "ipython2",
   "version": "2.7.14"
  }
 },
 "nbformat": 4,
 "nbformat_minor": 2
}
