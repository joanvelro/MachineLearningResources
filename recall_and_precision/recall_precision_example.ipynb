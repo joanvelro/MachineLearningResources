{
 "cells": [
  {
   "cell_type": "markdown",
   "metadata": {},
   "source": [
    "# Recall and Precision Diagnostic Example"
   ]
  },
  {
   "cell_type": "code",
   "execution_count": 1,
   "metadata": {},
   "outputs": [],
   "source": [
    "import numpy as np\n",
    "import pandas as pd\n",
    "\n",
    "import matplotlib.pyplot as plt\n",
    "%matplotlib inline\n",
    "\n",
    "import seaborn as sns\n",
    "\n",
    "from IPython.core.pylabtools import figsize\n",
    "\n",
    "figsize(10, 8)"
   ]
  },
  {
   "cell_type": "markdown",
   "metadata": {},
   "source": [
    "# Confusion Matrix Numbers"
   ]
  },
  {
   "cell_type": "code",
   "execution_count": 2,
   "metadata": {},
   "outputs": [],
   "source": [
    "results = pd.DataFrame({'threshold': [0.0, 0.1, 0.2, 0.3, 0.4, 0.5, 0.6, 0.7, 0.8, 0.9, 1.0],\n",
    "                        'tp': [50, 48, 47, 45, 44, 42, 36,  30,  20, 12, 0],\n",
    "                        'fp': [50, 47, 40, 31, 23, 16, 12,  11,   4,  3,  0],\n",
    "                        'tn': [0,   3,  9, 16, 22, 29, 34,  38,  43, 45, 50],\n",
    "                        'fn': [0,   2,  4,  8, 11, 13, 18,  21,  33, 40, 50]\n",
    "                       })"
   ]
  },
  {
   "cell_type": "markdown",
   "metadata": {},
   "source": [
    "# Calculate Precision, Recall, F1, TPR, FPR"
   ]
  },
  {
   "cell_type": "code",
   "execution_count": 3,
   "metadata": {},
   "outputs": [],
   "source": [
    "def calculate_metrics(results):\n",
    "    roc = pd.DataFrame(index = results['threshold'], columns=['recall', 'precision', 'f1', 'tpr', 'fpr'])\n",
    "    \n",
    "    for i in results.iterrows():\n",
    "        fn, fp, t, tn, tp = i[1]\n",
    "        assert tp + fp + tn + fn == 100, 'Patients must add up to 100'\n",
    "        \n",
    "        recall = tp / (tp + fn)\n",
    "        \n",
    "        if tp == fp == 0:\n",
    "            precision = 0\n",
    "            true_positive_rate = 0\n",
    "        \n",
    "        else:\n",
    "            precision = tp / (tp + fp)\n",
    "            true_positive_rate = tp / (tp + fn)\n",
    "            \n",
    "        if precision == recall == 0:\n",
    "            f1 = 0\n",
    "        else:\n",
    "            f1 = 2 * (precision * recall) / (precision + recall)\n",
    "        \n",
    "        \n",
    "        false_positive_rate = fp / (fp + tn)\n",
    "        \n",
    "        roc.ix[t, 'recall'] = recall\n",
    "        roc.ix[t, 'precision'] = precision\n",
    "        roc.ix[t, 'f1'] = f1\n",
    "        roc.ix[t, 'tpr'] = true_positive_rate\n",
    "        roc.ix[t, 'fpr'] = false_positive_rate\n",
    "    \n",
    "    return roc"
   ]
  },
  {
   "cell_type": "code",
   "execution_count": 4,
   "metadata": {},
   "outputs": [
    {
     "data": {
      "text/html": [
       "<div>\n",
       "<style scoped>\n",
       "    .dataframe tbody tr th:only-of-type {\n",
       "        vertical-align: middle;\n",
       "    }\n",
       "\n",
       "    .dataframe tbody tr th {\n",
       "        vertical-align: top;\n",
       "    }\n",
       "\n",
       "    .dataframe thead th {\n",
       "        text-align: right;\n",
       "    }\n",
       "</style>\n",
       "<table border=\"1\" class=\"dataframe\">\n",
       "  <thead>\n",
       "    <tr style=\"text-align: right;\">\n",
       "      <th></th>\n",
       "      <th>threshold</th>\n",
       "      <th>recall</th>\n",
       "      <th>precision</th>\n",
       "      <th>f1</th>\n",
       "      <th>tpr</th>\n",
       "      <th>fpr</th>\n",
       "    </tr>\n",
       "  </thead>\n",
       "  <tbody>\n",
       "    <tr>\n",
       "      <th>0</th>\n",
       "      <td>0.0</td>\n",
       "      <td>1</td>\n",
       "      <td>0.5</td>\n",
       "      <td>0.666667</td>\n",
       "      <td>1</td>\n",
       "      <td>1</td>\n",
       "    </tr>\n",
       "    <tr>\n",
       "      <th>1</th>\n",
       "      <td>0.1</td>\n",
       "      <td>0.96</td>\n",
       "      <td>0.505263</td>\n",
       "      <td>0.662069</td>\n",
       "      <td>0.96</td>\n",
       "      <td>0.94</td>\n",
       "    </tr>\n",
       "    <tr>\n",
       "      <th>2</th>\n",
       "      <td>0.2</td>\n",
       "      <td>0.921569</td>\n",
       "      <td>0.54023</td>\n",
       "      <td>0.681159</td>\n",
       "      <td>0.921569</td>\n",
       "      <td>0.816327</td>\n",
       "    </tr>\n",
       "    <tr>\n",
       "      <th>3</th>\n",
       "      <td>0.3</td>\n",
       "      <td>0.849057</td>\n",
       "      <td>0.592105</td>\n",
       "      <td>0.697674</td>\n",
       "      <td>0.849057</td>\n",
       "      <td>0.659574</td>\n",
       "    </tr>\n",
       "    <tr>\n",
       "      <th>4</th>\n",
       "      <td>0.4</td>\n",
       "      <td>0.8</td>\n",
       "      <td>0.656716</td>\n",
       "      <td>0.721311</td>\n",
       "      <td>0.8</td>\n",
       "      <td>0.511111</td>\n",
       "    </tr>\n",
       "    <tr>\n",
       "      <th>5</th>\n",
       "      <td>0.5</td>\n",
       "      <td>0.763636</td>\n",
       "      <td>0.724138</td>\n",
       "      <td>0.743363</td>\n",
       "      <td>0.763636</td>\n",
       "      <td>0.355556</td>\n",
       "    </tr>\n",
       "    <tr>\n",
       "      <th>6</th>\n",
       "      <td>0.6</td>\n",
       "      <td>0.666667</td>\n",
       "      <td>0.75</td>\n",
       "      <td>0.705882</td>\n",
       "      <td>0.666667</td>\n",
       "      <td>0.26087</td>\n",
       "    </tr>\n",
       "    <tr>\n",
       "      <th>7</th>\n",
       "      <td>0.7</td>\n",
       "      <td>0.588235</td>\n",
       "      <td>0.731707</td>\n",
       "      <td>0.652174</td>\n",
       "      <td>0.588235</td>\n",
       "      <td>0.22449</td>\n",
       "    </tr>\n",
       "    <tr>\n",
       "      <th>8</th>\n",
       "      <td>0.8</td>\n",
       "      <td>0.377358</td>\n",
       "      <td>0.833333</td>\n",
       "      <td>0.519481</td>\n",
       "      <td>0.377358</td>\n",
       "      <td>0.0851064</td>\n",
       "    </tr>\n",
       "    <tr>\n",
       "      <th>9</th>\n",
       "      <td>0.9</td>\n",
       "      <td>0.230769</td>\n",
       "      <td>0.8</td>\n",
       "      <td>0.358209</td>\n",
       "      <td>0.230769</td>\n",
       "      <td>0.0625</td>\n",
       "    </tr>\n",
       "    <tr>\n",
       "      <th>10</th>\n",
       "      <td>1.0</td>\n",
       "      <td>0</td>\n",
       "      <td>0</td>\n",
       "      <td>0</td>\n",
       "      <td>0</td>\n",
       "      <td>0</td>\n",
       "    </tr>\n",
       "  </tbody>\n",
       "</table>\n",
       "</div>"
      ],
      "text/plain": [
       "    threshold    recall precision        f1       tpr        fpr\n",
       "0         0.0         1       0.5  0.666667         1          1\n",
       "1         0.1      0.96  0.505263  0.662069      0.96       0.94\n",
       "2         0.2  0.921569   0.54023  0.681159  0.921569   0.816327\n",
       "3         0.3  0.849057  0.592105  0.697674  0.849057   0.659574\n",
       "4         0.4       0.8  0.656716  0.721311       0.8   0.511111\n",
       "5         0.5  0.763636  0.724138  0.743363  0.763636   0.355556\n",
       "6         0.6  0.666667      0.75  0.705882  0.666667    0.26087\n",
       "7         0.7  0.588235  0.731707  0.652174  0.588235    0.22449\n",
       "8         0.8  0.377358  0.833333  0.519481  0.377358  0.0851064\n",
       "9         0.9  0.230769       0.8  0.358209  0.230769     0.0625\n",
       "10        1.0         0         0         0         0          0"
      ]
     },
     "execution_count": 4,
     "metadata": {},
     "output_type": "execute_result"
    }
   ],
   "source": [
    "roc = calculate_metrics(results)\n",
    "roc.reset_index()"
   ]
  },
  {
   "cell_type": "markdown",
   "metadata": {},
   "source": [
    "# Receiver Operating Characteristic Curve"
   ]
  },
  {
   "cell_type": "code",
   "execution_count": 5,
   "metadata": {},
   "outputs": [
    {
     "data": {
      "image/png": "[encoded data removed]",
      "text/plain": [
       "<matplotlib.figure.Figure at 0x16ccfc03c88>"
      ]
     },
     "metadata": {},
     "output_type": "display_data"
    }
   ],
   "source": [
    "figsize(10, 8)\n",
    "plt.style.use('seaborn-dark-palette')\n",
    "thresholds = [str(t) for t in results['threshold']]\n",
    "plt.plot(roc['fpr'], roc['tpr'], 'bo-', label = 'model');\n",
    "plt.plot(list(np.linspace(0, 1, num = 10)), list(np.linspace(0, 1, num = 10)), 'ro--', label = 'naive classifier');\n",
    "for x, y, s in zip(roc['fpr'], roc['tpr'], thresholds):\n",
    "    plt.text(x - 0.04,y + 0.02, s, fontdict={'size': 14});\n",
    "\n",
    "plt.legend(prop={'size':14})\n",
    "plt.ylabel('True Positive Rate', size = 16); plt.xlabel('False Positive Rate', size = 16);\n",
    "plt.title('Receiver Operating Characteristic Curve', size = 20);"
   ]
  }
 ],
 "metadata": {
  "kernelspec": {
   "display_name": "Python 3",
   "language": "python",
   "name": "python3"
  },
  "language_info": {
   "codemirror_mode": {
    "name": "ipython",
    "version": 3
   },
   "file_extension": ".py",
   "mimetype": "text/x-python",
   "name": "python",
   "nbconvert_exporter": "python",
   "pygments_lexer": "ipython3",
   "version": "3.6.4"
  }
 },
 "nbformat": 4,
 "nbformat_minor": 2
}
