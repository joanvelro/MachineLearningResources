{
 "cells": [
  {
   "cell_type": "code",
   "execution_count": 2,
   "metadata": {},
   "outputs": [
    {
     "name": "stdout",
     "output_type": "stream",
     "text": [
      "    SepalLengthCm  SepalWidthCm  PetalLengthCm  PetalWidthCm          Species\n",
      "0             5.1           3.5            1.4           0.2      Iris-setosa\n",
      "1             4.9           3.0            1.4           0.2      Iris-setosa\n",
      "2             4.7           3.2            1.3           0.2      Iris-setosa\n",
      "3             4.6           3.1            1.5           0.2      Iris-setosa\n",
      "4             5.0           3.6            1.4           0.2      Iris-setosa\n",
      "5             5.4           3.9            1.7           0.4      Iris-setosa\n",
      "6             4.6           3.4            1.4           0.3      Iris-setosa\n",
      "7             5.0           3.4            1.5           0.2      Iris-setosa\n",
      "8             4.4           2.9            1.4           0.2      Iris-setosa\n",
      "9             4.9           3.1            1.5           0.1      Iris-setosa\n",
      "10            5.4           3.7            1.5           0.2      Iris-setosa\n",
      "11            4.8           3.4            1.6           0.2      Iris-setosa\n",
      "12            4.8           3.0            1.4           0.1      Iris-setosa\n",
      "13            4.3           3.0            1.1           0.1      Iris-setosa\n",
      "14            5.8           4.0            1.2           0.2      Iris-setosa\n",
      "15            5.7           4.4            1.5           0.4      Iris-setosa\n",
      "16            5.4           3.9            1.3           0.4      Iris-setosa\n",
      "17            5.1           3.5            1.4           0.3      Iris-setosa\n",
      "18            5.7           3.8            1.7           0.3      Iris-setosa\n",
      "19            5.1           3.8            1.5           0.3      Iris-setosa\n",
      "20            5.4           3.4            1.7           0.2      Iris-setosa\n",
      "21            5.1           3.7            1.5           0.4      Iris-setosa\n",
      "22            4.6           3.6            1.0           0.2      Iris-setosa\n",
      "23            5.1           3.3            1.7           0.5      Iris-setosa\n",
      "24            4.8           3.4            1.9           0.2      Iris-setosa\n",
      "25            5.0           3.0            1.6           0.2      Iris-setosa\n",
      "26            5.0           3.4            1.6           0.4      Iris-setosa\n",
      "27            5.2           3.5            1.5           0.2      Iris-setosa\n",
      "28            5.2           3.4            1.4           0.2      Iris-setosa\n",
      "29            4.7           3.2            1.6           0.2      Iris-setosa\n",
      "..            ...           ...            ...           ...              ...\n",
      "70            5.9           3.2            4.8           1.8  Iris-versicolor\n",
      "71            6.1           2.8            4.0           1.3  Iris-versicolor\n",
      "72            6.3           2.5            4.9           1.5  Iris-versicolor\n",
      "73            6.1           2.8            4.7           1.2  Iris-versicolor\n",
      "74            6.4           2.9            4.3           1.3  Iris-versicolor\n",
      "75            6.6           3.0            4.4           1.4  Iris-versicolor\n",
      "76            6.8           2.8            4.8           1.4  Iris-versicolor\n",
      "77            6.7           3.0            5.0           1.7  Iris-versicolor\n",
      "78            6.0           2.9            4.5           1.5  Iris-versicolor\n",
      "79            5.7           2.6            3.5           1.0  Iris-versicolor\n",
      "80            5.5           2.4            3.8           1.1  Iris-versicolor\n",
      "81            5.5           2.4            3.7           1.0  Iris-versicolor\n",
      "82            5.8           2.7            3.9           1.2  Iris-versicolor\n",
      "83            6.0           2.7            5.1           1.6  Iris-versicolor\n",
      "84            5.4           3.0            4.5           1.5  Iris-versicolor\n",
      "85            6.0           3.4            4.5           1.6  Iris-versicolor\n",
      "86            6.7           3.1            4.7           1.5  Iris-versicolor\n",
      "87            6.3           2.3            4.4           1.3  Iris-versicolor\n",
      "88            5.6           3.0            4.1           1.3  Iris-versicolor\n",
      "89            5.5           2.5            4.0           1.3  Iris-versicolor\n",
      "90            5.5           2.6            4.4           1.2  Iris-versicolor\n",
      "91            6.1           3.0            4.6           1.4  Iris-versicolor\n",
      "92            5.8           2.6            4.0           1.2  Iris-versicolor\n",
      "93            5.0           2.3            3.3           1.0  Iris-versicolor\n",
      "94            5.6           2.7            4.2           1.3  Iris-versicolor\n",
      "95            5.7           3.0            4.2           1.2  Iris-versicolor\n",
      "96            5.7           2.9            4.2           1.3  Iris-versicolor\n",
      "97            6.2           2.9            4.3           1.3  Iris-versicolor\n",
      "98            5.1           2.5            3.0           1.1  Iris-versicolor\n",
      "99            5.7           2.8            4.1           1.3  Iris-versicolor\n",
      "\n",
      "[100 rows x 5 columns]\n"
     ]
    }
   ],
   "source": [
    "import pandas as pd\n",
    "\n",
    "df = pd.read_csv('/Users/rohith/Documents/Datasets/Iris_dataset/iris.csv')\n",
    "df = df.drop(['Id'],axis=1)\n",
    "target = df['Species']\n",
    "s = set()\n",
    "for val in target:\n",
    "    s.add(val)\n",
    "s = list(s)\n",
    "rows = list(range(100,150))\n",
    "df = df.drop(df.index[rows])\n",
    "print(df)"
   ]
  },
  {
   "cell_type": "code",
   "execution_count": 3,
   "metadata": {},
   "outputs": [],
   "source": [
    "x = df['SepalLengthCm']\n",
    "y = df['PetalLengthCm']\n",
    "\n",
    "setosa_x = x[:50]\n",
    "setosa_y = y[:50]\n",
    "\n",
    "versicolor_x = x[50:]\n",
    "versicolor_y = y[50:]"
   ]
  },
  {
   "cell_type": "code",
   "execution_count": 48,
   "metadata": {},
   "outputs": [
    {
     "data": {
      "image/png": "[encoded data removed]",
      "text/plain": [
       "<Figure size 576x432 with 1 Axes>"
      ]
     },
     "metadata": {},
     "output_type": "display_data"
    }
   ],
   "source": [
    "import matplotlib.pyplot as plt \n",
    "\n",
    "plt.figure(figsize=(8,6))\n",
    "plt.scatter(setosa_x,setosa_y,marker='+',color='green')\n",
    "plt.scatter(versicolor_x,versicolor_y,marker='_',color='red')\n",
    "plt.show()"
   ]
  },
  {
   "cell_type": "code",
   "execution_count": 5,
   "metadata": {},
   "outputs": [],
   "source": [
    "df = df.drop(['SepalWidthCm','PetalWidthCm'],axis=1)"
   ]
  },
  {
   "cell_type": "code",
   "execution_count": 6,
   "metadata": {},
   "outputs": [],
   "source": [
    "Y = []\n",
    "target = df['Species']\n",
    "for val in target:\n",
    "    if(val == 'Iris-setosa'):\n",
    "        Y.append(0)\n",
    "    else:\n",
    "        Y.append(1)\n",
    "df = df.drop(['Species'],axis=1)\n",
    "X = df.values.tolist()"
   ]
  },
  {
   "cell_type": "code",
   "execution_count": 7,
   "metadata": {},
   "outputs": [
    {
     "name": "stderr",
     "output_type": "stream",
     "text": [
      "/Users/rohith/anaconda3/envs/projects/lib/python2.7/site-packages/sklearn/cross_validation.py:41: DeprecationWarning: This module was deprecated in version 0.18 in favor of the model_selection module into which all the refactored classes and functions are moved. Also note that the interface of the new CV iterators are different from that of this module. This module will be removed in 0.20.\n",
      "  \"This module will be removed in 0.20.\", DeprecationWarning)\n"
     ]
    }
   ],
   "source": [
    "from sklearn.utils import shuffle\n",
    "from sklearn.cross_validation import train_test_split\n",
    "import numpy as np\n",
    "\n",
    "X, Y = shuffle(X,Y)\n",
    "\n",
    "x_train = []\n",
    "y_train = []\n",
    "x_test = []\n",
    "y_test = []\n",
    "\n",
    "x_train, x_test, y_train, y_test = train_test_split(X, Y, train_size=0.9)\n",
    "\n",
    "x_train = np.array(x_train)\n",
    "y_train = np.array(y_train)\n",
    "x_test = np.array(x_test)\n",
    "y_test = np.array(y_test)"
   ]
  },
  {
   "cell_type": "code",
   "execution_count": 22,
   "metadata": {},
   "outputs": [
    {
     "name": "stdout",
     "output_type": "stream",
     "text": [
      "(90, 1)\n",
      "(90,)\n"
     ]
    }
   ],
   "source": [
    "print(y_train.shape)\n",
    "y_train = y_train.reshape(90,1)\n",
    "print(x_train[:,0].shape)"
   ]
  },
  {
   "cell_type": "code",
   "execution_count": 9,
   "metadata": {},
   "outputs": [
    {
     "name": "stdout",
     "output_type": "stream",
     "text": [
      "1.0\n"
     ]
    }
   ],
   "source": [
    "from sklearn.svm import SVC\n",
    "from sklearn.metrics import accuracy_score\n",
    "\n",
    "clf = SVC(kernel='linear')\n",
    "clf.fit(x_train,y_train)\n",
    "y_pred = clf.predict(x_test)\n",
    "print(accuracy_score(y_test,y_pred))"
   ]
  },
  {
   "cell_type": "code",
   "execution_count": 52,
   "metadata": {
    "scrolled": true
   },
   "outputs": [],
   "source": [
    "## Support Vector Machine \n",
    "import numpy as np\n",
    "\n",
    "train_f1 = x_train[:,0]\n",
    "train_f2 = x_train[:,1]\n",
    "\n",
    "train_f1 = train_f1.reshape(90,1)\n",
    "train_f2 = train_f2.reshape(90,1)\n",
    "\n",
    "w1 = np.zeros((90,1))\n",
    "w2 = np.zeros((90,1))\n",
    "\n",
    "epochs = 1\n",
    "alpha = 0.0001\n",
    "\n",
    "while(epochs < 10000):\n",
    "    y = w1 * train_f1 + w2 * train_f2\n",
    "    prod = y * y_train \n",
    "    count = 0\n",
    "    for val in prod:\n",
    "        if(val >= 1):\n",
    "            cost = 0\n",
    "            w1 = w1 - alpha * (2 * 1/epochs * w1)\n",
    "            w2 = w2 - alpha * (2 * 1/epochs * w2)\n",
    "            \n",
    "        else:\n",
    "            cost = 1 - val \n",
    "            w1 = w1 + alpha * (train_f1[count] * y_train[count] - 2 * 1/epochs * w1)\n",
    "            w2 = w2 + alpha * (train_f2[count] * y_train[count] - 2 * 1/epochs * w2)\n",
    "        count += 1\n",
    "    epochs += 1"
   ]
  },
  {
   "cell_type": "code",
   "execution_count": 53,
   "metadata": {},
   "outputs": [],
   "source": [
    "index = list(range(10,90))\n",
    "\n",
    "w1 = np.delete(w1,index)\n",
    "w2 = np.delete(w2,index)"
   ]
  },
  {
   "cell_type": "code",
   "execution_count": 54,
   "metadata": {},
   "outputs": [],
   "source": [
    "w1 = w1.reshape(10,1)\n",
    "w2 = w2.reshape(10,1)"
   ]
  },
  {
   "cell_type": "code",
   "execution_count": 55,
   "metadata": {},
   "outputs": [],
   "source": [
    "test_f1 = x_test[:,0]\n",
    "test_f2 = x_test[:,1]"
   ]
  },
  {
   "cell_type": "code",
   "execution_count": 56,
   "metadata": {},
   "outputs": [],
   "source": [
    "test_f1 = test_f1.reshape(10,1)\n",
    "test_f2 = test_f2.reshape(10,1)"
   ]
  },
  {
   "cell_type": "code",
   "execution_count": 57,
   "metadata": {},
   "outputs": [],
   "source": [
    "y_pred = w1 * test_f1 + w2 * test_f2"
   ]
  },
  {
   "cell_type": "code",
   "execution_count": 58,
   "metadata": {},
   "outputs": [],
   "source": [
    "predictions = []\n",
    "for val in y_pred:\n",
    "    if(val >= 1):\n",
    "        predictions.append(1)\n",
    "    else:\n",
    "        predictions.append(0)"
   ]
  },
  {
   "cell_type": "code",
   "execution_count": 59,
   "metadata": {},
   "outputs": [
    {
     "name": "stdout",
     "output_type": "stream",
     "text": [
      "[0, 1, 0, 1, 1, 0, 0, 1, 0, 1]\n"
     ]
    }
   ],
   "source": [
    "print(predictions)"
   ]
  },
  {
   "cell_type": "code",
   "execution_count": 60,
   "metadata": {},
   "outputs": [
    {
     "name": "stdout",
     "output_type": "stream",
     "text": [
      "1.0\n"
     ]
    }
   ],
   "source": [
    "from sklearn.metrics import accuracy_score\n",
    "\n",
    "print(accuracy_score(y_test,predictions))"
   ]
  },
  {
   "cell_type": "code",
   "execution_count": null,
   "metadata": {},
   "outputs": [],
   "source": []
  }
 ],
 "metadata": {
  "kernelspec": {
   "display_name": "Python 2",
   "language": "python",
   "name": "python2"
  },
  "language_info": {
   "codemirror_mode": {
    "name": "ipython",
    "version": 2
   },
   "file_extension": ".py",
   "mimetype": "text/x-python",
   "name": "python",
   "nbconvert_exporter": "python",
   "pygments_lexer": "ipython2",
   "version": "2.7.14"
  }
 },
 "nbformat": 4,
 "nbformat_minor": 2
}
