{
 "cells": [
  {
   "cell_type": "markdown",
   "metadata": {},
   "source": [
    "# Anomaly Detection for Dummies\n",
    "Unsupervised Anomaly Detection for Univariate & Multivariate Data.\n",
    "\n",
    "Anomaly detection is the process of identifying unexpected items or events in data sets, which differ from the norm. And anomaly detection is often applied on unlabeled data which is known as unsupervised anomaly detection. Anomaly detection has two basic assumptions:\n",
    "\n",
    "* Anomalies only occur very rarely in the data.\n",
    "* Their features differ from the normal instances significantly.\n",
    "* Univariate Anomaly Detection\n",
    "\n",
    "Before we get to Multivariate anomaly detection, I think its necessary to work through a simple example of Univariate anomaly detection method in which we detect outliers from a distribution of values in a single feature space.\n",
    "\n",
    "We are using the Super Store Sales data set that can be downloaded from here, and we are going to find patterns in Sales and Profit separately that do not conform to expected behavior. That is, spotting outliers for one variable at a time."
   ]
  },
  {
   "cell_type": "code",
   "execution_count": null,
   "metadata": {},
   "outputs": [],
   "source": [
    "# https://towardsdatascience.com/anomaly-detection-for-dummies-15f148e559c1"
   ]
  },
  {
   "cell_type": "code",
   "execution_count": 5,
   "metadata": {},
   "outputs": [
    {
     "name": "stdout",
     "output_type": "stream",
     "text": [
      "Collecting pyod\n",
      "  Downloading pyod-0.8.3.tar.gz (96 kB)\n",
      "\u001b[K     |████████████████████████████████| 96 kB 1.8 MB/s eta 0:00:011\n",
      "\u001b[?25hCollecting combo\n",
      "  Downloading combo-0.1.1.tar.gz (37 kB)\n",
      "Requirement already satisfied: joblib in /Users/joseangelvelasco/anaconda3/lib/python3.7/site-packages (from pyod) (0.15.0)\n",
      "Requirement already satisfied: matplotlib in /Users/joseangelvelasco/anaconda3/lib/python3.7/site-packages (from pyod) (3.3.2)\n",
      "Requirement already satisfied: numpy>=1.13 in /Users/joseangelvelasco/anaconda3/lib/python3.7/site-packages (from pyod) (1.18.4)\n",
      "Requirement already satisfied: numba>=0.35 in /Users/joseangelvelasco/anaconda3/lib/python3.7/site-packages (from pyod) (0.43.1)\n",
      "Requirement already satisfied: pandas>=0.25 in /Users/joseangelvelasco/anaconda3/lib/python3.7/site-packages (from pyod) (1.1.0)\n",
      "Requirement already satisfied: scipy>=0.19.1 in /Users/joseangelvelasco/anaconda3/lib/python3.7/site-packages (from pyod) (1.5.2)\n",
      "Requirement already satisfied: scikit_learn>=0.19.1 in /Users/joseangelvelasco/anaconda3/lib/python3.7/site-packages (from pyod) (0.20.3)\n",
      "Requirement already satisfied: six in /Users/joseangelvelasco/anaconda3/lib/python3.7/site-packages (from pyod) (1.12.0)\n",
      "Requirement already satisfied: statsmodels in /Users/joseangelvelasco/anaconda3/lib/python3.7/site-packages (from pyod) (0.11.1)\n",
      "Collecting suod\n",
      "  Downloading suod-0.0.4.tar.gz (2.1 MB)\n",
      "\u001b[K     |████████████████████████████████| 2.1 MB 10.6 MB/s eta 0:00:01     |██████████████▍                 | 952 kB 10.6 MB/s eta 0:00:01\n",
      "\u001b[?25hRequirement already satisfied: python-dateutil>=2.1 in /Users/joseangelvelasco/anaconda3/lib/python3.7/site-packages (from matplotlib->pyod) (2.8.0)\n",
      "Requirement already satisfied: cycler>=0.10 in /Users/joseangelvelasco/anaconda3/lib/python3.7/site-packages (from matplotlib->pyod) (0.10.0)\n",
      "Requirement already satisfied: pyparsing!=2.0.4,!=2.1.2,!=2.1.6,>=2.0.3 in /Users/joseangelvelasco/anaconda3/lib/python3.7/site-packages (from matplotlib->pyod) (2.3.1)\n",
      "Requirement already satisfied: pillow>=6.2.0 in /Users/joseangelvelasco/anaconda3/lib/python3.7/site-packages (from matplotlib->pyod) (8.0.1)\n",
      "Requirement already satisfied: certifi>=2020.06.20 in /Users/joseangelvelasco/anaconda3/lib/python3.7/site-packages (from matplotlib->pyod) (2020.6.20)\n",
      "Requirement already satisfied: kiwisolver>=1.0.1 in /Users/joseangelvelasco/anaconda3/lib/python3.7/site-packages (from matplotlib->pyod) (1.0.1)\n",
      "Requirement already satisfied: llvmlite>=0.28.0dev0 in /Users/joseangelvelasco/anaconda3/lib/python3.7/site-packages (from numba>=0.35->pyod) (0.28.0)\n",
      "Requirement already satisfied: pytz>=2017.2 in /Users/joseangelvelasco/anaconda3/lib/python3.7/site-packages (from pandas>=0.25->pyod) (2018.9)\n",
      "Requirement already satisfied: patsy>=0.5 in /Users/joseangelvelasco/anaconda3/lib/python3.7/site-packages (from statsmodels->pyod) (0.5.1)\n",
      "Requirement already satisfied: setuptools in /Users/joseangelvelasco/anaconda3/lib/python3.7/site-packages (from kiwisolver>=1.0.1->matplotlib->pyod) (40.8.0)\n",
      "Building wheels for collected packages: pyod, combo, suod\n",
      "  Building wheel for pyod (setup.py) ... \u001b[?25ldone\n",
      "\u001b[?25h  Created wheel for pyod: filename=pyod-0.8.3-py3-none-any.whl size=110347 sha256=382697218710dbef3c28903098589e0a170182f86799ac5f8ae0b327a5b69c66\n",
      "  Stored in directory: /Users/joseangelvelasco/Library/Caches/pip/wheels/fc/fc/77/6e530134c9ee2b45ef0840f0c8046b3be595624881cf533d7a\n",
      "  Building wheel for combo (setup.py) ... \u001b[?25ldone\n",
      "\u001b[?25h  Created wheel for combo: filename=combo-0.1.1-py3-none-any.whl size=42115 sha256=e342df09745e91c1eb2939bb9b83b12c4ff81b4c7fe906a4c10933479e8c8921\n",
      "  Stored in directory: /Users/joseangelvelasco/Library/Caches/pip/wheels/3e/e1/f8/08f19ba48f75d3dbbb549cec4b86cc0392c14b2b6bb81f4e1f\n",
      "  Building wheel for suod (setup.py) ... \u001b[?25ldone\n",
      "\u001b[?25h  Created wheel for suod: filename=suod-0.0.4-py3-none-any.whl size=2167156 sha256=c77dcbdef44eb7c26de4be14d02e9813bc057a6708e65a0bbdb0b4db2de58a1e\n",
      "  Stored in directory: /Users/joseangelvelasco/Library/Caches/pip/wheels/dc/ae/aa/3b8cc857617f3ba6cb9e6b804c79c69d0ed60a08e022e9a4f3\n",
      "Successfully built pyod combo suod\n",
      "Installing collected packages: combo, suod, pyod\n",
      "Successfully installed combo-0.1.1 pyod-0.8.3 suod-0.0.4\n",
      "Note: you may need to restart the kernel to use updated packages.\n"
     ]
    }
   ],
   "source": [
    "%pip install pyod"
   ]
  },
  {
   "cell_type": "code",
   "execution_count": 1,
   "metadata": {
    "colab": {
     "base_uri": "https://localhost:8080/",
     "height": 260
    },
    "colab_type": "code",
    "id": "gxBgvhA4mowO",
    "outputId": "9d831709-2f9c-4bf7-a790-0972691dd4fb"
   },
   "outputs": [
    {
     "name": "stderr",
     "output_type": "stream",
     "text": [
      "In /Users/joseangelvelasco/anaconda3/lib/python3.7/site-packages/matplotlib/mpl-data/stylelib/_classic_test.mplstyle: \n",
      "The text.latex.preview rcparam was deprecated in Matplotlib 3.3 and will be removed two minor releases later.\n",
      "In /Users/joseangelvelasco/anaconda3/lib/python3.7/site-packages/matplotlib/mpl-data/stylelib/_classic_test.mplstyle: \n",
      "The mathtext.fallback_to_cm rcparam was deprecated in Matplotlib 3.3 and will be removed two minor releases later.\n",
      "In /Users/joseangelvelasco/anaconda3/lib/python3.7/site-packages/matplotlib/mpl-data/stylelib/_classic_test.mplstyle: Support for setting the 'mathtext.fallback_to_cm' rcParam is deprecated since 3.3 and will be removed two minor releases later; use 'mathtext.fallback : 'cm' instead.\n",
      "In /Users/joseangelvelasco/anaconda3/lib/python3.7/site-packages/matplotlib/mpl-data/stylelib/_classic_test.mplstyle: \n",
      "The validate_bool_maybe_none function was deprecated in Matplotlib 3.3 and will be removed two minor releases later.\n",
      "In /Users/joseangelvelasco/anaconda3/lib/python3.7/site-packages/matplotlib/mpl-data/stylelib/_classic_test.mplstyle: \n",
      "The savefig.jpeg_quality rcparam was deprecated in Matplotlib 3.3 and will be removed two minor releases later.\n",
      "In /Users/joseangelvelasco/anaconda3/lib/python3.7/site-packages/matplotlib/mpl-data/stylelib/_classic_test.mplstyle: \n",
      "The keymap.all_axes rcparam was deprecated in Matplotlib 3.3 and will be removed two minor releases later.\n",
      "In /Users/joseangelvelasco/anaconda3/lib/python3.7/site-packages/matplotlib/mpl-data/stylelib/_classic_test.mplstyle: \n",
      "The animation.avconv_path rcparam was deprecated in Matplotlib 3.3 and will be removed two minor releases later.\n",
      "In /Users/joseangelvelasco/anaconda3/lib/python3.7/site-packages/matplotlib/mpl-data/stylelib/_classic_test.mplstyle: \n",
      "The animation.avconv_args rcparam was deprecated in Matplotlib 3.3 and will be removed two minor releases later.\n"
     ]
    }
   ],
   "source": [
    "import pandas as pd\n",
    "import numpy as np\n",
    "from numpy import percentile\n",
    "import matplotlib.pyplot as plt\n",
    "import seaborn as sns\n",
    "import matplotlib\n",
    "\n",
    "from sklearn.ensemble import IsolationForest\n",
    "from sklearn.preprocessing import StandardScaler\n",
    "\n",
    "import scipy.stats as ss\n",
    "\n",
    "from pyod.models.abod import ABOD\n",
    "from pyod.models.cblof import CBLOF\n",
    "from pyod.models.feature_bagging import FeatureBagging\n",
    "from pyod.models.hbos import HBOS\n",
    "from pyod.models.iforest import IForest\n",
    "from pyod.models.knn import KNN\n",
    "from pyod.models.lof import LOF\n",
    "from scipy import stats\n",
    "from sklearn.preprocessing import MinMaxScaler"
   ]
  },
  {
   "cell_type": "code",
   "execution_count": 2,
   "metadata": {
    "colab": {},
    "colab_type": "code",
    "id": "usk8MvW8nHUW"
   },
   "outputs": [],
   "source": [
    "df = pd.read_excel(\"data/sample_superstore.xls\")\n",
    "df['Order Date'] = pd.to_datetime(df['Order Date'])\n",
    "df.sort_values(by=['Order Date'], inplace=True, ascending=False)\n",
    "df.reset_index(inplace=True, drop=True)"
   ]
  },
  {
   "cell_type": "code",
   "execution_count": 3,
   "metadata": {},
   "outputs": [
    {
     "data": {
      "text/html": [
       "<div>\n",
       "<style scoped>\n",
       "    .dataframe tbody tr th:only-of-type {\n",
       "        vertical-align: middle;\n",
       "    }\n",
       "\n",
       "    .dataframe tbody tr th {\n",
       "        vertical-align: top;\n",
       "    }\n",
       "\n",
       "    .dataframe thead th {\n",
       "        text-align: right;\n",
       "    }\n",
       "</style>\n",
       "<table border=\"1\" class=\"dataframe\">\n",
       "  <thead>\n",
       "    <tr style=\"text-align: right;\">\n",
       "      <th></th>\n",
       "      <th>Row ID</th>\n",
       "      <th>Order ID</th>\n",
       "      <th>Order Date</th>\n",
       "      <th>Ship Date</th>\n",
       "      <th>Ship Mode</th>\n",
       "      <th>Customer ID</th>\n",
       "      <th>Customer Name</th>\n",
       "      <th>Segment</th>\n",
       "      <th>Country</th>\n",
       "      <th>City</th>\n",
       "      <th>...</th>\n",
       "      <th>Postal Code</th>\n",
       "      <th>Region</th>\n",
       "      <th>Product ID</th>\n",
       "      <th>Category</th>\n",
       "      <th>Sub-Category</th>\n",
       "      <th>Product Name</th>\n",
       "      <th>Sales</th>\n",
       "      <th>Quantity</th>\n",
       "      <th>Discount</th>\n",
       "      <th>Profit</th>\n",
       "    </tr>\n",
       "  </thead>\n",
       "  <tbody>\n",
       "    <tr>\n",
       "      <th>0</th>\n",
       "      <td>907</td>\n",
       "      <td>CA-2017-143259</td>\n",
       "      <td>2017-12-30</td>\n",
       "      <td>2018-01-03</td>\n",
       "      <td>Standard Class</td>\n",
       "      <td>PO-18865</td>\n",
       "      <td>Patrick O'Donnell</td>\n",
       "      <td>Consumer</td>\n",
       "      <td>United States</td>\n",
       "      <td>New York City</td>\n",
       "      <td>...</td>\n",
       "      <td>10009</td>\n",
       "      <td>East</td>\n",
       "      <td>FUR-BO-10003441</td>\n",
       "      <td>Furniture</td>\n",
       "      <td>Bookcases</td>\n",
       "      <td>Bush Westfield Collection Bookcases, Fully Ass...</td>\n",
       "      <td>323.136</td>\n",
       "      <td>4</td>\n",
       "      <td>0.2</td>\n",
       "      <td>12.1176</td>\n",
       "    </tr>\n",
       "    <tr>\n",
       "      <th>1</th>\n",
       "      <td>908</td>\n",
       "      <td>CA-2017-143259</td>\n",
       "      <td>2017-12-30</td>\n",
       "      <td>2018-01-03</td>\n",
       "      <td>Standard Class</td>\n",
       "      <td>PO-18865</td>\n",
       "      <td>Patrick O'Donnell</td>\n",
       "      <td>Consumer</td>\n",
       "      <td>United States</td>\n",
       "      <td>New York City</td>\n",
       "      <td>...</td>\n",
       "      <td>10009</td>\n",
       "      <td>East</td>\n",
       "      <td>TEC-PH-10004774</td>\n",
       "      <td>Technology</td>\n",
       "      <td>Phones</td>\n",
       "      <td>Gear Head AU3700S Headset</td>\n",
       "      <td>90.930</td>\n",
       "      <td>7</td>\n",
       "      <td>0.0</td>\n",
       "      <td>2.7279</td>\n",
       "    </tr>\n",
       "    <tr>\n",
       "      <th>2</th>\n",
       "      <td>1297</td>\n",
       "      <td>CA-2017-115427</td>\n",
       "      <td>2017-12-30</td>\n",
       "      <td>2018-01-03</td>\n",
       "      <td>Standard Class</td>\n",
       "      <td>EB-13975</td>\n",
       "      <td>Erica Bern</td>\n",
       "      <td>Corporate</td>\n",
       "      <td>United States</td>\n",
       "      <td>Fairfield</td>\n",
       "      <td>...</td>\n",
       "      <td>94533</td>\n",
       "      <td>West</td>\n",
       "      <td>OFF-BI-10002103</td>\n",
       "      <td>Office Supplies</td>\n",
       "      <td>Binders</td>\n",
       "      <td>Cardinal Slant-D Ring Binder, Heavy Gauge Vinyl</td>\n",
       "      <td>13.904</td>\n",
       "      <td>2</td>\n",
       "      <td>0.2</td>\n",
       "      <td>4.5188</td>\n",
       "    </tr>\n",
       "    <tr>\n",
       "      <th>3</th>\n",
       "      <td>1298</td>\n",
       "      <td>CA-2017-115427</td>\n",
       "      <td>2017-12-30</td>\n",
       "      <td>2018-01-03</td>\n",
       "      <td>Standard Class</td>\n",
       "      <td>EB-13975</td>\n",
       "      <td>Erica Bern</td>\n",
       "      <td>Corporate</td>\n",
       "      <td>United States</td>\n",
       "      <td>Fairfield</td>\n",
       "      <td>...</td>\n",
       "      <td>94533</td>\n",
       "      <td>West</td>\n",
       "      <td>OFF-BI-10004632</td>\n",
       "      <td>Office Supplies</td>\n",
       "      <td>Binders</td>\n",
       "      <td>GBC Binding covers</td>\n",
       "      <td>20.720</td>\n",
       "      <td>2</td>\n",
       "      <td>0.2</td>\n",
       "      <td>6.4750</td>\n",
       "    </tr>\n",
       "    <tr>\n",
       "      <th>4</th>\n",
       "      <td>646</td>\n",
       "      <td>CA-2017-126221</td>\n",
       "      <td>2017-12-30</td>\n",
       "      <td>2018-01-05</td>\n",
       "      <td>Standard Class</td>\n",
       "      <td>CC-12430</td>\n",
       "      <td>Chuck Clark</td>\n",
       "      <td>Home Office</td>\n",
       "      <td>United States</td>\n",
       "      <td>Columbus</td>\n",
       "      <td>...</td>\n",
       "      <td>47201</td>\n",
       "      <td>Central</td>\n",
       "      <td>OFF-AP-10002457</td>\n",
       "      <td>Office Supplies</td>\n",
       "      <td>Appliances</td>\n",
       "      <td>Eureka The Boss Plus 12-Amp Hard Box Upright V...</td>\n",
       "      <td>209.300</td>\n",
       "      <td>2</td>\n",
       "      <td>0.0</td>\n",
       "      <td>56.5110</td>\n",
       "    </tr>\n",
       "  </tbody>\n",
       "</table>\n",
       "<p>5 rows × 21 columns</p>\n",
       "</div>"
      ],
      "text/plain": [
       "   Row ID        Order ID Order Date  Ship Date       Ship Mode Customer ID  \\\n",
       "0     907  CA-2017-143259 2017-12-30 2018-01-03  Standard Class    PO-18865   \n",
       "1     908  CA-2017-143259 2017-12-30 2018-01-03  Standard Class    PO-18865   \n",
       "2    1297  CA-2017-115427 2017-12-30 2018-01-03  Standard Class    EB-13975   \n",
       "3    1298  CA-2017-115427 2017-12-30 2018-01-03  Standard Class    EB-13975   \n",
       "4     646  CA-2017-126221 2017-12-30 2018-01-05  Standard Class    CC-12430   \n",
       "\n",
       "       Customer Name      Segment        Country           City  ...  \\\n",
       "0  Patrick O'Donnell     Consumer  United States  New York City  ...   \n",
       "1  Patrick O'Donnell     Consumer  United States  New York City  ...   \n",
       "2         Erica Bern    Corporate  United States      Fairfield  ...   \n",
       "3         Erica Bern    Corporate  United States      Fairfield  ...   \n",
       "4        Chuck Clark  Home Office  United States       Columbus  ...   \n",
       "\n",
       "  Postal Code   Region       Product ID         Category Sub-Category  \\\n",
       "0       10009     East  FUR-BO-10003441        Furniture    Bookcases   \n",
       "1       10009     East  TEC-PH-10004774       Technology       Phones   \n",
       "2       94533     West  OFF-BI-10002103  Office Supplies      Binders   \n",
       "3       94533     West  OFF-BI-10004632  Office Supplies      Binders   \n",
       "4       47201  Central  OFF-AP-10002457  Office Supplies   Appliances   \n",
       "\n",
       "                                        Product Name    Sales  Quantity  \\\n",
       "0  Bush Westfield Collection Bookcases, Fully Ass...  323.136         4   \n",
       "1                          Gear Head AU3700S Headset   90.930         7   \n",
       "2    Cardinal Slant-D Ring Binder, Heavy Gauge Vinyl   13.904         2   \n",
       "3                                 GBC Binding covers   20.720         2   \n",
       "4  Eureka The Boss Plus 12-Amp Hard Box Upright V...  209.300         2   \n",
       "\n",
       "   Discount   Profit  \n",
       "0       0.2  12.1176  \n",
       "1       0.0   2.7279  \n",
       "2       0.2   4.5188  \n",
       "3       0.2   6.4750  \n",
       "4       0.0  56.5110  \n",
       "\n",
       "[5 rows x 21 columns]"
      ]
     },
     "execution_count": 3,
     "metadata": {},
     "output_type": "execute_result"
    }
   ],
   "source": [
    "df.head()"
   ]
  },
  {
   "cell_type": "code",
   "execution_count": 4,
   "metadata": {},
   "outputs": [
    {
     "data": {
      "image/png": "[encoded data removed]",
      "text/plain": [
       "<Figure size 1296x576 with 1 Axes>"
      ]
     },
     "metadata": {
      "needs_background": "light"
     },
     "output_type": "display_data"
    }
   ],
   "source": [
    "plt.figure(figsize=(18,8))\n",
    "plt.plot(df['Order Date'].values, df['Sales'].values, marker='o', alpha=0.4)\n",
    "plt.ylabel('Sales', fontsize=18)\n",
    "plt.xlabel('Time', fontsize=18)\n",
    "plt.show()"
   ]
  },
  {
   "cell_type": "markdown",
   "metadata": {},
   "source": [
    "### SAles distribution"
   ]
  },
  {
   "cell_type": "code",
   "execution_count": 5,
   "metadata": {
    "colab": {
     "base_uri": "https://localhost:8080/",
     "height": 173
    },
    "colab_type": "code",
    "id": "fCqj102y9Kfo",
    "outputId": "e9afbcbb-6a9f-4aaa-d6d1-287cc82a5d9e"
   },
   "outputs": [
    {
     "data": {
      "text/plain": [
       "count     9994.000000\n",
       "mean       229.858001\n",
       "std        623.245101\n",
       "min          0.444000\n",
       "25%         17.280000\n",
       "50%         54.490000\n",
       "75%        209.940000\n",
       "max      22638.480000\n",
       "Name: Sales, dtype: float64"
      ]
     },
     "execution_count": 5,
     "metadata": {},
     "output_type": "execute_result"
    }
   ],
   "source": [
    "df['Sales'].describe()"
   ]
  },
  {
   "cell_type": "code",
   "execution_count": 6,
   "metadata": {},
   "outputs": [
    {
     "name": "stdout",
     "output_type": "stream",
     "text": [
      "Upper limit: 498.93\n",
      "Lower limit: -271.71000000000004\n"
     ]
    }
   ],
   "source": [
    "ul = df['Sales'].quantile(0.75) + 1.5*ss.iqr(df['Sales'])\n",
    "print('Upper limit:',ul)\n",
    "ll = df['Sales'].quantile(0.25) - 1.5*ss.iqr(df['Sales'])\n",
    "print('Lower limit:',ll)"
   ]
  },
  {
   "cell_type": "code",
   "execution_count": 7,
   "metadata": {
    "colab": {
     "base_uri": "https://localhost:8080/",
     "height": 295
    },
    "colab_type": "code",
    "id": "SMcvIb1K_69n",
    "outputId": "28d1ae16-8c89-4f23-a7b9-5e336b330d6f"
   },
   "outputs": [
    {
     "data": {
      "image/png": "[encoded data removed]",
      "text/plain": [
       "<Figure size 432x288 with 1 Axes>"
      ]
     },
     "metadata": {
      "needs_background": "light"
     },
     "output_type": "display_data"
    }
   ],
   "source": [
    "plt.scatter(range(df.shape[0]), np.sort(df['Sales'].values))\n",
    "plt.xlabel('index')\n",
    "plt.ylabel('Sales')\n",
    "plt.title(\"Sales distribution\")\n",
    "sns.despine()"
   ]
  },
  {
   "cell_type": "code",
   "execution_count": 8,
   "metadata": {},
   "outputs": [
    {
     "data": {
      "image/png": "[encoded data removed]",
      "text/plain": [
       "<Figure size 432x288 with 1 Axes>"
      ]
     },
     "metadata": {
      "needs_background": "light"
     },
     "output_type": "display_data"
    }
   ],
   "source": [
    "sns.distplot(df['Sales'])\n",
    "plt.title(\"Distribution of Sales\")\n",
    "sns.despine()"
   ]
  },
  {
   "cell_type": "code",
   "execution_count": 9,
   "metadata": {},
   "outputs": [
    {
     "data": {
      "image/png": "[encoded data removed]",
      "text/plain": [
       "<Figure size 432x288 with 1 Axes>"
      ]
     },
     "metadata": {
      "needs_background": "light"
     },
     "output_type": "display_data"
    }
   ],
   "source": [
    "# Density Plot and Histogram of all arrival delays\n",
    "sns.distplot(df['Sales'],\n",
    "             hist=True,\n",
    "             kde=True, \n",
    "             bins=int(50/5),\n",
    "             color = 'darkblue', \n",
    "             hist_kws={'edgecolor':'black'},\n",
    "             kde_kws={'linewidth': 4})\n",
    "plt.title(\"Distribution of Sales\")\n",
    "sns.despine()"
   ]
  },
  {
   "cell_type": "code",
   "execution_count": 10,
   "metadata": {},
   "outputs": [
    {
     "name": "stdout",
     "output_type": "stream",
     "text": [
      "[distfit] >fit..\n",
      "[distfit] >transform..\n",
      "[smoothline] >Smoothing by interpolation..\n",
      "[distfit] >[norm      ] [RSS: 0.0000004] [loc=229.858 scale=623.214] \n",
      "[distfit] >[expon     ] [RSS: 0.0000022] [loc=0.444 scale=229.414] \n",
      "[distfit] >[pareto    ] [RSS: 0.0000002] [loc=-3.134 scale=3.578] \n",
      "[distfit] >[dweibull  ] [RSS: 0.0000002] [loc=14.940 scale=210.985] \n",
      "[distfit] >[t         ] [RSS: 0.0000002] [loc=25.782 scale=25.829] \n",
      "[distfit] >[genextreme] [RSS: 0.0000003] [loc=3.757 scale=2.439] \n",
      "[distfit] >[gamma     ] [RSS: 0.0000003] [loc=0.444 scale=4.209] \n",
      "[distfit] >[lognorm   ] [RSS: 0.0000005] [loc=0.426 scale=59.542] \n",
      "[distfit] >[beta      ] [RSS: 0.0000008] [loc=0.444 scale=127647.042] \n",
      "[distfit] >[uniform   ] [RSS: 0.0000003] [loc=0.444 scale=22638.036] \n",
      "[distfit] >Compute confidence interval [parametric]\n",
      "{'distr': <scipy.stats._continuous_distns.pareto_gen object at 0x117277668>, 'params': (0.35420450881459065, -3.1343441180390696, 3.578344093103152), 'name': 'pareto', 'RSS': 1.8700055993316554e-07, 'loc': -3.1343441180390696, 'scale': 3.578344093103152, 'arg': (0.35420450881459065,), 'CII_min_alpha': 1.001588319715875, 'CII_max_alpha': 16854.09102012091}\n",
      "        distr          RSS  LLE       loc    scale  \\\n",
      "0      pareto  1.87001e-07  NaN  -3.13434  3.57834   \n",
      "1    dweibull   1.9983e-07  NaN     14.94  210.985   \n",
      "2           t  2.07408e-07  NaN   25.7817  25.8295   \n",
      "3     uniform  2.60989e-07  NaN     0.444    22638   \n",
      "4  genextreme  2.77606e-07  NaN   3.75693  2.43939   \n",
      "5       gamma  2.84662e-07  NaN     0.444  4.20938   \n",
      "6        norm  3.66366e-07  NaN   229.858  623.214   \n",
      "7     lognorm   4.6417e-07  NaN  0.426457  59.5419   \n",
      "8        beta  8.11974e-07  NaN     0.444   127647   \n",
      "9       expon  2.15387e-06  NaN     0.444  229.414   \n",
      "\n",
      "                                       arg  \n",
      "0                   (0.35420450881459065,)  \n",
      "1                    (0.4877731415120445,)  \n",
      "2                    (0.6077442444023582,)  \n",
      "3                                       ()  \n",
      "4                   (-0.6878153940766487,)  \n",
      "5                 (0.0008525150604924961,)  \n",
      "6                                       ()  \n",
      "7                    (1.6739071630935918,)  \n",
      "8  (0.4722080195721889, 259.5300784992683)  \n",
      "9                                       ()  \n",
      "[distfit] >plot summary..\n"
     ]
    },
    {
     "data": {
      "image/png": "[encoded data removed]",
      "text/plain": [
       "<Figure size 1080x576 with 1 Axes>"
      ]
     },
     "metadata": {
      "needs_background": "light"
     },
     "output_type": "display_data"
    },
    {
     "data": {
      "text/plain": [
       "(<Figure size 1080x576 with 1 Axes>,\n",
       " <AxesSubplot:title={'center':'Best fit: pareto'}, xlabel='Distribution name', ylabel='RSS (lower is better)'>)"
      ]
     },
     "execution_count": 10,
     "metadata": {},
     "output_type": "execute_result"
    }
   ],
   "source": [
    "from distfit import distfit\n",
    "dist = distfit(alpha=0.05, smooth=10)\n",
    "\n",
    "# Search for best theoretical fit on your empirical data\n",
    "dist.fit_transform(df['Sales'].values)\n",
    "\n",
    "# Best fitted model\n",
    "best_distr = dist.model\n",
    "print(best_distr)\n",
    "\n",
    "#Ranking distributions\n",
    "print(dist.summary)\n",
    "\n",
    "# Plot the summary of fitted distributions\n",
    "dist.plot_summary()"
   ]
  },
  {
   "cell_type": "code",
   "execution_count": 11,
   "metadata": {},
   "outputs": [
    {
     "data": {
      "image/png": "[encoded data removed]",
      "text/plain": [
       "<Figure size 432x288 with 1 Axes>"
      ]
     },
     "metadata": {
      "needs_background": "light"
     },
     "output_type": "display_data"
    }
   ],
   "source": [
    "import scipy.stats as ss\n",
    "a, b = 0.4713453743614682, 259.6451766457534\n",
    "mean, var, skew, kurt = ss.beta.stats(a, b, moments='mvsk')\n",
    "x = np.linspace(ss.beta.ppf(0.01, a, b), ss.beta.ppf(0.99, a, b), 100)\n",
    "\n",
    "y_pdf = ss.beta.pdf(x, a, b)\n",
    "\n",
    "fig, ax = plt.subplots(1, 1)\n",
    "ax.plot(x, y_pdf, 'r-', lw=5, alpha=0.6, label='beta pdf')\n",
    "plt.show()"
   ]
  },
  {
   "cell_type": "code",
   "execution_count": 12,
   "metadata": {},
   "outputs": [
    {
     "data": {
      "image/png": "[encoded data removed]",
      "text/plain": [
       "<Figure size 432x288 with 1 Axes>"
      ]
     },
     "metadata": {
      "needs_background": "light"
     },
     "output_type": "display_data"
    }
   ],
   "source": [
    "num_bins = 100\n",
    "fig, ax = plt.subplots()\n",
    "plt.hist(df['Sales'], num_bins, density=True, facecolor='b', alpha=0.75)\n",
    "plt.xlabel('Sales')\n",
    "plt.ylabel('Probability')\n",
    "plt.title('Histogram of Sales')\n",
    "#plt.text(60, .025, r'$\\mu=100,\\ \\sigma=15$')\n",
    "plt.xlim(0, 5000)\n",
    "#plt.ylim(0, 0.03)\n",
    "plt.grid(True)\n",
    "plt.show()"
   ]
  },
  {
   "cell_type": "code",
   "execution_count": 13,
   "metadata": {
    "colab": {
     "base_uri": "https://localhost:8080/",
     "height": 52
    },
    "colab_type": "code",
    "id": "oHg3nyjUTiRu",
    "outputId": "26be45fb-530e-4495-a787-8bd9a9013a30"
   },
   "outputs": [
    {
     "name": "stdout",
     "output_type": "stream",
     "text": [
      "Skewness: 12.972752\n",
      "Kurtosis: 305.311753\n"
     ]
    }
   ],
   "source": [
    "print(\"Skewness: %f\" % df['Sales'].skew())\n",
    "print(\"Kurtosis: %f\" % df['Sales'].kurt())"
   ]
  },
  {
   "cell_type": "markdown",
   "metadata": {
    "colab_type": "text",
    "id": "iFvD-4nsTzY6"
   },
   "source": [
    "### Profit Distribution"
   ]
  },
  {
   "cell_type": "markdown",
   "metadata": {},
   "source": [
    "The Superstore’s sales distribution is far from a normal distribution, and it has a positive long thin tail, the mass of the distribution is concentrated on the left of the figure. And the tail sales distribution far exceeds the tails of the normal distribution.\n",
    "There are one region where the data has low probability to appear which is on the right side of the distribution."
   ]
  },
  {
   "cell_type": "code",
   "execution_count": 14,
   "metadata": {
    "colab": {
     "base_uri": "https://localhost:8080/",
     "height": 173
    },
    "colab_type": "code",
    "id": "0nnFS8vi_rOe",
    "outputId": "a869b730-d211-491c-c652-c37048771440"
   },
   "outputs": [
    {
     "data": {
      "text/plain": [
       "count    9994.000000\n",
       "mean       28.656896\n",
       "std       234.260108\n",
       "min     -6599.978000\n",
       "25%         1.728750\n",
       "50%         8.666500\n",
       "75%        29.364000\n",
       "max      8399.976000\n",
       "Name: Profit, dtype: float64"
      ]
     },
     "execution_count": 14,
     "metadata": {},
     "output_type": "execute_result"
    }
   ],
   "source": [
    "df['Profit'].describe()"
   ]
  },
  {
   "cell_type": "code",
   "execution_count": 15,
   "metadata": {},
   "outputs": [
    {
     "data": {
      "image/png": "[encoded data removed]",
      "text/plain": [
       "<Figure size 1296x576 with 1 Axes>"
      ]
     },
     "metadata": {
      "needs_background": "light"
     },
     "output_type": "display_data"
    }
   ],
   "source": [
    "plt.figure(figsize=(18,8))\n",
    "plt.plot(df['Order Date'].values, df['Profit'].values, marker='o', alpha=0.4)\n",
    "plt.ylabel('Profit', fontsize=18)\n",
    "plt.xlabel('Time', fontsize=18)\n",
    "plt.show()"
   ]
  },
  {
   "cell_type": "code",
   "execution_count": 16,
   "metadata": {
    "colab": {
     "base_uri": "https://localhost:8080/",
     "height": 295
    },
    "colab_type": "code",
    "id": "h9ZmvO1b_4sF",
    "outputId": "851972ba-c7ae-4efa-9186-30b50c42f719"
   },
   "outputs": [
    {
     "data": {
      "image/png": "[encoded data removed]",
      "text/plain": [
       "<Figure size 432x288 with 1 Axes>"
      ]
     },
     "metadata": {
      "needs_background": "light"
     },
     "output_type": "display_data"
    }
   ],
   "source": [
    "plt.scatter(range(df.shape[0]), np.sort(df['Profit'].values))\n",
    "plt.xlabel('index')\n",
    "plt.ylabel('Profit')\n",
    "plt.title(\"Profit distribution\")\n",
    "sns.despine()"
   ]
  },
  {
   "cell_type": "code",
   "execution_count": 17,
   "metadata": {
    "colab": {
     "base_uri": "https://localhost:8080/",
     "height": 295
    },
    "colab_type": "code",
    "id": "GIAYrDJyCT6r",
    "outputId": "83148977-aa51-4b1b-b2d3-db0050916dfe"
   },
   "outputs": [
    {
     "data": {
      "image/png": "[encoded data removed]",
      "text/plain": [
       "<Figure size 432x288 with 1 Axes>"
      ]
     },
     "metadata": {
      "needs_background": "light"
     },
     "output_type": "display_data"
    }
   ],
   "source": [
    "sns.distplot(df['Profit'])\n",
    "plt.title(\"Distribution of Profit\")\n",
    "sns.despine()"
   ]
  },
  {
   "cell_type": "code",
   "execution_count": 18,
   "metadata": {},
   "outputs": [
    {
     "data": {
      "image/png": "[encoded data removed]",
      "text/plain": [
       "<Figure size 432x288 with 1 Axes>"
      ]
     },
     "metadata": {
      "needs_background": "light"
     },
     "output_type": "display_data"
    }
   ],
   "source": [
    "# Density Plot and Histogram of all arrival delays\n",
    "sns.distplot(df['Profit'],\n",
    "             hist=True,\n",
    "             kde=True, \n",
    "             bins=int(50/5),\n",
    "             color = 'darkblue', \n",
    "             hist_kws={'edgecolor':'black'},\n",
    "             kde_kws={'linewidth': 4})\n",
    "plt.title(\"Distribution of Profit\")\n",
    "sns.despine()"
   ]
  },
  {
   "cell_type": "code",
   "execution_count": 19,
   "metadata": {},
   "outputs": [
    {
     "data": {
      "image/png": "[encoded data removed]",
      "text/plain": [
       "<Figure size 432x288 with 1 Axes>"
      ]
     },
     "metadata": {
      "needs_background": "light"
     },
     "output_type": "display_data"
    }
   ],
   "source": [
    "num_bins = 300\n",
    "fig, ax = plt.subplots()\n",
    "plt.hist(df['Profit'], num_bins, density=True, facecolor='b', alpha=0.75)\n",
    "plt.xlabel('Profit')\n",
    "plt.ylabel('Probability')\n",
    "plt.title('Histogram of Profit')\n",
    "#plt.text(60, .025, r'$\\mu=100,\\ \\sigma=15$')\n",
    "plt.xlim(-1000, 1000)\n",
    "#plt.ylim(0, 0.03)\n",
    "plt.grid(True)\n",
    "plt.show()"
   ]
  },
  {
   "cell_type": "code",
   "execution_count": 20,
   "metadata": {},
   "outputs": [
    {
     "name": "stdout",
     "output_type": "stream",
     "text": [
      "mu: 28.656896307784663\n",
      "std: 234.2483873603588\n"
     ]
    }
   ],
   "source": [
    "mu, std = ss.norm.fit(df['Profit'].values)\n",
    "print('mu:', mu)\n",
    "print('std:', std)"
   ]
  },
  {
   "cell_type": "code",
   "execution_count": 21,
   "metadata": {},
   "outputs": [
    {
     "data": {
      "image/png": "[encoded data removed]",
      "text/plain": [
       "<Figure size 432x288 with 1 Axes>"
      ]
     },
     "metadata": {
      "needs_background": "light"
     },
     "output_type": "display_data"
    }
   ],
   "source": [
    "x_test = ss.norm.rvs(mu, std , size=len(df))\n",
    "\n",
    "plt.plot(df['Profit'].values, color='b', marker='o', label='data')\n",
    "plt.plot(x_test, color='r', marker='o', label='fit', alpha=0.3)\n",
    "plt.legend()\n",
    "plt.show()"
   ]
  },
  {
   "cell_type": "code",
   "execution_count": 22,
   "metadata": {
    "colab": {
     "base_uri": "https://localhost:8080/",
     "height": 52
    },
    "colab_type": "code",
    "id": "USy48-H2UXqB",
    "outputId": "96a80a11-bd32-4b44-8c6c-54c155adf532"
   },
   "outputs": [
    {
     "name": "stdout",
     "output_type": "stream",
     "text": [
      "(Skewness: 7.561432\n",
      "Kurtosis: 397.188515\n"
     ]
    }
   ],
   "source": [
    "print(\"(Skewness: %f\" % df['Profit'].skew())\n",
    "print(\"Kurtosis: %f\" % df['Profit'].kurt())"
   ]
  },
  {
   "cell_type": "markdown",
   "metadata": {},
   "source": [
    "positive Skewness so is non-simetric to the right, Kurtosis >0 so leptocurtic"
   ]
  },
  {
   "cell_type": "markdown",
   "metadata": {},
   "source": [
    "The Superstore’s Profit distribution has both a positive tail and negative tail. However, the positive tail is longer than the negative tail. So the distribution is positive skewed, and the data are heavy-tailed or profusion of outliers.\n",
    "\n",
    "There are two regions where the data has low probability to appear: one on the right side of the distribution, another one on the left."
   ]
  },
  {
   "cell_type": "markdown",
   "metadata": {},
   "source": [
    "## Univariate Anomaly Detection on Sales using Isolation Forest\n",
    "\n",
    "__Isolation Forest__ is an algorithm to detect outliers that returns the anomaly score of each sample using the IsolationForest algorithm which is based on the fact that anomalies are data points that are few and different. Isolation Forest is a tree-based model. In these trees, partitions are created by first randomly selecting a feature and then selecting a random split value between the minimum and maximum value of the selected feature.\n",
    "\n",
    "The following process shows how IsolationForest behaves in the case of the Susperstore’s sales, and the algorithm was implemented in Sklearn and the code was largely borrowed from this tutorial\n",
    "Trained IsolationForest using the Sales data.\n",
    "\n",
    "Store the Sales in the NumPy array for using in our models later.\n",
    "Computed the anomaly score for each observation. The anomaly score of an input sample is computed as the mean anomaly score of the trees in the forest.\n",
    "\n",
    "Classified each observation as an outlier or non-outlier.\n",
    "The visualization highlights the regions where the outliers fall."
   ]
  },
  {
   "cell_type": "code",
   "execution_count": 29,
   "metadata": {},
   "outputs": [
    {
     "data": {
      "text/plain": [
       "array([ 1,  1,  1, ..., -1, -1, -1])"
      ]
     },
     "execution_count": 29,
     "metadata": {},
     "output_type": "execute_result"
    }
   ],
   "source": [
    "outlier.ravel()"
   ]
  },
  {
   "cell_type": "code",
   "execution_count": 32,
   "metadata": {},
   "outputs": [],
   "source": []
  },
  {
   "cell_type": "code",
   "execution_count": 44,
   "metadata": {
    "colab": {
     "base_uri": "https://localhost:8080/",
     "height": 407
    },
    "colab_type": "code",
    "id": "uFuAUh5S778M",
    "outputId": "bc047c0e-35f6-4a7a-9e73-6c12a20801be"
   },
   "outputs": [
    {
     "name": "stdout",
     "output_type": "stream",
     "text": [
      "Limit outlier sales value:555\n"
     ]
    },
    {
     "data": {
      "image/png": "[encoded data removed]",
      "text/plain": [
       "<Figure size 720x288 with 1 Axes>"
      ]
     },
     "metadata": {
      "needs_background": "light"
     },
     "output_type": "display_data"
    }
   ],
   "source": [
    "# instantiate model\n",
    "isolation_forest = IsolationForest(n_estimators=200)\n",
    "\n",
    "# fit model\n",
    "isolation_forest.fit(df['Sales'].values.reshape(-1, 1))\n",
    "xx = np.linspace(df['Sales'].min(), df['Sales'].max(), len(df)).reshape(-1,1)\n",
    "anomaly_score = isolation_forest.decision_function(xx)\n",
    "\n",
    "# make prediction\n",
    "outlier = isolation_forest.predict(xx)\n",
    "\n",
    "df_resutls = pd.DataFrame({'outlier':outlier.ravel(), 'sales':xx.T.ravel(), 'anomaly_score':anomaly_score.ravel()})\n",
    "\n",
    "limit_sales_outlier = int(df_resutls[df_resutls['outlier']==-1]['sales'].values[0])\n",
    "\n",
    "print('Limit outlier sales value: {}'.format(limit_sales_outlier))\n",
    "\n",
    "# plot\n",
    "plt.figure(figsize=(10,4))\n",
    "plt.plot(xx, anomaly_score, label='anomaly score')\n",
    "plt.fill_between(df_resutls['sales'],\n",
    "                 df_resutls['anomaly_score'].min(),\n",
    "                 df_resutls['anomaly_score'].max(), \n",
    "                 where=df_resutls['outlier']==-1,\n",
    "                 color='r', \n",
    "                 alpha=.4,\n",
    "                 label='outlier region')\n",
    "plt.legend()\n",
    "plt.ylabel('anomaly score')\n",
    "plt.xlabel('Sales')\n",
    "plt.show();"
   ]
  },
  {
   "cell_type": "code",
   "execution_count": 46,
   "metadata": {},
   "outputs": [
    {
     "name": "stdout",
     "output_type": "stream",
     "text": [
      "No. of of anomalies: 5\n"
     ]
    }
   ],
   "source": [
    "print('No. of of anomalies:', len(df.loc[df['Sales'] > 555].head()))"
   ]
  },
  {
   "cell_type": "code",
   "execution_count": 45,
   "metadata": {
    "colab": {
     "base_uri": "https://localhost:8080/",
     "height": 517
    },
    "colab_type": "code",
    "id": "FkhRwo1cgYtK",
    "outputId": "f72e1ebe-edb4-4282-c810-151b504f0894"
   },
   "outputs": [
    {
     "data": {
      "text/html": [
       "<div>\n",
       "<style scoped>\n",
       "    .dataframe tbody tr th:only-of-type {\n",
       "        vertical-align: middle;\n",
       "    }\n",
       "\n",
       "    .dataframe tbody tr th {\n",
       "        vertical-align: top;\n",
       "    }\n",
       "\n",
       "    .dataframe thead th {\n",
       "        text-align: right;\n",
       "    }\n",
       "</style>\n",
       "<table border=\"1\" class=\"dataframe\">\n",
       "  <thead>\n",
       "    <tr style=\"text-align: right;\">\n",
       "      <th></th>\n",
       "      <th>Row ID</th>\n",
       "      <th>Order ID</th>\n",
       "      <th>Order Date</th>\n",
       "      <th>Ship Date</th>\n",
       "      <th>Ship Mode</th>\n",
       "      <th>Customer ID</th>\n",
       "      <th>Customer Name</th>\n",
       "      <th>Segment</th>\n",
       "      <th>Country</th>\n",
       "      <th>City</th>\n",
       "      <th>...</th>\n",
       "      <th>Postal Code</th>\n",
       "      <th>Region</th>\n",
       "      <th>Product ID</th>\n",
       "      <th>Category</th>\n",
       "      <th>Sub-Category</th>\n",
       "      <th>Product Name</th>\n",
       "      <th>Sales</th>\n",
       "      <th>Quantity</th>\n",
       "      <th>Discount</th>\n",
       "      <th>Profit</th>\n",
       "    </tr>\n",
       "  </thead>\n",
       "  <tbody>\n",
       "    <tr>\n",
       "      <th>14</th>\n",
       "      <td>7633</td>\n",
       "      <td>US-2017-158526</td>\n",
       "      <td>2017-12-29</td>\n",
       "      <td>2018-01-01</td>\n",
       "      <td>Second Class</td>\n",
       "      <td>KH-16360</td>\n",
       "      <td>Katherine Hughes</td>\n",
       "      <td>Consumer</td>\n",
       "      <td>United States</td>\n",
       "      <td>Louisville</td>\n",
       "      <td>...</td>\n",
       "      <td>40214</td>\n",
       "      <td>South</td>\n",
       "      <td>FUR-CH-10002602</td>\n",
       "      <td>Furniture</td>\n",
       "      <td>Chairs</td>\n",
       "      <td>DMI Arturo Collection Mission-style Design Woo...</td>\n",
       "      <td>1207.840</td>\n",
       "      <td>8</td>\n",
       "      <td>0.0</td>\n",
       "      <td>314.0384</td>\n",
       "    </tr>\n",
       "    <tr>\n",
       "      <th>27</th>\n",
       "      <td>271</td>\n",
       "      <td>CA-2017-163979</td>\n",
       "      <td>2017-12-28</td>\n",
       "      <td>2018-01-02</td>\n",
       "      <td>Second Class</td>\n",
       "      <td>KH-16690</td>\n",
       "      <td>Kristen Hastings</td>\n",
       "      <td>Corporate</td>\n",
       "      <td>United States</td>\n",
       "      <td>San Francisco</td>\n",
       "      <td>...</td>\n",
       "      <td>94110</td>\n",
       "      <td>West</td>\n",
       "      <td>OFF-ST-10003208</td>\n",
       "      <td>Office Supplies</td>\n",
       "      <td>Storage</td>\n",
       "      <td>Adjustable Depth Letter/Legal Cart</td>\n",
       "      <td>725.840</td>\n",
       "      <td>4</td>\n",
       "      <td>0.0</td>\n",
       "      <td>210.4936</td>\n",
       "    </tr>\n",
       "    <tr>\n",
       "      <th>41</th>\n",
       "      <td>5475</td>\n",
       "      <td>CA-2017-121741</td>\n",
       "      <td>2017-12-26</td>\n",
       "      <td>2017-12-26</td>\n",
       "      <td>Same Day</td>\n",
       "      <td>YC-21895</td>\n",
       "      <td>Yoseph Carroll</td>\n",
       "      <td>Corporate</td>\n",
       "      <td>United States</td>\n",
       "      <td>Fremont</td>\n",
       "      <td>...</td>\n",
       "      <td>68025</td>\n",
       "      <td>Central</td>\n",
       "      <td>OFF-ST-10004459</td>\n",
       "      <td>Office Supplies</td>\n",
       "      <td>Storage</td>\n",
       "      <td>Tennsco Single-Tier Lockers</td>\n",
       "      <td>750.680</td>\n",
       "      <td>2</td>\n",
       "      <td>0.0</td>\n",
       "      <td>37.5340</td>\n",
       "    </tr>\n",
       "    <tr>\n",
       "      <th>64</th>\n",
       "      <td>4924</td>\n",
       "      <td>CA-2017-114055</td>\n",
       "      <td>2017-12-25</td>\n",
       "      <td>2017-12-29</td>\n",
       "      <td>Second Class</td>\n",
       "      <td>MH-18115</td>\n",
       "      <td>Mick Hernandez</td>\n",
       "      <td>Home Office</td>\n",
       "      <td>United States</td>\n",
       "      <td>Huntsville</td>\n",
       "      <td>...</td>\n",
       "      <td>35810</td>\n",
       "      <td>South</td>\n",
       "      <td>OFF-PA-10000994</td>\n",
       "      <td>Office Supplies</td>\n",
       "      <td>Paper</td>\n",
       "      <td>Xerox 1915</td>\n",
       "      <td>629.100</td>\n",
       "      <td>6</td>\n",
       "      <td>0.0</td>\n",
       "      <td>301.9680</td>\n",
       "    </tr>\n",
       "    <tr>\n",
       "      <th>70</th>\n",
       "      <td>5149</td>\n",
       "      <td>CA-2017-128734</td>\n",
       "      <td>2017-12-24</td>\n",
       "      <td>2017-12-31</td>\n",
       "      <td>Standard Class</td>\n",
       "      <td>JL-15175</td>\n",
       "      <td>James Lanier</td>\n",
       "      <td>Home Office</td>\n",
       "      <td>United States</td>\n",
       "      <td>Chandler</td>\n",
       "      <td>...</td>\n",
       "      <td>85224</td>\n",
       "      <td>West</td>\n",
       "      <td>FUR-CH-10001394</td>\n",
       "      <td>Furniture</td>\n",
       "      <td>Chairs</td>\n",
       "      <td>Global Leather Executive Chair</td>\n",
       "      <td>842.376</td>\n",
       "      <td>3</td>\n",
       "      <td>0.2</td>\n",
       "      <td>105.2970</td>\n",
       "    </tr>\n",
       "  </tbody>\n",
       "</table>\n",
       "<p>5 rows × 21 columns</p>\n",
       "</div>"
      ],
      "text/plain": [
       "    Row ID        Order ID Order Date  Ship Date       Ship Mode Customer ID  \\\n",
       "14    7633  US-2017-158526 2017-12-29 2018-01-01    Second Class    KH-16360   \n",
       "27     271  CA-2017-163979 2017-12-28 2018-01-02    Second Class    KH-16690   \n",
       "41    5475  CA-2017-121741 2017-12-26 2017-12-26        Same Day    YC-21895   \n",
       "64    4924  CA-2017-114055 2017-12-25 2017-12-29    Second Class    MH-18115   \n",
       "70    5149  CA-2017-128734 2017-12-24 2017-12-31  Standard Class    JL-15175   \n",
       "\n",
       "       Customer Name      Segment        Country           City  ...  \\\n",
       "14  Katherine Hughes     Consumer  United States     Louisville  ...   \n",
       "27  Kristen Hastings    Corporate  United States  San Francisco  ...   \n",
       "41    Yoseph Carroll    Corporate  United States        Fremont  ...   \n",
       "64    Mick Hernandez  Home Office  United States     Huntsville  ...   \n",
       "70      James Lanier  Home Office  United States       Chandler  ...   \n",
       "\n",
       "   Postal Code   Region       Product ID         Category Sub-Category  \\\n",
       "14       40214    South  FUR-CH-10002602        Furniture       Chairs   \n",
       "27       94110     West  OFF-ST-10003208  Office Supplies      Storage   \n",
       "41       68025  Central  OFF-ST-10004459  Office Supplies      Storage   \n",
       "64       35810    South  OFF-PA-10000994  Office Supplies        Paper   \n",
       "70       85224     West  FUR-CH-10001394        Furniture       Chairs   \n",
       "\n",
       "                                         Product Name     Sales  Quantity  \\\n",
       "14  DMI Arturo Collection Mission-style Design Woo...  1207.840         8   \n",
       "27                 Adjustable Depth Letter/Legal Cart   725.840         4   \n",
       "41                        Tennsco Single-Tier Lockers   750.680         2   \n",
       "64                                         Xerox 1915   629.100         6   \n",
       "70                     Global Leather Executive Chair   842.376         3   \n",
       "\n",
       "    Discount    Profit  \n",
       "14       0.0  314.0384  \n",
       "27       0.0  210.4936  \n",
       "41       0.0   37.5340  \n",
       "64       0.0  301.9680  \n",
       "70       0.2  105.2970  \n",
       "\n",
       "[5 rows x 21 columns]"
      ]
     },
     "execution_count": 45,
     "metadata": {},
     "output_type": "execute_result"
    }
   ],
   "source": [
    "df.loc[df['Sales'] > 555].head()"
   ]
  },
  {
   "cell_type": "markdown",
   "metadata": {
    "colab_type": "text",
    "id": "bH4o-CL-N9Np"
   },
   "source": [
    "The region where the data has low probability to appear is on the right side of the distribution.\n",
    "This purchase seems normal to me expect it was a larger amount of sales compared with the other orders in the data."
   ]
  },
  {
   "cell_type": "markdown",
   "metadata": {},
   "source": [
    "\n",
    "\n",
    "## Univariate Anomaly Detection on Profit using Isolation Forest\n",
    "\n",
    "* Trained IsolationForest using the Profit variable.\n",
    "* Store the Profit in the NumPy array for using in our models later.\n",
    "* Computed the anomaly score for each observation. The anomaly score of an input sample is computed as the mean anomaly score of the trees in the forest.\n",
    "* Classified each observation as an outlier or non-outlier.\n",
    "* The visualization highlights the regions where the outliers fall."
   ]
  },
  {
   "cell_type": "code",
   "execution_count": 189,
   "metadata": {
    "colab": {
     "base_uri": "https://localhost:8080/",
     "height": 407
    },
    "colab_type": "code",
    "id": "PoDzs4DTFSY-",
    "outputId": "84e7df8f-2013-4c12-8b54-7bf0f1d4fc7b"
   },
   "outputs": [
    {
     "data": {
      "image/png": "[encoded data removed]",
      "text/plain": [
       "<Figure size 720x288 with 1 Axes>"
      ]
     },
     "metadata": {
      "needs_background": "light"
     },
     "output_type": "display_data"
    },
    {
     "name": "stdout",
     "output_type": "stream",
     "text": [
      "upper limit: 147.22436465525698\n",
      "lower limit: -76.43150905634047\n"
     ]
    }
   ],
   "source": [
    "# instantiate the model\n",
    "isolation_forest = IsolationForest(n_estimators=100)\n",
    "\n",
    "# fit the model\n",
    "isolation_forest.fit(df['Profit'].values.reshape(-1, 1))\n",
    "xx = np.linspace(df['Profit'].min(), df['Profit'].max(), len(df)).reshape(-1,1)\n",
    "anomaly_score = isolation_forest.decision_function(xx)\n",
    "\n",
    "# fit model\n",
    "outlier = isolation_forest.predict(xx)\n",
    "\n",
    "# plot\n",
    "plt.figure(figsize=(10,4))\n",
    "plt.plot(xx, anomaly_score, label='anomaly score')\n",
    "plt.fill_between(xx.T[0], np.min(anomaly_score), np.max(anomaly_score), \n",
    "                 where=outlier==-1,\n",
    "                 color='r', \n",
    "                 alpha=.4, label='outlier region')\n",
    "plt.legend()\n",
    "plt.ylabel('anomaly score')\n",
    "plt.xlabel('Profit')\n",
    "plt.show();\n",
    "\n",
    "# get limis\n",
    "X = xx.T[0]\n",
    "index = outlier!=-1\n",
    "\n",
    "lower_limit = np.min(X[index])\n",
    "upper_limit = np.max(X[index])\n",
    "\n",
    "print('upper limit:', upper_limit)\n",
    "print('lower limit:', lower_limit)"
   ]
  },
  {
   "cell_type": "markdown",
   "metadata": {
    "colab_type": "text",
    "id": "GivF2cSFS208"
   },
   "source": [
    "There were two regions that the data has low probability to appear: one on the left side of the distribution, another one on the right side of the distribution.\n",
    "\n",
    "According to the above results and visualization, It seems that Profit that below -76 or exceeds 147 would be considered as an outlier, let’s visually examine one example each that determined by our model and to see whether they make sense.\n",
    "\n",
    "Our model determined that this order with a large profit is an anomaly. However, when we investigate this order, it could be just a product that has a relatively high margin.\n",
    "\n",
    "The above two visualizations show the anomaly scores and highlighted the regions where the outliers are. As expected, the anomaly score reflects the shape of the underlying distribution and the outlier regions correspond to low probability areas.\n",
    "\n",
    "However, Univariate analysis can only get us thus far. We may realize that some of these anomalies that determined by our models are not the anomalies we expected. When our data is multidimensional as opposed to univariate, the approaches to anomaly detection become more computationally intensive and more mathematically complex.\n"
   ]
  },
  {
   "cell_type": "code",
   "execution_count": 204,
   "metadata": {
    "colab": {
     "base_uri": "https://localhost:8080/",
     "height": 569
    },
    "colab_type": "code",
    "id": "XtizVySOlPUT",
    "outputId": "a6dd1bda-0de3-4e50-fa89-5feb6edabac2"
   },
   "outputs": [
    {
     "name": "stdout",
     "output_type": "stream",
     "text": [
      "No. anomalies: 5\n"
     ]
    }
   ],
   "source": [
    "print('No. anomalies:', len(df.loc[df['Profit'] > 147].head()))"
   ]
  },
  {
   "cell_type": "code",
   "execution_count": 205,
   "metadata": {},
   "outputs": [
    {
     "name": "stdout",
     "output_type": "stream",
     "text": [
      "No. anomalies: 5\n"
     ]
    }
   ],
   "source": [
    "print('No. anomalies:', len(df.loc[df['Profit'] < -76].head()))"
   ]
  },
  {
   "cell_type": "code",
   "execution_count": 206,
   "metadata": {},
   "outputs": [
    {
     "data": {
      "text/html": [
       "<div>\n",
       "<style scoped>\n",
       "    .dataframe tbody tr th:only-of-type {\n",
       "        vertical-align: middle;\n",
       "    }\n",
       "\n",
       "    .dataframe tbody tr th {\n",
       "        vertical-align: top;\n",
       "    }\n",
       "\n",
       "    .dataframe thead th {\n",
       "        text-align: right;\n",
       "    }\n",
       "</style>\n",
       "<table border=\"1\" class=\"dataframe\">\n",
       "  <thead>\n",
       "    <tr style=\"text-align: right;\">\n",
       "      <th></th>\n",
       "      <th>Row ID</th>\n",
       "      <th>Order ID</th>\n",
       "      <th>Order Date</th>\n",
       "      <th>Ship Date</th>\n",
       "      <th>Ship Mode</th>\n",
       "      <th>Customer ID</th>\n",
       "      <th>Customer Name</th>\n",
       "      <th>Segment</th>\n",
       "      <th>Country</th>\n",
       "      <th>City</th>\n",
       "      <th>...</th>\n",
       "      <th>Postal Code</th>\n",
       "      <th>Region</th>\n",
       "      <th>Product ID</th>\n",
       "      <th>Category</th>\n",
       "      <th>Sub-Category</th>\n",
       "      <th>Product Name</th>\n",
       "      <th>Sales</th>\n",
       "      <th>Quantity</th>\n",
       "      <th>Discount</th>\n",
       "      <th>Profit</th>\n",
       "    </tr>\n",
       "  </thead>\n",
       "  <tbody>\n",
       "    <tr>\n",
       "      <th>14</th>\n",
       "      <td>7633</td>\n",
       "      <td>US-2017-158526</td>\n",
       "      <td>2017-12-29</td>\n",
       "      <td>2018-01-01</td>\n",
       "      <td>Second Class</td>\n",
       "      <td>KH-16360</td>\n",
       "      <td>Katherine Hughes</td>\n",
       "      <td>Consumer</td>\n",
       "      <td>United States</td>\n",
       "      <td>Louisville</td>\n",
       "      <td>...</td>\n",
       "      <td>40214</td>\n",
       "      <td>South</td>\n",
       "      <td>FUR-CH-10002602</td>\n",
       "      <td>Furniture</td>\n",
       "      <td>Chairs</td>\n",
       "      <td>DMI Arturo Collection Mission-style Design Woo...</td>\n",
       "      <td>1207.840</td>\n",
       "      <td>8</td>\n",
       "      <td>0.0</td>\n",
       "      <td>314.0384</td>\n",
       "    </tr>\n",
       "    <tr>\n",
       "      <th>27</th>\n",
       "      <td>271</td>\n",
       "      <td>CA-2017-163979</td>\n",
       "      <td>2017-12-28</td>\n",
       "      <td>2018-01-02</td>\n",
       "      <td>Second Class</td>\n",
       "      <td>KH-16690</td>\n",
       "      <td>Kristen Hastings</td>\n",
       "      <td>Corporate</td>\n",
       "      <td>United States</td>\n",
       "      <td>San Francisco</td>\n",
       "      <td>...</td>\n",
       "      <td>94110</td>\n",
       "      <td>West</td>\n",
       "      <td>OFF-ST-10003208</td>\n",
       "      <td>Office Supplies</td>\n",
       "      <td>Storage</td>\n",
       "      <td>Adjustable Depth Letter/Legal Cart</td>\n",
       "      <td>725.840</td>\n",
       "      <td>4</td>\n",
       "      <td>0.0</td>\n",
       "      <td>210.4936</td>\n",
       "    </tr>\n",
       "    <tr>\n",
       "      <th>64</th>\n",
       "      <td>4924</td>\n",
       "      <td>CA-2017-114055</td>\n",
       "      <td>2017-12-25</td>\n",
       "      <td>2017-12-29</td>\n",
       "      <td>Second Class</td>\n",
       "      <td>MH-18115</td>\n",
       "      <td>Mick Hernandez</td>\n",
       "      <td>Home Office</td>\n",
       "      <td>United States</td>\n",
       "      <td>Huntsville</td>\n",
       "      <td>...</td>\n",
       "      <td>35810</td>\n",
       "      <td>South</td>\n",
       "      <td>OFF-PA-10000994</td>\n",
       "      <td>Office Supplies</td>\n",
       "      <td>Paper</td>\n",
       "      <td>Xerox 1915</td>\n",
       "      <td>629.100</td>\n",
       "      <td>6</td>\n",
       "      <td>0.0</td>\n",
       "      <td>301.9680</td>\n",
       "    </tr>\n",
       "    <tr>\n",
       "      <th>73</th>\n",
       "      <td>4620</td>\n",
       "      <td>CA-2017-145219</td>\n",
       "      <td>2017-12-24</td>\n",
       "      <td>2017-12-25</td>\n",
       "      <td>First Class</td>\n",
       "      <td>RM-19675</td>\n",
       "      <td>Robert Marley</td>\n",
       "      <td>Home Office</td>\n",
       "      <td>United States</td>\n",
       "      <td>Los Angeles</td>\n",
       "      <td>...</td>\n",
       "      <td>90049</td>\n",
       "      <td>West</td>\n",
       "      <td>TEC-CO-10001449</td>\n",
       "      <td>Technology</td>\n",
       "      <td>Copiers</td>\n",
       "      <td>Hewlett Packard LaserJet 3310 Copier</td>\n",
       "      <td>2879.952</td>\n",
       "      <td>6</td>\n",
       "      <td>0.2</td>\n",
       "      <td>1007.9832</td>\n",
       "    </tr>\n",
       "    <tr>\n",
       "      <th>77</th>\n",
       "      <td>4030</td>\n",
       "      <td>CA-2017-124296</td>\n",
       "      <td>2017-12-24</td>\n",
       "      <td>2017-12-28</td>\n",
       "      <td>Standard Class</td>\n",
       "      <td>CS-12355</td>\n",
       "      <td>Christine Sundaresam</td>\n",
       "      <td>Consumer</td>\n",
       "      <td>United States</td>\n",
       "      <td>Lafayette</td>\n",
       "      <td>...</td>\n",
       "      <td>70506</td>\n",
       "      <td>South</td>\n",
       "      <td>TEC-MA-10003183</td>\n",
       "      <td>Technology</td>\n",
       "      <td>Machines</td>\n",
       "      <td>DYMO CardScan Personal V9 Business Card Scanner</td>\n",
       "      <td>479.970</td>\n",
       "      <td>3</td>\n",
       "      <td>0.0</td>\n",
       "      <td>239.9850</td>\n",
       "    </tr>\n",
       "  </tbody>\n",
       "</table>\n",
       "<p>5 rows × 21 columns</p>\n",
       "</div>"
      ],
      "text/plain": [
       "    Row ID        Order ID Order Date  Ship Date       Ship Mode Customer ID  \\\n",
       "14    7633  US-2017-158526 2017-12-29 2018-01-01    Second Class    KH-16360   \n",
       "27     271  CA-2017-163979 2017-12-28 2018-01-02    Second Class    KH-16690   \n",
       "64    4924  CA-2017-114055 2017-12-25 2017-12-29    Second Class    MH-18115   \n",
       "73    4620  CA-2017-145219 2017-12-24 2017-12-25     First Class    RM-19675   \n",
       "77    4030  CA-2017-124296 2017-12-24 2017-12-28  Standard Class    CS-12355   \n",
       "\n",
       "           Customer Name      Segment        Country           City  ...  \\\n",
       "14      Katherine Hughes     Consumer  United States     Louisville  ...   \n",
       "27      Kristen Hastings    Corporate  United States  San Francisco  ...   \n",
       "64        Mick Hernandez  Home Office  United States     Huntsville  ...   \n",
       "73         Robert Marley  Home Office  United States    Los Angeles  ...   \n",
       "77  Christine Sundaresam     Consumer  United States      Lafayette  ...   \n",
       "\n",
       "   Postal Code  Region       Product ID         Category Sub-Category  \\\n",
       "14       40214   South  FUR-CH-10002602        Furniture       Chairs   \n",
       "27       94110    West  OFF-ST-10003208  Office Supplies      Storage   \n",
       "64       35810   South  OFF-PA-10000994  Office Supplies        Paper   \n",
       "73       90049    West  TEC-CO-10001449       Technology      Copiers   \n",
       "77       70506   South  TEC-MA-10003183       Technology     Machines   \n",
       "\n",
       "                                         Product Name     Sales  Quantity  \\\n",
       "14  DMI Arturo Collection Mission-style Design Woo...  1207.840         8   \n",
       "27                 Adjustable Depth Letter/Legal Cart   725.840         4   \n",
       "64                                         Xerox 1915   629.100         6   \n",
       "73               Hewlett Packard LaserJet 3310 Copier  2879.952         6   \n",
       "77    DYMO CardScan Personal V9 Business Card Scanner   479.970         3   \n",
       "\n",
       "    Discount     Profit  \n",
       "14       0.0   314.0384  \n",
       "27       0.0   210.4936  \n",
       "64       0.0   301.9680  \n",
       "73       0.2  1007.9832  \n",
       "77       0.0   239.9850  \n",
       "\n",
       "[5 rows x 21 columns]"
      ]
     },
     "execution_count": 206,
     "metadata": {},
     "output_type": "execute_result"
    }
   ],
   "source": [
    "df.loc[df['Profit'] > 147].head()"
   ]
  },
  {
   "cell_type": "code",
   "execution_count": 203,
   "metadata": {},
   "outputs": [
    {
     "data": {
      "text/html": [
       "<div>\n",
       "<style scoped>\n",
       "    .dataframe tbody tr th:only-of-type {\n",
       "        vertical-align: middle;\n",
       "    }\n",
       "\n",
       "    .dataframe tbody tr th {\n",
       "        vertical-align: top;\n",
       "    }\n",
       "\n",
       "    .dataframe thead th {\n",
       "        text-align: right;\n",
       "    }\n",
       "</style>\n",
       "<table border=\"1\" class=\"dataframe\">\n",
       "  <thead>\n",
       "    <tr style=\"text-align: right;\">\n",
       "      <th></th>\n",
       "      <th>Row ID</th>\n",
       "      <th>Order ID</th>\n",
       "      <th>Order Date</th>\n",
       "      <th>Ship Date</th>\n",
       "      <th>Ship Mode</th>\n",
       "      <th>Customer ID</th>\n",
       "      <th>Customer Name</th>\n",
       "      <th>Segment</th>\n",
       "      <th>Country</th>\n",
       "      <th>City</th>\n",
       "      <th>...</th>\n",
       "      <th>Postal Code</th>\n",
       "      <th>Region</th>\n",
       "      <th>Product ID</th>\n",
       "      <th>Category</th>\n",
       "      <th>Sub-Category</th>\n",
       "      <th>Product Name</th>\n",
       "      <th>Sales</th>\n",
       "      <th>Quantity</th>\n",
       "      <th>Discount</th>\n",
       "      <th>Profit</th>\n",
       "    </tr>\n",
       "  </thead>\n",
       "  <tbody>\n",
       "    <tr>\n",
       "      <th>62</th>\n",
       "      <td>2426</td>\n",
       "      <td>US-2017-147669</td>\n",
       "      <td>2017-12-25</td>\n",
       "      <td>2017-12-30</td>\n",
       "      <td>Standard Class</td>\n",
       "      <td>SV-20935</td>\n",
       "      <td>Susan Vittorini</td>\n",
       "      <td>Consumer</td>\n",
       "      <td>United States</td>\n",
       "      <td>Fairfield</td>\n",
       "      <td>...</td>\n",
       "      <td>45014</td>\n",
       "      <td>East</td>\n",
       "      <td>FUR-TA-10002645</td>\n",
       "      <td>Furniture</td>\n",
       "      <td>Tables</td>\n",
       "      <td>Hon Rectangular Conference Tables</td>\n",
       "      <td>273.060</td>\n",
       "      <td>2</td>\n",
       "      <td>0.4</td>\n",
       "      <td>-104.6730</td>\n",
       "    </tr>\n",
       "    <tr>\n",
       "      <th>100</th>\n",
       "      <td>8950</td>\n",
       "      <td>CA-2017-150910</td>\n",
       "      <td>2017-12-22</td>\n",
       "      <td>2017-12-28</td>\n",
       "      <td>Standard Class</td>\n",
       "      <td>JL-15130</td>\n",
       "      <td>Jack Lebron</td>\n",
       "      <td>Consumer</td>\n",
       "      <td>United States</td>\n",
       "      <td>Jackson</td>\n",
       "      <td>...</td>\n",
       "      <td>38301</td>\n",
       "      <td>South</td>\n",
       "      <td>FUR-TA-10002903</td>\n",
       "      <td>Furniture</td>\n",
       "      <td>Tables</td>\n",
       "      <td>Bevis Round Bullnose 29\" High Table Top</td>\n",
       "      <td>934.956</td>\n",
       "      <td>6</td>\n",
       "      <td>0.4</td>\n",
       "      <td>-249.3216</td>\n",
       "    </tr>\n",
       "    <tr>\n",
       "      <th>105</th>\n",
       "      <td>7152</td>\n",
       "      <td>CA-2017-142909</td>\n",
       "      <td>2017-12-22</td>\n",
       "      <td>2017-12-25</td>\n",
       "      <td>Second Class</td>\n",
       "      <td>AG-10330</td>\n",
       "      <td>Alex Grayson</td>\n",
       "      <td>Consumer</td>\n",
       "      <td>United States</td>\n",
       "      <td>Mesa</td>\n",
       "      <td>...</td>\n",
       "      <td>85204</td>\n",
       "      <td>West</td>\n",
       "      <td>FUR-TA-10003008</td>\n",
       "      <td>Furniture</td>\n",
       "      <td>Tables</td>\n",
       "      <td>Lesro Round Back Collection Coffee Table, End ...</td>\n",
       "      <td>182.550</td>\n",
       "      <td>2</td>\n",
       "      <td>0.5</td>\n",
       "      <td>-135.0870</td>\n",
       "    </tr>\n",
       "    <tr>\n",
       "      <th>144</th>\n",
       "      <td>5474</td>\n",
       "      <td>CA-2017-116946</td>\n",
       "      <td>2017-12-19</td>\n",
       "      <td>2017-12-23</td>\n",
       "      <td>Standard Class</td>\n",
       "      <td>TS-21505</td>\n",
       "      <td>Tony Sayre</td>\n",
       "      <td>Consumer</td>\n",
       "      <td>United States</td>\n",
       "      <td>Parker</td>\n",
       "      <td>...</td>\n",
       "      <td>80134</td>\n",
       "      <td>West</td>\n",
       "      <td>FUR-BO-10000468</td>\n",
       "      <td>Furniture</td>\n",
       "      <td>Bookcases</td>\n",
       "      <td>O'Sullivan 2-Shelf Heavy-Duty Bookcases</td>\n",
       "      <td>102.018</td>\n",
       "      <td>7</td>\n",
       "      <td>0.7</td>\n",
       "      <td>-183.6324</td>\n",
       "    </tr>\n",
       "    <tr>\n",
       "      <th>166</th>\n",
       "      <td>204</td>\n",
       "      <td>US-2017-116701</td>\n",
       "      <td>2017-12-17</td>\n",
       "      <td>2017-12-21</td>\n",
       "      <td>Second Class</td>\n",
       "      <td>LC-17140</td>\n",
       "      <td>Logan Currie</td>\n",
       "      <td>Consumer</td>\n",
       "      <td>United States</td>\n",
       "      <td>Dallas</td>\n",
       "      <td>...</td>\n",
       "      <td>75220</td>\n",
       "      <td>Central</td>\n",
       "      <td>OFF-AP-10003217</td>\n",
       "      <td>Office Supplies</td>\n",
       "      <td>Appliances</td>\n",
       "      <td>Eureka Sanitaire  Commercial Upright</td>\n",
       "      <td>66.284</td>\n",
       "      <td>2</td>\n",
       "      <td>0.8</td>\n",
       "      <td>-178.9668</td>\n",
       "    </tr>\n",
       "  </tbody>\n",
       "</table>\n",
       "<p>5 rows × 21 columns</p>\n",
       "</div>"
      ],
      "text/plain": [
       "     Row ID        Order ID Order Date  Ship Date       Ship Mode Customer ID  \\\n",
       "62     2426  US-2017-147669 2017-12-25 2017-12-30  Standard Class    SV-20935   \n",
       "100    8950  CA-2017-150910 2017-12-22 2017-12-28  Standard Class    JL-15130   \n",
       "105    7152  CA-2017-142909 2017-12-22 2017-12-25    Second Class    AG-10330   \n",
       "144    5474  CA-2017-116946 2017-12-19 2017-12-23  Standard Class    TS-21505   \n",
       "166     204  US-2017-116701 2017-12-17 2017-12-21    Second Class    LC-17140   \n",
       "\n",
       "       Customer Name   Segment        Country       City  ... Postal Code  \\\n",
       "62   Susan Vittorini  Consumer  United States  Fairfield  ...       45014   \n",
       "100      Jack Lebron  Consumer  United States    Jackson  ...       38301   \n",
       "105     Alex Grayson  Consumer  United States       Mesa  ...       85204   \n",
       "144       Tony Sayre  Consumer  United States     Parker  ...       80134   \n",
       "166     Logan Currie  Consumer  United States     Dallas  ...       75220   \n",
       "\n",
       "      Region       Product ID         Category Sub-Category  \\\n",
       "62      East  FUR-TA-10002645        Furniture       Tables   \n",
       "100    South  FUR-TA-10002903        Furniture       Tables   \n",
       "105     West  FUR-TA-10003008        Furniture       Tables   \n",
       "144     West  FUR-BO-10000468        Furniture    Bookcases   \n",
       "166  Central  OFF-AP-10003217  Office Supplies   Appliances   \n",
       "\n",
       "                                          Product Name    Sales  Quantity  \\\n",
       "62                   Hon Rectangular Conference Tables  273.060         2   \n",
       "100            Bevis Round Bullnose 29\" High Table Top  934.956         6   \n",
       "105  Lesro Round Back Collection Coffee Table, End ...  182.550         2   \n",
       "144            O'Sullivan 2-Shelf Heavy-Duty Bookcases  102.018         7   \n",
       "166               Eureka Sanitaire  Commercial Upright   66.284         2   \n",
       "\n",
       "     Discount    Profit  \n",
       "62        0.4 -104.6730  \n",
       "100       0.4 -249.3216  \n",
       "105       0.5 -135.0870  \n",
       "144       0.7 -183.6324  \n",
       "166       0.8 -178.9668  \n",
       "\n",
       "[5 rows x 21 columns]"
      ]
     },
     "execution_count": 203,
     "metadata": {},
     "output_type": "execute_result"
    }
   ],
   "source": [
    "df.loc[df['Profit'] < -76].head()"
   ]
  },
  {
   "cell_type": "markdown",
   "metadata": {},
   "source": [
    "## Multivariate Anomaly Detection\n",
    "\n",
    "Most of the analysis that we end up doing are multivariate due to complexity of the world we are living in. In multivariate anomaly detection, outlier is a combined unusual score on at least two variables.\n",
    "\n",
    "So, using the Sales and Profit variables, we are going to build an unsupervised multivariate anomaly detection method based on several models.\n",
    "\n",
    "We are using PyOD which is a Python library for detecting anomalies in multivariate data. The library was developed by Yue Zhao.\n",
    "\n",
    "__Sales & Profit__\n",
    "\n",
    "When we are in business, we expect that Sales & Profit are positive correlated. If some of the Sales data points and Profit data points are not positive correlated, they would be considered as outliers and need to be further investigated."
   ]
  },
  {
   "cell_type": "code",
   "execution_count": 232,
   "metadata": {},
   "outputs": [],
   "source": [
    "df = pd.read_excel(\"data/sample_superstore.xls\")\n",
    "df['Order Date'] = pd.to_datetime(df['Order Date'])\n",
    "df.sort_values(by=['Order Date'], inplace=True, ascending=False)\n",
    "df.reset_index(inplace=True, drop=True)"
   ]
  },
  {
   "cell_type": "code",
   "execution_count": 233,
   "metadata": {
    "colab": {
     "base_uri": "https://localhost:8080/",
     "height": 283
    },
    "colab_type": "code",
    "id": "JQKECo0BSefE",
    "outputId": "c9313dc2-650c-4e9e-e7f1-b33f2f79d931"
   },
   "outputs": [
    {
     "data": {
      "image/png": "[encoded data removed]",
      "text/plain": [
       "<Figure size 432x288 with 1 Axes>"
      ]
     },
     "metadata": {
      "needs_background": "light"
     },
     "output_type": "display_data"
    }
   ],
   "source": [
    "sns.regplot(x=\"Sales\", y=\"Profit\", data=df)\n",
    "sns.despine();"
   ]
  },
  {
   "cell_type": "markdown",
   "metadata": {},
   "source": [
    "From the above correlation chart, we can see that some of the data points are obvious outliers such as extreme low and extreme high values."
   ]
  },
  {
   "cell_type": "code",
   "execution_count": 234,
   "metadata": {},
   "outputs": [
    {
     "data": {
      "image/png": "[encoded data removed]",
      "text/plain": [
       "<Figure size 1440x864 with 1 Axes>"
      ]
     },
     "metadata": {
      "needs_background": "light"
     },
     "output_type": "display_data"
    }
   ],
   "source": [
    "plt.figure(figsize=(20,12))\n",
    "plt.scatter(df['Sales'], df['Profit'], marker='o')\n",
    "plt.xlim([0, 20000])\n",
    "plt.ylim([-4000, 8000])\n",
    "plt.show()"
   ]
  },
  {
   "cell_type": "code",
   "execution_count": 237,
   "metadata": {
    "colab": {
     "base_uri": "https://localhost:8080/",
     "height": 202
    },
    "colab_type": "code",
    "id": "AChZpGY4Ghc9",
    "outputId": "bc0069d5-4ded-4401-c7c1-77f503ef919f"
   },
   "outputs": [
    {
     "data": {
      "text/html": [
       "<div>\n",
       "<style scoped>\n",
       "    .dataframe tbody tr th:only-of-type {\n",
       "        vertical-align: middle;\n",
       "    }\n",
       "\n",
       "    .dataframe tbody tr th {\n",
       "        vertical-align: top;\n",
       "    }\n",
       "\n",
       "    .dataframe thead th {\n",
       "        text-align: right;\n",
       "    }\n",
       "</style>\n",
       "<table border=\"1\" class=\"dataframe\">\n",
       "  <thead>\n",
       "    <tr style=\"text-align: right;\">\n",
       "      <th></th>\n",
       "      <th>Sales</th>\n",
       "      <th>Profit</th>\n",
       "    </tr>\n",
       "  </thead>\n",
       "  <tbody>\n",
       "    <tr>\n",
       "      <th>0</th>\n",
       "      <td>0.014254</td>\n",
       "      <td>0.440808</td>\n",
       "    </tr>\n",
       "    <tr>\n",
       "      <th>1</th>\n",
       "      <td>0.003997</td>\n",
       "      <td>0.440182</td>\n",
       "    </tr>\n",
       "    <tr>\n",
       "      <th>2</th>\n",
       "      <td>0.000595</td>\n",
       "      <td>0.440301</td>\n",
       "    </tr>\n",
       "    <tr>\n",
       "      <th>3</th>\n",
       "      <td>0.000896</td>\n",
       "      <td>0.440432</td>\n",
       "    </tr>\n",
       "    <tr>\n",
       "      <th>4</th>\n",
       "      <td>0.009226</td>\n",
       "      <td>0.443767</td>\n",
       "    </tr>\n",
       "  </tbody>\n",
       "</table>\n",
       "</div>"
      ],
      "text/plain": [
       "      Sales    Profit\n",
       "0  0.014254  0.440808\n",
       "1  0.003997  0.440182\n",
       "2  0.000595  0.440301\n",
       "3  0.000896  0.440432\n",
       "4  0.009226  0.443767"
      ]
     },
     "execution_count": 237,
     "metadata": {},
     "output_type": "execute_result"
    }
   ],
   "source": [
    "cols = ['Sales', 'Profit']\n",
    "df[cols].head()"
   ]
  },
  {
   "cell_type": "code",
   "execution_count": 238,
   "metadata": {
    "colab": {
     "base_uri": "https://localhost:8080/",
     "height": 202
    },
    "colab_type": "code",
    "id": "lhPyayrkG9Hu",
    "outputId": "5909803d-ef1d-4ea3-fa03-16642b284723"
   },
   "outputs": [
    {
     "data": {
      "text/html": [
       "<div>\n",
       "<style scoped>\n",
       "    .dataframe tbody tr th:only-of-type {\n",
       "        vertical-align: middle;\n",
       "    }\n",
       "\n",
       "    .dataframe tbody tr th {\n",
       "        vertical-align: top;\n",
       "    }\n",
       "\n",
       "    .dataframe thead th {\n",
       "        text-align: right;\n",
       "    }\n",
       "</style>\n",
       "<table border=\"1\" class=\"dataframe\">\n",
       "  <thead>\n",
       "    <tr style=\"text-align: right;\">\n",
       "      <th></th>\n",
       "      <th>Sales</th>\n",
       "      <th>Profit</th>\n",
       "    </tr>\n",
       "  </thead>\n",
       "  <tbody>\n",
       "    <tr>\n",
       "      <th>0</th>\n",
       "      <td>0.014254</td>\n",
       "      <td>0.440808</td>\n",
       "    </tr>\n",
       "    <tr>\n",
       "      <th>1</th>\n",
       "      <td>0.003997</td>\n",
       "      <td>0.440182</td>\n",
       "    </tr>\n",
       "    <tr>\n",
       "      <th>2</th>\n",
       "      <td>0.000595</td>\n",
       "      <td>0.440301</td>\n",
       "    </tr>\n",
       "    <tr>\n",
       "      <th>3</th>\n",
       "      <td>0.000896</td>\n",
       "      <td>0.440432</td>\n",
       "    </tr>\n",
       "    <tr>\n",
       "      <th>4</th>\n",
       "      <td>0.009226</td>\n",
       "      <td>0.443767</td>\n",
       "    </tr>\n",
       "  </tbody>\n",
       "</table>\n",
       "</div>"
      ],
      "text/plain": [
       "      Sales    Profit\n",
       "0  0.014254  0.440808\n",
       "1  0.003997  0.440182\n",
       "2  0.000595  0.440301\n",
       "3  0.000896  0.440432\n",
       "4  0.009226  0.443767"
      ]
     },
     "execution_count": 238,
     "metadata": {},
     "output_type": "execute_result"
    }
   ],
   "source": [
    "minmax = MinMaxScaler(feature_range=(0, 1))\n",
    "df[['Sales','Profit']] = minmax.fit_transform(df[['Sales','Profit']])\n",
    "df[['Sales','Profit']].head()"
   ]
  },
  {
   "cell_type": "code",
   "execution_count": 239,
   "metadata": {
    "colab": {},
    "colab_type": "code",
    "id": "il0LFdCFJEsw"
   },
   "outputs": [],
   "source": [
    "X1 = df['Sales'].values.reshape(-1,1)\n",
    "X2 = df['Profit'].values.reshape(-1,1)\n",
    "X = np.concatenate((X1,X2),axis=1)"
   ]
  },
  {
   "cell_type": "markdown",
   "metadata": {},
   "source": [
    "## Cluster-based Local Outlier Factor (CBLOF)\n",
    "The CBLOF calculates the outlier score based on cluster-based local outlier factor. An anomaly score is computed by the distance of each instance to its cluster center multiplied by the instances belonging to its cluster. PyOD library includes the CBLOF implementation.\n",
    "\n",
    "The following code are borrowed from PyOD tutorial combined with this article.\n",
    "* Scaling Sales and Profit to between zero and one.\n",
    "* Arbitrarily set outliers fraction as 1% based on trial and best guess.\n",
    "* Fit the data to the CBLOF model and predict the results.\n",
    "* Use threshold value to consider a data point is inlier or outlier.\n",
    "* Use decision function to calculate the anomaly score for every point."
   ]
  },
  {
   "cell_type": "code",
   "execution_count": 240,
   "metadata": {
    "colab": {
     "base_uri": "https://localhost:8080/",
     "height": 517
    },
    "colab_type": "code",
    "id": "QtBn0u7CKlS6",
    "outputId": "e24373b2-fc43-46f2-d25c-45843d30f5b3"
   },
   "outputs": [
    {
     "name": "stdout",
     "output_type": "stream",
     "text": [
      "OUTLIERS: 100 INLIERS: 9894\n"
     ]
    },
    {
     "data": {
      "image/png": "[encoded data removed]",
      "text/plain": [
       "<Figure size 576x576 with 1 Axes>"
      ]
     },
     "metadata": {
      "needs_background": "light"
     },
     "output_type": "display_data"
    },
    {
     "name": "stdout",
     "output_type": "stream",
     "text": [
      "No. anomalies: 100\n"
     ]
    },
    {
     "data": {
      "text/html": [
       "<div>\n",
       "<style scoped>\n",
       "    .dataframe tbody tr th:only-of-type {\n",
       "        vertical-align: middle;\n",
       "    }\n",
       "\n",
       "    .dataframe tbody tr th {\n",
       "        vertical-align: top;\n",
       "    }\n",
       "\n",
       "    .dataframe thead th {\n",
       "        text-align: right;\n",
       "    }\n",
       "</style>\n",
       "<table border=\"1\" class=\"dataframe\">\n",
       "  <thead>\n",
       "    <tr style=\"text-align: right;\">\n",
       "      <th></th>\n",
       "      <th>Row ID</th>\n",
       "      <th>Order ID</th>\n",
       "      <th>Order Date</th>\n",
       "      <th>Ship Date</th>\n",
       "      <th>Ship Mode</th>\n",
       "      <th>Customer ID</th>\n",
       "      <th>Customer Name</th>\n",
       "      <th>Segment</th>\n",
       "      <th>Country</th>\n",
       "      <th>City</th>\n",
       "      <th>...</th>\n",
       "      <th>Region</th>\n",
       "      <th>Product ID</th>\n",
       "      <th>Category</th>\n",
       "      <th>Sub-Category</th>\n",
       "      <th>Product Name</th>\n",
       "      <th>Sales</th>\n",
       "      <th>Quantity</th>\n",
       "      <th>Discount</th>\n",
       "      <th>Profit</th>\n",
       "      <th>outlier</th>\n",
       "    </tr>\n",
       "  </thead>\n",
       "  <tbody>\n",
       "    <tr>\n",
       "      <th>335</th>\n",
       "      <td>4992</td>\n",
       "      <td>US-2017-122714</td>\n",
       "      <td>2017-12-07</td>\n",
       "      <td>2017-12-13</td>\n",
       "      <td>Standard Class</td>\n",
       "      <td>HG-14965</td>\n",
       "      <td>Henry Goldwyn</td>\n",
       "      <td>Corporate</td>\n",
       "      <td>United States</td>\n",
       "      <td>Chicago</td>\n",
       "      <td>...</td>\n",
       "      <td>Central</td>\n",
       "      <td>OFF-BI-10001120</td>\n",
       "      <td>Office Supplies</td>\n",
       "      <td>Binders</td>\n",
       "      <td>Ibico EPK-21 Electric Binding System</td>\n",
       "      <td>0.083468</td>\n",
       "      <td>5</td>\n",
       "      <td>0.8</td>\n",
       "      <td>0.244700</td>\n",
       "      <td>1</td>\n",
       "    </tr>\n",
       "    <tr>\n",
       "      <th>407</th>\n",
       "      <td>1996</td>\n",
       "      <td>US-2017-147221</td>\n",
       "      <td>2017-12-02</td>\n",
       "      <td>2017-12-04</td>\n",
       "      <td>Second Class</td>\n",
       "      <td>JS-16030</td>\n",
       "      <td>Joy Smith</td>\n",
       "      <td>Consumer</td>\n",
       "      <td>United States</td>\n",
       "      <td>Houston</td>\n",
       "      <td>...</td>\n",
       "      <td>Central</td>\n",
       "      <td>OFF-AP-10002534</td>\n",
       "      <td>Office Supplies</td>\n",
       "      <td>Appliances</td>\n",
       "      <td>3.6 Cubic Foot Counter Height Office Refrigerator</td>\n",
       "      <td>0.012995</td>\n",
       "      <td>5</td>\n",
       "      <td>0.8</td>\n",
       "      <td>0.388932</td>\n",
       "      <td>1</td>\n",
       "    </tr>\n",
       "    <tr>\n",
       "      <th>464</th>\n",
       "      <td>5067</td>\n",
       "      <td>CA-2017-142090</td>\n",
       "      <td>2017-11-30</td>\n",
       "      <td>2017-12-07</td>\n",
       "      <td>Standard Class</td>\n",
       "      <td>SC-20380</td>\n",
       "      <td>Shahid Collister</td>\n",
       "      <td>Consumer</td>\n",
       "      <td>United States</td>\n",
       "      <td>Burlington</td>\n",
       "      <td>...</td>\n",
       "      <td>South</td>\n",
       "      <td>FUR-TA-10001889</td>\n",
       "      <td>Furniture</td>\n",
       "      <td>Tables</td>\n",
       "      <td>Bush Advantage Collection Racetrack Conference...</td>\n",
       "      <td>0.078683</td>\n",
       "      <td>7</td>\n",
       "      <td>0.4</td>\n",
       "      <td>0.396448</td>\n",
       "      <td>1</td>\n",
       "    </tr>\n",
       "    <tr>\n",
       "      <th>479</th>\n",
       "      <td>950</td>\n",
       "      <td>US-2017-110576</td>\n",
       "      <td>2017-11-28</td>\n",
       "      <td>2017-12-02</td>\n",
       "      <td>Standard Class</td>\n",
       "      <td>RB-19795</td>\n",
       "      <td>Ross Baird</td>\n",
       "      <td>Home Office</td>\n",
       "      <td>United States</td>\n",
       "      <td>Philadelphia</td>\n",
       "      <td>...</td>\n",
       "      <td>East</td>\n",
       "      <td>FUR-TA-10004154</td>\n",
       "      <td>Furniture</td>\n",
       "      <td>Tables</td>\n",
       "      <td>Riverside Furniture Oval Coffee Table, Oval En...</td>\n",
       "      <td>0.091213</td>\n",
       "      <td>12</td>\n",
       "      <td>0.4</td>\n",
       "      <td>0.398693</td>\n",
       "      <td>1</td>\n",
       "    </tr>\n",
       "    <tr>\n",
       "      <th>628</th>\n",
       "      <td>5311</td>\n",
       "      <td>CA-2017-131254</td>\n",
       "      <td>2017-11-19</td>\n",
       "      <td>2017-11-21</td>\n",
       "      <td>First Class</td>\n",
       "      <td>NC-18415</td>\n",
       "      <td>Nathan Cano</td>\n",
       "      <td>Consumer</td>\n",
       "      <td>United States</td>\n",
       "      <td>Houston</td>\n",
       "      <td>...</td>\n",
       "      <td>Central</td>\n",
       "      <td>OFF-BI-10003527</td>\n",
       "      <td>Office Supplies</td>\n",
       "      <td>Binders</td>\n",
       "      <td>Fellowes PB500 Electric Punch Plastic Comb Bin...</td>\n",
       "      <td>0.067353</td>\n",
       "      <td>6</td>\n",
       "      <td>0.8</td>\n",
       "      <td>0.287481</td>\n",
       "      <td>1</td>\n",
       "    </tr>\n",
       "  </tbody>\n",
       "</table>\n",
       "<p>5 rows × 22 columns</p>\n",
       "</div>"
      ],
      "text/plain": [
       "     Row ID        Order ID Order Date  Ship Date       Ship Mode Customer ID  \\\n",
       "335    4992  US-2017-122714 2017-12-07 2017-12-13  Standard Class    HG-14965   \n",
       "407    1996  US-2017-147221 2017-12-02 2017-12-04    Second Class    JS-16030   \n",
       "464    5067  CA-2017-142090 2017-11-30 2017-12-07  Standard Class    SC-20380   \n",
       "479     950  US-2017-110576 2017-11-28 2017-12-02  Standard Class    RB-19795   \n",
       "628    5311  CA-2017-131254 2017-11-19 2017-11-21     First Class    NC-18415   \n",
       "\n",
       "        Customer Name      Segment        Country          City  ...   Region  \\\n",
       "335     Henry Goldwyn    Corporate  United States       Chicago  ...  Central   \n",
       "407         Joy Smith     Consumer  United States       Houston  ...  Central   \n",
       "464  Shahid Collister     Consumer  United States    Burlington  ...    South   \n",
       "479        Ross Baird  Home Office  United States  Philadelphia  ...     East   \n",
       "628       Nathan Cano     Consumer  United States       Houston  ...  Central   \n",
       "\n",
       "          Product ID         Category Sub-Category  \\\n",
       "335  OFF-BI-10001120  Office Supplies      Binders   \n",
       "407  OFF-AP-10002534  Office Supplies   Appliances   \n",
       "464  FUR-TA-10001889        Furniture       Tables   \n",
       "479  FUR-TA-10004154        Furniture       Tables   \n",
       "628  OFF-BI-10003527  Office Supplies      Binders   \n",
       "\n",
       "                                          Product Name     Sales Quantity  \\\n",
       "335               Ibico EPK-21 Electric Binding System  0.083468        5   \n",
       "407  3.6 Cubic Foot Counter Height Office Refrigerator  0.012995        5   \n",
       "464  Bush Advantage Collection Racetrack Conference...  0.078683        7   \n",
       "479  Riverside Furniture Oval Coffee Table, Oval En...  0.091213       12   \n",
       "628  Fellowes PB500 Electric Punch Plastic Comb Bin...  0.067353        6   \n",
       "\n",
       "     Discount    Profit  outlier  \n",
       "335       0.8  0.244700        1  \n",
       "407       0.8  0.388932        1  \n",
       "464       0.4  0.396448        1  \n",
       "479       0.4  0.398693        1  \n",
       "628       0.8  0.287481        1  \n",
       "\n",
       "[5 rows x 22 columns]"
      ]
     },
     "execution_count": 240,
     "metadata": {},
     "output_type": "execute_result"
    }
   ],
   "source": [
    "outliers_fraction = 0.01\n",
    "xx , yy = np.meshgrid(np.linspace(0, 1, 100), np.linspace(0, 1, 100))\n",
    "\n",
    "# instantiate model\n",
    "clf = CBLOF(contamination=outliers_fraction, check_estimator=False, random_state=0)\n",
    "\n",
    "# fit model\n",
    "clf.fit(X)\n",
    "\n",
    "# predict raw anomaly score\n",
    "scores_pred = clf.decision_function(X) * -1\n",
    "        \n",
    "# prediction of a datapoint category outlier or inlier\n",
    "y_pred = clf.predict(X)\n",
    "n_inliers = len(y_pred) - np.count_nonzero(y_pred)\n",
    "n_outliers = np.count_nonzero(y_pred == 1)\n",
    "\n",
    "df1 = df.copy()\n",
    "df1['outlier'] = y_pred.tolist()\n",
    "    \n",
    "# sales - inlier feature 1,  profit - inlier feature 2\n",
    "inliers_sales = np.array(df1['Sales'][df1['outlier'] == 0]).reshape(-1,1)\n",
    "inliers_profit = np.array(df1['Profit'][df1['outlier'] == 0]).reshape(-1,1)\n",
    "    \n",
    "# sales - outlier feature 1, profit - outlier feature 2\n",
    "outliers_sales = df1['Sales'][df1['outlier'] == 1].values.reshape(-1,1)\n",
    "outliers_profit = df1['Profit'][df1['outlier'] == 1].values.reshape(-1,1)\n",
    "         \n",
    "print('OUTLIERS:',n_outliers,'INLIERS:',n_inliers)\n",
    "        \n",
    "# Use threshold value to consider a datapoint inlier or outlier\n",
    "# threshold = stats.scoreatpercentile(scores_pred,100 * outliers_fraction)\n",
    "threshold = percentile(scores_pred, 100 * outliers_fraction)\n",
    "        \n",
    "# decision function calculates the raw anomaly score for every point\n",
    "Z = clf.decision_function(np.c_[xx.ravel(), yy.ravel()]) * -1\n",
    "Z = Z.reshape(xx.shape)\n",
    "\n",
    "# plot\n",
    "plt.figure(figsize=(8, 8))\n",
    "# fill blue map colormap from minimum anomaly score to threshold value\n",
    "plt.contourf(xx, yy, Z, levels=np.linspace(Z.min(), threshold, 7),cmap=plt.cm.Blues_r)\n",
    "# draw red contour line where anomaly score is equal to thresold\n",
    "a = plt.contour(xx, yy, Z, levels=[threshold],linewidths=2, colors='red')\n",
    "# fill orange contour lines where range of anomaly score is from threshold to maximum anomaly score\n",
    "plt.contourf(xx, yy, Z, levels=[threshold, Z.max()],colors='orange')\n",
    "b = plt.scatter(inliers_sales, inliers_profit, c='white',s=20, edgecolor='k')\n",
    "c = plt.scatter(outliers_sales, outliers_profit, c='black',s=20, edgecolor='k')\n",
    "plt.axis('tight')   \n",
    "plt.legend([a.collections[0], b,c], ['learned decision function', 'inliers','outliers'],\n",
    "           prop=matplotlib.font_manager.FontProperties(size=20),loc='lower right')\n",
    "plt.xlim((0, 1))\n",
    "plt.ylim((0, 1))\n",
    "plt.title('Cluster-based Local Outlier Factor (CBLOF)')\n",
    "plt.show();\n",
    "\n",
    "print('No. anomalies:', len(df1.loc[df1['outlier'] == 1]))\n",
    "df1.loc[df1['outlier'] == 1].head()"
   ]
  },
  {
   "cell_type": "markdown",
   "metadata": {},
   "source": [
    "## Histogram-based Outlier Detection (HBOS)\n",
    "HBOS assumes the feature independence and calculates the degree of anomalies by building histograms. \n",
    "\n",
    "In multivariate anomaly detection, a histogram for each single feature can be computed, scored individually and combined at the end. When using PyOD library, the code are very similar with the CBLOF."
   ]
  },
  {
   "cell_type": "code",
   "execution_count": 241,
   "metadata": {
    "colab": {
     "base_uri": "https://localhost:8080/",
     "height": 517
    },
    "colab_type": "code",
    "id": "Q5Hh5iMEXuhM",
    "outputId": "3e03b88b-3733-4450-b10d-85bd0a347f88"
   },
   "outputs": [
    {
     "name": "stdout",
     "output_type": "stream",
     "text": [
      "OUTLIERS: 90 INLIERS: 9904\n"
     ]
    },
    {
     "data": {
      "image/png": "[encoded data removed]",
      "text/plain": [
       "<Figure size 576x576 with 1 Axes>"
      ]
     },
     "metadata": {
      "needs_background": "light"
     },
     "output_type": "display_data"
    },
    {
     "name": "stdout",
     "output_type": "stream",
     "text": [
      "No. anomalies: 90\n"
     ]
    },
    {
     "data": {
      "text/html": [
       "<div>\n",
       "<style scoped>\n",
       "    .dataframe tbody tr th:only-of-type {\n",
       "        vertical-align: middle;\n",
       "    }\n",
       "\n",
       "    .dataframe tbody tr th {\n",
       "        vertical-align: top;\n",
       "    }\n",
       "\n",
       "    .dataframe thead th {\n",
       "        text-align: right;\n",
       "    }\n",
       "</style>\n",
       "<table border=\"1\" class=\"dataframe\">\n",
       "  <thead>\n",
       "    <tr style=\"text-align: right;\">\n",
       "      <th></th>\n",
       "      <th>Row ID</th>\n",
       "      <th>Order ID</th>\n",
       "      <th>Order Date</th>\n",
       "      <th>Ship Date</th>\n",
       "      <th>Ship Mode</th>\n",
       "      <th>Customer ID</th>\n",
       "      <th>Customer Name</th>\n",
       "      <th>Segment</th>\n",
       "      <th>Country</th>\n",
       "      <th>City</th>\n",
       "      <th>...</th>\n",
       "      <th>Region</th>\n",
       "      <th>Product ID</th>\n",
       "      <th>Category</th>\n",
       "      <th>Sub-Category</th>\n",
       "      <th>Product Name</th>\n",
       "      <th>Sales</th>\n",
       "      <th>Quantity</th>\n",
       "      <th>Discount</th>\n",
       "      <th>Profit</th>\n",
       "      <th>outlier</th>\n",
       "    </tr>\n",
       "  </thead>\n",
       "  <tbody>\n",
       "    <tr>\n",
       "      <th>73</th>\n",
       "      <td>4620</td>\n",
       "      <td>CA-2017-145219</td>\n",
       "      <td>2017-12-24</td>\n",
       "      <td>2017-12-25</td>\n",
       "      <td>First Class</td>\n",
       "      <td>RM-19675</td>\n",
       "      <td>Robert Marley</td>\n",
       "      <td>Home Office</td>\n",
       "      <td>United States</td>\n",
       "      <td>Los Angeles</td>\n",
       "      <td>...</td>\n",
       "      <td>West</td>\n",
       "      <td>TEC-CO-10001449</td>\n",
       "      <td>Technology</td>\n",
       "      <td>Copiers</td>\n",
       "      <td>Hewlett Packard LaserJet 3310 Copier</td>\n",
       "      <td>0.127198</td>\n",
       "      <td>6</td>\n",
       "      <td>0.2</td>\n",
       "      <td>0.507199</td>\n",
       "      <td>1</td>\n",
       "    </tr>\n",
       "    <tr>\n",
       "      <th>335</th>\n",
       "      <td>4992</td>\n",
       "      <td>US-2017-122714</td>\n",
       "      <td>2017-12-07</td>\n",
       "      <td>2017-12-13</td>\n",
       "      <td>Standard Class</td>\n",
       "      <td>HG-14965</td>\n",
       "      <td>Henry Goldwyn</td>\n",
       "      <td>Corporate</td>\n",
       "      <td>United States</td>\n",
       "      <td>Chicago</td>\n",
       "      <td>...</td>\n",
       "      <td>Central</td>\n",
       "      <td>OFF-BI-10001120</td>\n",
       "      <td>Office Supplies</td>\n",
       "      <td>Binders</td>\n",
       "      <td>Ibico EPK-21 Electric Binding System</td>\n",
       "      <td>0.083468</td>\n",
       "      <td>5</td>\n",
       "      <td>0.8</td>\n",
       "      <td>0.244700</td>\n",
       "      <td>1</td>\n",
       "    </tr>\n",
       "    <tr>\n",
       "      <th>407</th>\n",
       "      <td>1996</td>\n",
       "      <td>US-2017-147221</td>\n",
       "      <td>2017-12-02</td>\n",
       "      <td>2017-12-04</td>\n",
       "      <td>Second Class</td>\n",
       "      <td>JS-16030</td>\n",
       "      <td>Joy Smith</td>\n",
       "      <td>Consumer</td>\n",
       "      <td>United States</td>\n",
       "      <td>Houston</td>\n",
       "      <td>...</td>\n",
       "      <td>Central</td>\n",
       "      <td>OFF-AP-10002534</td>\n",
       "      <td>Office Supplies</td>\n",
       "      <td>Appliances</td>\n",
       "      <td>3.6 Cubic Foot Counter Height Office Refrigerator</td>\n",
       "      <td>0.012995</td>\n",
       "      <td>5</td>\n",
       "      <td>0.8</td>\n",
       "      <td>0.388932</td>\n",
       "      <td>1</td>\n",
       "    </tr>\n",
       "    <tr>\n",
       "      <th>464</th>\n",
       "      <td>5067</td>\n",
       "      <td>CA-2017-142090</td>\n",
       "      <td>2017-11-30</td>\n",
       "      <td>2017-12-07</td>\n",
       "      <td>Standard Class</td>\n",
       "      <td>SC-20380</td>\n",
       "      <td>Shahid Collister</td>\n",
       "      <td>Consumer</td>\n",
       "      <td>United States</td>\n",
       "      <td>Burlington</td>\n",
       "      <td>...</td>\n",
       "      <td>South</td>\n",
       "      <td>FUR-TA-10001889</td>\n",
       "      <td>Furniture</td>\n",
       "      <td>Tables</td>\n",
       "      <td>Bush Advantage Collection Racetrack Conference...</td>\n",
       "      <td>0.078683</td>\n",
       "      <td>7</td>\n",
       "      <td>0.4</td>\n",
       "      <td>0.396448</td>\n",
       "      <td>1</td>\n",
       "    </tr>\n",
       "    <tr>\n",
       "      <th>479</th>\n",
       "      <td>950</td>\n",
       "      <td>US-2017-110576</td>\n",
       "      <td>2017-11-28</td>\n",
       "      <td>2017-12-02</td>\n",
       "      <td>Standard Class</td>\n",
       "      <td>RB-19795</td>\n",
       "      <td>Ross Baird</td>\n",
       "      <td>Home Office</td>\n",
       "      <td>United States</td>\n",
       "      <td>Philadelphia</td>\n",
       "      <td>...</td>\n",
       "      <td>East</td>\n",
       "      <td>FUR-TA-10004154</td>\n",
       "      <td>Furniture</td>\n",
       "      <td>Tables</td>\n",
       "      <td>Riverside Furniture Oval Coffee Table, Oval En...</td>\n",
       "      <td>0.091213</td>\n",
       "      <td>12</td>\n",
       "      <td>0.4</td>\n",
       "      <td>0.398693</td>\n",
       "      <td>1</td>\n",
       "    </tr>\n",
       "  </tbody>\n",
       "</table>\n",
       "<p>5 rows × 22 columns</p>\n",
       "</div>"
      ],
      "text/plain": [
       "     Row ID        Order ID Order Date  Ship Date       Ship Mode Customer ID  \\\n",
       "73     4620  CA-2017-145219 2017-12-24 2017-12-25     First Class    RM-19675   \n",
       "335    4992  US-2017-122714 2017-12-07 2017-12-13  Standard Class    HG-14965   \n",
       "407    1996  US-2017-147221 2017-12-02 2017-12-04    Second Class    JS-16030   \n",
       "464    5067  CA-2017-142090 2017-11-30 2017-12-07  Standard Class    SC-20380   \n",
       "479     950  US-2017-110576 2017-11-28 2017-12-02  Standard Class    RB-19795   \n",
       "\n",
       "        Customer Name      Segment        Country          City  ...   Region  \\\n",
       "73      Robert Marley  Home Office  United States   Los Angeles  ...     West   \n",
       "335     Henry Goldwyn    Corporate  United States       Chicago  ...  Central   \n",
       "407         Joy Smith     Consumer  United States       Houston  ...  Central   \n",
       "464  Shahid Collister     Consumer  United States    Burlington  ...    South   \n",
       "479        Ross Baird  Home Office  United States  Philadelphia  ...     East   \n",
       "\n",
       "          Product ID         Category Sub-Category  \\\n",
       "73   TEC-CO-10001449       Technology      Copiers   \n",
       "335  OFF-BI-10001120  Office Supplies      Binders   \n",
       "407  OFF-AP-10002534  Office Supplies   Appliances   \n",
       "464  FUR-TA-10001889        Furniture       Tables   \n",
       "479  FUR-TA-10004154        Furniture       Tables   \n",
       "\n",
       "                                          Product Name     Sales Quantity  \\\n",
       "73                Hewlett Packard LaserJet 3310 Copier  0.127198        6   \n",
       "335               Ibico EPK-21 Electric Binding System  0.083468        5   \n",
       "407  3.6 Cubic Foot Counter Height Office Refrigerator  0.012995        5   \n",
       "464  Bush Advantage Collection Racetrack Conference...  0.078683        7   \n",
       "479  Riverside Furniture Oval Coffee Table, Oval En...  0.091213       12   \n",
       "\n",
       "     Discount    Profit  outlier  \n",
       "73        0.2  0.507199        1  \n",
       "335       0.8  0.244700        1  \n",
       "407       0.8  0.388932        1  \n",
       "464       0.4  0.396448        1  \n",
       "479       0.4  0.398693        1  \n",
       "\n",
       "[5 rows x 22 columns]"
      ]
     },
     "execution_count": 241,
     "metadata": {},
     "output_type": "execute_result"
    }
   ],
   "source": [
    "outliers_fraction = 0.01\n",
    "xx , yy = np.meshgrid(np.linspace(0, 1, 100), np.linspace(0, 1, 100))\n",
    "clf = HBOS(contamination=outliers_fraction)\n",
    "\n",
    "# fit\n",
    "clf.fit(X)\n",
    "\n",
    "# predict raw anomaly score\n",
    "scores_pred = clf.decision_function(X) * -1\n",
    "        \n",
    "# prediction of a datapoint category outlier or inlier\n",
    "y_pred = clf.predict(X)\n",
    "n_inliers = len(y_pred) - np.count_nonzero(y_pred)\n",
    "n_outliers = np.count_nonzero(y_pred == 1)\n",
    "\n",
    "# copy of dataframe\n",
    "df1 = df.copy()\n",
    "df1['outlier'] = y_pred.tolist()\n",
    "    \n",
    "# sales - inlier feature 1,  profit - inlier feature 2\n",
    "inliers_sales = np.array(df1['Sales'][df1['outlier'] == 0]).reshape(-1,1)\n",
    "inliers_profit = np.array(df1['Profit'][df1['outlier'] == 0]).reshape(-1,1)\n",
    "    \n",
    "# sales - outlier feature 1, profit - outlier feature 2\n",
    "outliers_sales = df1['Sales'][df1['outlier'] == 1].values.reshape(-1,1)\n",
    "outliers_profit = df1['Profit'][df1['outlier'] == 1].values.reshape(-1,1)\n",
    "         \n",
    "print('OUTLIERS:',n_outliers,'INLIERS:',n_inliers)\n",
    "        \n",
    "# threshold value to consider a datapoint inlier or outlier\n",
    "threshold = percentile(scores_pred, 100 * outliers_fraction)\n",
    "        \n",
    "# decision function calculates the raw anomaly score for every point\n",
    "Z = clf.decision_function(np.c_[xx.ravel(), yy.ravel()]) * -1\n",
    "Z = Z.reshape(xx.shape)\n",
    "\n",
    "\n",
    "# plot\n",
    "plt.figure(figsize=(8, 8))\n",
    "# fill blue map colormap from minimum anomaly score to threshold value\n",
    "plt.contourf(xx, yy, Z, levels=np.linspace(Z.min(), threshold, 7),cmap=plt.cm.Blues_r)\n",
    "# draw red contour line where anomaly score is equal to thresold\n",
    "a = plt.contour(xx, yy, Z, levels=[threshold],linewidths=2, colors='red')\n",
    "# fill orange contour lines where range of anomaly score is from threshold to maximum anomaly score\n",
    "plt.contourf(xx, yy, Z, levels=[threshold, Z.max()],colors='orange')\n",
    "b = plt.scatter(inliers_sales, inliers_profit, c='white',s=20, edgecolor='k')\n",
    "c = plt.scatter(outliers_sales, outliers_profit, c='black',s=20, edgecolor='k')\n",
    "plt.axis('tight')  \n",
    "plt.legend([a.collections[0], b,c], ['learned decision function', 'inliers','outliers'],\n",
    "           prop=matplotlib.font_manager.FontProperties(size=20),loc='lower right')\n",
    "plt.xlim((0, 1))\n",
    "plt.ylim((0, 1))\n",
    "plt.title('Histogram-base Outlier Detection (HBOS)')\n",
    "plt.show();\n",
    "\n",
    "print('No. anomalies:', len(df1.loc[df1['outlier'] == 1]))\n",
    "df1.loc[df1['outlier'] == 1].head()"
   ]
  },
  {
   "cell_type": "markdown",
   "metadata": {},
   "source": [
    "## Isolation Forest\n",
    "Isolation Forest is similar in principle to Random Forest and is built on the basis of decision trees. Isolation \n",
    "\n",
    "Forest isolates observations by randomly selecting a feature and then randomly selecting a split value between the maximum and minimum values of that selected feature.\n",
    "\n",
    "The PyOD Isolation Forest module is a wrapper of Scikit-learn Isolation Forest with more functionalities."
   ]
  },
  {
   "cell_type": "code",
   "execution_count": 242,
   "metadata": {
    "colab": {
     "base_uri": "https://localhost:8080/",
     "height": 571
    },
    "colab_type": "code",
    "id": "Lrx85bG0YOqM",
    "outputId": "dd23022c-4fd5-4eb7-96fd-5a9c3f989033"
   },
   "outputs": [
    {
     "name": "stdout",
     "output_type": "stream",
     "text": [
      "OUTLIERS:  100 INLIERS:  9894\n"
     ]
    },
    {
     "data": {
      "image/png": "[encoded data removed]",
      "text/plain": [
       "<Figure size 576x576 with 1 Axes>"
      ]
     },
     "metadata": {
      "needs_background": "light"
     },
     "output_type": "display_data"
    },
    {
     "name": "stdout",
     "output_type": "stream",
     "text": [
      "No. anomalies: 100\n"
     ]
    },
    {
     "data": {
      "text/html": [
       "<div>\n",
       "<style scoped>\n",
       "    .dataframe tbody tr th:only-of-type {\n",
       "        vertical-align: middle;\n",
       "    }\n",
       "\n",
       "    .dataframe tbody tr th {\n",
       "        vertical-align: top;\n",
       "    }\n",
       "\n",
       "    .dataframe thead th {\n",
       "        text-align: right;\n",
       "    }\n",
       "</style>\n",
       "<table border=\"1\" class=\"dataframe\">\n",
       "  <thead>\n",
       "    <tr style=\"text-align: right;\">\n",
       "      <th></th>\n",
       "      <th>Row ID</th>\n",
       "      <th>Order ID</th>\n",
       "      <th>Order Date</th>\n",
       "      <th>Ship Date</th>\n",
       "      <th>Ship Mode</th>\n",
       "      <th>Customer ID</th>\n",
       "      <th>Customer Name</th>\n",
       "      <th>Segment</th>\n",
       "      <th>Country</th>\n",
       "      <th>City</th>\n",
       "      <th>...</th>\n",
       "      <th>Region</th>\n",
       "      <th>Product ID</th>\n",
       "      <th>Category</th>\n",
       "      <th>Sub-Category</th>\n",
       "      <th>Product Name</th>\n",
       "      <th>Sales</th>\n",
       "      <th>Quantity</th>\n",
       "      <th>Discount</th>\n",
       "      <th>Profit</th>\n",
       "      <th>outlier</th>\n",
       "    </tr>\n",
       "  </thead>\n",
       "  <tbody>\n",
       "    <tr>\n",
       "      <th>73</th>\n",
       "      <td>4620</td>\n",
       "      <td>CA-2017-145219</td>\n",
       "      <td>2017-12-24</td>\n",
       "      <td>2017-12-25</td>\n",
       "      <td>First Class</td>\n",
       "      <td>RM-19675</td>\n",
       "      <td>Robert Marley</td>\n",
       "      <td>Home Office</td>\n",
       "      <td>United States</td>\n",
       "      <td>Los Angeles</td>\n",
       "      <td>...</td>\n",
       "      <td>West</td>\n",
       "      <td>TEC-CO-10001449</td>\n",
       "      <td>Technology</td>\n",
       "      <td>Copiers</td>\n",
       "      <td>Hewlett Packard LaserJet 3310 Copier</td>\n",
       "      <td>0.127198</td>\n",
       "      <td>6</td>\n",
       "      <td>0.2</td>\n",
       "      <td>0.507199</td>\n",
       "      <td>1</td>\n",
       "    </tr>\n",
       "    <tr>\n",
       "      <th>335</th>\n",
       "      <td>4992</td>\n",
       "      <td>US-2017-122714</td>\n",
       "      <td>2017-12-07</td>\n",
       "      <td>2017-12-13</td>\n",
       "      <td>Standard Class</td>\n",
       "      <td>HG-14965</td>\n",
       "      <td>Henry Goldwyn</td>\n",
       "      <td>Corporate</td>\n",
       "      <td>United States</td>\n",
       "      <td>Chicago</td>\n",
       "      <td>...</td>\n",
       "      <td>Central</td>\n",
       "      <td>OFF-BI-10001120</td>\n",
       "      <td>Office Supplies</td>\n",
       "      <td>Binders</td>\n",
       "      <td>Ibico EPK-21 Electric Binding System</td>\n",
       "      <td>0.083468</td>\n",
       "      <td>5</td>\n",
       "      <td>0.8</td>\n",
       "      <td>0.244700</td>\n",
       "      <td>1</td>\n",
       "    </tr>\n",
       "    <tr>\n",
       "      <th>427</th>\n",
       "      <td>5531</td>\n",
       "      <td>CA-2017-160885</td>\n",
       "      <td>2017-12-02</td>\n",
       "      <td>2017-12-06</td>\n",
       "      <td>Standard Class</td>\n",
       "      <td>JK-16090</td>\n",
       "      <td>Juliana Krohn</td>\n",
       "      <td>Consumer</td>\n",
       "      <td>United States</td>\n",
       "      <td>Omaha</td>\n",
       "      <td>...</td>\n",
       "      <td>Central</td>\n",
       "      <td>TEC-PH-10001795</td>\n",
       "      <td>Technology</td>\n",
       "      <td>Phones</td>\n",
       "      <td>ClearOne CHATAttach 160 - speaker phone</td>\n",
       "      <td>0.109529</td>\n",
       "      <td>4</td>\n",
       "      <td>0.0</td>\n",
       "      <td>0.489599</td>\n",
       "      <td>1</td>\n",
       "    </tr>\n",
       "    <tr>\n",
       "      <th>464</th>\n",
       "      <td>5067</td>\n",
       "      <td>CA-2017-142090</td>\n",
       "      <td>2017-11-30</td>\n",
       "      <td>2017-12-07</td>\n",
       "      <td>Standard Class</td>\n",
       "      <td>SC-20380</td>\n",
       "      <td>Shahid Collister</td>\n",
       "      <td>Consumer</td>\n",
       "      <td>United States</td>\n",
       "      <td>Burlington</td>\n",
       "      <td>...</td>\n",
       "      <td>South</td>\n",
       "      <td>FUR-TA-10001889</td>\n",
       "      <td>Furniture</td>\n",
       "      <td>Tables</td>\n",
       "      <td>Bush Advantage Collection Racetrack Conference...</td>\n",
       "      <td>0.078683</td>\n",
       "      <td>7</td>\n",
       "      <td>0.4</td>\n",
       "      <td>0.396448</td>\n",
       "      <td>1</td>\n",
       "    </tr>\n",
       "    <tr>\n",
       "      <th>479</th>\n",
       "      <td>950</td>\n",
       "      <td>US-2017-110576</td>\n",
       "      <td>2017-11-28</td>\n",
       "      <td>2017-12-02</td>\n",
       "      <td>Standard Class</td>\n",
       "      <td>RB-19795</td>\n",
       "      <td>Ross Baird</td>\n",
       "      <td>Home Office</td>\n",
       "      <td>United States</td>\n",
       "      <td>Philadelphia</td>\n",
       "      <td>...</td>\n",
       "      <td>East</td>\n",
       "      <td>FUR-TA-10004154</td>\n",
       "      <td>Furniture</td>\n",
       "      <td>Tables</td>\n",
       "      <td>Riverside Furniture Oval Coffee Table, Oval En...</td>\n",
       "      <td>0.091213</td>\n",
       "      <td>12</td>\n",
       "      <td>0.4</td>\n",
       "      <td>0.398693</td>\n",
       "      <td>1</td>\n",
       "    </tr>\n",
       "  </tbody>\n",
       "</table>\n",
       "<p>5 rows × 22 columns</p>\n",
       "</div>"
      ],
      "text/plain": [
       "     Row ID        Order ID Order Date  Ship Date       Ship Mode Customer ID  \\\n",
       "73     4620  CA-2017-145219 2017-12-24 2017-12-25     First Class    RM-19675   \n",
       "335    4992  US-2017-122714 2017-12-07 2017-12-13  Standard Class    HG-14965   \n",
       "427    5531  CA-2017-160885 2017-12-02 2017-12-06  Standard Class    JK-16090   \n",
       "464    5067  CA-2017-142090 2017-11-30 2017-12-07  Standard Class    SC-20380   \n",
       "479     950  US-2017-110576 2017-11-28 2017-12-02  Standard Class    RB-19795   \n",
       "\n",
       "        Customer Name      Segment        Country          City  ...   Region  \\\n",
       "73      Robert Marley  Home Office  United States   Los Angeles  ...     West   \n",
       "335     Henry Goldwyn    Corporate  United States       Chicago  ...  Central   \n",
       "427     Juliana Krohn     Consumer  United States         Omaha  ...  Central   \n",
       "464  Shahid Collister     Consumer  United States    Burlington  ...    South   \n",
       "479        Ross Baird  Home Office  United States  Philadelphia  ...     East   \n",
       "\n",
       "          Product ID         Category Sub-Category  \\\n",
       "73   TEC-CO-10001449       Technology      Copiers   \n",
       "335  OFF-BI-10001120  Office Supplies      Binders   \n",
       "427  TEC-PH-10001795       Technology       Phones   \n",
       "464  FUR-TA-10001889        Furniture       Tables   \n",
       "479  FUR-TA-10004154        Furniture       Tables   \n",
       "\n",
       "                                          Product Name     Sales Quantity  \\\n",
       "73                Hewlett Packard LaserJet 3310 Copier  0.127198        6   \n",
       "335               Ibico EPK-21 Electric Binding System  0.083468        5   \n",
       "427            ClearOne CHATAttach 160 - speaker phone  0.109529        4   \n",
       "464  Bush Advantage Collection Racetrack Conference...  0.078683        7   \n",
       "479  Riverside Furniture Oval Coffee Table, Oval En...  0.091213       12   \n",
       "\n",
       "     Discount    Profit  outlier  \n",
       "73        0.2  0.507199        1  \n",
       "335       0.8  0.244700        1  \n",
       "427       0.0  0.489599        1  \n",
       "464       0.4  0.396448        1  \n",
       "479       0.4  0.398693        1  \n",
       "\n",
       "[5 rows x 22 columns]"
      ]
     },
     "execution_count": 242,
     "metadata": {},
     "output_type": "execute_result"
    }
   ],
   "source": [
    "outliers_fraction = 0.01\n",
    "xx , yy = np.meshgrid(np.linspace(0, 1, 100), np.linspace(0, 1, 100))\n",
    "clf = IForest(contamination=outliers_fraction,random_state=0)\n",
    "\n",
    "# fit\n",
    "clf.fit(X)\n",
    "\n",
    "# predict raw anomaly score\n",
    "scores_pred = clf.decision_function(X) * -1\n",
    "        \n",
    "# prediction of a datapoint category outlier or inlier\n",
    "y_pred = clf.predict(X)\n",
    "n_inliers = len(y_pred) - np.count_nonzero(y_pred)\n",
    "n_outliers = np.count_nonzero(y_pred == 1)\n",
    "\n",
    "\n",
    "# copy of dataframe\n",
    "df1 = df.copy()\n",
    "df1['outlier'] = y_pred.tolist()\n",
    "    \n",
    "# sales - inlier feature 1,  profit - inlier feature 2\n",
    "inliers_sales = np.array(df1['Sales'][df1['outlier'] == 0]).reshape(-1,1)\n",
    "inliers_profit = np.array(df1['Profit'][df1['outlier'] == 0]).reshape(-1,1)\n",
    "    \n",
    "# sales - outlier feature 1, profit - outlier feature 2\n",
    "outliers_sales = df1['Sales'][df1['outlier'] == 1].values.reshape(-1,1)\n",
    "outliers_profit = df1['Profit'][df1['outlier'] == 1].values.reshape(-1,1)\n",
    "         \n",
    "print('OUTLIERS: ',n_outliers,'INLIERS: ',n_inliers)\n",
    "        \n",
    "# threshold value to consider a datapoint inlier or outlier\n",
    "threshold = percentile(scores_pred, 100 * outliers_fraction)\n",
    "        \n",
    "# decision function calculates the raw anomaly score for every point\n",
    "Z = clf.decision_function(np.c_[xx.ravel(), yy.ravel()]) * -1\n",
    "Z = Z.reshape(xx.shape)\n",
    "\n",
    "\n",
    "# plot\n",
    "plt.figure(figsize=(8, 8))\n",
    "# fill blue map colormap from minimum anomaly score to threshold value\n",
    "plt.contourf(xx, yy, Z, levels=np.linspace(Z.min(), threshold, 7),cmap=plt.cm.Blues_r)\n",
    "# draw red contour line where anomaly score is equal to thresold\n",
    "a = plt.contour(xx, yy, Z, levels=[threshold],linewidths=2, colors='red')\n",
    "# fill orange contour lines where range of anomaly score is from threshold to maximum anomaly score\n",
    "plt.contourf(xx, yy, Z, levels=[threshold, Z.max()],colors='orange')\n",
    "b = plt.scatter(inliers_sales, inliers_profit, c='white',s=20, edgecolor='k')\n",
    "c = plt.scatter(outliers_sales, outliers_profit, c='black',s=20, edgecolor='k')\n",
    "plt.axis('tight')\n",
    "plt.legend([a.collections[0], b,c], ['learned decision function', 'inliers','outliers'],\n",
    "           prop=matplotlib.font_manager.FontProperties(size=20),loc='lower right')\n",
    "plt.xlim((0, 1))\n",
    "plt.ylim((0, 1))\n",
    "plt.title('Isolation Forest')\n",
    "plt.show();\n",
    "\n",
    "print('No. anomalies:', len(df1.loc[df1['outlier'] == 1]))\n",
    "df1.loc[df1['outlier'] == 1].head()"
   ]
  },
  {
   "cell_type": "markdown",
   "metadata": {},
   "source": [
    "## K - Nearest Neighbors (KNN)\n",
    "KNN is one of the simplest methods in anomaly detection. For a data point, its distance to its kth nearest neighbor could be viewed as the outlier score."
   ]
  },
  {
   "cell_type": "code",
   "execution_count": 243,
   "metadata": {
    "colab": {
     "base_uri": "https://localhost:8080/",
     "height": 517
    },
    "colab_type": "code",
    "id": "6gtIWWbRYxEj",
    "outputId": "5c3d373d-f758-4be9-f01e-24f7ef7dc24b"
   },
   "outputs": [
    {
     "name": "stdout",
     "output_type": "stream",
     "text": [
      "OUTLIERS:  91 INLIERS:  9903\n"
     ]
    },
    {
     "data": {
      "image/png": "[encoded data removed]",
      "text/plain": [
       "<Figure size 576x576 with 1 Axes>"
      ]
     },
     "metadata": {
      "needs_background": "light"
     },
     "output_type": "display_data"
    },
    {
     "name": "stdout",
     "output_type": "stream",
     "text": [
      "No. anomalies: 91\n"
     ]
    },
    {
     "data": {
      "text/html": [
       "<div>\n",
       "<style scoped>\n",
       "    .dataframe tbody tr th:only-of-type {\n",
       "        vertical-align: middle;\n",
       "    }\n",
       "\n",
       "    .dataframe tbody tr th {\n",
       "        vertical-align: top;\n",
       "    }\n",
       "\n",
       "    .dataframe thead th {\n",
       "        text-align: right;\n",
       "    }\n",
       "</style>\n",
       "<table border=\"1\" class=\"dataframe\">\n",
       "  <thead>\n",
       "    <tr style=\"text-align: right;\">\n",
       "      <th></th>\n",
       "      <th>Row ID</th>\n",
       "      <th>Order ID</th>\n",
       "      <th>Order Date</th>\n",
       "      <th>Ship Date</th>\n",
       "      <th>Ship Mode</th>\n",
       "      <th>Customer ID</th>\n",
       "      <th>Customer Name</th>\n",
       "      <th>Segment</th>\n",
       "      <th>Country</th>\n",
       "      <th>City</th>\n",
       "      <th>...</th>\n",
       "      <th>Region</th>\n",
       "      <th>Product ID</th>\n",
       "      <th>Category</th>\n",
       "      <th>Sub-Category</th>\n",
       "      <th>Product Name</th>\n",
       "      <th>Sales</th>\n",
       "      <th>Quantity</th>\n",
       "      <th>Discount</th>\n",
       "      <th>Profit</th>\n",
       "      <th>outlier</th>\n",
       "    </tr>\n",
       "  </thead>\n",
       "  <tbody>\n",
       "    <tr>\n",
       "      <th>335</th>\n",
       "      <td>4992</td>\n",
       "      <td>US-2017-122714</td>\n",
       "      <td>2017-12-07</td>\n",
       "      <td>2017-12-13</td>\n",
       "      <td>Standard Class</td>\n",
       "      <td>HG-14965</td>\n",
       "      <td>Henry Goldwyn</td>\n",
       "      <td>Corporate</td>\n",
       "      <td>United States</td>\n",
       "      <td>Chicago</td>\n",
       "      <td>...</td>\n",
       "      <td>Central</td>\n",
       "      <td>OFF-BI-10001120</td>\n",
       "      <td>Office Supplies</td>\n",
       "      <td>Binders</td>\n",
       "      <td>Ibico EPK-21 Electric Binding System</td>\n",
       "      <td>0.083468</td>\n",
       "      <td>5</td>\n",
       "      <td>0.8</td>\n",
       "      <td>0.244700</td>\n",
       "      <td>1</td>\n",
       "    </tr>\n",
       "    <tr>\n",
       "      <th>407</th>\n",
       "      <td>1996</td>\n",
       "      <td>US-2017-147221</td>\n",
       "      <td>2017-12-02</td>\n",
       "      <td>2017-12-04</td>\n",
       "      <td>Second Class</td>\n",
       "      <td>JS-16030</td>\n",
       "      <td>Joy Smith</td>\n",
       "      <td>Consumer</td>\n",
       "      <td>United States</td>\n",
       "      <td>Houston</td>\n",
       "      <td>...</td>\n",
       "      <td>Central</td>\n",
       "      <td>OFF-AP-10002534</td>\n",
       "      <td>Office Supplies</td>\n",
       "      <td>Appliances</td>\n",
       "      <td>3.6 Cubic Foot Counter Height Office Refrigerator</td>\n",
       "      <td>0.012995</td>\n",
       "      <td>5</td>\n",
       "      <td>0.8</td>\n",
       "      <td>0.388932</td>\n",
       "      <td>1</td>\n",
       "    </tr>\n",
       "    <tr>\n",
       "      <th>464</th>\n",
       "      <td>5067</td>\n",
       "      <td>CA-2017-142090</td>\n",
       "      <td>2017-11-30</td>\n",
       "      <td>2017-12-07</td>\n",
       "      <td>Standard Class</td>\n",
       "      <td>SC-20380</td>\n",
       "      <td>Shahid Collister</td>\n",
       "      <td>Consumer</td>\n",
       "      <td>United States</td>\n",
       "      <td>Burlington</td>\n",
       "      <td>...</td>\n",
       "      <td>South</td>\n",
       "      <td>FUR-TA-10001889</td>\n",
       "      <td>Furniture</td>\n",
       "      <td>Tables</td>\n",
       "      <td>Bush Advantage Collection Racetrack Conference...</td>\n",
       "      <td>0.078683</td>\n",
       "      <td>7</td>\n",
       "      <td>0.4</td>\n",
       "      <td>0.396448</td>\n",
       "      <td>1</td>\n",
       "    </tr>\n",
       "    <tr>\n",
       "      <th>479</th>\n",
       "      <td>950</td>\n",
       "      <td>US-2017-110576</td>\n",
       "      <td>2017-11-28</td>\n",
       "      <td>2017-12-02</td>\n",
       "      <td>Standard Class</td>\n",
       "      <td>RB-19795</td>\n",
       "      <td>Ross Baird</td>\n",
       "      <td>Home Office</td>\n",
       "      <td>United States</td>\n",
       "      <td>Philadelphia</td>\n",
       "      <td>...</td>\n",
       "      <td>East</td>\n",
       "      <td>FUR-TA-10004154</td>\n",
       "      <td>Furniture</td>\n",
       "      <td>Tables</td>\n",
       "      <td>Riverside Furniture Oval Coffee Table, Oval En...</td>\n",
       "      <td>0.091213</td>\n",
       "      <td>12</td>\n",
       "      <td>0.4</td>\n",
       "      <td>0.398693</td>\n",
       "      <td>1</td>\n",
       "    </tr>\n",
       "    <tr>\n",
       "      <th>628</th>\n",
       "      <td>5311</td>\n",
       "      <td>CA-2017-131254</td>\n",
       "      <td>2017-11-19</td>\n",
       "      <td>2017-11-21</td>\n",
       "      <td>First Class</td>\n",
       "      <td>NC-18415</td>\n",
       "      <td>Nathan Cano</td>\n",
       "      <td>Consumer</td>\n",
       "      <td>United States</td>\n",
       "      <td>Houston</td>\n",
       "      <td>...</td>\n",
       "      <td>Central</td>\n",
       "      <td>OFF-BI-10003527</td>\n",
       "      <td>Office Supplies</td>\n",
       "      <td>Binders</td>\n",
       "      <td>Fellowes PB500 Electric Punch Plastic Comb Bin...</td>\n",
       "      <td>0.067353</td>\n",
       "      <td>6</td>\n",
       "      <td>0.8</td>\n",
       "      <td>0.287481</td>\n",
       "      <td>1</td>\n",
       "    </tr>\n",
       "  </tbody>\n",
       "</table>\n",
       "<p>5 rows × 22 columns</p>\n",
       "</div>"
      ],
      "text/plain": [
       "     Row ID        Order ID Order Date  Ship Date       Ship Mode Customer ID  \\\n",
       "335    4992  US-2017-122714 2017-12-07 2017-12-13  Standard Class    HG-14965   \n",
       "407    1996  US-2017-147221 2017-12-02 2017-12-04    Second Class    JS-16030   \n",
       "464    5067  CA-2017-142090 2017-11-30 2017-12-07  Standard Class    SC-20380   \n",
       "479     950  US-2017-110576 2017-11-28 2017-12-02  Standard Class    RB-19795   \n",
       "628    5311  CA-2017-131254 2017-11-19 2017-11-21     First Class    NC-18415   \n",
       "\n",
       "        Customer Name      Segment        Country          City  ...   Region  \\\n",
       "335     Henry Goldwyn    Corporate  United States       Chicago  ...  Central   \n",
       "407         Joy Smith     Consumer  United States       Houston  ...  Central   \n",
       "464  Shahid Collister     Consumer  United States    Burlington  ...    South   \n",
       "479        Ross Baird  Home Office  United States  Philadelphia  ...     East   \n",
       "628       Nathan Cano     Consumer  United States       Houston  ...  Central   \n",
       "\n",
       "          Product ID         Category Sub-Category  \\\n",
       "335  OFF-BI-10001120  Office Supplies      Binders   \n",
       "407  OFF-AP-10002534  Office Supplies   Appliances   \n",
       "464  FUR-TA-10001889        Furniture       Tables   \n",
       "479  FUR-TA-10004154        Furniture       Tables   \n",
       "628  OFF-BI-10003527  Office Supplies      Binders   \n",
       "\n",
       "                                          Product Name     Sales Quantity  \\\n",
       "335               Ibico EPK-21 Electric Binding System  0.083468        5   \n",
       "407  3.6 Cubic Foot Counter Height Office Refrigerator  0.012995        5   \n",
       "464  Bush Advantage Collection Racetrack Conference...  0.078683        7   \n",
       "479  Riverside Furniture Oval Coffee Table, Oval En...  0.091213       12   \n",
       "628  Fellowes PB500 Electric Punch Plastic Comb Bin...  0.067353        6   \n",
       "\n",
       "     Discount    Profit  outlier  \n",
       "335       0.8  0.244700        1  \n",
       "407       0.8  0.388932        1  \n",
       "464       0.4  0.396448        1  \n",
       "479       0.4  0.398693        1  \n",
       "628       0.8  0.287481        1  \n",
       "\n",
       "[5 rows x 22 columns]"
      ]
     },
     "execution_count": 243,
     "metadata": {},
     "output_type": "execute_result"
    }
   ],
   "source": [
    "outliers_fraction = 0.01\n",
    "xx , yy = np.meshgrid(np.linspace(0, 1, 100), np.linspace(0, 1, 100))\n",
    "clf = KNN(contamination=outliers_fraction)\n",
    "\n",
    "# fit model\n",
    "clf.fit(X)\n",
    "\n",
    "# predict raw anomaly score\n",
    "scores_pred = clf.decision_function(X) * -1\n",
    "        \n",
    "# prediction of a datapoint category outlier or inlier\n",
    "y_pred = clf.predict(X)\n",
    "n_inliers = len(y_pred) - np.count_nonzero(y_pred)\n",
    "n_outliers = np.count_nonzero(y_pred == 1)\n",
    "\n",
    "# copy of dataframe\n",
    "df1 = df\n",
    "df1['outlier'] = y_pred.tolist()\n",
    "    \n",
    "# sales - inlier feature 1,  profit - inlier feature 2\n",
    "inliers_sales = np.array(df1['Sales'][df1['outlier'] == 0]).reshape(-1,1)\n",
    "inliers_profit = np.array(df1['Profit'][df1['outlier'] == 0]).reshape(-1,1)\n",
    "    \n",
    "# sales - outlier feature 1, profit - outlier feature 2\n",
    "outliers_sales = df1['Sales'][df1['outlier'] == 1].values.reshape(-1,1)\n",
    "outliers_profit = df1['Profit'][df1['outlier'] == 1].values.reshape(-1,1)\n",
    "         \n",
    "print('OUTLIERS: ',n_outliers,'INLIERS: ',n_inliers)\n",
    "        \n",
    "# threshold value to consider a datapoint inlier or outlier\n",
    "threshold = percentile(scores_pred, 100 * outliers_fraction)\n",
    "        \n",
    "# decision function calculates the raw anomaly score for every point\n",
    "Z = clf.decision_function(np.c_[xx.ravel(), yy.ravel()]) * -1\n",
    "Z = Z.reshape(xx.shape)\n",
    "\n",
    "\n",
    "# plot\n",
    "plt.figure(figsize=(8, 8))\n",
    "# fill blue map colormap from minimum anomaly score to threshold value\n",
    "plt.contourf(xx, yy, Z, levels=np.linspace(Z.min(), threshold, 7),cmap=plt.cm.Blues_r)\n",
    "# draw red contour line where anomaly score is equal to thresold\n",
    "a = plt.contour(xx, yy, Z, levels=[threshold],linewidths=2, colors='red')\n",
    "# fill orange contour lines where range of anomaly score is from threshold to maximum anomaly score\n",
    "plt.contourf(xx, yy, Z, levels=[threshold, Z.max()],colors='orange')\n",
    "b = plt.scatter(inliers_sales, inliers_profit, c='white',s=20, edgecolor='k')\n",
    "c = plt.scatter(outliers_sales, outliers_profit, c='black',s=20, edgecolor='k')\n",
    "plt.axis('tight')  \n",
    "plt.legend([a.collections[0], b,c], ['learned decision function', 'inliers','outliers'],\n",
    "           prop=matplotlib.font_manager.FontProperties(size=20),loc='lower right')\n",
    "plt.xlim((0, 1))\n",
    "plt.ylim((0, 1))\n",
    "plt.title('K Nearest Neighbors (KNN)')\n",
    "plt.show();\n",
    "\n",
    "print('No. anomalies:', len(df1.loc[df1['outlier'] == 1]))\n",
    "df1.loc[df1['outlier'] == 1].head()"
   ]
  },
  {
   "cell_type": "markdown",
   "metadata": {},
   "source": [
    "The anomalies predicted by the above four algorithms were not very different.\n",
    "\n"
   ]
  },
  {
   "cell_type": "code",
   "execution_count": 215,
   "metadata": {
    "colab": {
     "base_uri": "https://localhost:8080/",
     "height": 1000
    },
    "colab_type": "code",
    "id": "gvXGH0BHBBNN",
    "outputId": "0c20f0a6-99be-4766-b83a-cd918869f782"
   },
   "outputs": [
    {
     "data": {
      "text/html": [
       "<div>\n",
       "<style scoped>\n",
       "    .dataframe tbody tr th:only-of-type {\n",
       "        vertical-align: middle;\n",
       "    }\n",
       "\n",
       "    .dataframe tbody tr th {\n",
       "        vertical-align: top;\n",
       "    }\n",
       "\n",
       "    .dataframe thead th {\n",
       "        text-align: right;\n",
       "    }\n",
       "</style>\n",
       "<table border=\"1\" class=\"dataframe\">\n",
       "  <thead>\n",
       "    <tr style=\"text-align: right;\">\n",
       "      <th></th>\n",
       "      <th>Row ID</th>\n",
       "      <th>Order ID</th>\n",
       "      <th>Order Date</th>\n",
       "      <th>Ship Date</th>\n",
       "      <th>Ship Mode</th>\n",
       "      <th>Customer ID</th>\n",
       "      <th>Customer Name</th>\n",
       "      <th>Segment</th>\n",
       "      <th>Country</th>\n",
       "      <th>City</th>\n",
       "      <th>...</th>\n",
       "      <th>Region</th>\n",
       "      <th>Product ID</th>\n",
       "      <th>Category</th>\n",
       "      <th>Sub-Category</th>\n",
       "      <th>Product Name</th>\n",
       "      <th>Sales</th>\n",
       "      <th>Quantity</th>\n",
       "      <th>Discount</th>\n",
       "      <th>Profit</th>\n",
       "      <th>outlier</th>\n",
       "    </tr>\n",
       "  </thead>\n",
       "  <tbody>\n",
       "    <tr>\n",
       "      <th>8867</th>\n",
       "      <td>4129</td>\n",
       "      <td>CA-2014-127299</td>\n",
       "      <td>2014-09-19</td>\n",
       "      <td>2014-09-24</td>\n",
       "      <td>Standard Class</td>\n",
       "      <td>JL-15835</td>\n",
       "      <td>John Lee</td>\n",
       "      <td>Consumer</td>\n",
       "      <td>United States</td>\n",
       "      <td>Charlotte</td>\n",
       "      <td>...</td>\n",
       "      <td>South</td>\n",
       "      <td>TEC-MA-10001127</td>\n",
       "      <td>Technology</td>\n",
       "      <td>Machines</td>\n",
       "      <td>HP Designjet T520 Inkjet Large Format Printer ...</td>\n",
       "      <td>0.115935</td>\n",
       "      <td>3</td>\n",
       "      <td>0.5</td>\n",
       "      <td>0.377000</td>\n",
       "      <td>1</td>\n",
       "    </tr>\n",
       "    <tr>\n",
       "      <th>8922</th>\n",
       "      <td>9426</td>\n",
       "      <td>CA-2014-116246</td>\n",
       "      <td>2014-09-12</td>\n",
       "      <td>2014-09-17</td>\n",
       "      <td>Second Class</td>\n",
       "      <td>LW-17215</td>\n",
       "      <td>Luke Weiss</td>\n",
       "      <td>Consumer</td>\n",
       "      <td>United States</td>\n",
       "      <td>New York City</td>\n",
       "      <td>...</td>\n",
       "      <td>East</td>\n",
       "      <td>FUR-CH-10002024</td>\n",
       "      <td>Furniture</td>\n",
       "      <td>Chairs</td>\n",
       "      <td>HON 5400 Series Task Chairs for Big and Tall</td>\n",
       "      <td>0.167190</td>\n",
       "      <td>6</td>\n",
       "      <td>0.1</td>\n",
       "      <td>0.468039</td>\n",
       "      <td>1</td>\n",
       "    </tr>\n",
       "    <tr>\n",
       "      <th>8968</th>\n",
       "      <td>166</td>\n",
       "      <td>CA-2014-139892</td>\n",
       "      <td>2014-09-08</td>\n",
       "      <td>2014-09-12</td>\n",
       "      <td>Standard Class</td>\n",
       "      <td>BM-11140</td>\n",
       "      <td>Becky Martin</td>\n",
       "      <td>Consumer</td>\n",
       "      <td>United States</td>\n",
       "      <td>San Antonio</td>\n",
       "      <td>...</td>\n",
       "      <td>Central</td>\n",
       "      <td>TEC-MA-10000822</td>\n",
       "      <td>Technology</td>\n",
       "      <td>Machines</td>\n",
       "      <td>Lexmark MX611dhe Monochrome Laser Printer</td>\n",
       "      <td>0.360434</td>\n",
       "      <td>8</td>\n",
       "      <td>0.4</td>\n",
       "      <td>0.349333</td>\n",
       "      <td>1</td>\n",
       "    </tr>\n",
       "    <tr>\n",
       "      <th>9185</th>\n",
       "      <td>9775</td>\n",
       "      <td>CA-2014-169019</td>\n",
       "      <td>2014-07-26</td>\n",
       "      <td>2014-07-30</td>\n",
       "      <td>Standard Class</td>\n",
       "      <td>LF-17185</td>\n",
       "      <td>Luke Foster</td>\n",
       "      <td>Consumer</td>\n",
       "      <td>United States</td>\n",
       "      <td>San Antonio</td>\n",
       "      <td>...</td>\n",
       "      <td>Central</td>\n",
       "      <td>OFF-BI-10004995</td>\n",
       "      <td>Office Supplies</td>\n",
       "      <td>Binders</td>\n",
       "      <td>GBC DocuBind P400 Electric Binding System</td>\n",
       "      <td>0.096172</td>\n",
       "      <td>8</td>\n",
       "      <td>0.8</td>\n",
       "      <td>0.193206</td>\n",
       "      <td>1</td>\n",
       "    </tr>\n",
       "    <tr>\n",
       "      <th>9203</th>\n",
       "      <td>2506</td>\n",
       "      <td>CA-2014-143917</td>\n",
       "      <td>2014-07-25</td>\n",
       "      <td>2014-07-27</td>\n",
       "      <td>Second Class</td>\n",
       "      <td>KL-16645</td>\n",
       "      <td>Ken Lonsdale</td>\n",
       "      <td>Consumer</td>\n",
       "      <td>United States</td>\n",
       "      <td>San Francisco</td>\n",
       "      <td>...</td>\n",
       "      <td>West</td>\n",
       "      <td>OFF-SU-10000151</td>\n",
       "      <td>Office Supplies</td>\n",
       "      <td>Supplies</td>\n",
       "      <td>High Speed Automatic Electric Letter Opener</td>\n",
       "      <td>0.361657</td>\n",
       "      <td>5</td>\n",
       "      <td>0.0</td>\n",
       "      <td>0.461834</td>\n",
       "      <td>1</td>\n",
       "    </tr>\n",
       "    <tr>\n",
       "      <th>9384</th>\n",
       "      <td>6818</td>\n",
       "      <td>CA-2014-144414</td>\n",
       "      <td>2014-06-17</td>\n",
       "      <td>2014-06-21</td>\n",
       "      <td>Standard Class</td>\n",
       "      <td>GH-14425</td>\n",
       "      <td>Gary Hwang</td>\n",
       "      <td>Consumer</td>\n",
       "      <td>United States</td>\n",
       "      <td>Seattle</td>\n",
       "      <td>...</td>\n",
       "      <td>West</td>\n",
       "      <td>OFF-BI-10004995</td>\n",
       "      <td>Office Supplies</td>\n",
       "      <td>Binders</td>\n",
       "      <td>GBC DocuBind P400 Electric Binding System</td>\n",
       "      <td>0.144267</td>\n",
       "      <td>3</td>\n",
       "      <td>0.2</td>\n",
       "      <td>0.510772</td>\n",
       "      <td>1</td>\n",
       "    </tr>\n",
       "    <tr>\n",
       "      <th>9495</th>\n",
       "      <td>995</td>\n",
       "      <td>CA-2014-117639</td>\n",
       "      <td>2014-05-21</td>\n",
       "      <td>2014-05-25</td>\n",
       "      <td>Standard Class</td>\n",
       "      <td>MW-18235</td>\n",
       "      <td>Mitch Willingham</td>\n",
       "      <td>Corporate</td>\n",
       "      <td>United States</td>\n",
       "      <td>Virginia Beach</td>\n",
       "      <td>...</td>\n",
       "      <td>South</td>\n",
       "      <td>OFF-BI-10003925</td>\n",
       "      <td>Office Supplies</td>\n",
       "      <td>Binders</td>\n",
       "      <td>Fellowes PB300 Plastic Comb Binding Machine</td>\n",
       "      <td>0.119952</td>\n",
       "      <td>7</td>\n",
       "      <td>0.0</td>\n",
       "      <td>0.525099</td>\n",
       "      <td>1</td>\n",
       "    </tr>\n",
       "    <tr>\n",
       "      <th>9680</th>\n",
       "      <td>3281</td>\n",
       "      <td>CA-2014-102988</td>\n",
       "      <td>2014-04-05</td>\n",
       "      <td>2014-04-09</td>\n",
       "      <td>Second Class</td>\n",
       "      <td>GM-14695</td>\n",
       "      <td>Greg Maxwell</td>\n",
       "      <td>Corporate</td>\n",
       "      <td>United States</td>\n",
       "      <td>Alexandria</td>\n",
       "      <td>...</td>\n",
       "      <td>South</td>\n",
       "      <td>OFF-SU-10002881</td>\n",
       "      <td>Office Supplies</td>\n",
       "      <td>Supplies</td>\n",
       "      <td>Martin Yale Chadless Opener Electric Letter Op...</td>\n",
       "      <td>0.183921</td>\n",
       "      <td>5</td>\n",
       "      <td>0.0</td>\n",
       "      <td>0.445552</td>\n",
       "      <td>1</td>\n",
       "    </tr>\n",
       "    <tr>\n",
       "      <th>9763</th>\n",
       "      <td>7584</td>\n",
       "      <td>CA-2014-163223</td>\n",
       "      <td>2014-03-21</td>\n",
       "      <td>2014-03-25</td>\n",
       "      <td>Standard Class</td>\n",
       "      <td>KH-16690</td>\n",
       "      <td>Kristen Hastings</td>\n",
       "      <td>Corporate</td>\n",
       "      <td>United States</td>\n",
       "      <td>Springfield</td>\n",
       "      <td>...</td>\n",
       "      <td>South</td>\n",
       "      <td>TEC-PH-10000730</td>\n",
       "      <td>Technology</td>\n",
       "      <td>Phones</td>\n",
       "      <td>Samsung Galaxy S4 Active</td>\n",
       "      <td>0.154584</td>\n",
       "      <td>7</td>\n",
       "      <td>0.0</td>\n",
       "      <td>0.500666</td>\n",
       "      <td>1</td>\n",
       "    </tr>\n",
       "    <tr>\n",
       "      <th>9779</th>\n",
       "      <td>2698</td>\n",
       "      <td>CA-2014-145317</td>\n",
       "      <td>2014-03-18</td>\n",
       "      <td>2014-03-23</td>\n",
       "      <td>Standard Class</td>\n",
       "      <td>SM-20320</td>\n",
       "      <td>Sean Miller</td>\n",
       "      <td>Home Office</td>\n",
       "      <td>United States</td>\n",
       "      <td>Jacksonville</td>\n",
       "      <td>...</td>\n",
       "      <td>South</td>\n",
       "      <td>TEC-MA-10002412</td>\n",
       "      <td>Technology</td>\n",
       "      <td>Machines</td>\n",
       "      <td>Cisco TelePresence System EX90 Videoconferenci...</td>\n",
       "      <td>1.000000</td>\n",
       "      <td>6</td>\n",
       "      <td>0.5</td>\n",
       "      <td>0.319261</td>\n",
       "      <td>1</td>\n",
       "    </tr>\n",
       "  </tbody>\n",
       "</table>\n",
       "<p>10 rows × 22 columns</p>\n",
       "</div>"
      ],
      "text/plain": [
       "      Row ID        Order ID Order Date  Ship Date       Ship Mode  \\\n",
       "8867    4129  CA-2014-127299 2014-09-19 2014-09-24  Standard Class   \n",
       "8922    9426  CA-2014-116246 2014-09-12 2014-09-17    Second Class   \n",
       "8968     166  CA-2014-139892 2014-09-08 2014-09-12  Standard Class   \n",
       "9185    9775  CA-2014-169019 2014-07-26 2014-07-30  Standard Class   \n",
       "9203    2506  CA-2014-143917 2014-07-25 2014-07-27    Second Class   \n",
       "9384    6818  CA-2014-144414 2014-06-17 2014-06-21  Standard Class   \n",
       "9495     995  CA-2014-117639 2014-05-21 2014-05-25  Standard Class   \n",
       "9680    3281  CA-2014-102988 2014-04-05 2014-04-09    Second Class   \n",
       "9763    7584  CA-2014-163223 2014-03-21 2014-03-25  Standard Class   \n",
       "9779    2698  CA-2014-145317 2014-03-18 2014-03-23  Standard Class   \n",
       "\n",
       "     Customer ID     Customer Name      Segment        Country  \\\n",
       "8867    JL-15835          John Lee     Consumer  United States   \n",
       "8922    LW-17215        Luke Weiss     Consumer  United States   \n",
       "8968    BM-11140      Becky Martin     Consumer  United States   \n",
       "9185    LF-17185       Luke Foster     Consumer  United States   \n",
       "9203    KL-16645      Ken Lonsdale     Consumer  United States   \n",
       "9384    GH-14425        Gary Hwang     Consumer  United States   \n",
       "9495    MW-18235  Mitch Willingham    Corporate  United States   \n",
       "9680    GM-14695      Greg Maxwell    Corporate  United States   \n",
       "9763    KH-16690  Kristen Hastings    Corporate  United States   \n",
       "9779    SM-20320       Sean Miller  Home Office  United States   \n",
       "\n",
       "                City  ...   Region       Product ID         Category  \\\n",
       "8867       Charlotte  ...    South  TEC-MA-10001127       Technology   \n",
       "8922   New York City  ...     East  FUR-CH-10002024        Furniture   \n",
       "8968     San Antonio  ...  Central  TEC-MA-10000822       Technology   \n",
       "9185     San Antonio  ...  Central  OFF-BI-10004995  Office Supplies   \n",
       "9203   San Francisco  ...     West  OFF-SU-10000151  Office Supplies   \n",
       "9384         Seattle  ...     West  OFF-BI-10004995  Office Supplies   \n",
       "9495  Virginia Beach  ...    South  OFF-BI-10003925  Office Supplies   \n",
       "9680      Alexandria  ...    South  OFF-SU-10002881  Office Supplies   \n",
       "9763     Springfield  ...    South  TEC-PH-10000730       Technology   \n",
       "9779    Jacksonville  ...    South  TEC-MA-10002412       Technology   \n",
       "\n",
       "     Sub-Category                                       Product Name  \\\n",
       "8867     Machines  HP Designjet T520 Inkjet Large Format Printer ...   \n",
       "8922       Chairs       HON 5400 Series Task Chairs for Big and Tall   \n",
       "8968     Machines          Lexmark MX611dhe Monochrome Laser Printer   \n",
       "9185      Binders          GBC DocuBind P400 Electric Binding System   \n",
       "9203     Supplies        High Speed Automatic Electric Letter Opener   \n",
       "9384      Binders          GBC DocuBind P400 Electric Binding System   \n",
       "9495      Binders        Fellowes PB300 Plastic Comb Binding Machine   \n",
       "9680     Supplies  Martin Yale Chadless Opener Electric Letter Op...   \n",
       "9763       Phones                           Samsung Galaxy S4 Active   \n",
       "9779     Machines  Cisco TelePresence System EX90 Videoconferenci...   \n",
       "\n",
       "         Sales Quantity  Discount    Profit  outlier  \n",
       "8867  0.115935        3       0.5  0.377000        1  \n",
       "8922  0.167190        6       0.1  0.468039        1  \n",
       "8968  0.360434        8       0.4  0.349333        1  \n",
       "9185  0.096172        8       0.8  0.193206        1  \n",
       "9203  0.361657        5       0.0  0.461834        1  \n",
       "9384  0.144267        3       0.2  0.510772        1  \n",
       "9495  0.119952        7       0.0  0.525099        1  \n",
       "9680  0.183921        5       0.0  0.445552        1  \n",
       "9763  0.154584        7       0.0  0.500666        1  \n",
       "9779  1.000000        6       0.5  0.319261        1  \n",
       "\n",
       "[10 rows x 22 columns]"
      ]
     },
     "execution_count": 215,
     "metadata": {},
     "output_type": "execute_result"
    }
   ],
   "source": [
    "df1.loc[df1['outlier'] == 1].tail(10)"
   ]
  },
  {
   "cell_type": "code",
   "execution_count": 0,
   "metadata": {
    "colab": {},
    "colab_type": "code",
    "id": "eb8xqyIMBmRO"
   },
   "outputs": [],
   "source": [
    "df = pd.read_excel(\"Superstore.xls\")"
   ]
  },
  {
   "cell_type": "markdown",
   "metadata": {},
   "source": [
    "### Visually investigate some of the anomalies\n",
    "We may want to investigate each of the outliers that determined by our model, for example, let’s look in details for a couple of outliers that determined by KNN, and try to understand what make them anomalies.\n",
    "\n",
    "For this particular order, a customer purchased 5 products with total price at 294.62 and profit at lower than -766, with 80% discount. It seems like a clearance. We should be aware of the loss for each product we sell."
   ]
  },
  {
   "cell_type": "code",
   "execution_count": 0,
   "metadata": {
    "colab": {
     "base_uri": "https://localhost:8080/",
     "height": 399
    },
    "colab_type": "code",
    "id": "6VTJuQnV4ZsZ",
    "outputId": "0575d6d4-8195-4245-918f-9dbe56ed36bf"
   },
   "outputs": [
    {
     "data": {
      "text/plain": [
       "Row ID                                                        1996\n",
       "Order ID                                            US-2017-147221\n",
       "Order Date                                     2017-12-02 00:00:00\n",
       "Ship Date                                      2017-12-04 00:00:00\n",
       "Ship Mode                                             Second Class\n",
       "Customer ID                                               JS-16030\n",
       "Customer Name                                            Joy Smith\n",
       "Segment                                                   Consumer\n",
       "Country                                              United States\n",
       "City                                                       Houston\n",
       "State                                                        Texas\n",
       "Postal Code                                                  77036\n",
       "Region                                                     Central\n",
       "Product ID                                         OFF-AP-10002534\n",
       "Category                                           Office Supplies\n",
       "Sub-Category                                            Appliances\n",
       "Product Name     3.6 Cubic Foot Counter Height Office Refrigerator\n",
       "Sales                                                       294.62\n",
       "Quantity                                                         5\n",
       "Discount                                                       0.8\n",
       "Profit                                                    -766.012\n",
       "Name: 1995, dtype: object"
      ]
     },
     "execution_count": 191,
     "metadata": {
      "tags": []
     },
     "output_type": "execute_result"
    }
   ],
   "source": [
    "df.iloc[1995]"
   ]
  },
  {
   "cell_type": "markdown",
   "metadata": {},
   "source": [
    "For this purchase, it seems to me that the profit at around 4.7% is too small and the model determined that this order is an anomaly."
   ]
  },
  {
   "cell_type": "code",
   "execution_count": 0,
   "metadata": {
    "colab": {
     "base_uri": "https://localhost:8080/",
     "height": 399
    },
    "colab_type": "code",
    "id": "LST1aO-nZhb8",
    "outputId": "837be56f-3053-48ff-f724-164b9ccf17d5"
   },
   "outputs": [
    {
     "data": {
      "text/plain": [
       "Row ID                                            9650\n",
       "Order ID                                CA-2016-107104\n",
       "Order Date                         2016-11-26 00:00:00\n",
       "Ship Date                          2016-11-30 00:00:00\n",
       "Ship Mode                               Standard Class\n",
       "Customer ID                                   MS-17365\n",
       "Customer Name                      Maribeth Schnelling\n",
       "Segment                                       Consumer\n",
       "Country                                  United States\n",
       "City                                       Los Angeles\n",
       "State                                       California\n",
       "Postal Code                                      90045\n",
       "Region                                            West\n",
       "Product ID                             FUR-BO-10002213\n",
       "Category                                     Furniture\n",
       "Sub-Category                                 Bookcases\n",
       "Product Name     DMI Eclipse Executive Suite Bookcases\n",
       "Sales                                          3406.66\n",
       "Quantity                                             8\n",
       "Discount                                          0.15\n",
       "Profit                                         160.314\n",
       "Name: 9649, dtype: object"
      ]
     },
     "execution_count": 192,
     "metadata": {
      "tags": []
     },
     "output_type": "execute_result"
    }
   ],
   "source": [
    "df.iloc[9649]"
   ]
  },
  {
   "cell_type": "markdown",
   "metadata": {},
   "source": [
    "For the above order, a customer purchased 6 product at 4305 in total price, after 20% discount, we still get over 33% of the profit. We would love to have more of these kind of anomalies.\n"
   ]
  },
  {
   "cell_type": "code",
   "execution_count": 0,
   "metadata": {
    "colab": {
     "base_uri": "https://localhost:8080/",
     "height": 399
    },
    "colab_type": "code",
    "id": "5fX46THBDRVH",
    "outputId": "926b8163-d31d-415e-d080-256fea5c22cf"
   },
   "outputs": [
    {
     "data": {
      "text/plain": [
       "Row ID                                                 9271\n",
       "Order ID                                     US-2017-102183\n",
       "Order Date                              2017-08-21 00:00:00\n",
       "Ship Date                               2017-08-28 00:00:00\n",
       "Ship Mode                                    Standard Class\n",
       "Customer ID                                        PK-19075\n",
       "Customer Name                                     Pete Kriz\n",
       "Segment                                            Consumer\n",
       "Country                                       United States\n",
       "City                                          New York City\n",
       "State                                              New York\n",
       "Postal Code                                           10035\n",
       "Region                                                 East\n",
       "Product ID                                  OFF-BI-10001359\n",
       "Category                                    Office Supplies\n",
       "Sub-Category                                        Binders\n",
       "Product Name     GBC DocuBind TL300 Electric Binding System\n",
       "Sales                                               4305.55\n",
       "Quantity                                                  6\n",
       "Discount                                                0.2\n",
       "Profit                                              1453.12\n",
       "Name: 9270, dtype: object"
      ]
     },
     "execution_count": 196,
     "metadata": {
      "tags": []
     },
     "output_type": "execute_result"
    }
   ],
   "source": [
    "df.iloc[9270]"
   ]
  },
  {
   "cell_type": "code",
   "execution_count": 0,
   "metadata": {
    "colab": {},
    "colab_type": "code",
    "id": "MYbNaaO7D3NY"
   },
   "outputs": [],
   "source": []
  }
 ],
 "metadata": {
  "colab": {
   "collapsed_sections": [],
   "name": "Anomaly Detection for Dummies.ipynb",
   "provenance": [],
   "version": "0.3.2"
  },
  "kernelspec": {
   "display_name": "Python 3",
   "language": "python",
   "name": "python3"
  },
  "language_info": {
   "codemirror_mode": {
    "name": "ipython",
    "version": 3
   },
   "file_extension": ".py",
   "mimetype": "text/x-python",
   "name": "python",
   "nbconvert_exporter": "python",
   "pygments_lexer": "ipython3",
   "version": "3.7.3"
  }
 },
 "nbformat": 4,
 "nbformat_minor": 1
}
