{
 "cells": [
  {
   "cell_type": "code",
   "execution_count": 147,
   "metadata": {},
   "outputs": [
    {
     "name": "stdout",
     "output_type": "stream",
     "text": [
      "      Id  SepalLengthCm  SepalWidthCm  PetalLengthCm  PetalWidthCm  \\\n",
      "0      1            5.1           3.5            1.4           0.2   \n",
      "1      2            4.9           3.0            1.4           0.2   \n",
      "2      3            4.7           3.2            1.3           0.2   \n",
      "3      4            4.6           3.1            1.5           0.2   \n",
      "4      5            5.0           3.6            1.4           0.2   \n",
      "5      6            5.4           3.9            1.7           0.4   \n",
      "6      7            4.6           3.4            1.4           0.3   \n",
      "7      8            5.0           3.4            1.5           0.2   \n",
      "8      9            4.4           2.9            1.4           0.2   \n",
      "9     10            4.9           3.1            1.5           0.1   \n",
      "10    11            5.4           3.7            1.5           0.2   \n",
      "11    12            4.8           3.4            1.6           0.2   \n",
      "12    13            4.8           3.0            1.4           0.1   \n",
      "13    14            4.3           3.0            1.1           0.1   \n",
      "14    15            5.8           4.0            1.2           0.2   \n",
      "15    16            5.7           4.4            1.5           0.4   \n",
      "16    17            5.4           3.9            1.3           0.4   \n",
      "17    18            5.1           3.5            1.4           0.3   \n",
      "18    19            5.7           3.8            1.7           0.3   \n",
      "19    20            5.1           3.8            1.5           0.3   \n",
      "20    21            5.4           3.4            1.7           0.2   \n",
      "21    22            5.1           3.7            1.5           0.4   \n",
      "22    23            4.6           3.6            1.0           0.2   \n",
      "23    24            5.1           3.3            1.7           0.5   \n",
      "24    25            4.8           3.4            1.9           0.2   \n",
      "25    26            5.0           3.0            1.6           0.2   \n",
      "26    27            5.0           3.4            1.6           0.4   \n",
      "27    28            5.2           3.5            1.5           0.2   \n",
      "28    29            5.2           3.4            1.4           0.2   \n",
      "29    30            4.7           3.2            1.6           0.2   \n",
      "..   ...            ...           ...            ...           ...   \n",
      "120  121            6.9           3.2            5.7           2.3   \n",
      "121  122            5.6           2.8            4.9           2.0   \n",
      "122  123            7.7           2.8            6.7           2.0   \n",
      "123  124            6.3           2.7            4.9           1.8   \n",
      "124  125            6.7           3.3            5.7           2.1   \n",
      "125  126            7.2           3.2            6.0           1.8   \n",
      "126  127            6.2           2.8            4.8           1.8   \n",
      "127  128            6.1           3.0            4.9           1.8   \n",
      "128  129            6.4           2.8            5.6           2.1   \n",
      "129  130            7.2           3.0            5.8           1.6   \n",
      "130  131            7.4           2.8            6.1           1.9   \n",
      "131  132            7.9           3.8            6.4           2.0   \n",
      "132  133            6.4           2.8            5.6           2.2   \n",
      "133  134            6.3           2.8            5.1           1.5   \n",
      "134  135            6.1           2.6            5.6           1.4   \n",
      "135  136            7.7           3.0            6.1           2.3   \n",
      "136  137            6.3           3.4            5.6           2.4   \n",
      "137  138            6.4           3.1            5.5           1.8   \n",
      "138  139            6.0           3.0            4.8           1.8   \n",
      "139  140            6.9           3.1            5.4           2.1   \n",
      "140  141            6.7           3.1            5.6           2.4   \n",
      "141  142            6.9           3.1            5.1           2.3   \n",
      "142  143            5.8           2.7            5.1           1.9   \n",
      "143  144            6.8           3.2            5.9           2.3   \n",
      "144  145            6.7           3.3            5.7           2.5   \n",
      "145  146            6.7           3.0            5.2           2.3   \n",
      "146  147            6.3           2.5            5.0           1.9   \n",
      "147  148            6.5           3.0            5.2           2.0   \n",
      "148  149            6.2           3.4            5.4           2.3   \n",
      "149  150            5.9           3.0            5.1           1.8   \n",
      "\n",
      "            Species  \n",
      "0       Iris-setosa  \n",
      "1       Iris-setosa  \n",
      "2       Iris-setosa  \n",
      "3       Iris-setosa  \n",
      "4       Iris-setosa  \n",
      "5       Iris-setosa  \n",
      "6       Iris-setosa  \n",
      "7       Iris-setosa  \n",
      "8       Iris-setosa  \n",
      "9       Iris-setosa  \n",
      "10      Iris-setosa  \n",
      "11      Iris-setosa  \n",
      "12      Iris-setosa  \n",
      "13      Iris-setosa  \n",
      "14      Iris-setosa  \n",
      "15      Iris-setosa  \n",
      "16      Iris-setosa  \n",
      "17      Iris-setosa  \n",
      "18      Iris-setosa  \n",
      "19      Iris-setosa  \n",
      "20      Iris-setosa  \n",
      "21      Iris-setosa  \n",
      "22      Iris-setosa  \n",
      "23      Iris-setosa  \n",
      "24      Iris-setosa  \n",
      "25      Iris-setosa  \n",
      "26      Iris-setosa  \n",
      "27      Iris-setosa  \n",
      "28      Iris-setosa  \n",
      "29      Iris-setosa  \n",
      "..              ...  \n",
      "120  Iris-virginica  \n",
      "121  Iris-virginica  \n",
      "122  Iris-virginica  \n",
      "123  Iris-virginica  \n",
      "124  Iris-virginica  \n",
      "125  Iris-virginica  \n",
      "126  Iris-virginica  \n",
      "127  Iris-virginica  \n",
      "128  Iris-virginica  \n",
      "129  Iris-virginica  \n",
      "130  Iris-virginica  \n",
      "131  Iris-virginica  \n",
      "132  Iris-virginica  \n",
      "133  Iris-virginica  \n",
      "134  Iris-virginica  \n",
      "135  Iris-virginica  \n",
      "136  Iris-virginica  \n",
      "137  Iris-virginica  \n",
      "138  Iris-virginica  \n",
      "139  Iris-virginica  \n",
      "140  Iris-virginica  \n",
      "141  Iris-virginica  \n",
      "142  Iris-virginica  \n",
      "143  Iris-virginica  \n",
      "144  Iris-virginica  \n",
      "145  Iris-virginica  \n",
      "146  Iris-virginica  \n",
      "147  Iris-virginica  \n",
      "148  Iris-virginica  \n",
      "149  Iris-virginica  \n",
      "\n",
      "[150 rows x 6 columns]\n"
     ]
    }
   ],
   "source": [
    "import pandas as pd \n",
    "\n",
    "df = pd.read_csv('/Users/rohith/Documents/Datasets/Iris_dataset/Iris.csv')\n",
    "print(df)"
   ]
  },
  {
   "cell_type": "code",
   "execution_count": 148,
   "metadata": {},
   "outputs": [],
   "source": [
    "target = df['Species']\n",
    "df = df.drop(['Species','Id'],axis=1)"
   ]
  },
  {
   "cell_type": "code",
   "execution_count": 149,
   "metadata": {},
   "outputs": [
    {
     "name": "stdout",
     "output_type": "stream",
     "text": [
      "     SepalLengthCm  PetalLengthCm\n",
      "0              5.1            1.4\n",
      "1              4.9            1.4\n",
      "2              4.7            1.3\n",
      "3              4.6            1.5\n",
      "4              5.0            1.4\n",
      "5              5.4            1.7\n",
      "6              4.6            1.4\n",
      "7              5.0            1.5\n",
      "8              4.4            1.4\n",
      "9              4.9            1.5\n",
      "10             5.4            1.5\n",
      "11             4.8            1.6\n",
      "12             4.8            1.4\n",
      "13             4.3            1.1\n",
      "14             5.8            1.2\n",
      "15             5.7            1.5\n",
      "16             5.4            1.3\n",
      "17             5.1            1.4\n",
      "18             5.7            1.7\n",
      "19             5.1            1.5\n",
      "20             5.4            1.7\n",
      "21             5.1            1.5\n",
      "22             4.6            1.0\n",
      "23             5.1            1.7\n",
      "24             4.8            1.9\n",
      "25             5.0            1.6\n",
      "26             5.0            1.6\n",
      "27             5.2            1.5\n",
      "28             5.2            1.4\n",
      "29             4.7            1.6\n",
      "..             ...            ...\n",
      "120            6.9            5.7\n",
      "121            5.6            4.9\n",
      "122            7.7            6.7\n",
      "123            6.3            4.9\n",
      "124            6.7            5.7\n",
      "125            7.2            6.0\n",
      "126            6.2            4.8\n",
      "127            6.1            4.9\n",
      "128            6.4            5.6\n",
      "129            7.2            5.8\n",
      "130            7.4            6.1\n",
      "131            7.9            6.4\n",
      "132            6.4            5.6\n",
      "133            6.3            5.1\n",
      "134            6.1            5.6\n",
      "135            7.7            6.1\n",
      "136            6.3            5.6\n",
      "137            6.4            5.5\n",
      "138            6.0            4.8\n",
      "139            6.9            5.4\n",
      "140            6.7            5.6\n",
      "141            6.9            5.1\n",
      "142            5.8            5.1\n",
      "143            6.8            5.9\n",
      "144            6.7            5.7\n",
      "145            6.7            5.2\n",
      "146            6.3            5.0\n",
      "147            6.5            5.2\n",
      "148            6.2            5.4\n",
      "149            5.9            5.1\n",
      "\n",
      "[150 rows x 2 columns]\n"
     ]
    }
   ],
   "source": [
    "df = df.drop(['SepalWidthCm','PetalWidthCm'],axis=1)\n",
    "print(df)"
   ]
  },
  {
   "cell_type": "code",
   "execution_count": 150,
   "metadata": {},
   "outputs": [],
   "source": [
    "import numpy as np \n",
    "\n",
    "X = df.values.tolist()\n",
    "Y = []\n",
    "for val in target:\n",
    "    if(val == 'Iris-setosa'):\n",
    "        Y.append(0)\n",
    "    elif(val == 'Iris-virginica'):\n",
    "        Y.append(2)\n",
    "    else:\n",
    "        Y.append(1)\n",
    "        \n",
    "X = np.array(X)\n",
    "Y = np.array(Y)"
   ]
  },
  {
   "cell_type": "code",
   "execution_count": 151,
   "metadata": {},
   "outputs": [
    {
     "data": {
      "image/png": "[encoded data removed]",
      "text/plain": [
       "<Figure size 1152x648 with 1 Axes>"
      ]
     },
     "metadata": {},
     "output_type": "display_data"
    }
   ],
   "source": [
    "import matplotlib.pyplot as plt \n",
    "\n",
    "points_1 = df[0:50].values.tolist()\n",
    "points_2 = df[50:100].values.tolist()\n",
    "points_3 = df[100:].values.tolist()\n",
    "\n",
    "points_1 = np.array(points_1)\n",
    "points_2 = np.array(points_2)\n",
    "points_3 = np.array(points_3)\n",
    "\n",
    "plt.figure(figsize=(16,9))\n",
    "plt.scatter(points_1[:,0],points_1[:,1],color='red',label='Setosa')\n",
    "plt.scatter(points_2[:,0],points_2[:,1],color='black',label='Versicolor')\n",
    "plt.scatter(points_3[:,0],points_3[:,1],color='green',label='Virginica')\n",
    "plt.legend()\n",
    "plt.show()"
   ]
  },
  {
   "cell_type": "code",
   "execution_count": 152,
   "metadata": {},
   "outputs": [],
   "source": [
    "from sklearn.cross_validation import train_test_split\n",
    "\n",
    "x_train, x_test, y_train, y_test = train_test_split(X,Y,train_size=0.9)"
   ]
  },
  {
   "cell_type": "code",
   "execution_count": 153,
   "metadata": {},
   "outputs": [],
   "source": [
    "x_train = np.array(x_train)\n",
    "y_train = np.array(y_train)\n",
    "x_test = np.array(x_test)\n",
    "y_test = np.array(y_test)"
   ]
  },
  {
   "cell_type": "code",
   "execution_count": 154,
   "metadata": {},
   "outputs": [],
   "source": [
    "from sklearn.neighbors import KNeighborsClassifier\n",
    "from sklearn.metrics import accuracy_score\n",
    "\n",
    "accuracy = []\n",
    "for n in range(1,21):\n",
    "    clf = KNeighborsClassifier(n_neighbors = n)\n",
    "    clf.fit(x_train,y_train)\n",
    "    y_pred = clf.predict(x_test)\n",
    "    accuracy.append(accuracy_score(y_test,y_pred))"
   ]
  },
  {
   "cell_type": "code",
   "execution_count": 155,
   "metadata": {},
   "outputs": [
    {
     "data": {
      "text/plain": [
       "[<matplotlib.lines.Line2D at 0x1a16732150>]"
      ]
     },
     "execution_count": 155,
     "metadata": {},
     "output_type": "execute_result"
    },
    {
     "data": {
      "image/png": "[encoded data removed]",
      "text/plain": [
       "<Figure size 1152x648 with 1 Axes>"
      ]
     },
     "metadata": {},
     "output_type": "display_data"
    }
   ],
   "source": [
    "plt.figure(figsize=(16,9))\n",
    "plt.plot(range(1,21),accuracy)"
   ]
  },
  {
   "cell_type": "code",
   "execution_count": 157,
   "metadata": {},
   "outputs": [],
   "source": [
    "## K Nearest Neighbors \n",
    "\n",
    "y_pred_knn = []\n",
    "\n",
    "for val in x_test:\n",
    "    euc_dis = []\n",
    "    ## Finding eucledian distance \n",
    "    for point in x_train:\n",
    "        euc_dis.append(((val[0]-point[0])**2+(val[1]-point[1])**2)**0.5)\n",
    "    temp_target = y_train.tolist()\n",
    "    ## Bubble Sort \n",
    "    for i in range(len(euc_dis)):\n",
    "        for j in range(0,len(euc_dis)-i-1):\n",
    "            if(euc_dis[j+1] < euc_dis[j]):\n",
    "                euc_dis[j], euc_dis[j+1] = euc_dis[j+1], euc_dis[j]\n",
    "                temp_target[j], temp_target[j+1] = temp_target[j+1], temp_target[j]\n",
    "    ## Finding majority of the neighbors \n",
    "    vote = [0,0,0]\n",
    "    for i in range(3):\n",
    "        vote[temp_target[i]] += 1\n",
    "    y_pred_knn.append(vote.index(max(vote)))"
   ]
  },
  {
   "cell_type": "code",
   "execution_count": 160,
   "metadata": {},
   "outputs": [
    {
     "name": "stdout",
     "output_type": "stream",
     "text": [
      "1.0\n"
     ]
    }
   ],
   "source": [
    "print(accuracy_score(y_test,y_pred_knn))"
   ]
  },
  {
   "cell_type": "code",
   "execution_count": null,
   "metadata": {},
   "outputs": [],
   "source": []
  }
 ],
 "metadata": {
  "kernelspec": {
   "display_name": "Python 2",
   "language": "python",
   "name": "python2"
  },
  "language_info": {
   "codemirror_mode": {
    "name": "ipython",
    "version": 2
   },
   "file_extension": ".py",
   "mimetype": "text/x-python",
   "name": "python",
   "nbconvert_exporter": "python",
   "pygments_lexer": "ipython2",
   "version": "2.7.14"
  }
 },
 "nbformat": 4,
 "nbformat_minor": 2
}
