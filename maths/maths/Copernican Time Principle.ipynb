{
 "cells": [
  {
   "cell_type": "markdown",
   "metadata": {},
   "source": [
    "# Introduction: Copernican Lifetime Equation\n",
    "\n",
    "In this notebook, we take a look at the Copernican lifetime equation, a simple method for calculating the lifetime of any phenomomenon. The original discussion of this equation is worth a read and can be found on SciHub (questionably legal) [here](https://sci-hub.tw/10.1038/363315a0). "
   ]
  },
  {
   "cell_type": "code",
   "execution_count": 49,
   "metadata": {},
   "outputs": [],
   "source": [
    "# https://towardsdatascience.com/the-copernican-principle-and-how-to-use-statistics-to-figure-out-how-long-anything-will-last-9cceb7aba20a"
   ]
  },
  {
   "cell_type": "code",
   "execution_count": 59,
   "metadata": {},
   "outputs": [
    {
     "data": {
      "text/html": [
       "\n",
       "        <iframe\n",
       "            width=\"300\"\n",
       "            height=\"200\"\n",
       "            src=\"https://towardsdatascience.com/the-copernican-principle-and-how-to-use-statistics-to-figure-out-how-long-anything-will-last-9cceb7aba20a\"\n",
       "            frameborder=\"0\"\n",
       "            allowfullscreen\n",
       "        ></iframe>\n",
       "        "
      ],
      "text/plain": [
       "<IPython.lib.display.IFrame at 0x1245bd048>"
      ]
     },
     "execution_count": 59,
     "metadata": {},
     "output_type": "execute_result"
    }
   ],
   "source": [
    "from IPython.display import IFrame\n",
    "\n",
    "IFrame(src='https://towardsdatascience.com/the-copernican-principle-and-how-to-use-statistics-to-figure-out-how-long-anything-will-last-9cceb7aba20a', width=300, height=200)"
   ]
  },
  {
   "cell_type": "code",
   "execution_count": 24,
   "metadata": {
    "ExecuteTime": {
     "end_time": "2018-12-29T16:51:49.441317Z",
     "start_time": "2018-12-29T16:51:47.788400Z"
    }
   },
   "outputs": [],
   "source": [
    "# Data science imports\n",
    "#import cufflinks\n",
    "import plotly.graph_objs as go\n",
    "#import plotly.plotly as py\n",
    "import pandas as pd\n",
    "import numpy as np\n",
    "import matplotlib.pyplot as plt\n",
    "\n",
    "# Display all cell outputs\n",
    "from IPython.core.interactiveshell import InteractiveShell\n",
    "InteractiveShell.ast_node_interactivity = 'all'\n",
    "\n",
    "#cufflinks.go_offline()"
   ]
  },
  {
   "cell_type": "markdown",
   "metadata": {},
   "source": [
    "# Calculations\n",
    "\n",
    "$$(\\frac{z}{1 - z})*t_{current}\\le t_{future} \\le (\\frac{1 - z}{z}) * t_{current}$$\n",
    "\n",
    "$$z = \\frac{1-\\text{confidence interval}}{2}$$"
   ]
  },
  {
   "cell_type": "code",
   "execution_count": 37,
   "metadata": {
    "ExecuteTime": {
     "end_time": "2018-12-29T16:51:49.449208Z",
     "start_time": "2018-12-29T16:51:49.444454Z"
    }
   },
   "outputs": [],
   "source": [
    "def calculate_multipliers(ci):\n",
    "    import numpy as np\n",
    "    z = (1 - ci) / 2\n",
    "    upper_multiplier = np.round((1 - z) / z, 3)\n",
    "    lower_multiplier = np.round(z / (1 - z), 3)\n",
    "    return lower_multiplier, upper_multiplier"
   ]
  },
  {
   "cell_type": "code",
   "execution_count": 38,
   "metadata": {
    "ExecuteTime": {
     "end_time": "2018-12-29T16:51:49.464598Z",
     "start_time": "2018-12-29T16:51:49.451786Z"
    }
   },
   "outputs": [
    {
     "data": {
      "text/plain": [
       "(0.026, 39.0)"
      ]
     },
     "execution_count": 38,
     "metadata": {},
     "output_type": "execute_result"
    },
    {
     "data": {
      "text/plain": [
       "(0.005, 199.0)"
      ]
     },
     "execution_count": 38,
     "metadata": {},
     "output_type": "execute_result"
    },
    {
     "data": {
      "text/plain": [
       "(0.333, 3.0)"
      ]
     },
     "execution_count": 38,
     "metadata": {},
     "output_type": "execute_result"
    }
   ],
   "source": [
    "calculate_multipliers(0.95)\n",
    "calculate_multipliers(0.99)\n",
    "calculate_multipliers(0.5)\n"
   ]
  },
  {
   "cell_type": "code",
   "execution_count": 39,
   "metadata": {
    "ExecuteTime": {
     "end_time": "2018-12-29T16:51:49.470705Z",
     "start_time": "2018-12-29T16:51:49.467296Z"
    }
   },
   "outputs": [],
   "source": [
    "def calculate_lifetime(t_current, ci):\n",
    "    import numpy as np\n",
    "    low, high = calculate_multipliers(ci)\n",
    "    t_low =  np.round(t_current * low, 3)\n",
    "    t_high = np.round(t_current * high, 3)\n",
    "    return t_low, t_high"
   ]
  },
  {
   "cell_type": "markdown",
   "metadata": {},
   "source": [
    "To use this equation, `t_current` must be in years, and `ci` must be a fraction."
   ]
  },
  {
   "cell_type": "markdown",
   "metadata": {},
   "source": [
    "# Lifetime of Humanity\n",
    "\n",
    "https://en.wikipedia.org/wiki/Human_evolution#H._sapiens"
   ]
  },
  {
   "cell_type": "code",
   "execution_count": 40,
   "metadata": {
    "ExecuteTime": {
     "end_time": "2018-12-29T16:51:49.476859Z",
     "start_time": "2018-12-29T16:51:49.472916Z"
    }
   },
   "outputs": [
    {
     "data": {
      "text/plain": [
       "(5200.0, 7800000.0)"
      ]
     },
     "execution_count": 40,
     "metadata": {},
     "output_type": "execute_result"
    }
   ],
   "source": [
    "calculate_lifetime(200000, 0.95)"
   ]
  },
  {
   "cell_type": "markdown",
   "metadata": {},
   "source": [
    "Let's write a quick function to nicely display the results."
   ]
  },
  {
   "cell_type": "code",
   "execution_count": 41,
   "metadata": {
    "ExecuteTime": {
     "end_time": "2018-12-29T16:51:49.481758Z",
     "start_time": "2018-12-29T16:51:49.478850Z"
    }
   },
   "outputs": [],
   "source": [
    "from datetime import datetime, timedelta"
   ]
  },
  {
   "cell_type": "code",
   "execution_count": 42,
   "metadata": {
    "ExecuteTime": {
     "end_time": "2018-12-29T16:51:49.487123Z",
     "start_time": "2018-12-29T16:51:49.483536Z"
    }
   },
   "outputs": [],
   "source": [
    "def print_lifetime(t_current, ci):\n",
    "    low, high = calculate_lifetime(t_current, ci)\n",
    "    now = datetime.now()\n",
    "    try:\n",
    "        print(\n",
    "            f'Estimated lifetime from {(now + timedelta(days=low*365)).date()} ({low:,.2f} years) to {(now + timedelta(days=high*365)).date()} ({high:,.0f} years).'\n",
    "        )\n",
    "    except:\n",
    "        print(f'Estimated lifetime in years: {low:,.2f} to {high:,.0f}.')"
   ]
  },
  {
   "cell_type": "code",
   "execution_count": 44,
   "metadata": {
    "ExecuteTime": {
     "end_time": "2018-12-29T16:51:49.493339Z",
     "start_time": "2018-12-29T16:51:49.489675Z"
    }
   },
   "outputs": [
    {
     "name": "stdout",
     "output_type": "stream",
     "text": [
      "Estimated lifetime in years: 5,200.00 to 7,800,000.\n"
     ]
    }
   ],
   "source": [
    "print_lifetime(200000, 0.95)"
   ]
  },
  {
   "cell_type": "code",
   "execution_count": 45,
   "metadata": {
    "ExecuteTime": {
     "end_time": "2018-12-29T16:51:49.499846Z",
     "start_time": "2018-12-29T16:51:49.496121Z"
    }
   },
   "outputs": [
    {
     "name": "stdout",
     "output_type": "stream",
     "text": [
      "Estimated lifetime in years: 1,000.00 to 39,800,000.\n"
     ]
    }
   ],
   "source": [
    "print_lifetime(200000, 0.99)"
   ]
  },
  {
   "cell_type": "markdown",
   "metadata": {},
   "source": [
    "# Data Science\n",
    "\n",
    "https://hbr.org/2012/10/data-scientist-the-sexiest-job-of-the-21st-century"
   ]
  },
  {
   "cell_type": "code",
   "execution_count": 46,
   "metadata": {
    "ExecuteTime": {
     "end_time": "2018-12-29T16:51:49.513848Z",
     "start_time": "2018-12-29T16:51:49.502120Z"
    }
   },
   "outputs": [
    {
     "name": "stdout",
     "output_type": "stream",
     "text": [
      "Estimated lifetime from 2021-01-18 (0.21 years) to 2332-08-20 (312 years).\n"
     ]
    }
   ],
   "source": [
    "print_lifetime(2020 - 2012, 0.95)"
   ]
  },
  {
   "cell_type": "code",
   "execution_count": 47,
   "metadata": {
    "ExecuteTime": {
     "end_time": "2018-12-29T16:51:49.525728Z",
     "start_time": "2018-12-29T16:51:49.519264Z"
    }
   },
   "outputs": [
    {
     "name": "stdout",
     "output_type": "stream",
     "text": [
      "Estimated lifetime from 2023-07-04 (2.66 years) to 2044-10-28 (24 years).\n"
     ]
    }
   ],
   "source": [
    "print_lifetime(2020 - 2012, 0.5)"
   ]
  },
  {
   "cell_type": "markdown",
   "metadata": {},
   "source": [
    "# Beowulf\n",
    "\n",
    "https://en.wikipedia.org/wiki/Beowulf"
   ]
  },
  {
   "cell_type": "code",
   "execution_count": 48,
   "metadata": {
    "ExecuteTime": {
     "end_time": "2018-12-29T16:51:49.545863Z",
     "start_time": "2018-12-29T16:51:49.533766Z"
    }
   },
   "outputs": [
    {
     "name": "stdout",
     "output_type": "stream",
     "text": [
      "Estimated lifetime in years: 26.52 to 39,780.\n"
     ]
    }
   ],
   "source": [
    "print_lifetime(2020 - 1000, 0.95)"
   ]
  },
  {
   "cell_type": "markdown",
   "metadata": {},
   "source": [
    "# Print Books\n",
    "\n",
    "https://sfbook.com/the-evolution-of-the-book.htm\n",
    "\n",
    "https://en.wikipedia.org/wiki/Book#History"
   ]
  },
  {
   "cell_type": "code",
   "execution_count": 18,
   "metadata": {
    "ExecuteTime": {
     "end_time": "2018-12-29T16:51:49.568138Z",
     "start_time": "2018-12-29T16:51:49.557043Z"
    }
   },
   "outputs": [
    {
     "name": "stdout",
     "output_type": "stream",
     "text": [
      "Estimated lifetime in years: 29.54 to 44,928.\n"
     ]
    }
   ],
   "source": [
    "print_lifetime(2020 - 868, 0.95)"
   ]
  },
  {
   "cell_type": "markdown",
   "metadata": {},
   "source": [
    "# Doctor\n",
    "\n",
    "https://en.wikipedia.org/wiki/History_of_medicine"
   ]
  },
  {
   "cell_type": "code",
   "execution_count": 19,
   "metadata": {
    "ExecuteTime": {
     "end_time": "2018-12-29T16:51:49.579687Z",
     "start_time": "2018-12-29T16:51:49.575851Z"
    }
   },
   "outputs": [
    {
     "name": "stdout",
     "output_type": "stream",
     "text": [
      "Estimated lifetime in years: 20.51 to 31,200.\n"
     ]
    }
   ],
   "source": [
    "print_lifetime(2020 - 1220, 0.95)"
   ]
  },
  {
   "cell_type": "markdown",
   "metadata": {},
   "source": [
    "# Most Likely Lifetime: t_future == t_past"
   ]
  },
  {
   "cell_type": "code",
   "execution_count": 20,
   "metadata": {
    "ExecuteTime": {
     "end_time": "2018-12-29T16:51:49.587428Z",
     "start_time": "2018-12-29T16:51:49.582230Z"
    }
   },
   "outputs": [],
   "source": [
    "from scipy.stats import norm\n",
    "\n",
    "x = np.logspace(-3, 3, num=1000)\n",
    "y = norm.pdf(np.log10(x), loc=0, scale=0.6)"
   ]
  },
  {
   "cell_type": "code",
   "execution_count": 25,
   "metadata": {
    "ExecuteTime": {
     "end_time": "2018-12-29T16:51:49.750790Z",
     "start_time": "2018-12-29T16:51:49.589834Z"
    }
   },
   "outputs": [
    {
     "data": {
      "text/plain": [
       "<AxesSubplot:xlabel='x'>"
      ]
     },
     "execution_count": 25,
     "metadata": {},
     "output_type": "execute_result"
    },
    {
     "data": {
      "image/png": "[encoded data removed]",
      "text/plain": [
       "<Figure size 432x288 with 1 Axes>"
      ]
     },
     "metadata": {
      "needs_background": "light"
     },
     "output_type": "display_data"
    }
   ],
   "source": [
    "df = pd.DataFrame({'x': x, 'y': y})\n",
    "df.plot(\n",
    "    x='x',\n",
    "    y='y',\n",
    "    layout=dict(\n",
    "        xaxis=dict(\n",
    "            type='log',\n",
    "            tickfont=dict(size=16),\n",
    "            titlefont=dict(size=18),\n",
    "            title=r'$\\frac{t_{future}}{t_{currrent}}$'),\n",
    "        yaxis=dict(title='probability'),\n",
    "        title='PDF',\n",
    "        shapes=[\n",
    "            dict(\n",
    "                type='line',\n",
    "                x0=39,\n",
    "                x1=39,\n",
    "                y0=0,\n",
    "                y1=1,\n",
    "                line=dict(color='black', dash='dash')),\n",
    "            dict(\n",
    "                type='line',\n",
    "                x0=1 / 39,\n",
    "                x1=1 / 39,\n",
    "                y0=0,\n",
    "                y1=1,\n",
    "                name='39',\n",
    "                line=dict(color='black', dash='dash'))\n",
    "        ]))\n",
    "\n",
    "plt.show()"
   ]
  },
  {
   "cell_type": "code",
   "execution_count": 27,
   "metadata": {
    "ExecuteTime": {
     "end_time": "2018-12-29T16:51:49.811976Z",
     "start_time": "2018-12-29T16:51:49.753315Z"
    }
   },
   "outputs": [
    {
     "data": {
      "text/plain": [
       "<AxesSubplot:xlabel='x'>"
      ]
     },
     "execution_count": 27,
     "metadata": {},
     "output_type": "execute_result"
    },
    {
     "data": {
      "image/png": "[encoded data removed]",
      "text/plain": [
       "<Figure size 432x288 with 1 Axes>"
      ]
     },
     "metadata": {
      "needs_background": "light"
     },
     "output_type": "display_data"
    }
   ],
   "source": [
    "t_c = 6\n",
    "df = pd.DataFrame({'x': x * t_c, 'y': y})\n",
    "annotations = [\n",
    "    dict(x=np.log10(39 * t_c), y=0.5, text='95% upper limit'),\n",
    "    dict(x=np.log10(1 / 39 * t_c), y=0.5, text='95% lower limit')\n",
    "]\n",
    "df.plot(\n",
    "    x='x',\n",
    "    y='y',\n",
    "    layout=dict(\n",
    "        annotations=annotations,\n",
    "        xaxis=dict(\n",
    "            type='log',\n",
    "            tickfont=dict(size=16),\n",
    "            title=r'$t_{future} \\text{ (years)}$'),\n",
    "        yaxis=dict(title='probability'),\n",
    "        title='PDF for Lifetime of Data Science',\n",
    "        shapes=[\n",
    "            dict(\n",
    "                type='line',\n",
    "                x0=39 * t_c,\n",
    "                x1=39 * t_c,\n",
    "                y0=0,\n",
    "                y1=1,\n",
    "                line=dict(color='black', dash='dash')),\n",
    "            dict(\n",
    "                type='line',\n",
    "                x0=(1 / 39) * t_c,\n",
    "                x1=(1 / 39) * t_c,\n",
    "                y0=0,\n",
    "                y1=1,\n",
    "                name='39',\n",
    "                line=dict(color='black', dash='dash'))\n",
    "        ]))\n",
    "\n",
    "plt.show()"
   ]
  },
  {
   "cell_type": "code",
   "execution_count": 28,
   "metadata": {
    "ExecuteTime": {
     "end_time": "2018-12-29T16:52:19.336915Z",
     "start_time": "2018-12-29T16:52:19.304153Z"
    }
   },
   "outputs": [
    {
     "data": {
      "text/plain": [
       "<AxesSubplot:xlabel='x'>"
      ]
     },
     "execution_count": 28,
     "metadata": {},
     "output_type": "execute_result"
    },
    {
     "data": {
      "image/png": "[encoded data removed]",
      "text/plain": [
       "<Figure size 432x288 with 1 Axes>"
      ]
     },
     "metadata": {
      "needs_background": "light"
     },
     "output_type": "display_data"
    }
   ],
   "source": [
    "t_c = 200000\n",
    "df = pd.DataFrame({'x': x * t_c, 'y': y})\n",
    "annotations = [\n",
    "    dict(x=np.log10(39 * t_c), y=0.5, text='95% upper limit'),\n",
    "    dict(x=np.log10(1 / 39 * t_c), y=0.5, text='95% lower limit')\n",
    "]\n",
    "df.plot(\n",
    "    x='x',\n",
    "    y='y',\n",
    "    layout=dict(\n",
    "        annotations=annotations,\n",
    "        xaxis=dict(\n",
    "            type='log',\n",
    "            tickfont=dict(size=16),\n",
    "            title=r'$t_{future} \\text{ (years)}$'),\n",
    "        yaxis=dict(title='probability'),\n",
    "        title='PDF for Lifetime of Human Species',\n",
    "        shapes=[\n",
    "            dict(\n",
    "                type='line',\n",
    "                x0=39 * t_c,\n",
    "                x1=39 * t_c,\n",
    "                y0=0,\n",
    "                y1=1,\n",
    "                line=dict(color='black', dash='dash')),\n",
    "            dict(\n",
    "                type='line',\n",
    "                x0=(1 / 39) * t_c,\n",
    "                x1=(1 / 39) * t_c,\n",
    "                y0=0,\n",
    "                y1=1,\n",
    "                name='39',\n",
    "                line=dict(color='black', dash='dash'))\n",
    "        ]))\n",
    "plt.show()"
   ]
  },
  {
   "cell_type": "code",
   "execution_count": null,
   "metadata": {},
   "outputs": [],
   "source": []
  }
 ],
 "metadata": {
  "hide_input": false,
  "kernelspec": {
   "display_name": "Python 3",
   "language": "python",
   "name": "python3"
  },
  "language_info": {
   "codemirror_mode": {
    "name": "ipython",
    "version": 3
   },
   "file_extension": ".py",
   "mimetype": "text/x-python",
   "name": "python",
   "nbconvert_exporter": "python",
   "pygments_lexer": "ipython3",
   "version": "3.7.3"
  },
  "toc": {
   "base_numbering": 1,
   "nav_menu": {},
   "number_sections": true,
   "sideBar": true,
   "skip_h1_title": false,
   "title_cell": "Table of Contents",
   "title_sidebar": "Contents",
   "toc_cell": false,
   "toc_position": {},
   "toc_section_display": true,
   "toc_window_display": false
  },
  "varInspector": {
   "cols": {
    "lenName": 16,
    "lenType": 16,
    "lenVar": 40
   },
   "kernels_config": {
    "python": {
     "delete_cmd_postfix": "",
     "delete_cmd_prefix": "del ",
     "library": "var_list.py",
     "varRefreshCmd": "print(var_dic_list())"
    },
    "r": {
     "delete_cmd_postfix": ") ",
     "delete_cmd_prefix": "rm(",
     "library": "var_list.r",
     "varRefreshCmd": "cat(var_dic_list()) "
    }
   },
   "types_to_exclude": [
    "module",
    "function",
    "builtin_function_or_method",
    "instance",
    "_Feature"
   ],
   "window_display": false
  }
 },
 "nbformat": 4,
 "nbformat_minor": 2
}
