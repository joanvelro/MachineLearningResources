{
 "cells": [
  {
   "cell_type": "markdown",
   "metadata": {},
   "source": [
    "# On the stability of linear systems \n",
    "___by Jose Angel Velasco___"
   ]
  },
  {
   "cell_type": "markdown",
   "metadata": {},
   "source": [
    "The solutions of some linear systems (that can be represented by systems of linear equations) are more sensitive to round-off error than others. For some linear systems a small change in one of the values of the coefficient matrix or the right-hand side vector causes a large change in the solution vector. This systems are called \"__ill-onditioned systems__\"\n",
    "\n",
    "Consider the following system of two linear equations in two unknowns."
   ]
  },
  {
   "cell_type": "markdown",
   "metadata": {},
   "source": [
    "$$\n",
    "Ax=b\n",
    "$$\n",
    "where:\n",
    "$$\n",
    "A = \\begin{pmatrix}\n",
    "400 & -201\\\\\n",
    "-800 & 401\n",
    "\\end{pmatrix}\n",
    "$$\n",
    "\n",
    "$$\n",
    "b = \\begin{pmatrix}\n",
    "200\\\\\n",
    "-200 \n",
    "\\end{pmatrix}\n",
    "$$\n",
    "\n",
    "$$\n",
    "x = \\begin{pmatrix}\n",
    "x_1\\\\\n",
    "x_2\n",
    "\\end{pmatrix}\n",
    "$$"
   ]
  },
  {
   "cell_type": "markdown",
   "metadata": {},
   "source": [
    "The system can be solved by using previously covered methods and the solution is\n",
    "$x_1 = −100$ and $x_2 = −200$"
   ]
  },
  {
   "cell_type": "code",
   "execution_count": 11,
   "metadata": {},
   "outputs": [
    {
     "name": "stdout",
     "output_type": "stream",
     "text": [
      "[-100. -200.]\n"
     ]
    }
   ],
   "source": [
    "import numpy as np\n",
    "A = np.array([[400, -201], [-800, 401]])\n",
    "b = np.array([200, -200])\n",
    "x = np.dot(np.linalg.inv(A), b)\n",
    "print(x)"
   ]
  },
  {
   "cell_type": "markdown",
   "metadata": {},
   "source": [
    "Now, let us make a slight change in one of the elements of the coefficient matrix. Change $A_{11}$ from 400 to 401 and see how this small change affects the solution of the following"
   ]
  },
  {
   "cell_type": "code",
   "execution_count": 12,
   "metadata": {},
   "outputs": [
    {
     "name": "stdout",
     "output_type": "stream",
     "text": [
      "[40000.00000004 79800.00000007]\n"
     ]
    }
   ],
   "source": [
    "Ap = np.array([[401, -201], [-800, 401]])\n",
    "b = np.array([200, -200])\n",
    "x = np.dot(np.linalg.inv(Ap), b)\n",
    "print(x)"
   ]
  },
  {
   "cell_type": "markdown",
   "metadata": {},
   "source": [
    "This time the solution is $x_1$ = 40000 and $x_2$ = 79800"
   ]
  },
  {
   "cell_type": "markdown",
   "metadata": {},
   "source": [
    "With a modest change in one of the coefficients one would expect only a small change in the solution. However, in this case the change in solution is quite significant. It is obvious that in this case the solution is very sensitive to the values of the coefficient matrix $A$.\n",
    "\n",
    "When the solution is highly sensitive to the values of the coefficient matrix A or the right- hand side constant vector $b$, the equations are called to be ill-conditioned. \n",
    "\n",
    "Ill-conditioned systems pose particular problems where the coefficients or constants are estimated from experimental results or from a mathematical model. Therefore, we cannot rely on the solutions coming out of an ill-conditioned system. The problem is then how do we know when a system of linear equations is ill-conditioned. To do that we have to first define vector and matrix norms."
   ]
  },
  {
   "cell_type": "markdown",
   "metadata": {},
   "source": [
    "### Vector Norm \n",
    "A norm of a vector is a measure of its length or magnitude. There are, however, several ways to define a vector norm. For the purpose of this discussion we will use a computationally simple formulation of a vector norm in the following manner."
   ]
  },
  {
   "cell_type": "markdown",
   "metadata": {},
   "source": [
    "\\begin{equation}\n",
    "||x|| \\doteq max_{k=1}^n \\{ |x_k| \\}  \\hspace{2cm} (1)\n",
    "\\end{equation}"
   ]
  },
  {
   "cell_type": "markdown",
   "metadata": {},
   "source": [
    "The notation $ max\\{ \\}$ denotes the maximum element of the set.\n",
    "\n",
    "The formulation shown by Eqn. (1) is also called the infinity norm of the vector $x$\n",
    "\n",
    "Note the following properties of infinity norm."
   ]
  },
  {
   "cell_type": "markdown",
   "metadata": {},
   "source": [
    "__1)__  $||x||>0$ for $x \\neq 0$\\\\\n",
    "\n",
    "__2)__ $||x||=0$ for $x = 0$\\\\\n",
    "\n",
    "__3)__ $||\\alpha \\cdot  x|| = ||\\alpha || \\cdot ||x|| $\\\\\n",
    "\n",
    "__4)__ $||x+y|| \\leq ||x || + ||y|| $ (Triangle inequality)"
   ]
  },
  {
   "cell_type": "markdown",
   "metadata": {},
   "source": [
    "### Matrix Norm \n",
    "A matrix norm can be defined in terms of a vector norm in the following manner."
   ]
  },
  {
   "cell_type": "markdown",
   "metadata": {},
   "source": [
    "\\begin{equation}\n",
    "||A|| \\doteq max_{k=1}^n \\{ \\sum_{j=1}^{n} |A_{kj}| \\} \n",
    "\\end{equation}"
   ]
  },
  {
   "cell_type": "markdown",
   "metadata": {},
   "source": [
    "Note that the expression for $||A||$ involves summing the absolute values of elements in the rows of $A$."
   ]
  },
  {
   "cell_type": "markdown",
   "metadata": {},
   "source": [
    "Consider the following linear algebraic system: $Ax=b$"
   ]
  },
  {
   "cell_type": "markdown",
   "metadata": {},
   "source": [
    "$$\n",
    "A = \\begin{pmatrix}\n",
    "2 & 3 & -7\\\\\n",
    "5 & 4 & -2\\\\\n",
    "7 & -3 & 6\n",
    "\\end{pmatrix}\n",
    "\\rightarrow ||A|| = max \\{ 12, 11, 16\\} = 16\\\\\n",
    "b = \\begin{pmatrix}\n",
    "3\\\\\n",
    "-7\\\\\n",
    "11\n",
    "\\end{pmatrix}\n",
    "\\rightarrow ||b|| = max \\{ 3,7,11\\} = 11\n",
    "$$"
   ]
  },
  {
   "cell_type": "code",
   "execution_count": 67,
   "metadata": {},
   "outputs": [
    {
     "name": "stdout",
     "output_type": "stream",
     "text": [
      "||A||: 11\n",
      "||b||: 11\n"
     ]
    }
   ],
   "source": [
    "def matrix_norm(M):\n",
    "    \"\"\"\n",
    "    This function calculate the matrix norm\n",
    "    \"\"\"\n",
    "    rows, columns = M.shape\n",
    "    a = []\n",
    "    M = np.abs(M)\n",
    "    for n in range(0,rows):\n",
    "        a.append(M[n,:].sum())\n",
    "    norm = np.max(a)\n",
    "    return norm\n",
    "    \n",
    "    \n",
    "A = np.array([[2,3,-7],[5,4,-2],[7,-3,6]] )\n",
    "b = np.array([[3],[-7],[11]] )\n",
    "\n",
    "norm_A = matrix_norm(A)\n",
    "norm_A = matrix_norm(b)\n",
    "\n",
    "print('||A||: {}'.format(norm_A))\n",
    "print('||b||: {}'.format(norm_A))"
   ]
  },
  {
   "cell_type": "markdown",
   "metadata": {},
   "source": [
    "The matrix norm satisfies all the properties of a vector norm and, in addition, a matrix norm has the following important property."
   ]
  },
  {
   "cell_type": "markdown",
   "metadata": {},
   "source": [
    "__5)__ $||A \\cdot x|| \\leq ||A || \\cdot ||x|| $"
   ]
  },
  {
   "cell_type": "markdown",
   "metadata": {},
   "source": [
    "### Condition Number\n",
    "Let us investigate first, how a small change in the $b$ vector changes the solution vector.\n",
    "\n",
    "$x$ is the solution of the original system and\n",
    "$x^1 = x + \\Delta x$ is the solution when $b$ changes from $b$ to $b^1 = b+\\Delta b$."
   ]
  },
  {
   "cell_type": "markdown",
   "metadata": {},
   "source": [
    "$$ Ax^1 = b^1 \\Rightarrow A(x + \\Delta x ) = b + \\Delta b \\Rightarrow Ax + A\\Delta x  = b + \\Delta b \\Rightarrow$$\n",
    "$$ \\Rightarrow A \\Delta x = \\Delta b \\Rightarrow \\Delta x = A^{-1} \\Delta b$$"
   ]
  },
  {
   "cell_type": "markdown",
   "metadata": {},
   "source": [
    "By using the relationship shown in property 5) we can write that"
   ]
  },
  {
   "cell_type": "markdown",
   "metadata": {},
   "source": [
    "\\begin{equation}\n",
    "||A^{-1}\\Delta b|| \\leq ||A^{-1}|| \\cdot  ||\\Delta b|| \\Rightarrow ||\\Delta x|| \\leq ||A^{-1}|| \\cdot ||\\Delta b||   \\hspace{2cm} (2) \n",
    "\\end{equation}"
   ]
  },
  {
   "cell_type": "markdown",
   "metadata": {},
   "source": [
    "Again using property 5) to the original system, $Ax = b$ we can write that"
   ]
  },
  {
   "cell_type": "markdown",
   "metadata": {},
   "source": [
    "\\begin{equation}\n",
    "||Ax|| \\leq ||A|| \\cdot  ||x|| \\Rightarrow ||b|| \\leq ||A|| \\cdot ||x||\\Rightarrow ||A|| \\cdot ||x|| \\ge ||b||   \\hspace{2cm} (3) \n",
    "\\end{equation}"
   ]
  },
  {
   "cell_type": "markdown",
   "metadata": {},
   "source": [
    "Divide Eqn. (2) by Eqn. (3)"
   ]
  },
  {
   "cell_type": "markdown",
   "metadata": {},
   "source": [
    "\\begin{equation}\n",
    "\\frac{||\\Delta x||}{||A|| \\cdot  ||x||} \\leq \\frac{||A^{-1}|| \\cdot ||\\Delta b||}{||b||}\\\\\n",
    "i.e., \\frac{||\\Delta x||}{||x||} \\leq \\frac{||A^{-1}|| \\cdot ||A|| \\cdot ||\\Delta b||}{||b||}\\\\\n",
    "or, \\frac{||\\Delta x||}{||x||} \\leq ||A|| \\cdot ||A^{-1}|| \\cdot \\frac{||\\Delta b||}{||b||} \\\\\n",
    "or, \\frac{||\\Delta x||}{||x||} \\leq K(A)\\cdot \\frac{||\\Delta b||}{||b||}\n",
    "\\end{equation}"
   ]
  },
  {
   "cell_type": "markdown",
   "metadata": {},
   "source": [
    "where $K(A)$ is the __condition number__  of the matrix $A$ which is a measure of the relative sensitivity of the solution to changes in the right-hand side vector $b$. "
   ]
  },
  {
   "cell_type": "markdown",
   "metadata": {},
   "source": [
    "\\begin{equation}\n",
    "K(A) \\doteq ||A|| \\cdot ||A^{-1}|| \n",
    "\\end{equation}"
   ]
  },
  {
   "cell_type": "markdown",
   "metadata": {},
   "source": [
    "The following equation gives the upper bound of the relative change"
   ]
  },
  {
   "cell_type": "markdown",
   "metadata": {},
   "source": [
    "\\begin{equation}\n",
    "\\frac{||\\Delta x ||}{||x||} \\leq  K(A)  \\frac{||\\Delta b ||}{||b||}\n",
    "\\end{equation}"
   ]
  },
  {
   "cell_type": "markdown",
   "metadata": {},
   "source": [
    "Let us investigate what happens if a small change is made in the coefficient matrix $A$. Consider $A$ is changed to $ + \\Delta A$ and the solution changes from $x$ to $x + \\Delta x$ ."
   ]
  },
  {
   "cell_type": "markdown",
   "metadata": {},
   "source": [
    "\\begin{equation}\n",
    "(A + \\Delta A) (x + \\Delta x) = b\n",
    "\\end{equation}"
   ]
  },
  {
   "cell_type": "markdown",
   "metadata": {},
   "source": [
    "It can be shown that the changes in the solution can be expressed in the following manner."
   ]
  },
  {
   "cell_type": "markdown",
   "metadata": {},
   "source": [
    "\\begin{equation}\n",
    "\\frac{||\\Delta x ||}{||x + \\Delta x||} \\leq  K(A)  \\frac{||\\Delta A ||}{||A + \\Delta A||}\n",
    "\\end{equation}"
   ]
  },
  {
   "cell_type": "markdown",
   "metadata": {},
   "source": [
    "When the condition number $K (A)$ becomes large, the system is regarded as being ill-conditioned.\n",
    "\n",
    "A matrix with condition numbers near 1 are said to be __well-conditioned__. In our previous example:"
   ]
  },
  {
   "cell_type": "markdown",
   "metadata": {},
   "source": [
    "\\begin{equation}\n",
    "A = \n",
    "\\begin{pmatrix}\n",
    "400 & -201\\\\\n",
    "-800 & 401\n",
    "\\end{pmatrix}\n",
    "\\end{equation}"
   ]
  },
  {
   "cell_type": "markdown",
   "metadata": {},
   "source": [
    "The corresponding inverse $A^{-1}$ is:"
   ]
  },
  {
   "cell_type": "code",
   "execution_count": 14,
   "metadata": {},
   "outputs": [
    {
     "data": {
      "text/plain": [
       "array([[-1.0025, -0.5025],\n",
       "       [-2.    , -1.    ]])"
      ]
     },
     "execution_count": 14,
     "metadata": {},
     "output_type": "execute_result"
    }
   ],
   "source": [
    "A = np.array([[400, -201], [-800, 401]])\n",
    "Ainv = np.linalg.inv(A)\n",
    "Ainv"
   ]
  },
  {
   "cell_type": "markdown",
   "metadata": {},
   "source": [
    "\\begin{equation}\n",
    "A^{-1} = \n",
    "\\begin{pmatrix}\n",
    "-1.0025 & -0.5025\\\\\n",
    "-2 & -1\n",
    "\\end{pmatrix}\n",
    "\\end{equation}"
   ]
  },
  {
   "cell_type": "markdown",
   "metadata": {},
   "source": [
    "and the condition number $K(A)=3603$ is far way from 1, so is ill-conditioned"
   ]
  },
  {
   "cell_type": "code",
   "execution_count": 63,
   "metadata": {},
   "outputs": [
    {
     "name": "stdout",
     "output_type": "stream",
     "text": [
      "K(A) = ||A|| x ||A^-1|| = 2 x 1.0 = 2.0\n"
     ]
    }
   ],
   "source": [
    "A_norm = matrix_norm(A)\n",
    "Ainv = np.linalg.inv(A)\n",
    "Ainv_norm = matrix_norm(Ainv)\n",
    "def condition_number(A_norm, Ainv_norm):\n",
    "    K_A = A_norm*Ainv_norm\n",
    "    print('K(A) = ||A|| x ||A^-1|| = {} x {} = {}'.format(A_norm, Ainv_norm, K_A))\n",
    "    return K_A\n",
    "\n",
    "K_A = condition_number(A_norm, Ainv_norm)"
   ]
  },
  {
   "cell_type": "markdown",
   "metadata": {},
   "source": [
    "### Scaling"
   ]
  },
  {
   "cell_type": "markdown",
   "metadata": {},
   "source": [
    "Large condition numbers can also arise from equations that are in need of __scaling__. \n",
    "\n",
    "Consider the following coefficient matrix which corresponds to one 'regular' equation and one 'large' equation."
   ]
  },
  {
   "cell_type": "markdown",
   "metadata": {},
   "source": [
    "\\begin{equation}\n",
    "A = \n",
    "\\begin{pmatrix}\n",
    "1 & -1\\\\\n",
    "1000 & 1000\n",
    "\\end{pmatrix}\n",
    "\\end{equation}"
   ]
  },
  {
   "cell_type": "markdown",
   "metadata": {},
   "source": [
    "In that case the inverse matrix is:"
   ]
  },
  {
   "cell_type": "markdown",
   "metadata": {},
   "source": [
    "\\begin{equation}\n",
    "A^{-1} = \n",
    "\\begin{pmatrix}\n",
    "0.5 & 0.0005\\\\\n",
    "-0.5 & 0.0005\n",
    "\\end{pmatrix}\n",
    "\\end{equation}"
   ]
  },
  {
   "cell_type": "markdown",
   "metadata": {},
   "source": [
    "\\begin{equation}\n",
    "||A|| = max \\{ 2, 2000\\} = 2000\\\\\n",
    "||A^{-1}|| = max \\{0.5005, 0.5005\\} = 0.5005\\\\\n",
    "\\end{equation}"
   ]
  },
  {
   "cell_type": "markdown",
   "metadata": {},
   "source": [
    "the condition number is:"
   ]
  },
  {
   "cell_type": "markdown",
   "metadata": {},
   "source": [
    "\\begin{equation}\n",
    "K(A) \\doteq ||A|| \\cdot ||A^{-1}||  = 2000 \\cdot 0.5005 = 1001\n",
    "\\end{equation}"
   ]
  },
  {
   "cell_type": "code",
   "execution_count": 65,
   "metadata": {},
   "outputs": [
    {
     "name": "stdout",
     "output_type": "stream",
     "text": [
      "K(A) = ||A|| x ||A^-1|| = 2000 x 0.5005 = 1000.9999999999999\n"
     ]
    }
   ],
   "source": [
    "A = np.array([[1, -1], [1000, 1000]])\n",
    "A_norm = matrix_norm(A)\n",
    "Ainv_norm = matrix_norm(np.linalg.inv(A))\n",
    "K_A = condition_number(A_norm, Ainv_norm)"
   ]
  },
  {
   "cell_type": "markdown",
   "metadata": {},
   "source": [
    "Scaling (called Equilibration) can be used to reduce the condition number for a system that is poorly scaled. If each row of A is scaled by its largest element, then the new A and its inverse become"
   ]
  },
  {
   "cell_type": "markdown",
   "metadata": {},
   "source": [
    "\\begin{equation}\n",
    "A \\rightarrow \n",
    "A^{'} = \n",
    "\\begin{pmatrix}\n",
    "1 & -1\\\\\n",
    "1 & 1\n",
    "\\end{pmatrix}\\\\\n",
    "\\end{equation}"
   ]
  },
  {
   "cell_type": "markdown",
   "metadata": {},
   "source": [
    "\\begin{equation}\n",
    "A^{{'}^{-1}} = \n",
    "\\begin{pmatrix}\n",
    "0.5 & 0.5\\\\\n",
    "-0.5 & 0.5\n",
    "\\end{pmatrix}\\\\\n",
    "\\end{equation}"
   ]
  },
  {
   "cell_type": "markdown",
   "metadata": {},
   "source": [
    "The condition number of the scaled system is 2"
   ]
  },
  {
   "cell_type": "markdown",
   "metadata": {},
   "source": [
    "\\begin{equation}\n",
    "||A^{'}|| = max \\{ 2, 2\\} = 2\\\\\n",
    "||A^{{'}^{-1}}|| = max \\{1, 1\\} = 1\\\\\n",
    "K(A^{'}) \\doteq ||A^{'}|| \\cdot ||A^{{'}^{-1}}||  = 2 \\cdot 1 = 2\n",
    "\\end{equation}"
   ]
  },
  {
   "cell_type": "code",
   "execution_count": 66,
   "metadata": {},
   "outputs": [
    {
     "name": "stdout",
     "output_type": "stream",
     "text": [
      "K(A) = ||A|| x ||A^-1|| = 2 x 1.0 = 2.0\n"
     ]
    }
   ],
   "source": [
    "A = np.array([[1, -1], [1000, 1000]])\n",
    "\n",
    "def scaling(A):\n",
    "    n,m = np.shape(A)  \n",
    "    for i in range(0,n):\n",
    "        max_ = np.max(np.abs(A[i,:]))\n",
    "        A[i,:] = A[i,:]/max_\n",
    "    return A\n",
    "    \n",
    "Ap = scaling(A)   \n",
    "\n",
    "A_norm = matrix_norm(Ap)\n",
    "Ainv_norm = matrix_norm(np.linalg.inv(Ap))\n",
    "K_A = condition_number(A_norm, Ainv_norm)\n"
   ]
  },
  {
   "cell_type": "markdown",
   "metadata": {},
   "source": [
    "We have just mentioned that when the condition number $K (A)$ becomes large, the system is regarded as being ill-conditioned. But, how large does $K (A)$ have to be before a system is regarded as ill-conditioned? \n",
    "\n",
    "There is no clear threshold. However, to assess the effects of ill-conditioning, a rule of thumb can be used. For a system with condition number $K (A$), expect a loss of roughly $log10(K (A))$ decimal places in the accuracy of the solution. Therefore for the system with"
   ]
  },
  {
   "cell_type": "markdown",
   "metadata": {},
   "source": [
    "\\begin{equation}\n",
    "A = \n",
    "\\begin{pmatrix}\n",
    "400 & -201\\\\\n",
    "-800 & 401\n",
    "\\end{pmatrix} \\Rightarrow K(A)=3603 \\Rightarrow log_{10}(K(A)) \\approx 3 \n",
    "\\end{equation}"
   ]
  },
  {
   "cell_type": "markdown",
   "metadata": {},
   "source": [
    "IEEE standard double precision numbers have about 16 decimal digits of accuracy, so if a matrix has a condition number of 1010, you can expect only six digits to be accurate in the\n",
    "answer. An important aspect of conditioning is that, in general, residuals \"R = Ax − b\" are reliable indicators of accuracy only if the problem is well-conditioned."
   ]
  }
 ],
 "metadata": {
  "kernelspec": {
   "display_name": "Python 3",
   "language": "python",
   "name": "python3"
  },
  "language_info": {
   "codemirror_mode": {
    "name": "ipython",
    "version": 3
   },
   "file_extension": ".py",
   "mimetype": "text/x-python",
   "name": "python",
   "nbconvert_exporter": "python",
   "pygments_lexer": "ipython3",
   "version": "3.7.3"
  }
 },
 "nbformat": 4,
 "nbformat_minor": 2
}
