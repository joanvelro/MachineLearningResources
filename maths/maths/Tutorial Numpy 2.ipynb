{
 "cells": [
  {
   "cell_type": "markdown",
   "metadata": {},
   "source": [
    "### Práctica"
   ]
  },
  {
   "cell_type": "markdown",
   "metadata": {},
   "source": [
    "### Ejercicios de Numpy"
   ]
  },
  {
   "cell_type": "code",
   "execution_count": 2,
   "metadata": {},
   "outputs": [],
   "source": [
    "import numpy as np"
   ]
  },
  {
   "cell_type": "markdown",
   "metadata": {},
   "source": [
    "#### Ejercicio 1:  Crear una matriz 8x8  y rellenarla con 1´s de manera intercalada"
   ]
  },
  {
   "cell_type": "code",
   "execution_count": 3,
   "metadata": {},
   "outputs": [
    {
     "name": "stdout",
     "output_type": "stream",
     "text": [
      "[[0 1 0 1 0 1 0 1]\n",
      " [1 0 1 0 1 0 1 0]\n",
      " [0 1 0 1 0 1 0 1]\n",
      " [1 0 1 0 1 0 1 0]\n",
      " [0 1 0 1 0 1 0 1]\n",
      " [1 0 1 0 1 0 1 0]\n",
      " [0 1 0 1 0 1 0 1]\n",
      " [1 0 1 0 1 0 1 0]]\n"
     ]
    }
   ],
   "source": [
    "Z = np.zeros((8,8),dtype=int)\n",
    "Z[1::2,::2] = 1\n",
    "Z[::2,1::2] = 1\n",
    "print Z"
   ]
  },
  {
   "cell_type": "markdown",
   "metadata": {},
   "source": [
    "#### Ejercicio 2:  Crear una matriz 10x10  con valores aleatorios y encontrar el valor máximo y mínimo "
   ]
  },
  {
   "cell_type": "code",
   "execution_count": 3,
   "metadata": {},
   "outputs": [
    {
     "name": "stdout",
     "output_type": "stream",
     "text": [
      "0.00421983555662 0.994443868042\n"
     ]
    }
   ],
   "source": [
    "Z = np.random.random((10,10))\n",
    "Zmin, Zmax = Z.min(), Z.max()\n",
    "print Zmin, Zmax"
   ]
  },
  {
   "cell_type": "markdown",
   "metadata": {},
   "source": [
    "#### Ejercicio 3: Multiplicar una matriz 5x3 por una matriz de 3x2 "
   ]
  },
  {
   "cell_type": "code",
   "execution_count": 4,
   "metadata": {},
   "outputs": [
    {
     "name": "stdout",
     "output_type": "stream",
     "text": [
      "[[ 3.  3.]\n",
      " [ 3.  3.]\n",
      " [ 3.  3.]\n",
      " [ 3.  3.]\n",
      " [ 3.  3.]]\n"
     ]
    }
   ],
   "source": [
    "Z = np.dot(np.ones((5,3)), np.ones((3,2)))\n",
    "print Z"
   ]
  },
  {
   "cell_type": "markdown",
   "metadata": {},
   "source": [
    "#### Ejercicio 4: Normalizar una matriz de valores aleatorios de 5x5(entre 0 y 1)"
   ]
  },
  {
   "cell_type": "code",
   "execution_count": 6,
   "metadata": {},
   "outputs": [
    {
     "name": "stdout",
     "output_type": "stream",
     "text": [
      "[[ 0.49379576  0.11484369  0.17845075  0.48322614  0.57844919]\n",
      " [ 0.58653597  0.19295387  0.61073548  0.92433811  0.85641333]\n",
      " [ 0.90867953  0.5227      1.          0.42687056  0.26829633]\n",
      " [ 0.53447675  0.6697294   0.01431591  0.          0.22933858]\n",
      " [ 0.31528029  0.10474725  0.1091529   0.78753147  0.84991439]]\n"
     ]
    }
   ],
   "source": [
    "Z = np.random.random((5,5))\n",
    "Zmax,Zmin = Z.max(), Z.min()\n",
    "Z = (Z - Zmin)/(Zmax - Zmin)\n",
    "print Z"
   ]
  },
  {
   "cell_type": "markdown",
   "metadata": {},
   "source": [
    "#### Ejercicio 5: Crear un vector de tamaño 10 y ordenarlo"
   ]
  },
  {
   "cell_type": "code",
   "execution_count": 7,
   "metadata": {},
   "outputs": [
    {
     "name": "stdout",
     "output_type": "stream",
     "text": [
      "[ 0.02056105  0.16107383  0.24755536  0.29221426  0.3217645   0.37790518\n",
      "  0.56023122  0.6727074   0.91017037  0.98969167]\n"
     ]
    }
   ],
   "source": [
    "Z = np.random.random(10)\n",
    "Z.sort()\n",
    "print Z"
   ]
  },
  {
   "cell_type": "markdown",
   "metadata": {},
   "source": [
    "#### Ejercicio 6: Crear un matriz de 5x5 con valores en las filas de 0 a 4"
   ]
  },
  {
   "cell_type": "code",
   "execution_count": 8,
   "metadata": {},
   "outputs": [
    {
     "name": "stdout",
     "output_type": "stream",
     "text": [
      "[[ 0.  1.  2.  3.  4.]\n",
      " [ 0.  1.  2.  3.  4.]\n",
      " [ 0.  1.  2.  3.  4.]\n",
      " [ 0.  1.  2.  3.  4.]\n",
      " [ 0.  1.  2.  3.  4.]]\n"
     ]
    }
   ],
   "source": [
    "Z = np.zeros((5,5))\n",
    "Z += np.arange(5)\n",
    "print Z"
   ]
  },
  {
   "cell_type": "markdown",
   "metadata": {},
   "source": [
    "#### Ejercicio 7: Crear un vector de tamaño 10 con valores entre 0 y 1, ambos excluidos."
   ]
  },
  {
   "cell_type": "code",
   "execution_count": 9,
   "metadata": {},
   "outputs": [
    {
     "name": "stdout",
     "output_type": "stream",
     "text": [
      "[ 0.09090909  0.18181818  0.27272727  0.36363636  0.45454545  0.54545455\n",
      "  0.63636364  0.72727273  0.81818182  0.90909091]\n"
     ]
    }
   ],
   "source": [
    "Z = np.linspace(0,1,12,endpoint=True)[1:-1]\n",
    "print Z"
   ]
  },
  {
   "cell_type": "markdown",
   "metadata": {},
   "source": [
    "#### Ejercicio 8: Considerar 2 arrays A y B aleatorios, y comprobar si son iguales."
   ]
  },
  {
   "cell_type": "code",
   "execution_count": 10,
   "metadata": {},
   "outputs": [
    {
     "name": "stdout",
     "output_type": "stream",
     "text": [
      "False\n"
     ]
    }
   ],
   "source": [
    "A = np.random.randint(0,2,5)\n",
    "B = np.random.randint(0,2,5)\n",
    "equal = np.allclose(A,B)\n",
    "print equal"
   ]
  },
  {
   "cell_type": "markdown",
   "metadata": {},
   "source": [
    "#### Ejercicio 9: Crear un vector aleatorio de tamaño 30 y encontrar la media."
   ]
  },
  {
   "cell_type": "code",
   "execution_count": 11,
   "metadata": {},
   "outputs": [
    {
     "name": "stdout",
     "output_type": "stream",
     "text": [
      "0.478126835994\n"
     ]
    }
   ],
   "source": [
    "Z = np.random.random(30)\n",
    "m = Z.mean()\n",
    "print m"
   ]
  },
  {
   "cell_type": "markdown",
   "metadata": {},
   "source": [
    "#### Ejercicio 10: Crear un vector aleatorio de tamaño 10 y reemplazar el máximo valor por 0"
   ]
  },
  {
   "cell_type": "code",
   "execution_count": 13,
   "metadata": {},
   "outputs": [
    {
     "name": "stdout",
     "output_type": "stream",
     "text": [
      "[ 0.          0.82183516  0.53267701  0.53322772  0.33276902  0.24960997\n",
      "  0.10885874  0.38898769  0.16005688  0.50567514]\n"
     ]
    }
   ],
   "source": [
    "Z = np.random.random(10)\n",
    "Z[Z.argmax()] = 0\n",
    "print Z"
   ]
  },
  {
   "cell_type": "markdown",
   "metadata": {},
   "source": [
    "#### Ejercicio 11: Crear un array estructurado representando una posición (x,y) y un color (r,g,b)"
   ]
  },
  {
   "cell_type": "code",
   "execution_count": 14,
   "metadata": {},
   "outputs": [
    {
     "name": "stdout",
     "output_type": "stream",
     "text": [
      "[((0.0, 0.0), (0.0, 0.0, 0.0)) ((0.0, 0.0), (0.0, 0.0, 0.0))\n",
      " ((0.0, 0.0), (0.0, 0.0, 0.0)) ((0.0, 0.0), (0.0, 0.0, 0.0))\n",
      " ((0.0, 0.0), (0.0, 0.0, 0.0)) ((0.0, 0.0), (0.0, 0.0, 0.0))\n",
      " ((0.0, 0.0), (0.0, 0.0, 0.0)) ((0.0, 0.0), (0.0, 0.0, 0.0))\n",
      " ((0.0, 0.0), (0.0, 0.0, 0.0)) ((0.0, 0.0), (0.0, 0.0, 0.0))]\n"
     ]
    }
   ],
   "source": [
    " Z = np.zeros(10, [ ('posicion', [ ('x', float, 1),\n",
    "                                   ('y', float, 1)]),\n",
    "                    ('color',    [ ('r', float, 1),\n",
    "                                   ('g', float, 1),\n",
    "                                   ('b', float, 1)])])\n",
    "print Z"
   ]
  },
  {
   "cell_type": "markdown",
   "metadata": {},
   "source": [
    "#### Ejercicio 12: Considerar un vector aleatorio con tamaño (100,2), representando coordenadas. Encontrar las distancias punto a punto."
   ]
  },
  {
   "cell_type": "code",
   "execution_count": 15,
   "metadata": {},
   "outputs": [
    {
     "name": "stdout",
     "output_type": "stream",
     "text": [
      "[[ 0.          0.16833016  0.72441292  0.24982316  0.30569618  0.57537458\n",
      "   0.44172888  0.29285555  0.44069854  0.60157507]\n",
      " [ 0.16833016  0.          0.75024003  0.08402354  0.47146352  0.74229364\n",
      "   0.30488665  0.32469696  0.60803664  0.54448355]\n",
      " [ 0.72441292  0.75024003  0.          0.75202163  0.71096195  0.97215704\n",
      "   0.66010671  0.43556398  0.78258637  0.36177088]\n",
      " [ 0.24982316  0.08402354  0.75202163  0.          0.54861513  0.82500181\n",
      "   0.23295652  0.34762384  0.68640095  0.5091975 ]\n",
      " [ 0.30569618  0.47146352  0.71096195  0.54861513  0.          0.30961751\n",
      "   0.70147111  0.39511569  0.13896199  0.74248918]\n",
      " [ 0.57537458  0.74229364  0.97215704  0.82500181  0.30961751  0.\n",
      "   1.00159602  0.70384648  0.19283293  1.0488192 ]\n",
      " [ 0.44172888  0.30488665  0.66010671  0.23295652  0.70147111  1.00159602\n",
      "   0.          0.37060534  0.8393199   0.33943975]\n",
      " [ 0.29285555  0.32469696  0.43556398  0.34762384  0.39511569  0.70384648\n",
      "   0.37060534  0.          0.51938481  0.34958279]\n",
      " [ 0.44069854  0.60803664  0.78258637  0.68640095  0.13896199  0.19283293\n",
      "   0.8393199   0.51938481  0.          0.86009108]\n",
      " [ 0.60157507  0.54448355  0.36177088  0.5091975   0.74248918  1.0488192\n",
      "   0.33943975  0.34958279  0.86009108  0.        ]]\n"
     ]
    }
   ],
   "source": [
    "Z = np.random.random((10,2))\n",
    "X,Y = np.atleast_2d(Z[:,0]), np.atleast_2d(Z[:,1])\n",
    "D = np.sqrt( (X-X.T)**2 + (Y-Y.T)**2)\n",
    "print D"
   ]
  },
  {
   "cell_type": "markdown",
   "metadata": {},
   "source": [
    "#### Ejercicio 13: Encontrar el valor más cercano a un valor dado en un array."
   ]
  },
  {
   "cell_type": "code",
   "execution_count": 16,
   "metadata": {},
   "outputs": [
    {
     "name": "stdout",
     "output_type": "stream",
     "text": [
      "0.512180283229\n"
     ]
    }
   ],
   "source": [
    "Z = np.random.uniform(0,1,10)\n",
    "z = 0.5\n",
    "m = Z.flat[np.abs(Z - z).argmin()]\n",
    "print m"
   ]
  },
  {
   "cell_type": "markdown",
   "metadata": {},
   "source": [
    "#### Ejercicio 14: Considerar un array de dimensión (5,5,3) y una array (5,5). Se pide buscar un método para multiplicarlos."
   ]
  },
  {
   "cell_type": "code",
   "execution_count": 21,
   "metadata": {},
   "outputs": [
    {
     "name": "stdout",
     "output_type": "stream",
     "text": [
      "[[[ 2.  2.  2.]\n",
      "  [ 2.  2.  2.]\n",
      "  [ 2.  2.  2.]\n",
      "  [ 2.  2.  2.]\n",
      "  [ 2.  2.  2.]]\n",
      "\n",
      " [[ 2.  2.  2.]\n",
      "  [ 2.  2.  2.]\n",
      "  [ 2.  2.  2.]\n",
      "  [ 2.  2.  2.]\n",
      "  [ 2.  2.  2.]]\n",
      "\n",
      " [[ 2.  2.  2.]\n",
      "  [ 2.  2.  2.]\n",
      "  [ 2.  2.  2.]\n",
      "  [ 2.  2.  2.]\n",
      "  [ 2.  2.  2.]]\n",
      "\n",
      " [[ 2.  2.  2.]\n",
      "  [ 2.  2.  2.]\n",
      "  [ 2.  2.  2.]\n",
      "  [ 2.  2.  2.]\n",
      "  [ 2.  2.  2.]]\n",
      "\n",
      " [[ 2.  2.  2.]\n",
      "  [ 2.  2.  2.]\n",
      "  [ 2.  2.  2.]\n",
      "  [ 2.  2.  2.]\n",
      "  [ 2.  2.  2.]]]\n"
     ]
    }
   ],
   "source": [
    "A = np.ones((5,5,3))\n",
    "B = 2*np.ones((5,5))\n",
    "print A * B[:,:,None]"
   ]
  },
  {
   "cell_type": "markdown",
   "metadata": {},
   "source": [
    "#### Ejercicio 15: Considerar un matriz aleatoria de 10x2 representando coordenadas cartesianas, convertir a coordenadas polares."
   ]
  },
  {
   "cell_type": "code",
   "execution_count": 20,
   "metadata": {},
   "outputs": [
    {
     "name": "stdout",
     "output_type": "stream",
     "text": [
      "[ 0.93691729  0.57483699  0.92601693  0.34363875  0.92217009  1.01325189\n",
      "  0.33757796  1.05105966  0.18818722  0.8483173 ]\n",
      "[ 1.45779431  1.2069997   1.18208399  0.75021057  1.46355228  0.2334388\n",
      "  0.52228329  0.745935    1.21383652  1.11694564]\n"
     ]
    }
   ],
   "source": [
    "Z = np.random.random((10,2))\n",
    "X,Y = Z[:,0], Z[:,1]\n",
    "R = np.sqrt(X**2+Y**2)\n",
    "T = np.arctan2(Y,X)\n",
    "print R\n",
    "print T"
   ]
  },
  {
   "cell_type": "markdown",
   "metadata": {},
   "source": [
    "#### Ejercicio 16: Imprimir el mínimo y máximo valor representable por cada tipo de escalar de numpy."
   ]
  },
  {
   "cell_type": "code",
   "execution_count": 19,
   "metadata": {},
   "outputs": [
    {
     "name": "stdout",
     "output_type": "stream",
     "text": [
      "-128\n",
      "127\n",
      "-2147483648\n",
      "2147483647\n",
      "-9223372036854775808\n",
      "9223372036854775807\n"
     ]
    }
   ],
   "source": [
    "for dtype in [np.int8, np.int32, np.int64]:\n",
    " print np.iinfo(dtype).min\n",
    " print np.iinfo(dtype).max"
   ]
  },
  {
   "cell_type": "markdown",
   "metadata": {},
   "source": [
    "#### Ejercicio 17: Dado un array cambiar dos filas de posición."
   ]
  },
  {
   "cell_type": "code",
   "execution_count": 18,
   "metadata": {},
   "outputs": [
    {
     "name": "stdout",
     "output_type": "stream",
     "text": [
      "[[ 5  6  7  8  9]\n",
      " [ 0  1  2  3  4]\n",
      " [10 11 12 13 14]\n",
      " [15 16 17 18 19]\n",
      " [20 21 22 23 24]]\n"
     ]
    }
   ],
   "source": [
    "A = np.arange(25).reshape(5,5)\n",
    "A[[0,1]] = A[[1,0]]\n",
    "print A"
   ]
  },
  {
   "cell_type": "markdown",
   "metadata": {},
   "source": [
    "#### Ejercicio 18: Considerar el vector [1,2,3,4,5], construir a partir del mismos un nuevo vector con 3 ceros consecutivos intercalados entre cada valor."
   ]
  },
  {
   "cell_type": "code",
   "execution_count": 17,
   "metadata": {},
   "outputs": [
    {
     "name": "stdout",
     "output_type": "stream",
     "text": [
      "[ 1.  0.  0.  0.  2.  0.  0.  0.  3.  0.  0.  0.  4.  0.  0.  0.  5.]\n"
     ]
    }
   ],
   "source": [
    "Z = np.array([1,2,3,4,5])\n",
    "nz = 3\n",
    "Z0 = np.zeros(len(Z) + (len(Z)-1)*(nz))\n",
    "Z0[::nz+1] = Z\n",
    "print Z0"
   ]
  },
  {
   "cell_type": "markdown",
   "metadata": {},
   "source": [
    "### Ejercicios de Pandas"
   ]
  },
  {
   "cell_type": "code",
   "execution_count": 1,
   "metadata": {},
   "outputs": [],
   "source": [
    "import pandas as pd\n",
    "import numpy as np"
   ]
  },
  {
   "cell_type": "markdown",
   "metadata": {},
   "source": [
    "#### Ejercicio 1: Crear una serie con los valores 2.0, 1.0, 5.0, 0.97, 3.0, 10.0, 0.0599, 8.0"
   ]
  },
  {
   "cell_type": "code",
   "execution_count": 4,
   "metadata": {},
   "outputs": [
    {
     "name": "stdout",
     "output_type": "stream",
     "text": [
      "0     2.0000\n",
      "1     1.0000\n",
      "2     5.0000\n",
      "3     0.9700\n",
      "4     3.0000\n",
      "5    10.0000\n",
      "6     0.0599\n",
      "7     8.0000\n",
      "dtype: float64\n"
     ]
    }
   ],
   "source": [
    "values = np.array([2.0, 1.0, 5.0, 0.97, 3.0, 10.0, 0.0599, 8.0])\n",
    "ser = pd.Series(values)\n",
    "print ser"
   ]
  },
  {
   "cell_type": "markdown",
   "metadata": {},
   "source": [
    "#### Ejercicio 2: Crear una serie con los valores 2.0, 1.0, 5.0, 0.97, 3.0, 10.0, 0.0599, 8.0 y las etiquetas 'A', 'B', 'C', 'D', 'E', 'F', 'G', 'H'"
   ]
  },
  {
   "cell_type": "code",
   "execution_count": 6,
   "metadata": {},
   "outputs": [
    {
     "name": "stdout",
     "output_type": "stream",
     "text": [
      "A     2.0000\n",
      "B     1.0000\n",
      "C     5.0000\n",
      "D     0.9700\n",
      "E     3.0000\n",
      "F    10.0000\n",
      "G     0.0599\n",
      "H     8.0000\n",
      "dtype: float64\n"
     ]
    }
   ],
   "source": [
    "values = np.array([2.0, 1.0, 5.0, 0.97, 3.0, 10.0, 0.0599, 8.0])\n",
    "labels = ['A', 'B', 'C', 'D', 'E', 'F', 'G', 'H']\n",
    "ser = pd.Series(data=values, index=labels)\n",
    "print ser"
   ]
  },
  {
   "cell_type": "markdown",
   "metadata": {},
   "source": [
    "#### Ejercicio 3: Crear una serie que represente los datos de una película. Mostrar los índices, valores, y cómo se puede acceder a los valores mediante índices."
   ]
  },
  {
   "cell_type": "code",
   "execution_count": 7,
   "metadata": {},
   "outputs": [
    {
     "name": "stdout",
     "output_type": "stream",
     "text": [
      "calificación                            5\n",
      "código                              48067\n",
      "edad                                    1\n",
      "genero                              Drama\n",
      "ident-usuario                           1\n",
      "identificador                        1193\n",
      "ocupación                              10\n",
      "sexo                                    F\n",
      "temporización                   978300760\n",
      "titulo           Los cañones del Navarone\n",
      "dtype: object\n"
     ]
    }
   ],
   "source": [
    "pelicula = {\n",
    "    'edad': 1,\n",
    "    'sexo': 'F',\n",
    "    'genero': 'Drama',\n",
    "    'identificador': 1193,\n",
    "    'ocupación': 10,\n",
    "    'calificación': 5,\n",
    "    'temporización': 978300760,\n",
    "    'titulo': \"Los cañones del Navarone\",\n",
    "    'ident-usuario': 1,\n",
    "    'código': '48067'\n",
    "    }\n",
    "ser = pd.Series(pelicula)\n",
    "print ser"
   ]
  },
  {
   "cell_type": "code",
   "execution_count": 9,
   "metadata": {},
   "outputs": [
    {
     "data": {
      "text/plain": [
       "Index([u'calificación', u'código', u'edad', u'genero', u'ident-usuario', u'identificador', u'ocupación', u'sexo', u'temporización', u'titulo'], dtype='object')"
      ]
     },
     "execution_count": 9,
     "metadata": {},
     "output_type": "execute_result"
    }
   ],
   "source": [
    "ser.index"
   ]
  },
  {
   "cell_type": "code",
   "execution_count": 10,
   "metadata": {},
   "outputs": [
    {
     "data": {
      "text/plain": [
       "array([5, '48067', 1, 'Drama', 1, 1193, 10, 'F', 978300760,\n",
       "       'Los ca\\xc3\\xb1ones del Navarone'], dtype=object)"
      ]
     },
     "execution_count": 10,
     "metadata": {},
     "output_type": "execute_result"
    }
   ],
   "source": [
    "ser.values"
   ]
  },
  {
   "cell_type": "code",
   "execution_count": 11,
   "metadata": {},
   "outputs": [
    {
     "data": {
      "text/plain": [
       "5"
      ]
     },
     "execution_count": 11,
     "metadata": {},
     "output_type": "execute_result"
    }
   ],
   "source": [
    "ser[0]"
   ]
  },
  {
   "cell_type": "code",
   "execution_count": 12,
   "metadata": {},
   "outputs": [
    {
     "data": {
      "text/plain": [
       "'F'"
      ]
     },
     "execution_count": 12,
     "metadata": {},
     "output_type": "execute_result"
    }
   ],
   "source": [
    "ser['sexo']"
   ]
  },
  {
   "cell_type": "code",
   "execution_count": 13,
   "metadata": {},
   "outputs": [
    {
     "data": {
      "text/plain": [
       "'Drama'"
      ]
     },
     "execution_count": 13,
     "metadata": {},
     "output_type": "execute_result"
    }
   ],
   "source": [
    "ser.get_value('genero')"
   ]
  },
  {
   "cell_type": "markdown",
   "metadata": {},
   "source": [
    "#### Ejercicio 4: Sumar dos series con diferentes índices."
   ]
  },
  {
   "cell_type": "code",
   "execution_count": 14,
   "metadata": {},
   "outputs": [
    {
     "name": "stdout",
     "output_type": "stream",
     "text": [
      "A     6\n",
      "B   NaN\n",
      "C     9\n",
      "G   NaN\n",
      "dtype: float64\n"
     ]
    }
   ],
   "source": [
    "ser_1 = pd.Series(data=[1,3,4], index=['A', 'B', 'C'])\n",
    "ser_2 = pd.Series(data=[5,5,5], index=['A', 'G', 'C'])\n",
    "print ser_1 + ser_2"
   ]
  },
  {
   "cell_type": "markdown",
   "metadata": {},
   "source": [
    "#### Ejercicio 5: Construir un dataframe a partir de un diccionario"
   ]
  },
  {
   "cell_type": "code",
   "execution_count": 15,
   "metadata": {},
   "outputs": [
    {
     "data": {
      "text/html": [
       "<div style=\"max-height:1000px;max-width:1500px;overflow:auto;\">\n",
       "<table border=\"1\" class=\"dataframe\">\n",
       "  <thead>\n",
       "    <tr style=\"text-align: right;\">\n",
       "      <th></th>\n",
       "      <th>col_1</th>\n",
       "      <th>col_2</th>\n",
       "    </tr>\n",
       "  </thead>\n",
       "  <tbody>\n",
       "    <tr>\n",
       "      <th>0</th>\n",
       "      <td>  0.12</td>\n",
       "      <td>  0.9</td>\n",
       "    </tr>\n",
       "    <tr>\n",
       "      <th>1</th>\n",
       "      <td>  7.00</td>\n",
       "      <td>  9.0</td>\n",
       "    </tr>\n",
       "    <tr>\n",
       "      <th>2</th>\n",
       "      <td> 45.00</td>\n",
       "      <td> 34.0</td>\n",
       "    </tr>\n",
       "    <tr>\n",
       "      <th>3</th>\n",
       "      <td> 10.00</td>\n",
       "      <td> 11.0</td>\n",
       "    </tr>\n",
       "  </tbody>\n",
       "</table>\n",
       "</div>"
      ],
      "text/plain": [
       "   col_1  col_2\n",
       "0   0.12    0.9\n",
       "1   7.00    9.0\n",
       "2  45.00   34.0\n",
       "3  10.00   11.0"
      ]
     },
     "execution_count": 15,
     "metadata": {},
     "output_type": "execute_result"
    }
   ],
   "source": [
    "pd.DataFrame({'col_1': [0.12, 7, 45, 10], 'col_2': [0.9, 9, 34, 11]})"
   ]
  },
  {
   "cell_type": "markdown",
   "metadata": {},
   "source": [
    "#### Ejercicio 6: Construir un dataframe a partir de un diccionario, indicando nombres de columnas y filas."
   ]
  },
  {
   "cell_type": "code",
   "execution_count": 16,
   "metadata": {},
   "outputs": [
    {
     "data": {
      "text/html": [
       "<div style=\"max-height:1000px;max-width:1500px;overflow:auto;\">\n",
       "<table border=\"1\" class=\"dataframe\">\n",
       "  <thead>\n",
       "    <tr style=\"text-align: right;\">\n",
       "      <th></th>\n",
       "      <th>col_1</th>\n",
       "      <th>col_2</th>\n",
       "      <th>col_3</th>\n",
       "    </tr>\n",
       "  </thead>\n",
       "  <tbody>\n",
       "    <tr>\n",
       "      <th>0</th>\n",
       "      <td>  0.12</td>\n",
       "      <td>  0.9</td>\n",
       "      <td> NaN</td>\n",
       "    </tr>\n",
       "    <tr>\n",
       "      <th>1</th>\n",
       "      <td>  7.00</td>\n",
       "      <td>  9.0</td>\n",
       "      <td> NaN</td>\n",
       "    </tr>\n",
       "    <tr>\n",
       "      <th>2</th>\n",
       "      <td> 45.00</td>\n",
       "      <td> 34.0</td>\n",
       "      <td> NaN</td>\n",
       "    </tr>\n",
       "    <tr>\n",
       "      <th>3</th>\n",
       "      <td> 10.00</td>\n",
       "      <td> 11.0</td>\n",
       "      <td> NaN</td>\n",
       "    </tr>\n",
       "  </tbody>\n",
       "</table>\n",
       "</div>"
      ],
      "text/plain": [
       "   col_1  col_2 col_3\n",
       "0   0.12    0.9   NaN\n",
       "1   7.00    9.0   NaN\n",
       "2  45.00   34.0   NaN\n",
       "3  10.00   11.0   NaN"
      ]
     },
     "execution_count": 16,
     "metadata": {},
     "output_type": "execute_result"
    }
   ],
   "source": [
    "pd.DataFrame(data={'col_1': [0.12, 7, 45, 10], 'col_2': [0.9, 9, 34, 11]},\n",
    "             columns=['col_1', 'col_2', 'col_3'])"
   ]
  },
  {
   "cell_type": "markdown",
   "metadata": {},
   "source": [
    "#### Ejercicio 7: Construir un dataframe a partir de un diccionario de series."
   ]
  },
  {
   "cell_type": "code",
   "execution_count": 17,
   "metadata": {},
   "outputs": [
    {
     "data": {
      "text/html": [
       "<div style=\"max-height:1000px;max-width:1500px;overflow:auto;\">\n",
       "<table border=\"1\" class=\"dataframe\">\n",
       "  <thead>\n",
       "    <tr style=\"text-align: right;\">\n",
       "      <th>eventos</th>\n",
       "      <th>r_1</th>\n",
       "      <th>r_2</th>\n",
       "    </tr>\n",
       "    <tr>\n",
       "      <th>datos</th>\n",
       "      <th></th>\n",
       "      <th></th>\n",
       "    </tr>\n",
       "  </thead>\n",
       "  <tbody>\n",
       "    <tr>\n",
       "      <th>calificación</th>\n",
       "      <td>                        5</td>\n",
       "      <td>                        5</td>\n",
       "    </tr>\n",
       "    <tr>\n",
       "      <th>código</th>\n",
       "      <td>                    48067</td>\n",
       "      <td>                    48067</td>\n",
       "    </tr>\n",
       "    <tr>\n",
       "      <th>edad</th>\n",
       "      <td>                        1</td>\n",
       "      <td>                        1</td>\n",
       "    </tr>\n",
       "    <tr>\n",
       "      <th>genero</th>\n",
       "      <td>                    Drama</td>\n",
       "      <td>                    Drama</td>\n",
       "    </tr>\n",
       "    <tr>\n",
       "      <th>ident-usuario</th>\n",
       "      <td>                        1</td>\n",
       "      <td>                        1</td>\n",
       "    </tr>\n",
       "    <tr>\n",
       "      <th>identificador</th>\n",
       "      <td>                     1193</td>\n",
       "      <td>                     1193</td>\n",
       "    </tr>\n",
       "    <tr>\n",
       "      <th>ocupación</th>\n",
       "      <td>                       10</td>\n",
       "      <td>                       10</td>\n",
       "    </tr>\n",
       "    <tr>\n",
       "      <th>sexo</th>\n",
       "      <td>                        F</td>\n",
       "      <td>                        F</td>\n",
       "    </tr>\n",
       "    <tr>\n",
       "      <th>temporización</th>\n",
       "      <td>                978300760</td>\n",
       "      <td>                978300760</td>\n",
       "    </tr>\n",
       "    <tr>\n",
       "      <th>titulo</th>\n",
       "      <td> Los cañones del Navarone</td>\n",
       "      <td> Los cañones del Navarone</td>\n",
       "    </tr>\n",
       "  </tbody>\n",
       "</table>\n",
       "</div>"
      ],
      "text/plain": [
       "eventos                             r_1                       r_2\n",
       "datos                                                            \n",
       "calificación                          5                         5\n",
       "código                            48067                     48067\n",
       "edad                                  1                         1\n",
       "genero                            Drama                     Drama\n",
       "ident-usuario                         1                         1\n",
       "identificador                      1193                      1193\n",
       "ocupación                            10                        10\n",
       "sexo                                  F                         F\n",
       "temporización                 978300760                 978300760\n",
       "titulo         Los cañones del Navarone  Los cañones del Navarone"
      ]
     },
     "execution_count": 17,
     "metadata": {},
     "output_type": "execute_result"
    }
   ],
   "source": [
    "pelicula = {\n",
    "    'edad': 1,\n",
    "    'sexo': 'F',\n",
    "    'genero': 'Drama',\n",
    "    'identificador': 1193,\n",
    "    'ocupación': 10,\n",
    "    'calificación': 5,\n",
    "    'temporización': 978300760,\n",
    "    'titulo': \"Los cañones del Navarone\",\n",
    "    'ident-usuario': 1,\n",
    "    'código': '48067'\n",
    "    }\n",
    "ser_1 = pd.Series(pelicula)\n",
    "ser_2 = pd.Series(pelicula)\n",
    "df = pd.DataFrame({'r_1': ser_1, 'r_2': ser_2})\n",
    "df.columns.name = 'eventos'\n",
    "df.index.name = 'datos'\n",
    "df"
   ]
  },
  {
   "cell_type": "markdown",
   "metadata": {},
   "source": [
    "#### Ejercicio 8: Transponer el dataframe creado en el ejercicio anterior. Obtener los nombres de las columnas, las filas y los valores."
   ]
  },
  {
   "cell_type": "code",
   "execution_count": 18,
   "metadata": {},
   "outputs": [
    {
     "data": {
      "text/html": [
       "<div style=\"max-height:1000px;max-width:1500px;overflow:auto;\">\n",
       "<table border=\"1\" class=\"dataframe\">\n",
       "  <thead>\n",
       "    <tr style=\"text-align: right;\">\n",
       "      <th>datos</th>\n",
       "      <th>calificación</th>\n",
       "      <th>código</th>\n",
       "      <th>edad</th>\n",
       "      <th>genero</th>\n",
       "      <th>ident-usuario</th>\n",
       "      <th>identificador</th>\n",
       "      <th>ocupación</th>\n",
       "      <th>sexo</th>\n",
       "      <th>temporización</th>\n",
       "      <th>titulo</th>\n",
       "    </tr>\n",
       "    <tr>\n",
       "      <th>eventos</th>\n",
       "      <th></th>\n",
       "      <th></th>\n",
       "      <th></th>\n",
       "      <th></th>\n",
       "      <th></th>\n",
       "      <th></th>\n",
       "      <th></th>\n",
       "      <th></th>\n",
       "      <th></th>\n",
       "      <th></th>\n",
       "    </tr>\n",
       "  </thead>\n",
       "  <tbody>\n",
       "    <tr>\n",
       "      <th>r_1</th>\n",
       "      <td> 5</td>\n",
       "      <td> 48067</td>\n",
       "      <td> 1</td>\n",
       "      <td> Drama</td>\n",
       "      <td> 1</td>\n",
       "      <td> 1193</td>\n",
       "      <td> 10</td>\n",
       "      <td> F</td>\n",
       "      <td> 978300760</td>\n",
       "      <td> Los cañones del Navarone</td>\n",
       "    </tr>\n",
       "    <tr>\n",
       "      <th>r_2</th>\n",
       "      <td> 5</td>\n",
       "      <td> 48067</td>\n",
       "      <td> 1</td>\n",
       "      <td> Drama</td>\n",
       "      <td> 1</td>\n",
       "      <td> 1193</td>\n",
       "      <td> 10</td>\n",
       "      <td> F</td>\n",
       "      <td> 978300760</td>\n",
       "      <td> Los cañones del Navarone</td>\n",
       "    </tr>\n",
       "  </tbody>\n",
       "</table>\n",
       "</div>"
      ],
      "text/plain": [
       "datos   calificación código edad genero ident-usuario identificador ocupación  \\\n",
       "eventos                                                                         \n",
       "r_1                5  48067    1  Drama             1          1193        10   \n",
       "r_2                5  48067    1  Drama             1          1193        10   \n",
       "\n",
       "datos   sexo temporización                    titulo  \n",
       "eventos                                               \n",
       "r_1        F     978300760  Los cañones del Navarone  \n",
       "r_2        F     978300760  Los cañones del Navarone  "
      ]
     },
     "execution_count": 18,
     "metadata": {},
     "output_type": "execute_result"
    }
   ],
   "source": [
    "df = df.T\n",
    "df"
   ]
  },
  {
   "cell_type": "code",
   "execution_count": 19,
   "metadata": {},
   "outputs": [
    {
     "data": {
      "text/plain": [
       "Index([u'calificación', u'código', u'edad', u'genero', u'ident-usuario', u'identificador', u'ocupación', u'sexo', u'temporización', u'titulo'], dtype='object')"
      ]
     },
     "execution_count": 19,
     "metadata": {},
     "output_type": "execute_result"
    }
   ],
   "source": [
    "df.columns "
   ]
  },
  {
   "cell_type": "code",
   "execution_count": 20,
   "metadata": {},
   "outputs": [
    {
     "data": {
      "text/plain": [
       "Index([u'r_1', u'r_2'], dtype='object')"
      ]
     },
     "execution_count": 20,
     "metadata": {},
     "output_type": "execute_result"
    }
   ],
   "source": [
    "df.index"
   ]
  },
  {
   "cell_type": "code",
   "execution_count": 21,
   "metadata": {},
   "outputs": [
    {
     "data": {
      "text/plain": [
       "array([[5, '48067', 1, 'Drama', 1, 1193, 10, 'F', 978300760,\n",
       "        'Los ca\\xc3\\xb1ones del Navarone'],\n",
       "       [5, '48067', 1, 'Drama', 1, 1193, 10, 'F', 978300760,\n",
       "        'Los ca\\xc3\\xb1ones del Navarone']], dtype=object)"
      ]
     },
     "execution_count": 21,
     "metadata": {},
     "output_type": "execute_result"
    }
   ],
   "source": [
    "df.values"
   ]
  },
  {
   "cell_type": "markdown",
   "metadata": {},
   "source": [
    "#### Ejercicio 9: Eliminar y añadir filas y columnas al ejemplo anterior."
   ]
  },
  {
   "cell_type": "code",
   "execution_count": 4,
   "metadata": {},
   "outputs": [
    {
     "ename": "NameError",
     "evalue": "name 'ser_1' is not defined",
     "output_type": "error",
     "traceback": [
      "\u001b[0;31m---------------------------------------------------------------------------\u001b[0m",
      "\u001b[0;31mNameError\u001b[0m                                 Traceback (most recent call last)",
      "\u001b[0;32m<ipython-input-4-59384e4cb6aa>\u001b[0m in \u001b[0;36m<module>\u001b[0;34m()\u001b[0m\n\u001b[0;32m----> 1\u001b[0;31m \u001b[0mdf\u001b[0m \u001b[0;34m=\u001b[0m \u001b[0mpd\u001b[0m\u001b[0;34m.\u001b[0m\u001b[0mDataFrame\u001b[0m\u001b[0;34m(\u001b[0m\u001b[0;34m{\u001b[0m\u001b[0;34m'r_1'\u001b[0m\u001b[0;34m:\u001b[0m \u001b[0mser_1\u001b[0m\u001b[0;34m,\u001b[0m \u001b[0;34m'r_2'\u001b[0m\u001b[0;34m:\u001b[0m \u001b[0mser_2\u001b[0m\u001b[0;34m}\u001b[0m\u001b[0;34m)\u001b[0m\u001b[0;34m\u001b[0m\u001b[0m\n\u001b[0m\u001b[1;32m      2\u001b[0m \u001b[0mdf\u001b[0m\u001b[0;34m.\u001b[0m\u001b[0mdrop\u001b[0m\u001b[0;34m(\u001b[0m\u001b[0;34m'genero'\u001b[0m\u001b[0;34m,\u001b[0m \u001b[0maxis\u001b[0m\u001b[0;34m=\u001b[0m\u001b[0;36m0\u001b[0m\u001b[0;34m)\u001b[0m\u001b[0;34m\u001b[0m\u001b[0m\n",
      "\u001b[0;31mNameError\u001b[0m: name 'ser_1' is not defined"
     ]
    }
   ],
   "source": [
    "df = pd.DataFrame({'r_1': ser_1, 'r_2': ser_2})\n",
    "df.drop('genero', axis=0)"
   ]
  },
  {
   "cell_type": "code",
   "execution_count": 23,
   "metadata": {},
   "outputs": [
    {
     "data": {
      "text/html": [
       "<div style=\"max-height:1000px;max-width:1500px;overflow:auto;\">\n",
       "<table border=\"1\" class=\"dataframe\">\n",
       "  <thead>\n",
       "    <tr style=\"text-align: right;\">\n",
       "      <th></th>\n",
       "      <th>r_2</th>\n",
       "    </tr>\n",
       "    <tr>\n",
       "      <th>datos</th>\n",
       "      <th></th>\n",
       "    </tr>\n",
       "  </thead>\n",
       "  <tbody>\n",
       "    <tr>\n",
       "      <th>calificación</th>\n",
       "      <td>                        5</td>\n",
       "    </tr>\n",
       "    <tr>\n",
       "      <th>código</th>\n",
       "      <td>                    48067</td>\n",
       "    </tr>\n",
       "    <tr>\n",
       "      <th>edad</th>\n",
       "      <td>                        1</td>\n",
       "    </tr>\n",
       "    <tr>\n",
       "      <th>genero</th>\n",
       "      <td>                    Drama</td>\n",
       "    </tr>\n",
       "    <tr>\n",
       "      <th>ident-usuario</th>\n",
       "      <td>                        1</td>\n",
       "    </tr>\n",
       "    <tr>\n",
       "      <th>identificador</th>\n",
       "      <td>                     1193</td>\n",
       "    </tr>\n",
       "    <tr>\n",
       "      <th>ocupación</th>\n",
       "      <td>                       10</td>\n",
       "    </tr>\n",
       "    <tr>\n",
       "      <th>sexo</th>\n",
       "      <td>                        F</td>\n",
       "    </tr>\n",
       "    <tr>\n",
       "      <th>temporización</th>\n",
       "      <td>                978300760</td>\n",
       "    </tr>\n",
       "    <tr>\n",
       "      <th>titulo</th>\n",
       "      <td> Los cañones del Navarone</td>\n",
       "    </tr>\n",
       "  </tbody>\n",
       "</table>\n",
       "</div>"
      ],
      "text/plain": [
       "                                    r_2\n",
       "datos                                  \n",
       "calificación                          5\n",
       "código                            48067\n",
       "edad                                  1\n",
       "genero                            Drama\n",
       "ident-usuario                         1\n",
       "identificador                      1193\n",
       "ocupación                            10\n",
       "sexo                                  F\n",
       "temporización                 978300760\n",
       "titulo         Los cañones del Navarone"
      ]
     },
     "execution_count": 23,
     "metadata": {},
     "output_type": "execute_result"
    }
   ],
   "source": [
    "df.drop('r_1', axis=1)"
   ]
  },
  {
   "cell_type": "code",
   "execution_count": 27,
   "metadata": {},
   "outputs": [
    {
     "data": {
      "text/html": [
       "<div style=\"max-height:1000px;max-width:1500px;overflow:auto;\">\n",
       "<table border=\"1\" class=\"dataframe\">\n",
       "  <thead>\n",
       "    <tr style=\"text-align: right;\">\n",
       "      <th></th>\n",
       "      <th>r_1</th>\n",
       "      <th>r_2</th>\n",
       "      <th>r_3</th>\n",
       "    </tr>\n",
       "    <tr>\n",
       "      <th>datos</th>\n",
       "      <th></th>\n",
       "      <th></th>\n",
       "      <th></th>\n",
       "    </tr>\n",
       "  </thead>\n",
       "  <tbody>\n",
       "    <tr>\n",
       "      <th>calificación</th>\n",
       "      <td>                        5</td>\n",
       "      <td>                        5</td>\n",
       "      <td>         4</td>\n",
       "    </tr>\n",
       "    <tr>\n",
       "      <th>código</th>\n",
       "      <td>                    48067</td>\n",
       "      <td>                    48067</td>\n",
       "      <td>      3456</td>\n",
       "    </tr>\n",
       "    <tr>\n",
       "      <th>edad</th>\n",
       "      <td>                        1</td>\n",
       "      <td>                        1</td>\n",
       "      <td>         3</td>\n",
       "    </tr>\n",
       "    <tr>\n",
       "      <th>genero</th>\n",
       "      <td>                    Drama</td>\n",
       "      <td>                    Drama</td>\n",
       "      <td>     Drama</td>\n",
       "    </tr>\n",
       "    <tr>\n",
       "      <th>ident-usuario</th>\n",
       "      <td>                        1</td>\n",
       "      <td>                        1</td>\n",
       "      <td>      1195</td>\n",
       "    </tr>\n",
       "    <tr>\n",
       "      <th>identificador</th>\n",
       "      <td>                     1193</td>\n",
       "      <td>                     1193</td>\n",
       "      <td>         5</td>\n",
       "    </tr>\n",
       "    <tr>\n",
       "      <th>ocupación</th>\n",
       "      <td>                       10</td>\n",
       "      <td>                       10</td>\n",
       "      <td> 978300760</td>\n",
       "    </tr>\n",
       "    <tr>\n",
       "      <th>sexo</th>\n",
       "      <td>                        F</td>\n",
       "      <td>                        F</td>\n",
       "      <td>         M</td>\n",
       "    </tr>\n",
       "    <tr>\n",
       "      <th>temporización</th>\n",
       "      <td>                978300760</td>\n",
       "      <td>                978300760</td>\n",
       "      <td>     10009</td>\n",
       "    </tr>\n",
       "    <tr>\n",
       "      <th>titulo</th>\n",
       "      <td> Los cañones del Navarone</td>\n",
       "      <td> Los cañones del Navarone</td>\n",
       "      <td>        ET</td>\n",
       "    </tr>\n",
       "  </tbody>\n",
       "</table>\n",
       "</div>"
      ],
      "text/plain": [
       "                                    r_1                       r_2        r_3\n",
       "datos                                                                       \n",
       "calificación                          5                         5          4\n",
       "código                            48067                     48067       3456\n",
       "edad                                  1                         1          3\n",
       "genero                            Drama                     Drama      Drama\n",
       "ident-usuario                         1                         1       1195\n",
       "identificador                      1193                      1193          5\n",
       "ocupación                            10                        10  978300760\n",
       "sexo                                  F                         F          M\n",
       "temporización                 978300760                 978300760      10009\n",
       "titulo         Los cañones del Navarone  Los cañones del Navarone         ET"
      ]
     },
     "execution_count": 27,
     "metadata": {},
     "output_type": "execute_result"
    }
   ],
   "source": [
    "df['r_3'] = [4,3456,3,'Drama', 1195, 5, 978300760, 'M', 10009,'ET']\n",
    "df"
   ]
  },
  {
   "cell_type": "markdown",
   "metadata": {},
   "source": [
    "#### Ejercicio 10: Crear un dataframe e indexar usando el nombre de la columna o bien usando la notación “.”"
   ]
  },
  {
   "cell_type": "code",
   "execution_count": 2,
   "metadata": {},
   "outputs": [
    {
     "data": {
      "text/plain": [
       "obs1     0.12\n",
       "obs2     7.00\n",
       "obs3    45.00\n",
       "obs4    10.00\n",
       "Name: col_1, dtype: float64"
      ]
     },
     "execution_count": 2,
     "metadata": {},
     "output_type": "execute_result"
    }
   ],
   "source": [
    "df = pd.DataFrame(data={'col_1': [0.12, 7, 45, 10], 'col_2': [0.9, 9, 34, 11]},\n",
    "                  columns=['col_1', 'col_2', 'col_3'],\n",
    "                  index=['obs1', 'obs2', 'obs3', 'obs4'])\n",
    "df['col_1']"
   ]
  },
  {
   "cell_type": "code",
   "execution_count": 29,
   "metadata": {},
   "outputs": [
    {
     "data": {
      "text/plain": [
       "obs1     0.12\n",
       "obs2     7.00\n",
       "obs3    45.00\n",
       "obs4    10.00\n",
       "Name: col_1, dtype: float64"
      ]
     },
     "execution_count": 29,
     "metadata": {},
     "output_type": "execute_result"
    }
   ],
   "source": [
    "df.col_1"
   ]
  },
  {
   "cell_type": "markdown",
   "metadata": {},
   "source": [
    "#### Ejercicio 11: En el dataframe anterior seleccionar un subconjunto de columnas."
   ]
  },
  {
   "cell_type": "code",
   "execution_count": 30,
   "metadata": {},
   "outputs": [
    {
     "data": {
      "text/html": [
       "<div style=\"max-height:1000px;max-width:1500px;overflow:auto;\">\n",
       "<table border=\"1\" class=\"dataframe\">\n",
       "  <thead>\n",
       "    <tr style=\"text-align: right;\">\n",
       "      <th></th>\n",
       "      <th>col_2</th>\n",
       "      <th>col_1</th>\n",
       "    </tr>\n",
       "  </thead>\n",
       "  <tbody>\n",
       "    <tr>\n",
       "      <th>obs1</th>\n",
       "      <td>  0.9</td>\n",
       "      <td>  0.12</td>\n",
       "    </tr>\n",
       "    <tr>\n",
       "      <th>obs2</th>\n",
       "      <td>  9.0</td>\n",
       "      <td>  7.00</td>\n",
       "    </tr>\n",
       "    <tr>\n",
       "      <th>obs3</th>\n",
       "      <td> 34.0</td>\n",
       "      <td> 45.00</td>\n",
       "    </tr>\n",
       "    <tr>\n",
       "      <th>obs4</th>\n",
       "      <td> 11.0</td>\n",
       "      <td> 10.00</td>\n",
       "    </tr>\n",
       "  </tbody>\n",
       "</table>\n",
       "</div>"
      ],
      "text/plain": [
       "      col_2  col_1\n",
       "obs1    0.9   0.12\n",
       "obs2    9.0   7.00\n",
       "obs3   34.0  45.00\n",
       "obs4   11.0  10.00"
      ]
     },
     "execution_count": 30,
     "metadata": {},
     "output_type": "execute_result"
    }
   ],
   "source": [
    "df[['col_2', 'col_1']]"
   ]
  },
  {
   "cell_type": "code",
   "execution_count": null,
   "metadata": {},
   "outputs": [],
   "source": []
  }
 ],
 "metadata": {
  "anaconda-cloud": {},
  "kernelspec": {
   "display_name": "Python 3",
   "language": "python",
   "name": "python3"
  },
  "language_info": {
   "codemirror_mode": {
    "name": "ipython",
    "version": 3
   },
   "file_extension": ".py",
   "mimetype": "text/x-python",
   "name": "python",
   "nbconvert_exporter": "python",
   "pygments_lexer": "ipython3",
   "version": "3.7.3"
  }
 },
 "nbformat": 4,
 "nbformat_minor": 1
}
