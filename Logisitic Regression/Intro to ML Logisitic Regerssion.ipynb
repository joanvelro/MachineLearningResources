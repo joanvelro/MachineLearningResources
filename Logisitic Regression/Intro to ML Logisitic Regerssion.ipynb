{
 "cells": [
  {
   "cell_type": "code",
   "execution_count": 8,
   "metadata": {},
   "outputs": [],
   "source": [
    "import pandas as pd\n",
    "\n",
    "df = pd.read_csv('/Users/rohith/Documents/Datasets/Iris_dataset/iris.csv')"
   ]
  },
  {
   "cell_type": "code",
   "execution_count": 9,
   "metadata": {},
   "outputs": [
    {
     "name": "stdout",
     "output_type": "stream",
     "text": [
      "      Id  SepalLengthCm  SepalWidthCm  PetalLengthCm  PetalWidthCm  \\\n",
      "0      1            5.1           3.5            1.4           0.2   \n",
      "1      2            4.9           3.0            1.4           0.2   \n",
      "2      3            4.7           3.2            1.3           0.2   \n",
      "3      4            4.6           3.1            1.5           0.2   \n",
      "4      5            5.0           3.6            1.4           0.2   \n",
      "5      6            5.4           3.9            1.7           0.4   \n",
      "6      7            4.6           3.4            1.4           0.3   \n",
      "7      8            5.0           3.4            1.5           0.2   \n",
      "8      9            4.4           2.9            1.4           0.2   \n",
      "9     10            4.9           3.1            1.5           0.1   \n",
      "10    11            5.4           3.7            1.5           0.2   \n",
      "11    12            4.8           3.4            1.6           0.2   \n",
      "12    13            4.8           3.0            1.4           0.1   \n",
      "13    14            4.3           3.0            1.1           0.1   \n",
      "14    15            5.8           4.0            1.2           0.2   \n",
      "15    16            5.7           4.4            1.5           0.4   \n",
      "16    17            5.4           3.9            1.3           0.4   \n",
      "17    18            5.1           3.5            1.4           0.3   \n",
      "18    19            5.7           3.8            1.7           0.3   \n",
      "19    20            5.1           3.8            1.5           0.3   \n",
      "20    21            5.4           3.4            1.7           0.2   \n",
      "21    22            5.1           3.7            1.5           0.4   \n",
      "22    23            4.6           3.6            1.0           0.2   \n",
      "23    24            5.1           3.3            1.7           0.5   \n",
      "24    25            4.8           3.4            1.9           0.2   \n",
      "25    26            5.0           3.0            1.6           0.2   \n",
      "26    27            5.0           3.4            1.6           0.4   \n",
      "27    28            5.2           3.5            1.5           0.2   \n",
      "28    29            5.2           3.4            1.4           0.2   \n",
      "29    30            4.7           3.2            1.6           0.2   \n",
      "..   ...            ...           ...            ...           ...   \n",
      "120  121            6.9           3.2            5.7           2.3   \n",
      "121  122            5.6           2.8            4.9           2.0   \n",
      "122  123            7.7           2.8            6.7           2.0   \n",
      "123  124            6.3           2.7            4.9           1.8   \n",
      "124  125            6.7           3.3            5.7           2.1   \n",
      "125  126            7.2           3.2            6.0           1.8   \n",
      "126  127            6.2           2.8            4.8           1.8   \n",
      "127  128            6.1           3.0            4.9           1.8   \n",
      "128  129            6.4           2.8            5.6           2.1   \n",
      "129  130            7.2           3.0            5.8           1.6   \n",
      "130  131            7.4           2.8            6.1           1.9   \n",
      "131  132            7.9           3.8            6.4           2.0   \n",
      "132  133            6.4           2.8            5.6           2.2   \n",
      "133  134            6.3           2.8            5.1           1.5   \n",
      "134  135            6.1           2.6            5.6           1.4   \n",
      "135  136            7.7           3.0            6.1           2.3   \n",
      "136  137            6.3           3.4            5.6           2.4   \n",
      "137  138            6.4           3.1            5.5           1.8   \n",
      "138  139            6.0           3.0            4.8           1.8   \n",
      "139  140            6.9           3.1            5.4           2.1   \n",
      "140  141            6.7           3.1            5.6           2.4   \n",
      "141  142            6.9           3.1            5.1           2.3   \n",
      "142  143            5.8           2.7            5.1           1.9   \n",
      "143  144            6.8           3.2            5.9           2.3   \n",
      "144  145            6.7           3.3            5.7           2.5   \n",
      "145  146            6.7           3.0            5.2           2.3   \n",
      "146  147            6.3           2.5            5.0           1.9   \n",
      "147  148            6.5           3.0            5.2           2.0   \n",
      "148  149            6.2           3.4            5.4           2.3   \n",
      "149  150            5.9           3.0            5.1           1.8   \n",
      "\n",
      "            Species  \n",
      "0       Iris-setosa  \n",
      "1       Iris-setosa  \n",
      "2       Iris-setosa  \n",
      "3       Iris-setosa  \n",
      "4       Iris-setosa  \n",
      "5       Iris-setosa  \n",
      "6       Iris-setosa  \n",
      "7       Iris-setosa  \n",
      "8       Iris-setosa  \n",
      "9       Iris-setosa  \n",
      "10      Iris-setosa  \n",
      "11      Iris-setosa  \n",
      "12      Iris-setosa  \n",
      "13      Iris-setosa  \n",
      "14      Iris-setosa  \n",
      "15      Iris-setosa  \n",
      "16      Iris-setosa  \n",
      "17      Iris-setosa  \n",
      "18      Iris-setosa  \n",
      "19      Iris-setosa  \n",
      "20      Iris-setosa  \n",
      "21      Iris-setosa  \n",
      "22      Iris-setosa  \n",
      "23      Iris-setosa  \n",
      "24      Iris-setosa  \n",
      "25      Iris-setosa  \n",
      "26      Iris-setosa  \n",
      "27      Iris-setosa  \n",
      "28      Iris-setosa  \n",
      "29      Iris-setosa  \n",
      "..              ...  \n",
      "120  Iris-virginica  \n",
      "121  Iris-virginica  \n",
      "122  Iris-virginica  \n",
      "123  Iris-virginica  \n",
      "124  Iris-virginica  \n",
      "125  Iris-virginica  \n",
      "126  Iris-virginica  \n",
      "127  Iris-virginica  \n",
      "128  Iris-virginica  \n",
      "129  Iris-virginica  \n",
      "130  Iris-virginica  \n",
      "131  Iris-virginica  \n",
      "132  Iris-virginica  \n",
      "133  Iris-virginica  \n",
      "134  Iris-virginica  \n",
      "135  Iris-virginica  \n",
      "136  Iris-virginica  \n",
      "137  Iris-virginica  \n",
      "138  Iris-virginica  \n",
      "139  Iris-virginica  \n",
      "140  Iris-virginica  \n",
      "141  Iris-virginica  \n",
      "142  Iris-virginica  \n",
      "143  Iris-virginica  \n",
      "144  Iris-virginica  \n",
      "145  Iris-virginica  \n",
      "146  Iris-virginica  \n",
      "147  Iris-virginica  \n",
      "148  Iris-virginica  \n",
      "149  Iris-virginica  \n",
      "\n",
      "[150 rows x 6 columns]\n"
     ]
    }
   ],
   "source": [
    "print(df)"
   ]
  },
  {
   "cell_type": "code",
   "execution_count": 10,
   "metadata": {},
   "outputs": [],
   "source": [
    "df = df.drop(['Id'],axis=1)"
   ]
  },
  {
   "cell_type": "code",
   "execution_count": 11,
   "metadata": {},
   "outputs": [
    {
     "name": "stdout",
     "output_type": "stream",
     "text": [
      "['Iris-virginica', 'Iris-setosa', 'Iris-versicolor']\n"
     ]
    }
   ],
   "source": [
    "target = df['Species']\n",
    "s = set()\n",
    "for val in target:\n",
    "    s.add(val)\n",
    "s = list(s)\n",
    "print(s)"
   ]
  },
  {
   "cell_type": "code",
   "execution_count": 12,
   "metadata": {},
   "outputs": [],
   "source": [
    "rows = list(range(100,150))\n",
    "df = df.drop(df.index[rows])"
   ]
  },
  {
   "cell_type": "code",
   "execution_count": 13,
   "metadata": {},
   "outputs": [
    {
     "name": "stdout",
     "output_type": "stream",
     "text": [
      "    SepalLengthCm  SepalWidthCm  PetalLengthCm  PetalWidthCm          Species\n",
      "0             5.1           3.5            1.4           0.2      Iris-setosa\n",
      "1             4.9           3.0            1.4           0.2      Iris-setosa\n",
      "2             4.7           3.2            1.3           0.2      Iris-setosa\n",
      "3             4.6           3.1            1.5           0.2      Iris-setosa\n",
      "4             5.0           3.6            1.4           0.2      Iris-setosa\n",
      "5             5.4           3.9            1.7           0.4      Iris-setosa\n",
      "6             4.6           3.4            1.4           0.3      Iris-setosa\n",
      "7             5.0           3.4            1.5           0.2      Iris-setosa\n",
      "8             4.4           2.9            1.4           0.2      Iris-setosa\n",
      "9             4.9           3.1            1.5           0.1      Iris-setosa\n",
      "10            5.4           3.7            1.5           0.2      Iris-setosa\n",
      "11            4.8           3.4            1.6           0.2      Iris-setosa\n",
      "12            4.8           3.0            1.4           0.1      Iris-setosa\n",
      "13            4.3           3.0            1.1           0.1      Iris-setosa\n",
      "14            5.8           4.0            1.2           0.2      Iris-setosa\n",
      "15            5.7           4.4            1.5           0.4      Iris-setosa\n",
      "16            5.4           3.9            1.3           0.4      Iris-setosa\n",
      "17            5.1           3.5            1.4           0.3      Iris-setosa\n",
      "18            5.7           3.8            1.7           0.3      Iris-setosa\n",
      "19            5.1           3.8            1.5           0.3      Iris-setosa\n",
      "20            5.4           3.4            1.7           0.2      Iris-setosa\n",
      "21            5.1           3.7            1.5           0.4      Iris-setosa\n",
      "22            4.6           3.6            1.0           0.2      Iris-setosa\n",
      "23            5.1           3.3            1.7           0.5      Iris-setosa\n",
      "24            4.8           3.4            1.9           0.2      Iris-setosa\n",
      "25            5.0           3.0            1.6           0.2      Iris-setosa\n",
      "26            5.0           3.4            1.6           0.4      Iris-setosa\n",
      "27            5.2           3.5            1.5           0.2      Iris-setosa\n",
      "28            5.2           3.4            1.4           0.2      Iris-setosa\n",
      "29            4.7           3.2            1.6           0.2      Iris-setosa\n",
      "..            ...           ...            ...           ...              ...\n",
      "70            5.9           3.2            4.8           1.8  Iris-versicolor\n",
      "71            6.1           2.8            4.0           1.3  Iris-versicolor\n",
      "72            6.3           2.5            4.9           1.5  Iris-versicolor\n",
      "73            6.1           2.8            4.7           1.2  Iris-versicolor\n",
      "74            6.4           2.9            4.3           1.3  Iris-versicolor\n",
      "75            6.6           3.0            4.4           1.4  Iris-versicolor\n",
      "76            6.8           2.8            4.8           1.4  Iris-versicolor\n",
      "77            6.7           3.0            5.0           1.7  Iris-versicolor\n",
      "78            6.0           2.9            4.5           1.5  Iris-versicolor\n",
      "79            5.7           2.6            3.5           1.0  Iris-versicolor\n",
      "80            5.5           2.4            3.8           1.1  Iris-versicolor\n",
      "81            5.5           2.4            3.7           1.0  Iris-versicolor\n",
      "82            5.8           2.7            3.9           1.2  Iris-versicolor\n",
      "83            6.0           2.7            5.1           1.6  Iris-versicolor\n",
      "84            5.4           3.0            4.5           1.5  Iris-versicolor\n",
      "85            6.0           3.4            4.5           1.6  Iris-versicolor\n",
      "86            6.7           3.1            4.7           1.5  Iris-versicolor\n",
      "87            6.3           2.3            4.4           1.3  Iris-versicolor\n",
      "88            5.6           3.0            4.1           1.3  Iris-versicolor\n",
      "89            5.5           2.5            4.0           1.3  Iris-versicolor\n",
      "90            5.5           2.6            4.4           1.2  Iris-versicolor\n",
      "91            6.1           3.0            4.6           1.4  Iris-versicolor\n",
      "92            5.8           2.6            4.0           1.2  Iris-versicolor\n",
      "93            5.0           2.3            3.3           1.0  Iris-versicolor\n",
      "94            5.6           2.7            4.2           1.3  Iris-versicolor\n",
      "95            5.7           3.0            4.2           1.2  Iris-versicolor\n",
      "96            5.7           2.9            4.2           1.3  Iris-versicolor\n",
      "97            6.2           2.9            4.3           1.3  Iris-versicolor\n",
      "98            5.1           2.5            3.0           1.1  Iris-versicolor\n",
      "99            5.7           2.8            4.1           1.3  Iris-versicolor\n",
      "\n",
      "[100 rows x 5 columns]\n"
     ]
    }
   ],
   "source": [
    "print(df)"
   ]
  },
  {
   "cell_type": "code",
   "execution_count": 14,
   "metadata": {},
   "outputs": [],
   "source": [
    "Y = []\n",
    "target = df['Species']\n",
    "for val in target:\n",
    "    if(val == 'Iris-setosa'):\n",
    "        Y.append(0)\n",
    "    else:\n",
    "        Y.append(1)"
   ]
  },
  {
   "cell_type": "code",
   "execution_count": 16,
   "metadata": {},
   "outputs": [],
   "source": [
    "df = df.drop(['Species'],axis=1)"
   ]
  },
  {
   "cell_type": "code",
   "execution_count": 17,
   "metadata": {},
   "outputs": [],
   "source": [
    "X = df.values.tolist()"
   ]
  },
  {
   "cell_type": "code",
   "execution_count": 19,
   "metadata": {},
   "outputs": [],
   "source": [
    "from sklearn.utils import shuffle\n",
    "from sklearn.cross_validation import train_test_split\n",
    "import numpy as np\n",
    "\n",
    "X, Y = shuffle(X,Y)\n",
    "\n",
    "x_train = []\n",
    "y_train = []\n",
    "x_test = []\n",
    "y_test = []\n",
    "\n",
    "x_train, x_test, y_train, y_test = train_test_split(X, Y, train_size=0.9)\n",
    "\n",
    "x_train = np.array(x_train)\n",
    "y_train = np.array(y_train)\n",
    "x_test = np.array(x_test)\n",
    "y_test = np.array(y_test)"
   ]
  },
  {
   "cell_type": "code",
   "execution_count": 21,
   "metadata": {},
   "outputs": [
    {
     "name": "stdout",
     "output_type": "stream",
     "text": [
      "1.0\n"
     ]
    }
   ],
   "source": [
    "from sklearn.metrics import accuracy_score\n",
    "from sklearn.linear_model import LogisticRegression\n",
    "\n",
    "clf = LogisticRegression()\n",
    "clf.fit(x_train,y_train)\n",
    "y_pred = clf.predict(x_test)\n",
    "print(accuracy_score(y_test,y_pred))"
   ]
  },
  {
   "cell_type": "code",
   "execution_count": 73,
   "metadata": {},
   "outputs": [
    {
     "name": "stdout",
     "output_type": "stream",
     "text": [
      "(10, 4)\n"
     ]
    }
   ],
   "source": [
    "print(x_test.shape)"
   ]
  },
  {
   "cell_type": "code",
   "execution_count": 46,
   "metadata": {},
   "outputs": [],
   "source": [
    "x_1 = x_train[:,0]\n",
    "x_2 = x_train[:,1]\n",
    "x_3 = x_train[:,2]\n",
    "x_4 = x_train[:,3]\n",
    "\n",
    "x_1 = np.array(x_1)\n",
    "x_2 = np.array(x_2)\n",
    "x_3 = np.array(x_3)\n",
    "x_4 = np.array(x_4)\n",
    "\n",
    "x_1 = x_1.reshape(90,1)\n",
    "x_2 = x_2.reshape(90,1)\n",
    "x_3 = x_3.reshape(90,1)\n",
    "x_4 = x_4.reshape(90,1)"
   ]
  },
  {
   "cell_type": "code",
   "execution_count": 41,
   "metadata": {},
   "outputs": [],
   "source": [
    "y_train = y_train.reshape(90,1)"
   ]
  },
  {
   "cell_type": "code",
   "execution_count": 128,
   "metadata": {
    "scrolled": true
   },
   "outputs": [],
   "source": [
    "## Logistic Regression \n",
    "import numpy as np\n",
    "\n",
    "def sigmoid(x):\n",
    "    return (1 / (1 + np.exp(-x)))\n",
    "\n",
    "theta_0 = np.zeros((90,1))\n",
    "theta_1 = np.zeros((90,1))\n",
    "theta_2 = np.zeros((90,1))\n",
    "theta_3 = np.zeros((90,1))\n",
    "theta_4 = np.zeros((90,1))\n",
    "\n",
    "\n",
    "loops = 0\n",
    "cost_func = []\n",
    "while(loops < 10000):\n",
    "    y = theta_0 + theta_1 * x_1 + theta_2 * x_2 + theta_3 * x_3 + theta_4 * x_4\n",
    "    y = sigmoid(y)\n",
    "    \n",
    "    cost = (- np.dot(np.transpose(y_train),np.log(y)) - np.dot(np.transpose(1-y_train),np.log(1-y)))/90\n",
    "    \n",
    "    theta_0_grad = np.dot(np.ones((1,90)),y-y_train)/90\n",
    "    theta_1_grad = np.dot(np.transpose(x_1),y-y_train)/90\n",
    "    theta_2_grad = np.dot(np.transpose(x_2),y-y_train)/90\n",
    "    theta_3_grad = np.dot(np.transpose(x_3),y-y_train)/90\n",
    "    theta_4_grad = np.dot(np.transpose(x_4),y-y_train)/90\n",
    "    \n",
    "    theta_0 = theta_0 - 0.0001 * theta_0_grad\n",
    "    theta_1 = theta_1 - 0.0001 * theta_1_grad\n",
    "    theta_2 = theta_2 - 0.0001 * theta_2_grad\n",
    "    theta_3 = theta_3 - 0.0001 * theta_3_grad\n",
    "    theta_4 = theta_4 - 0.0001 * theta_4_grad\n",
    "    \n",
    "    cost_func.append(cost)\n",
    "    loops += 1"
   ]
  },
  {
   "cell_type": "code",
   "execution_count": 129,
   "metadata": {},
   "outputs": [],
   "source": [
    "test_x_1 = x_test[:,0]\n",
    "test_x_2 = x_test[:,1]\n",
    "test_x_3 = x_test[:,2]\n",
    "test_x_4 = x_test[:,3]\n",
    "\n",
    "test_x_1 = np.array(test_x_1)\n",
    "test_x_2 = np.array(test_x_2)\n",
    "test_x_3 = np.array(test_x_3)\n",
    "test_x_4 = np.array(test_x_4)\n",
    "\n",
    "test_x_1 = test_x_1.reshape(10,1)\n",
    "test_x_2 = test_x_2.reshape(10,1)\n",
    "test_x_3 = test_x_3.reshape(10,1)\n",
    "test_x_4 = test_x_4.reshape(10,1)"
   ]
  },
  {
   "cell_type": "code",
   "execution_count": 130,
   "metadata": {},
   "outputs": [],
   "source": [
    "index = list(range(10,90))\n",
    "\n",
    "theta_0 = np.delete(theta_0, index)\n",
    "theta_1 = np.delete(theta_1, index)\n",
    "theta_2 = np.delete(theta_2, index)\n",
    "theta_3 = np.delete(theta_3, index)\n",
    "theta_4 = np.delete(theta_4, index)"
   ]
  },
  {
   "cell_type": "code",
   "execution_count": 131,
   "metadata": {},
   "outputs": [],
   "source": [
    "theta_0 = theta_0.reshape(10,1)\n",
    "theta_1 = theta_1.reshape(10,1)\n",
    "theta_2 = theta_2.reshape(10,1)\n",
    "theta_3 = theta_3.reshape(10,1)\n",
    "theta_4 = theta_4.reshape(10,1)"
   ]
  },
  {
   "cell_type": "code",
   "execution_count": 132,
   "metadata": {},
   "outputs": [],
   "source": [
    "y_pred = theta_0 + theta_1 * test_x_1 + theta_2 * test_x_2 + theta_3 * test_x_3 + theta_4 * test_x_4"
   ]
  },
  {
   "cell_type": "code",
   "execution_count": 133,
   "metadata": {},
   "outputs": [],
   "source": [
    "new_y_pred =[]\n",
    "for val in y_pred:\n",
    "    if(val >= 0.5):\n",
    "        new_y_pred.append(1)\n",
    "    else:\n",
    "        new_y_pred.append(0)"
   ]
  },
  {
   "cell_type": "code",
   "execution_count": 134,
   "metadata": {},
   "outputs": [
    {
     "name": "stdout",
     "output_type": "stream",
     "text": [
      "1.0\n"
     ]
    }
   ],
   "source": [
    "from sklearn.metrics import accuracy_score\n",
    "\n",
    "print(accuracy_score(y_test,new_y_pred))"
   ]
  },
  {
   "cell_type": "code",
   "execution_count": 135,
   "metadata": {},
   "outputs": [],
   "source": [
    "cost_func = np.array(cost_func)\n",
    "cost_func = cost_func.reshape(10000,1)"
   ]
  },
  {
   "cell_type": "code",
   "execution_count": 136,
   "metadata": {},
   "outputs": [
    {
     "data": {
      "text/plain": [
       "[<matplotlib.lines.Line2D at 0x1a15e5fe90>]"
      ]
     },
     "execution_count": 136,
     "metadata": {},
     "output_type": "execute_result"
    },
    {
     "data": {
      "image/png": "[encoded data removed]",
      "text/plain": [
       "<Figure size 432x288 with 1 Axes>"
      ]
     },
     "metadata": {},
     "output_type": "display_data"
    }
   ],
   "source": [
    "import matplotlib.pyplot as plt \n",
    "\n",
    "plt.plot(range(len(cost_func)),cost_func)"
   ]
  },
  {
   "cell_type": "code",
   "execution_count": null,
   "metadata": {},
   "outputs": [],
   "source": []
  }
 ],
 "metadata": {
  "kernelspec": {
   "display_name": "Python 2",
   "language": "python",
   "name": "python2"
  },
  "language_info": {
   "codemirror_mode": {
    "name": "ipython",
    "version": 2
   },
   "file_extension": ".py",
   "mimetype": "text/x-python",
   "name": "python",
   "nbconvert_exporter": "python",
   "pygments_lexer": "ipython2",
   "version": "2.7.14"
  }
 },
 "nbformat": 4,
 "nbformat_minor": 2
}
