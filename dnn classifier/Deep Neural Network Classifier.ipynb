{
 "cells": [
  {
   "cell_type": "markdown",
   "metadata": {},
   "source": [
    "# Deep Neural Network Classifier"
   ]
  },
  {
   "cell_type": "markdown",
   "metadata": {},
   "source": [
    "## Import the classifier and load MNIST dataset"
   ]
  },
  {
   "cell_type": "code",
   "execution_count": 1,
   "metadata": {
    "collapsed": false
   },
   "outputs": [],
   "source": [
    "from dnn_classifier import DNNClassifier\n",
    "from tensorflow.examples.tutorials.mnist import input_data\n",
    "\n",
    "mnist = input_data.read_data_sets(\"/tmp/data\")\n",
    "\n",
    "X_train = mnist.train.images\n",
    "y_train = mnist.train.labels\n",
    "\n",
    "X_validation = mnist.validation.images\n",
    "y_validation = mnist.validation.labels\n",
    "\n",
    "X_test = mnist.test.images\n",
    "y_test = mnist.test.labels"
   ]
  },
  {
   "cell_type": "code",
   "execution_count": 6,
   "metadata": {
    "collapsed": false
   },
   "outputs": [
    {
     "name": "stdout",
     "output_type": "stream",
     "text": [
      "Epoch: 1 Current training accuracy: 0.9000 Validation Accuracy: 0.9170 Validation Loss 0.325871\n",
      "Epoch: 11 Current training accuracy: 0.9000 Validation Accuracy: 0.9512 Validation Loss 0.224825\n",
      "Epoch: 21 Current training accuracy: 1.0000 Validation Accuracy: 0.9244 Validation Loss 4.509759\n",
      "Stopping Early! Loss has not improved in 20 epochs\n"
     ]
    },
    {
     "data": {
      "text/plain": [
       "DNNClassifier(activation=<function elu at 0x000001AE03365158>,\n",
       "       batch_norm_momentum=None, batch_size=20, dropout_rate=None,\n",
       "       initializer=<function variance_scaling_initializer.<locals>._initializer at 0x000001AE00EC8268>,\n",
       "       learning_rate=0.01, max_checks_without_progress=20,\n",
       "       n_hidden_layers=4, n_neurons=50,\n",
       "       optimizer_class=<class 'tensorflow.python.training.adam.AdamOptimizer'>,\n",
       "       random_state=42, show_progress=10,\n",
       "       tensorboard_logdir='tensorboard_stats')"
      ]
     },
     "execution_count": 6,
     "metadata": {},
     "output_type": "execute_result"
    }
   ],
   "source": [
    "from dnn_classifier import DNNClassifier\n",
    "dnn = DNNClassifier(tensorboard_logdir=\"tensorboard_stats\", random_state=42)\n",
    "dnn.fit(X_train, y_train, 100, X_validation, y_validation)"
   ]
  },
  {
   "cell_type": "markdown",
   "metadata": {},
   "source": [
    "## Assess the accuracy on the test set"
   ]
  },
  {
   "cell_type": "code",
   "execution_count": 8,
   "metadata": {
    "collapsed": false
   },
   "outputs": [
    {
     "name": "stdout",
     "output_type": "stream",
     "text": [
      "Accuracy on the test set: 94.76%\n"
     ]
    }
   ],
   "source": [
    "from sklearn.metrics import accuracy_score\n",
    "\n",
    "y_pred = dnn.predict(X_test)\n",
    "print(\"Accuracy on the test set: {:.2f}%\".format(accuracy_score(y_test, y_pred) * 100))"
   ]
  },
  {
   "cell_type": "markdown",
   "metadata": {},
   "source": [
    "## Plot Representative Results"
   ]
  },
  {
   "cell_type": "code",
   "execution_count": 10,
   "metadata": {
    "collapsed": true
   },
   "outputs": [],
   "source": [
    "import matplotlib.pyplot as plt\n",
    "import numpy as np\n",
    "%matplotlib inline"
   ]
  },
  {
   "cell_type": "code",
   "execution_count": 32,
   "metadata": {
    "collapsed": false,
    "scrolled": false
   },
   "outputs": [
    {
     "data": {
      "image/png": "[encoded data removed]",
      "text/plain": [
       "<matplotlib.figure.Figure at 0x1ae967df358>"
      ]
     },
     "metadata": {},
     "output_type": "display_data"
    },
    {
     "name": "stdout",
     "output_type": "stream",
     "text": [
      "Class: 0 Confidence: 0.00%\n",
      "Class: 1 Confidence: 99.85%\n",
      "Class: 2 Confidence: 0.00%\n",
      "Class: 3 Confidence: 0.03%\n",
      "Class: 4 Confidence: 0.00%\n",
      "Class: 5 Confidence: 0.00%\n",
      "Class: 6 Confidence: 0.00%\n",
      "Class: 7 Confidence: 0.00%\n",
      "Class: 8 Confidence: 0.12%\n",
      "Class: 9 Confidence: 0.00%\n"
     ]
    },
    {
     "data": {
      "image/png": "[encoded data removed]",
      "text/plain": [
       "<matplotlib.figure.Figure at 0x1ae9685b518>"
      ]
     },
     "metadata": {},
     "output_type": "display_data"
    },
    {
     "name": "stdout",
     "output_type": "stream",
     "text": [
      "Class: 0 Confidence: 3.96%\n",
      "Class: 1 Confidence: 1.58%\n",
      "Class: 2 Confidence: 0.52%\n",
      "Class: 3 Confidence: 0.61%\n",
      "Class: 4 Confidence: 3.55%\n",
      "Class: 5 Confidence: 0.44%\n",
      "Class: 6 Confidence: 0.02%\n",
      "Class: 7 Confidence: 2.88%\n",
      "Class: 8 Confidence: 5.39%\n",
      "Class: 9 Confidence: 81.06%\n"
     ]
    },
    {
     "data": {
      "image/png": "[encoded data removed]",
      "text/plain": [
       "<matplotlib.figure.Figure at 0x1ae9690e4a8>"
      ]
     },
     "metadata": {},
     "output_type": "display_data"
    },
    {
     "name": "stdout",
     "output_type": "stream",
     "text": [
      "Class: 0 Confidence: 0.03%\n",
      "Class: 1 Confidence: 0.00%\n",
      "Class: 2 Confidence: 0.00%\n",
      "Class: 3 Confidence: 0.02%\n",
      "Class: 4 Confidence: 1.49%\n",
      "Class: 5 Confidence: 0.03%\n",
      "Class: 6 Confidence: 0.00%\n",
      "Class: 7 Confidence: 1.03%\n",
      "Class: 8 Confidence: 0.05%\n",
      "Class: 9 Confidence: 97.34%\n"
     ]
    },
    {
     "data": {
      "image/png": "[encoded data removed]",
      "text/plain": [
       "<matplotlib.figure.Figure at 0x1ae9685d198>"
      ]
     },
     "metadata": {},
     "output_type": "display_data"
    },
    {
     "name": "stdout",
     "output_type": "stream",
     "text": [
      "Class: 0 Confidence: 0.00%\n",
      "Class: 1 Confidence: 0.00%\n",
      "Class: 2 Confidence: 0.00%\n",
      "Class: 3 Confidence: 0.00%\n",
      "Class: 4 Confidence: 0.00%\n",
      "Class: 5 Confidence: 100.00%\n",
      "Class: 6 Confidence: 0.00%\n",
      "Class: 7 Confidence: 0.00%\n",
      "Class: 8 Confidence: 0.00%\n",
      "Class: 9 Confidence: 0.00%\n"
     ]
    }
   ],
   "source": [
    "example_indices = np.random.randint(len(X_test), size=4)\n",
    "\n",
    "for i, image_index in enumerate(example_indices):\n",
    "    probabilities = dnn.predict_probabilities(X_test[image_index].reshape(-1, 784))\n",
    "    plt.figure(figsize=(8,8))\n",
    "    plt.imshow(X_test[image_index].reshape(28,28), cmap=\"binary\")\n",
    "    plt.show()\n",
    "    for label, probability in zip(dnn.classes_, probabilities[0]):\n",
    "        print(\"{} Confidence: {:.2f}%\".format(label, probability*100))"
   ]
  },
  {
   "cell_type": "markdown",
   "metadata": {},
   "source": [
    "## Use Randomized Search to find the best hyperparameters "
   ]
  },
  {
   "cell_type": "code",
   "execution_count": 33,
   "metadata": {
    "collapsed": true
   },
   "outputs": [],
   "source": [
    "from sklearn.model_selection import GridSearchCV\n",
    "from sklearn.model_selection import RandomizedSearchCV"
   ]
  },
  {
   "cell_type": "code",
   "execution_count": 38,
   "metadata": {
    "collapsed": false
   },
   "outputs": [
    {
     "name": "stdout",
     "output_type": "stream",
     "text": [
      "Fitting 3 folds for each of 15 candidates, totalling 45 fits\n",
      "[CV] n_neurons=100, n_hidden_layers=4, max_checks_without_progress=30, learning_rate=0.005, dropout_rate=None, batch_size=64, batch_norm_momentum=0.9, activation=<function relu at 0x000001AE0335E2F0> \n",
      "[CV]  n_neurons=100, n_hidden_layers=4, max_checks_without_progress=30, learning_rate=0.005, dropout_rate=None, batch_size=64, batch_norm_momentum=0.9, activation=<function relu at 0x000001AE0335E2F0>, total=12.3min\n",
      "[CV] n_neurons=100, n_hidden_layers=4, max_checks_without_progress=30, learning_rate=0.005, dropout_rate=None, batch_size=64, batch_norm_momentum=0.9, activation=<function relu at 0x000001AE0335E2F0> \n"
     ]
    },
    {
     "name": "stderr",
     "output_type": "stream",
     "text": [
      "[Parallel(n_jobs=1)]: Done   1 out of   1 | elapsed: 12.3min remaining:    0.0s\n"
     ]
    },
    {
     "name": "stdout",
     "output_type": "stream",
     "text": [
      "[CV]  n_neurons=100, n_hidden_layers=4, max_checks_without_progress=30, learning_rate=0.005, dropout_rate=None, batch_size=64, batch_norm_momentum=0.9, activation=<function relu at 0x000001AE0335E2F0>, total=11.9min\n",
      "[CV] n_neurons=100, n_hidden_layers=4, max_checks_without_progress=30, learning_rate=0.005, dropout_rate=None, batch_size=64, batch_norm_momentum=0.9, activation=<function relu at 0x000001AE0335E2F0> \n",
      "[CV]  n_neurons=100, n_hidden_layers=4, max_checks_without_progress=30, learning_rate=0.005, dropout_rate=None, batch_size=64, batch_norm_momentum=0.9, activation=<function relu at 0x000001AE0335E2F0>, total=11.1min\n",
      "[CV] n_neurons=100, n_hidden_layers=4, max_checks_without_progress=30, learning_rate=0.01, dropout_rate=None, batch_size=128, batch_norm_momentum=0.9, activation=<function relu at 0x000001AE0335E2F0> \n",
      "[CV]  n_neurons=100, n_hidden_layers=4, max_checks_without_progress=30, learning_rate=0.01, dropout_rate=None, batch_size=128, batch_norm_momentum=0.9, activation=<function relu at 0x000001AE0335E2F0>, total= 5.8min\n",
      "[CV] n_neurons=100, n_hidden_layers=4, max_checks_without_progress=30, learning_rate=0.01, dropout_rate=None, batch_size=128, batch_norm_momentum=0.9, activation=<function relu at 0x000001AE0335E2F0> \n",
      "[CV]  n_neurons=100, n_hidden_layers=4, max_checks_without_progress=30, learning_rate=0.01, dropout_rate=None, batch_size=128, batch_norm_momentum=0.9, activation=<function relu at 0x000001AE0335E2F0>, total= 5.8min\n",
      "[CV] n_neurons=100, n_hidden_layers=4, max_checks_without_progress=30, learning_rate=0.01, dropout_rate=None, batch_size=128, batch_norm_momentum=0.9, activation=<function relu at 0x000001AE0335E2F0> \n",
      "[CV]  n_neurons=100, n_hidden_layers=4, max_checks_without_progress=30, learning_rate=0.01, dropout_rate=None, batch_size=128, batch_norm_momentum=0.9, activation=<function relu at 0x000001AE0335E2F0>, total= 5.7min\n",
      "[CV] n_neurons=100, n_hidden_layers=4, max_checks_without_progress=30, learning_rate=0.005, dropout_rate=None, batch_size=128, batch_norm_momentum=None, activation=<function relu at 0x000001AE0335E2F0> \n",
      "[CV]  n_neurons=100, n_hidden_layers=4, max_checks_without_progress=30, learning_rate=0.005, dropout_rate=None, batch_size=128, batch_norm_momentum=None, activation=<function relu at 0x000001AE0335E2F0>, total= 2.4min\n",
      "[CV] n_neurons=100, n_hidden_layers=4, max_checks_without_progress=30, learning_rate=0.005, dropout_rate=None, batch_size=128, batch_norm_momentum=None, activation=<function relu at 0x000001AE0335E2F0> \n",
      "[CV]  n_neurons=100, n_hidden_layers=4, max_checks_without_progress=30, learning_rate=0.005, dropout_rate=None, batch_size=128, batch_norm_momentum=None, activation=<function relu at 0x000001AE0335E2F0>, total= 2.4min\n",
      "[CV] n_neurons=100, n_hidden_layers=4, max_checks_without_progress=30, learning_rate=0.005, dropout_rate=None, batch_size=128, batch_norm_momentum=None, activation=<function relu at 0x000001AE0335E2F0> \n",
      "[CV]  n_neurons=100, n_hidden_layers=4, max_checks_without_progress=30, learning_rate=0.005, dropout_rate=None, batch_size=128, batch_norm_momentum=None, activation=<function relu at 0x000001AE0335E2F0>, total= 2.5min\n",
      "[CV] n_neurons=100, n_hidden_layers=4, max_checks_without_progress=20, learning_rate=0.01, dropout_rate=0.5, batch_size=64, batch_norm_momentum=0.9, activation=<function elu at 0x000001AE03365158> \n",
      "[CV]  n_neurons=100, n_hidden_layers=4, max_checks_without_progress=20, learning_rate=0.01, dropout_rate=0.5, batch_size=64, batch_norm_momentum=0.9, activation=<function elu at 0x000001AE03365158>, total=12.4min\n",
      "[CV] n_neurons=100, n_hidden_layers=4, max_checks_without_progress=20, learning_rate=0.01, dropout_rate=0.5, batch_size=64, batch_norm_momentum=0.9, activation=<function elu at 0x000001AE03365158> \n",
      "[CV]  n_neurons=100, n_hidden_layers=4, max_checks_without_progress=20, learning_rate=0.01, dropout_rate=0.5, batch_size=64, batch_norm_momentum=0.9, activation=<function elu at 0x000001AE03365158>, total=12.1min\n",
      "[CV] n_neurons=100, n_hidden_layers=4, max_checks_without_progress=20, learning_rate=0.01, dropout_rate=0.5, batch_size=64, batch_norm_momentum=0.9, activation=<function elu at 0x000001AE03365158> \n",
      "[CV]  n_neurons=100, n_hidden_layers=4, max_checks_without_progress=20, learning_rate=0.01, dropout_rate=0.5, batch_size=64, batch_norm_momentum=0.9, activation=<function elu at 0x000001AE03365158>, total=11.9min\n",
      "[CV] n_neurons=40, n_hidden_layers=4, max_checks_without_progress=30, learning_rate=0.005, dropout_rate=None, batch_size=128, batch_norm_momentum=None, activation=<function relu at 0x000001AE0335E2F0> \n",
      "[CV]  n_neurons=40, n_hidden_layers=4, max_checks_without_progress=30, learning_rate=0.005, dropout_rate=None, batch_size=128, batch_norm_momentum=None, activation=<function relu at 0x000001AE0335E2F0>, total= 2.3min\n",
      "[CV] n_neurons=40, n_hidden_layers=4, max_checks_without_progress=30, learning_rate=0.005, dropout_rate=None, batch_size=128, batch_norm_momentum=None, activation=<function relu at 0x000001AE0335E2F0> \n",
      "[CV]  n_neurons=40, n_hidden_layers=4, max_checks_without_progress=30, learning_rate=0.005, dropout_rate=None, batch_size=128, batch_norm_momentum=None, activation=<function relu at 0x000001AE0335E2F0>, total= 2.2min\n",
      "[CV] n_neurons=40, n_hidden_layers=4, max_checks_without_progress=30, learning_rate=0.005, dropout_rate=None, batch_size=128, batch_norm_momentum=None, activation=<function relu at 0x000001AE0335E2F0> \n",
      "[CV]  n_neurons=40, n_hidden_layers=4, max_checks_without_progress=30, learning_rate=0.005, dropout_rate=None, batch_size=128, batch_norm_momentum=None, activation=<function relu at 0x000001AE0335E2F0>, total= 2.3min\n",
      "[CV] n_neurons=100, n_hidden_layers=3, max_checks_without_progress=30, learning_rate=0.01, dropout_rate=None, batch_size=64, batch_norm_momentum=0.9, activation=<function relu at 0x000001AE0335E2F0> \n",
      "[CV]  n_neurons=100, n_hidden_layers=3, max_checks_without_progress=30, learning_rate=0.01, dropout_rate=None, batch_size=64, batch_norm_momentum=0.9, activation=<function relu at 0x000001AE0335E2F0>, total= 8.9min\n",
      "[CV] n_neurons=100, n_hidden_layers=3, max_checks_without_progress=30, learning_rate=0.01, dropout_rate=None, batch_size=64, batch_norm_momentum=0.9, activation=<function relu at 0x000001AE0335E2F0> \n",
      "[CV]  n_neurons=100, n_hidden_layers=3, max_checks_without_progress=30, learning_rate=0.01, dropout_rate=None, batch_size=64, batch_norm_momentum=0.9, activation=<function relu at 0x000001AE0335E2F0>, total= 8.9min\n",
      "[CV] n_neurons=100, n_hidden_layers=3, max_checks_without_progress=30, learning_rate=0.01, dropout_rate=None, batch_size=64, batch_norm_momentum=0.9, activation=<function relu at 0x000001AE0335E2F0> \n",
      "[CV]  n_neurons=100, n_hidden_layers=3, max_checks_without_progress=30, learning_rate=0.01, dropout_rate=None, batch_size=64, batch_norm_momentum=0.9, activation=<function relu at 0x000001AE0335E2F0>, total= 9.0min\n",
      "[CV] n_neurons=50, n_hidden_layers=4, max_checks_without_progress=20, learning_rate=0.01, dropout_rate=0.5, batch_size=128, batch_norm_momentum=None, activation=<function elu at 0x000001AE03365158> \n",
      "[CV]  n_neurons=50, n_hidden_layers=4, max_checks_without_progress=20, learning_rate=0.01, dropout_rate=0.5, batch_size=128, batch_norm_momentum=None, activation=<function elu at 0x000001AE03365158>, total= 3.0min\n",
      "[CV] n_neurons=50, n_hidden_layers=4, max_checks_without_progress=20, learning_rate=0.01, dropout_rate=0.5, batch_size=128, batch_norm_momentum=None, activation=<function elu at 0x000001AE03365158> \n",
      "[CV]  n_neurons=50, n_hidden_layers=4, max_checks_without_progress=20, learning_rate=0.01, dropout_rate=0.5, batch_size=128, batch_norm_momentum=None, activation=<function elu at 0x000001AE03365158>, total= 3.0min\n",
      "[CV] n_neurons=50, n_hidden_layers=4, max_checks_without_progress=20, learning_rate=0.01, dropout_rate=0.5, batch_size=128, batch_norm_momentum=None, activation=<function elu at 0x000001AE03365158> \n",
      "[CV]  n_neurons=50, n_hidden_layers=4, max_checks_without_progress=20, learning_rate=0.01, dropout_rate=0.5, batch_size=128, batch_norm_momentum=None, activation=<function elu at 0x000001AE03365158>, total= 3.0min\n",
      "[CV] n_neurons=100, n_hidden_layers=4, max_checks_without_progress=30, learning_rate=0.01, dropout_rate=0.5, batch_size=64, batch_norm_momentum=0.9, activation=<function elu at 0x000001AE03365158> \n",
      "[CV]  n_neurons=100, n_hidden_layers=4, max_checks_without_progress=30, learning_rate=0.01, dropout_rate=0.5, batch_size=64, batch_norm_momentum=0.9, activation=<function elu at 0x000001AE03365158>, total=61.7min\n",
      "[CV] n_neurons=100, n_hidden_layers=4, max_checks_without_progress=30, learning_rate=0.01, dropout_rate=0.5, batch_size=64, batch_norm_momentum=0.9, activation=<function elu at 0x000001AE03365158> \n",
      "[CV]  n_neurons=100, n_hidden_layers=4, max_checks_without_progress=30, learning_rate=0.01, dropout_rate=0.5, batch_size=64, batch_norm_momentum=0.9, activation=<function elu at 0x000001AE03365158>, total=13.4min\n",
      "[CV] n_neurons=100, n_hidden_layers=4, max_checks_without_progress=30, learning_rate=0.01, dropout_rate=0.5, batch_size=64, batch_norm_momentum=0.9, activation=<function elu at 0x000001AE03365158> \n",
      "[CV]  n_neurons=100, n_hidden_layers=4, max_checks_without_progress=30, learning_rate=0.01, dropout_rate=0.5, batch_size=64, batch_norm_momentum=0.9, activation=<function elu at 0x000001AE03365158>, total=13.8min\n",
      "[CV] n_neurons=100, n_hidden_layers=4, max_checks_without_progress=20, learning_rate=0.005, dropout_rate=0.5, batch_size=128, batch_norm_momentum=None, activation=<function elu at 0x000001AE03365158> \n",
      "[CV]  n_neurons=100, n_hidden_layers=4, max_checks_without_progress=20, learning_rate=0.005, dropout_rate=0.5, batch_size=128, batch_norm_momentum=None, activation=<function elu at 0x000001AE03365158>, total= 3.6min\n",
      "[CV] n_neurons=100, n_hidden_layers=4, max_checks_without_progress=20, learning_rate=0.005, dropout_rate=0.5, batch_size=128, batch_norm_momentum=None, activation=<function elu at 0x000001AE03365158> \n",
      "[CV]  n_neurons=100, n_hidden_layers=4, max_checks_without_progress=20, learning_rate=0.005, dropout_rate=0.5, batch_size=128, batch_norm_momentum=None, activation=<function elu at 0x000001AE03365158>, total= 3.5min\n",
      "[CV] n_neurons=100, n_hidden_layers=4, max_checks_without_progress=20, learning_rate=0.005, dropout_rate=0.5, batch_size=128, batch_norm_momentum=None, activation=<function elu at 0x000001AE03365158> \n",
      "[CV]  n_neurons=100, n_hidden_layers=4, max_checks_without_progress=20, learning_rate=0.005, dropout_rate=0.5, batch_size=128, batch_norm_momentum=None, activation=<function elu at 0x000001AE03365158>, total= 3.5min\n",
      "[CV] n_neurons=100, n_hidden_layers=3, max_checks_without_progress=20, learning_rate=0.005, dropout_rate=None, batch_size=64, batch_norm_momentum=0.9, activation=<function elu at 0x000001AE03365158> \n",
      "[CV]  n_neurons=100, n_hidden_layers=3, max_checks_without_progress=20, learning_rate=0.005, dropout_rate=None, batch_size=64, batch_norm_momentum=0.9, activation=<function elu at 0x000001AE03365158>, total= 9.7min\n",
      "[CV] n_neurons=100, n_hidden_layers=3, max_checks_without_progress=20, learning_rate=0.005, dropout_rate=None, batch_size=64, batch_norm_momentum=0.9, activation=<function elu at 0x000001AE03365158> \n",
      "[CV]  n_neurons=100, n_hidden_layers=3, max_checks_without_progress=20, learning_rate=0.005, dropout_rate=None, batch_size=64, batch_norm_momentum=0.9, activation=<function elu at 0x000001AE03365158>, total=10.2min\n",
      "[CV] n_neurons=100, n_hidden_layers=3, max_checks_without_progress=20, learning_rate=0.005, dropout_rate=None, batch_size=64, batch_norm_momentum=0.9, activation=<function elu at 0x000001AE03365158> \n",
      "[CV]  n_neurons=100, n_hidden_layers=3, max_checks_without_progress=20, learning_rate=0.005, dropout_rate=None, batch_size=64, batch_norm_momentum=0.9, activation=<function elu at 0x000001AE03365158>, total=10.1min\n",
      "[CV] n_neurons=40, n_hidden_layers=3, max_checks_without_progress=20, learning_rate=0.01, dropout_rate=None, batch_size=128, batch_norm_momentum=None, activation=<function elu at 0x000001AE03365158> \n",
      "[CV]  n_neurons=40, n_hidden_layers=3, max_checks_without_progress=20, learning_rate=0.01, dropout_rate=None, batch_size=128, batch_norm_momentum=None, activation=<function elu at 0x000001AE03365158>, total= 2.6min\n",
      "[CV] n_neurons=40, n_hidden_layers=3, max_checks_without_progress=20, learning_rate=0.01, dropout_rate=None, batch_size=128, batch_norm_momentum=None, activation=<function elu at 0x000001AE03365158> \n",
      "[CV]  n_neurons=40, n_hidden_layers=3, max_checks_without_progress=20, learning_rate=0.01, dropout_rate=None, batch_size=128, batch_norm_momentum=None, activation=<function elu at 0x000001AE03365158>, total= 2.6min\n",
      "[CV] n_neurons=40, n_hidden_layers=3, max_checks_without_progress=20, learning_rate=0.01, dropout_rate=None, batch_size=128, batch_norm_momentum=None, activation=<function elu at 0x000001AE03365158> \n",
      "[CV]  n_neurons=40, n_hidden_layers=3, max_checks_without_progress=20, learning_rate=0.01, dropout_rate=None, batch_size=128, batch_norm_momentum=None, activation=<function elu at 0x000001AE03365158>, total= 2.5min\n",
      "[CV] n_neurons=50, n_hidden_layers=3, max_checks_without_progress=20, learning_rate=0.005, dropout_rate=None, batch_size=64, batch_norm_momentum=None, activation=<function relu at 0x000001AE0335E2F0> \n",
      "[CV]  n_neurons=50, n_hidden_layers=3, max_checks_without_progress=20, learning_rate=0.005, dropout_rate=None, batch_size=64, batch_norm_momentum=None, activation=<function relu at 0x000001AE0335E2F0>, total= 4.9min\n",
      "[CV] n_neurons=50, n_hidden_layers=3, max_checks_without_progress=20, learning_rate=0.005, dropout_rate=None, batch_size=64, batch_norm_momentum=None, activation=<function relu at 0x000001AE0335E2F0> \n",
      "[CV]  n_neurons=50, n_hidden_layers=3, max_checks_without_progress=20, learning_rate=0.005, dropout_rate=None, batch_size=64, batch_norm_momentum=None, activation=<function relu at 0x000001AE0335E2F0>, total= 4.9min\n",
      "[CV] n_neurons=50, n_hidden_layers=3, max_checks_without_progress=20, learning_rate=0.005, dropout_rate=None, batch_size=64, batch_norm_momentum=None, activation=<function relu at 0x000001AE0335E2F0> \n",
      "[CV]  n_neurons=50, n_hidden_layers=3, max_checks_without_progress=20, learning_rate=0.005, dropout_rate=None, batch_size=64, batch_norm_momentum=None, activation=<function relu at 0x000001AE0335E2F0>, total= 4.9min\n",
      "[CV] n_neurons=40, n_hidden_layers=3, max_checks_without_progress=20, learning_rate=0.01, dropout_rate=0.5, batch_size=64, batch_norm_momentum=None, activation=<function relu at 0x000001AE0335E2F0> \n",
      "[CV]  n_neurons=40, n_hidden_layers=3, max_checks_without_progress=20, learning_rate=0.01, dropout_rate=0.5, batch_size=64, batch_norm_momentum=None, activation=<function relu at 0x000001AE0335E2F0>, total= 5.6min\n",
      "[CV] n_neurons=40, n_hidden_layers=3, max_checks_without_progress=20, learning_rate=0.01, dropout_rate=0.5, batch_size=64, batch_norm_momentum=None, activation=<function relu at 0x000001AE0335E2F0> \n",
      "[CV]  n_neurons=40, n_hidden_layers=3, max_checks_without_progress=20, learning_rate=0.01, dropout_rate=0.5, batch_size=64, batch_norm_momentum=None, activation=<function relu at 0x000001AE0335E2F0>, total= 5.7min\n",
      "[CV] n_neurons=40, n_hidden_layers=3, max_checks_without_progress=20, learning_rate=0.01, dropout_rate=0.5, batch_size=64, batch_norm_momentum=None, activation=<function relu at 0x000001AE0335E2F0> \n",
      "[CV]  n_neurons=40, n_hidden_layers=3, max_checks_without_progress=20, learning_rate=0.01, dropout_rate=0.5, batch_size=64, batch_norm_momentum=None, activation=<function relu at 0x000001AE0335E2F0>, total= 5.5min\n",
      "[CV] n_neurons=40, n_hidden_layers=3, max_checks_without_progress=20, learning_rate=0.01, dropout_rate=None, batch_size=128, batch_norm_momentum=0.9, activation=<function elu at 0x000001AE03365158> \n",
      "[CV]  n_neurons=40, n_hidden_layers=3, max_checks_without_progress=20, learning_rate=0.01, dropout_rate=None, batch_size=128, batch_norm_momentum=0.9, activation=<function elu at 0x000001AE03365158>, total= 4.9min\n",
      "[CV] n_neurons=40, n_hidden_layers=3, max_checks_without_progress=20, learning_rate=0.01, dropout_rate=None, batch_size=128, batch_norm_momentum=0.9, activation=<function elu at 0x000001AE03365158> \n",
      "[CV]  n_neurons=40, n_hidden_layers=3, max_checks_without_progress=20, learning_rate=0.01, dropout_rate=None, batch_size=128, batch_norm_momentum=0.9, activation=<function elu at 0x000001AE03365158>, total= 4.9min\n",
      "[CV] n_neurons=40, n_hidden_layers=3, max_checks_without_progress=20, learning_rate=0.01, dropout_rate=None, batch_size=128, batch_norm_momentum=0.9, activation=<function elu at 0x000001AE03365158> \n",
      "[CV]  n_neurons=40, n_hidden_layers=3, max_checks_without_progress=20, learning_rate=0.01, dropout_rate=None, batch_size=128, batch_norm_momentum=0.9, activation=<function elu at 0x000001AE03365158>, total= 4.9min\n",
      "[CV] n_neurons=100, n_hidden_layers=3, max_checks_without_progress=30, learning_rate=0.005, dropout_rate=None, batch_size=64, batch_norm_momentum=None, activation=<function relu at 0x000001AE0335E2F0> \n",
      "[CV]  n_neurons=100, n_hidden_layers=3, max_checks_without_progress=30, learning_rate=0.005, dropout_rate=None, batch_size=64, batch_norm_momentum=None, activation=<function relu at 0x000001AE0335E2F0>, total= 5.1min\n",
      "[CV] n_neurons=100, n_hidden_layers=3, max_checks_without_progress=30, learning_rate=0.005, dropout_rate=None, batch_size=64, batch_norm_momentum=None, activation=<function relu at 0x000001AE0335E2F0> \n",
      "[CV]  n_neurons=100, n_hidden_layers=3, max_checks_without_progress=30, learning_rate=0.005, dropout_rate=None, batch_size=64, batch_norm_momentum=None, activation=<function relu at 0x000001AE0335E2F0>, total= 5.2min\n",
      "[CV] n_neurons=100, n_hidden_layers=3, max_checks_without_progress=30, learning_rate=0.005, dropout_rate=None, batch_size=64, batch_norm_momentum=None, activation=<function relu at 0x000001AE0335E2F0> \n",
      "[CV]  n_neurons=100, n_hidden_layers=3, max_checks_without_progress=30, learning_rate=0.005, dropout_rate=None, batch_size=64, batch_norm_momentum=None, activation=<function relu at 0x000001AE0335E2F0>, total= 5.2min\n"
     ]
    },
    {
     "name": "stderr",
     "output_type": "stream",
     "text": [
      "[Parallel(n_jobs=1)]: Done  45 out of  45 | elapsed: 338.2min finished\n"
     ]
    },
    {
     "data": {
      "text/plain": [
       "RandomizedSearchCV(cv=None, error_score='raise',\n",
       "          estimator=DNNClassifier(activation=<function elu at 0x000001AE03365158>,\n",
       "       batch_norm_momentum=None, batch_size=20, dropout_rate=None,\n",
       "       initializer=<function variance_scaling_initializer.<locals>._initializer at 0x000001AE00EC8268>,\n",
       "       learning_rate=0.01, max_checks_without_progress=20,\n",
       "       n_hidden_layers=4, n_neurons=50,\n",
       "       optimizer_class=<class 'tensorflow.python.training.adam.AdamOptimizer'>,\n",
       "       random_state=42, show_progress=None, tensorboard_logdir=None),\n",
       "          fit_params={}, iid=True, n_iter=15, n_jobs=1,\n",
       "          param_distributions={'n_hidden_layers': [3, 4, 5], 'n_neurons': [40, 50, 100], 'batch_size': [64, 128], 'learning_rate': [0.01, 0.005], 'activation': [<function elu at 0x000001AE03365158>, <function relu at 0x000001AE0335E2F0>], 'max_checks_without_progress': [20, 30], 'batch_norm_momentum': [None, 0.9], 'dropout_rate': [None, 0.5]},\n",
       "          pre_dispatch='2*n_jobs', random_state=None, refit=True,\n",
       "          return_train_score=True, scoring='accuracy', verbose=2)"
      ]
     },
     "execution_count": 38,
     "metadata": {},
     "output_type": "execute_result"
    }
   ],
   "source": [
    "import tensorflow as tf\n",
    "\n",
    "dnn = DNNClassifier(show_progress=None, random_state=42)\n",
    "\n",
    "parameter_distributions = {\n",
    "    'n_hidden_layers': [3, 4, 5],\n",
    "    'n_neurons': [40, 50, 100],\n",
    "    'batch_size': [64, 128],\n",
    "    'learning_rate':[0.01, 0.005],\n",
    "    'activation': [tf.nn.elu, tf.nn.relu],\n",
    "    'max_checks_without_progress': [20, 30],\n",
    "    'batch_norm_momentum': [None, 0.9],\n",
    "    'dropout_rate': [None, 0.5]\n",
    "}\n",
    "\n",
    "random_search = RandomizedSearchCV(dnn, parameter_distributions, n_iter=15, scoring='accuracy', verbose=2)\n",
    "random_search.fit(X_train, y_train)"
   ]
  },
  {
   "cell_type": "code",
   "execution_count": 39,
   "metadata": {
    "collapsed": false
   },
   "outputs": [
    {
     "data": {
      "text/plain": [
       "{'activation': <function tensorflow.python.ops.gen_nn_ops.elu>,\n",
       " 'batch_norm_momentum': 0.9,\n",
       " 'batch_size': 64,\n",
       " 'dropout_rate': None,\n",
       " 'learning_rate': 0.005,\n",
       " 'max_checks_without_progress': 20,\n",
       " 'n_hidden_layers': 3,\n",
       " 'n_neurons': 100}"
      ]
     },
     "execution_count": 39,
     "metadata": {},
     "output_type": "execute_result"
    }
   ],
   "source": [
    "random_search.best_params_"
   ]
  },
  {
   "cell_type": "code",
   "execution_count": 40,
   "metadata": {
    "collapsed": false
   },
   "outputs": [
    {
     "name": "stdout",
     "output_type": "stream",
     "text": [
      "Accuracy on test set: 98.18%\n"
     ]
    }
   ],
   "source": [
    "best_mnist_dnn = random_search.best_estimator_\n",
    "mnist_predictions = best_mnist_dnn.predict(X_test)\n",
    "\n",
    "print(\"Accuracy on test set: {:.2f}%\".format(accuracy_score(y_test, mnist_predictions) * 100))"
   ]
  },
  {
   "cell_type": "code",
   "execution_count": 41,
   "metadata": {
    "collapsed": true
   },
   "outputs": [],
   "source": [
    "random_search.best_estimator_.save(\"models/mnist_random_best_model\")"
   ]
  },
  {
   "cell_type": "code",
   "execution_count": null,
   "metadata": {
    "collapsed": true
   },
   "outputs": [],
   "source": [
    "dnn = DNNClassifier(show_progress=None, random_state=42)\n",
    "\n",
    "parameter_grid = {\n",
    "    'n_hidden_layers': [3],\n",
    "    'n_neurons': [75, 100, 125, 150],\n",
    "    'batch_size': [64],\n",
    "    'learning_rate':[0.005],\n",
    "    'activation': [tf.nn.elu],\n",
    "    'max_checks_without_progress': [20, 25],\n",
    "    'batch_norm_momentum': [0.9, 0.95],\n",
    "}\n",
    "\n",
    "grid_search = GridSearchCV(dnn, parameter_grid, scoring='accuracy', verbose=2)\n",
    "grid_search.fit(X_train, y_train)"
   ]
  },
  {
   "cell_type": "code",
   "execution_count": null,
   "metadata": {
    "collapsed": true
   },
   "outputs": [],
   "source": [
    "grid_search.best_params_\n",
    "predictions = grid_search.best_estimator_.predict(X_test)\n",
    "\n",
    "print(\"Score on test set: {:.2f}%\".format(accuracy_score(y_test, predictions) * 100))\n",
    "\n",
    "random_search.best_estimator_.save(\"models/mnist_grid_best_model\")"
   ]
  },
  {
   "cell_type": "markdown",
   "metadata": {},
   "source": [
    "## Titanic Dataset Predictions"
   ]
  },
  {
   "cell_type": "code",
   "execution_count": 80,
   "metadata": {
    "collapsed": true
   },
   "outputs": [],
   "source": [
    "import pandas as pd\n",
    "import numpy as np"
   ]
  },
  {
   "cell_type": "code",
   "execution_count": 81,
   "metadata": {
    "collapsed": false
   },
   "outputs": [
    {
     "data": {
      "text/html": [
       "<div>\n",
       "<style>\n",
       "    .dataframe thead tr:only-child th {\n",
       "        text-align: right;\n",
       "    }\n",
       "\n",
       "    .dataframe thead th {\n",
       "        text-align: left;\n",
       "    }\n",
       "\n",
       "    .dataframe tbody tr th {\n",
       "        vertical-align: top;\n",
       "    }\n",
       "</style>\n",
       "<table border=\"1\" class=\"dataframe\">\n",
       "  <thead>\n",
       "    <tr style=\"text-align: right;\">\n",
       "      <th></th>\n",
       "      <th>pclass</th>\n",
       "      <th>survived</th>\n",
       "      <th>name</th>\n",
       "      <th>sex</th>\n",
       "      <th>age</th>\n",
       "      <th>sibsp</th>\n",
       "      <th>parch</th>\n",
       "      <th>ticket</th>\n",
       "      <th>fare</th>\n",
       "      <th>cabin</th>\n",
       "      <th>embarked</th>\n",
       "      <th>boat</th>\n",
       "      <th>body</th>\n",
       "      <th>home.dest</th>\n",
       "    </tr>\n",
       "  </thead>\n",
       "  <tbody>\n",
       "    <tr>\n",
       "      <th>0</th>\n",
       "      <td>1</td>\n",
       "      <td>1</td>\n",
       "      <td>Allen, Miss. Elisabeth Walton</td>\n",
       "      <td>female</td>\n",
       "      <td>29.0000</td>\n",
       "      <td>0</td>\n",
       "      <td>0</td>\n",
       "      <td>24160</td>\n",
       "      <td>211.3375</td>\n",
       "      <td>B5</td>\n",
       "      <td>S</td>\n",
       "      <td>2</td>\n",
       "      <td>NaN</td>\n",
       "      <td>St Louis, MO</td>\n",
       "    </tr>\n",
       "    <tr>\n",
       "      <th>1</th>\n",
       "      <td>1</td>\n",
       "      <td>1</td>\n",
       "      <td>Allison, Master. Hudson Trevor</td>\n",
       "      <td>male</td>\n",
       "      <td>0.9167</td>\n",
       "      <td>1</td>\n",
       "      <td>2</td>\n",
       "      <td>113781</td>\n",
       "      <td>151.5500</td>\n",
       "      <td>C22 C26</td>\n",
       "      <td>S</td>\n",
       "      <td>11</td>\n",
       "      <td>NaN</td>\n",
       "      <td>Montreal, PQ / Chesterville, ON</td>\n",
       "    </tr>\n",
       "    <tr>\n",
       "      <th>2</th>\n",
       "      <td>1</td>\n",
       "      <td>0</td>\n",
       "      <td>Allison, Miss. Helen Loraine</td>\n",
       "      <td>female</td>\n",
       "      <td>2.0000</td>\n",
       "      <td>1</td>\n",
       "      <td>2</td>\n",
       "      <td>113781</td>\n",
       "      <td>151.5500</td>\n",
       "      <td>C22 C26</td>\n",
       "      <td>S</td>\n",
       "      <td>NaN</td>\n",
       "      <td>NaN</td>\n",
       "      <td>Montreal, PQ / Chesterville, ON</td>\n",
       "    </tr>\n",
       "    <tr>\n",
       "      <th>3</th>\n",
       "      <td>1</td>\n",
       "      <td>0</td>\n",
       "      <td>Allison, Mr. Hudson Joshua Creighton</td>\n",
       "      <td>male</td>\n",
       "      <td>30.0000</td>\n",
       "      <td>1</td>\n",
       "      <td>2</td>\n",
       "      <td>113781</td>\n",
       "      <td>151.5500</td>\n",
       "      <td>C22 C26</td>\n",
       "      <td>S</td>\n",
       "      <td>NaN</td>\n",
       "      <td>135.0</td>\n",
       "      <td>Montreal, PQ / Chesterville, ON</td>\n",
       "    </tr>\n",
       "    <tr>\n",
       "      <th>4</th>\n",
       "      <td>1</td>\n",
       "      <td>0</td>\n",
       "      <td>Allison, Mrs. Hudson J C (Bessie Waldo Daniels)</td>\n",
       "      <td>female</td>\n",
       "      <td>25.0000</td>\n",
       "      <td>1</td>\n",
       "      <td>2</td>\n",
       "      <td>113781</td>\n",
       "      <td>151.5500</td>\n",
       "      <td>C22 C26</td>\n",
       "      <td>S</td>\n",
       "      <td>NaN</td>\n",
       "      <td>NaN</td>\n",
       "      <td>Montreal, PQ / Chesterville, ON</td>\n",
       "    </tr>\n",
       "    <tr>\n",
       "      <th>5</th>\n",
       "      <td>1</td>\n",
       "      <td>1</td>\n",
       "      <td>Anderson, Mr. Harry</td>\n",
       "      <td>male</td>\n",
       "      <td>48.0000</td>\n",
       "      <td>0</td>\n",
       "      <td>0</td>\n",
       "      <td>19952</td>\n",
       "      <td>26.5500</td>\n",
       "      <td>E12</td>\n",
       "      <td>S</td>\n",
       "      <td>3</td>\n",
       "      <td>NaN</td>\n",
       "      <td>New York, NY</td>\n",
       "    </tr>\n",
       "    <tr>\n",
       "      <th>6</th>\n",
       "      <td>1</td>\n",
       "      <td>1</td>\n",
       "      <td>Andrews, Miss. Kornelia Theodosia</td>\n",
       "      <td>female</td>\n",
       "      <td>63.0000</td>\n",
       "      <td>1</td>\n",
       "      <td>0</td>\n",
       "      <td>13502</td>\n",
       "      <td>77.9583</td>\n",
       "      <td>D7</td>\n",
       "      <td>S</td>\n",
       "      <td>10</td>\n",
       "      <td>NaN</td>\n",
       "      <td>Hudson, NY</td>\n",
       "    </tr>\n",
       "    <tr>\n",
       "      <th>7</th>\n",
       "      <td>1</td>\n",
       "      <td>0</td>\n",
       "      <td>Andrews, Mr. Thomas Jr</td>\n",
       "      <td>male</td>\n",
       "      <td>39.0000</td>\n",
       "      <td>0</td>\n",
       "      <td>0</td>\n",
       "      <td>112050</td>\n",
       "      <td>0.0000</td>\n",
       "      <td>A36</td>\n",
       "      <td>S</td>\n",
       "      <td>NaN</td>\n",
       "      <td>NaN</td>\n",
       "      <td>Belfast, NI</td>\n",
       "    </tr>\n",
       "    <tr>\n",
       "      <th>8</th>\n",
       "      <td>1</td>\n",
       "      <td>1</td>\n",
       "      <td>Appleton, Mrs. Edward Dale (Charlotte Lamson)</td>\n",
       "      <td>female</td>\n",
       "      <td>53.0000</td>\n",
       "      <td>2</td>\n",
       "      <td>0</td>\n",
       "      <td>11769</td>\n",
       "      <td>51.4792</td>\n",
       "      <td>C101</td>\n",
       "      <td>S</td>\n",
       "      <td>D</td>\n",
       "      <td>NaN</td>\n",
       "      <td>Bayside, Queens, NY</td>\n",
       "    </tr>\n",
       "    <tr>\n",
       "      <th>9</th>\n",
       "      <td>1</td>\n",
       "      <td>0</td>\n",
       "      <td>Artagaveytia, Mr. Ramon</td>\n",
       "      <td>male</td>\n",
       "      <td>71.0000</td>\n",
       "      <td>0</td>\n",
       "      <td>0</td>\n",
       "      <td>PC 17609</td>\n",
       "      <td>49.5042</td>\n",
       "      <td>NaN</td>\n",
       "      <td>C</td>\n",
       "      <td>NaN</td>\n",
       "      <td>22.0</td>\n",
       "      <td>Montevideo, Uruguay</td>\n",
       "    </tr>\n",
       "  </tbody>\n",
       "</table>\n",
       "</div>"
      ],
      "text/plain": [
       "   pclass  survived                                             name     sex  \\\n",
       "0       1         1                    Allen, Miss. Elisabeth Walton  female   \n",
       "1       1         1                   Allison, Master. Hudson Trevor    male   \n",
       "2       1         0                     Allison, Miss. Helen Loraine  female   \n",
       "3       1         0             Allison, Mr. Hudson Joshua Creighton    male   \n",
       "4       1         0  Allison, Mrs. Hudson J C (Bessie Waldo Daniels)  female   \n",
       "5       1         1                              Anderson, Mr. Harry    male   \n",
       "6       1         1                Andrews, Miss. Kornelia Theodosia  female   \n",
       "7       1         0                           Andrews, Mr. Thomas Jr    male   \n",
       "8       1         1    Appleton, Mrs. Edward Dale (Charlotte Lamson)  female   \n",
       "9       1         0                          Artagaveytia, Mr. Ramon    male   \n",
       "\n",
       "       age  sibsp  parch    ticket      fare    cabin embarked boat   body  \\\n",
       "0  29.0000      0      0     24160  211.3375       B5        S    2    NaN   \n",
       "1   0.9167      1      2    113781  151.5500  C22 C26        S   11    NaN   \n",
       "2   2.0000      1      2    113781  151.5500  C22 C26        S  NaN    NaN   \n",
       "3  30.0000      1      2    113781  151.5500  C22 C26        S  NaN  135.0   \n",
       "4  25.0000      1      2    113781  151.5500  C22 C26        S  NaN    NaN   \n",
       "5  48.0000      0      0     19952   26.5500      E12        S    3    NaN   \n",
       "6  63.0000      1      0     13502   77.9583       D7        S   10    NaN   \n",
       "7  39.0000      0      0    112050    0.0000      A36        S  NaN    NaN   \n",
       "8  53.0000      2      0     11769   51.4792     C101        S    D    NaN   \n",
       "9  71.0000      0      0  PC 17609   49.5042      NaN        C  NaN   22.0   \n",
       "\n",
       "                         home.dest  \n",
       "0                     St Louis, MO  \n",
       "1  Montreal, PQ / Chesterville, ON  \n",
       "2  Montreal, PQ / Chesterville, ON  \n",
       "3  Montreal, PQ / Chesterville, ON  \n",
       "4  Montreal, PQ / Chesterville, ON  \n",
       "5                     New York, NY  \n",
       "6                       Hudson, NY  \n",
       "7                      Belfast, NI  \n",
       "8              Bayside, Queens, NY  \n",
       "9              Montevideo, Uruguay  "
      ]
     },
     "execution_count": 81,
     "metadata": {},
     "output_type": "execute_result"
    }
   ],
   "source": [
    "titanic = pd.read_excel(\"datasets/titanic.xls\")\n",
    "titanic.head(10)"
   ]
  },
  {
   "cell_type": "code",
   "execution_count": 82,
   "metadata": {
    "collapsed": false
   },
   "outputs": [
    {
     "name": "stdout",
     "output_type": "stream",
     "text": [
      "(981, 1504) (328, 1504)\n"
     ]
    }
   ],
   "source": [
    "# Labels are survived, features need to drop survived, body, name\n",
    "titanic_labels = np.array(titanic['survived'])\n",
    "titanic_features = titanic.drop(['survived','name', 'body', 'boat'], axis=1)\n",
    "\n",
    "# One-hot encode the categorical variables\n",
    "titanic_features = pd.get_dummies(titanic_features)\n",
    "\n",
    "#Set NAN to 0\n",
    "titanic_features = np.nan_to_num(titanic_features)\n",
    "titanic_features = np.array(titanic_features)\n",
    "\n",
    "from sklearn.model_selection import train_test_split\n",
    "# Put one quarter of data into testing set\n",
    "X_train, X_test, y_train, y_test = train_test_split(titanic_features, titanic_labels, test_size=0.25)\n",
    "print(X_train.shape, X_test.shape)"
   ]
  },
  {
   "cell_type": "code",
   "execution_count": 70,
   "metadata": {
    "collapsed": false
   },
   "outputs": [
    {
     "name": "stdout",
     "output_type": "stream",
     "text": [
      "Epoch: 1 Current training accuracy: 0.5000\n",
      "Epoch: 11 Current training accuracy: 1.0000\n",
      "Epoch: 21 Current training accuracy: 0.9500\n",
      "Epoch: 31 Current training accuracy: 1.0000\n",
      "Epoch: 41 Current training accuracy: 1.0000\n",
      "Epoch: 51 Current training accuracy: 1.0000\n",
      "Epoch: 61 Current training accuracy: 1.0000\n",
      "Epoch: 71 Current training accuracy: 1.0000\n",
      "Epoch: 81 Current training accuracy: 1.0000\n",
      "Epoch: 91 Current training accuracy: 1.0000\n"
     ]
    }
   ],
   "source": [
    "dnn = DNNClassifier(show_progress=10, random_state=42)\n",
    "dnn.fit(X_train, y_train, n_epochs=100)"
   ]
  },
  {
   "cell_type": "code",
   "execution_count": 71,
   "metadata": {
    "collapsed": false
   },
   "outputs": [
    {
     "name": "stdout",
     "output_type": "stream",
     "text": [
      "Score on test set: 76.52%\n"
     ]
    }
   ],
   "source": [
    "from sklearn.metrics import accuracy_score\n",
    "survival_predictions= dnn.predict(X_test)\n",
    "print(\"Score on test set: {:.2f}%\".format(accuracy_score(y_test, survival_predictions) * 100))"
   ]
  },
  {
   "cell_type": "markdown",
   "metadata": {},
   "source": [
    "## Try dropout to reduce overfitting"
   ]
  },
  {
   "cell_type": "code",
   "execution_count": 76,
   "metadata": {
    "collapsed": false
   },
   "outputs": [
    {
     "name": "stdout",
     "output_type": "stream",
     "text": [
      "Epoch: 1 Current training accuracy: 0.5000\n",
      "Epoch: 11 Current training accuracy: 0.8500\n",
      "Epoch: 21 Current training accuracy: 0.8500\n",
      "Epoch: 31 Current training accuracy: 0.8000\n",
      "Epoch: 41 Current training accuracy: 0.9500\n",
      "Epoch: 51 Current training accuracy: 0.9500\n",
      "Epoch: 61 Current training accuracy: 0.9000\n",
      "Epoch: 71 Current training accuracy: 0.9000\n",
      "Epoch: 81 Current training accuracy: 0.9000\n",
      "Epoch: 91 Current training accuracy: 0.9000\n",
      "Score on test set: 78.05%\n"
     ]
    }
   ],
   "source": [
    "dnn = DNNClassifier(dropout_rate=0.25, show_progress=10, random_state=42)\n",
    "dnn.fit(X_train, y_train, n_epochs=100)\n",
    "\n",
    "survival_predictions= dnn.predict(X_test)\n",
    "print(\"Score on test set: {:.2f}%\".format(accuracy_score(y_test, survival_predictions) * 100))"
   ]
  },
  {
   "cell_type": "code",
   "execution_count": 74,
   "metadata": {
    "collapsed": false
   },
   "outputs": [
    {
     "name": "stdout",
     "output_type": "stream",
     "text": [
      "Epoch: 1 Current training accuracy: 0.3500\n",
      "Epoch: 11 Current training accuracy: 0.7000\n",
      "Epoch: 21 Current training accuracy: 0.8500\n",
      "Epoch: 31 Current training accuracy: 0.4500\n",
      "Epoch: 41 Current training accuracy: 0.6000\n",
      "Epoch: 51 Current training accuracy: 0.7000\n",
      "Epoch: 61 Current training accuracy: 0.7000\n",
      "Epoch: 71 Current training accuracy: 0.6500\n",
      "Epoch: 81 Current training accuracy: 0.8000\n",
      "Epoch: 91 Current training accuracy: 0.6500\n",
      "Score on test set: 75.00%\n"
     ]
    }
   ],
   "source": [
    "dnn = DNNClassifier(dropout_rate=0.5, show_progress=10, random_state=42)\n",
    "dnn.fit(X_train, y_train, n_epochs=100)\n",
    "\n",
    "survival_predictions= dnn.predict(X_test)\n",
    "print(\"Score on test set: {:.2f}%\".format(accuracy_score(y_test, survival_predictions) * 100))"
   ]
  },
  {
   "cell_type": "markdown",
   "metadata": {},
   "source": [
    "## Put my dad and myself on the boat and see if we make it"
   ]
  },
  {
   "cell_type": "code",
   "execution_count": 86,
   "metadata": {
    "collapsed": false
   },
   "outputs": [
    {
     "name": "stdout",
     "output_type": "stream",
     "text": [
      "My survival chances: 0 = 99.754364%, 1 = 0.245640%\n",
      "Father's survival chances: 0 = 22.329571%, 1 = 77.670425%\n"
     ]
    }
   ],
   "source": [
    "import random\n",
    "# Randomly choose cabin, ticket, destination, and boat\n",
    "my_cabin = random.choice(titanic['cabin'])\n",
    "father_cabin = random.choice(titanic['cabin'])\n",
    "my_ticket = random.choice(titanic['ticket'])\n",
    "father_ticket = random.choice(titanic['ticket'])\n",
    "my_boat = random.choice(titanic['boat'])\n",
    "father_boat = random.choice(titanic['boat'])\n",
    "my_dest = random.choice(titanic['home.dest'])\n",
    "father_dest = random.choice(titanic['home.dest'])\n",
    "\n",
    "# Create list of features for family \n",
    "me = [2, 1, \"Koehrsen, William\", \"male\", 21, 2, 2, my_ticket, 50, my_cabin, 'S', my_boat, np.nan, my_dest]\n",
    "father = [1, 1, \"Koehrsen, Craig\", \"male\", 50, 2, 2, father_ticket, 200, father_cabin, 'S', father_boat, np.nan, father_dest]\n",
    "\n",
    "# Insert into dataframe at end\n",
    "titanic.loc[1309] = me\n",
    "titanic.loc[1310] = father\n",
    "\n",
    "# Manipulate dataframe to acceptable format\n",
    "titanic_with_family = titanic.drop(['survived','name', 'body', 'boat'], axis=1)\n",
    "titanic_with_family = pd.get_dummies(titanic_with_family)\n",
    "titanic_with_family = np.nan_to_num(titanic_with_family)\n",
    "me = titanic_with_family[1309]\n",
    "father = titanic_with_family[1310]\n",
    "\n",
    "# Predict survival\n",
    "my_survival_chances = dnn.predict_probabilities(me.reshape(-1, X_train.shape[1]))\n",
    "father_survival_chances = dnn.predict_probabilities(father.reshape(-1, X_train.shape[1]))\n",
    "\n",
    "# Display survival chances\n",
    "print('My survival chances: {0[0]} = {1[0][0]:.6f}%, {0[1]} = {1[0][1]:.6f}%'.format(dnn.classes_, my_survival_chances*100))\n",
    "print('Father\\'s survival chances: {0[0]} = {1[0][0]:.6f}%, {0[1]} = {1[0][1]:.6f}%'.format(dnn.classes_, father_survival_chances*100))"
   ]
  },
  {
   "cell_type": "code",
   "execution_count": 85,
   "metadata": {
    "collapsed": true
   },
   "outputs": [],
   "source": [
    "dnn.save(\"/models/titanic_survival_model\")"
   ]
  },
  {
   "cell_type": "markdown",
   "metadata": {},
   "source": [
    "## Future Implementations\n",
    "Other datasets, more tunable parameters, additional activation functions as they are developed, incorporate into a convolutional neural network or recurrent neural network. "
   ]
  },
  {
   "cell_type": "code",
   "execution_count": null,
   "metadata": {
    "collapsed": true
   },
   "outputs": [],
   "source": []
  }
 ],
 "metadata": {
  "kernelspec": {
   "display_name": "Python 3",
   "language": "python",
   "name": "python3"
  },
  "language_info": {
   "codemirror_mode": {
    "name": "ipython",
    "version": 3
   },
   "file_extension": ".py",
   "mimetype": "text/x-python",
   "name": "python",
   "nbconvert_exporter": "python",
   "pygments_lexer": "ipython3",
   "version": "3.6.0"
  }
 },
 "nbformat": 4,
 "nbformat_minor": 2
}
