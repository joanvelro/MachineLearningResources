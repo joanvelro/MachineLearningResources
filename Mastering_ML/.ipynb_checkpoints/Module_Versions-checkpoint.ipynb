{
 "cells": [
  {
   "cell_type": "markdown",
   "metadata": {},
   "source": [
    "## Code Reproducibility\n",
    "\n",
    "Codes can break with change is package/module version, so for reproducibility I have shared my package version numbers.\n",
    "\n",
    "### My package versions\n",
    "* numpy:  1.11.1 \n",
    "* pandas:  0.18.1\n",
    "* matplotlib:  1.5.3\n",
    "* IPython:  5.1.0\n",
    "* sklearn:  0.18.1\n",
    "* scipy:  0.18.1\n",
    "* pydot:  1.2.2\n",
    "* statsmodels:  0.6.1\n",
    "* patsy:  0.4.1\n",
    "* seaborn:  0.7.1\n",
    "* mlxtend:  0.5.0\n",
    "* imblearn:  0.2.1\n",
    "* nltk:  3.2.1\n",
    "* tweepy:  3.5.0\n",
    "* gensim:  0.13.4.1\n",
    "* keras:  2.0.2\n",
    "* tensorflow:  1.0.0\n",
    "* theano:  0.9.0"
   ]
  },
  {
   "cell_type": "code",
   "execution_count": 8,
   "metadata": {},
   "outputs": [
    {
     "name": "stdout",
     "output_type": "stream",
     "text": [
      "numpy:  1.14.0\n",
      "pandas:  0.22.0\n",
      "matplotlib:  2.1.2\n",
      "IPython:  6.2.1\n",
      "sklearn:  0.19.1\n",
      "scipy:  1.0.0\n",
      "statsmodels:  0.8.0\n",
      "patsy:  0.5.0\n",
      "seaborn:  0.8.1\n",
      "nltk:  3.2.5\n"
     ]
    },
    {
     "ename": "ModuleNotFoundError",
     "evalue": "No module named 'gensim'",
     "output_type": "error",
     "traceback": [
      "\u001b[0;31m---------------------------------------------------------------------------\u001b[0m",
      "\u001b[0;31mModuleNotFoundError\u001b[0m                       Traceback (most recent call last)",
      "\u001b[0;32m<ipython-input-8-d36048c19eb7>\u001b[0m in \u001b[0;36m<module>\u001b[0;34m()\u001b[0m\n\u001b[1;32m     15\u001b[0m \u001b[0;34m\u001b[0m\u001b[0m\n\u001b[1;32m     16\u001b[0m \u001b[0;31m#import tweepy; print(\"tweepy: \", tweepy.__version__)\u001b[0m\u001b[0;34m\u001b[0m\u001b[0;34m\u001b[0m\u001b[0m\n\u001b[0;32m---> 17\u001b[0;31m \u001b[0;32mimport\u001b[0m \u001b[0mgensim\u001b[0m\u001b[0;34m;\u001b[0m \u001b[0mprint\u001b[0m\u001b[0;34m(\u001b[0m\u001b[0;34m\"gensim: \"\u001b[0m\u001b[0;34m,\u001b[0m \u001b[0mgensim\u001b[0m\u001b[0;34m.\u001b[0m\u001b[0m__version__\u001b[0m\u001b[0;34m)\u001b[0m\u001b[0;34m\u001b[0m\u001b[0m\n\u001b[0m",
      "\u001b[0;31mModuleNotFoundError\u001b[0m: No module named 'gensim'"
     ]
    }
   ],
   "source": [
    "# Run the code to get your package version numbers\n",
    "import numpy; print(\"numpy: \", numpy.__version__)\n",
    "import pandas; print(\"pandas: \", pandas.__version__)\n",
    "import matplotlib; print(\"matplotlib: \", matplotlib.__version__)\n",
    "import IPython; print(\"IPython: \", IPython.__version__)\n",
    "import sklearn; print(\"sklearn: \", sklearn.__version__)\n",
    "import scipy; print(\"scipy: \", scipy.__version__)\n",
    "#import pydot; print(\"pydot: \", pydot.__version__)\n",
    "import statsmodels; print(\"statsmodels: \", statsmodels.__version__)\n",
    "import patsy; print(\"patsy: \", patsy.__version__)\n",
    "import seaborn; print(\"seaborn: \", seaborn.__version__)\n",
    "#import mlxtend; print(\"mlxtend: \", mlxtend.__version__)\n",
    "#import imblearn; print(\"imblearn: \", imblearn.__version__)\n",
    "import nltk; print(\"nltk: \", nltk.__version__)\n",
    "\n",
    "#import tweepy; print(\"tweepy: \", tweepy.__version__)\n",
    "#import gensim; print(\"gensim: \", gensim.__version__)"
   ]
  },
  {
   "cell_type": "code",
   "execution_count": 1,
   "metadata": {},
   "outputs": [
    {
     "ename": "ModuleNotFoundError",
     "evalue": "No module named 'keras'",
     "output_type": "error",
     "traceback": [
      "\u001b[0;31m---------------------------------------------------------------------------\u001b[0m",
      "\u001b[0;31mModuleNotFoundError\u001b[0m                       Traceback (most recent call last)",
      "\u001b[0;32m<ipython-input-1-ba782e4ed8e3>\u001b[0m in \u001b[0;36m<module>\u001b[0;34m()\u001b[0m\n\u001b[1;32m      1\u001b[0m \u001b[0;31m#import textract; print(\"textract: \", textract.__version__)\u001b[0m\u001b[0;34m\u001b[0m\u001b[0;34m\u001b[0m\u001b[0m\n\u001b[0;32m----> 2\u001b[0;31m \u001b[0;32mimport\u001b[0m \u001b[0mkeras\u001b[0m\u001b[0;34m;\u001b[0m \u001b[0mprint\u001b[0m\u001b[0;34m(\u001b[0m\u001b[0;34m\"keras: \"\u001b[0m\u001b[0;34m,\u001b[0m \u001b[0mkeras\u001b[0m\u001b[0;34m.\u001b[0m\u001b[0m__version__\u001b[0m\u001b[0;34m)\u001b[0m\u001b[0;34m\u001b[0m\u001b[0m\n\u001b[0m\u001b[1;32m      3\u001b[0m \u001b[0;32mimport\u001b[0m \u001b[0mtensorflow\u001b[0m\u001b[0;34m;\u001b[0m \u001b[0mprint\u001b[0m\u001b[0;34m(\u001b[0m\u001b[0;34m\"tensorflow: \"\u001b[0m\u001b[0;34m,\u001b[0m \u001b[0mtensorflow\u001b[0m\u001b[0;34m.\u001b[0m\u001b[0m__version__\u001b[0m\u001b[0;34m)\u001b[0m\u001b[0;34m\u001b[0m\u001b[0m\n\u001b[1;32m      4\u001b[0m \u001b[0;32mimport\u001b[0m \u001b[0mtheano\u001b[0m\u001b[0;34m;\u001b[0m \u001b[0mprint\u001b[0m\u001b[0;34m(\u001b[0m\u001b[0;34m\"theano: \"\u001b[0m\u001b[0;34m,\u001b[0m \u001b[0mtheano\u001b[0m\u001b[0;34m.\u001b[0m\u001b[0m__version__\u001b[0m\u001b[0;34m)\u001b[0m\u001b[0;34m\u001b[0m\u001b[0m\n",
      "\u001b[0;31mModuleNotFoundError\u001b[0m: No module named 'keras'"
     ]
    }
   ],
   "source": [
    "#import textract; print(\"textract: \", textract.__version__)\n",
    "import keras; print(\"keras: \", keras.__version__)\n",
    "import tensorflow; print(\"tensorflow: \", tensorflow.__version__)\n",
    "import theano; print(\"theano: \", theano.__version__)"
   ]
  },
  {
   "cell_type": "code",
   "execution_count": null,
   "metadata": {},
   "outputs": [],
   "source": []
  }
 ],
 "metadata": {
  "anaconda-cloud": {},
  "kernelspec": {
   "display_name": "Python 3",
   "language": "python",
   "name": "python3"
  },
  "language_info": {
   "codemirror_mode": {
    "name": "ipython",
    "version": 3
   },
   "file_extension": ".py",
   "mimetype": "text/x-python",
   "name": "python",
   "nbconvert_exporter": "python",
   "pygments_lexer": "ipython3",
   "version": "3.6.4"
  }
 },
 "nbformat": 4,
 "nbformat_minor": 1
}
